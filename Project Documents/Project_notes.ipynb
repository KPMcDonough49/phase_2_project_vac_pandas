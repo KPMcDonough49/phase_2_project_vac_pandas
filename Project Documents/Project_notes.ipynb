{
 "cells": [
  {
   "cell_type": "markdown",
   "metadata": {},
   "source": [
    "## Phase Two Project Notes\n",
    "\n",
    "#### Inferential Linear Regression Project\n",
    "\n",
    "    - Build a model aligned to business questions that explains as much of the total variance        of real estate sale prices in King County while reducing violations of the                    assumptions of linear regression.\n",
    "    \n",
    "   ###### Assumptions of linear regression: \n",
    "   Linearity: The relationship between X and the mean of Y is linear.  \n",
    "   Homoscedasticity: The variance of residual is the same for any value of X.  \n",
    "   Independence: Observations are independent of each other.  \n",
    "   Normality: For any fixed value of X, Y is normally distributed.  \n",
    "   \n",
    "   \n",
    "   I.E. Linear Relationship, No multicollinearity, Homoscedasticity, Normal Distribution of            Errors \n",
    "   \n",
    "   \n",
    "##### CRISP-DM\n",
    "    Business Understanding  \n",
    "    Data Understanding  \n",
    "    Data Preparation  \n",
    "    Modeling  \n",
    "    Evaluation  \n",
    "    Deployment  \n",
    "    \n",
    "    \n",
    "## Stakeholder: ______________ ?\n",
    "\n",
    "\n",
    "## Business Understanding: \n",
    "What features drive the sale price of homes? \n",
    "\n",
    "    Note: Include at least 2 important parameter estimates in your final recommendations\n",
    "    \n",
    "    \n",
    "## EDA: \n",
    "\n",
    "\n",
    "\n",
    "\n",
    "        "
   ]
  },
  {
   "cell_type": "code",
   "execution_count": null,
   "metadata": {},
   "outputs": [],
   "source": [
    "# Your code here - remember to use markdown cells for comments as well!"
   ]
  }
 ],
 "metadata": {
  "kernelspec": {
   "display_name": "Python 3",
   "language": "python",
   "name": "python3"
  },
  "language_info": {
   "codemirror_mode": {
    "name": "ipython",
    "version": 3
   },
   "file_extension": ".py",
   "mimetype": "text/x-python",
   "name": "python",
   "nbconvert_exporter": "python",
   "pygments_lexer": "ipython3",
   "version": "3.8.5"
  }
 },
 "nbformat": 4,
 "nbformat_minor": 4
}
