{
 "cells": [
  {
   "cell_type": "markdown",
   "metadata": {},
   "source": [
    "FLATIRON SCHOOL  \n",
    "PAIRING PROGRAMMING CONTRACT\t\t\t\tDATE: 05/28/2021  \n",
    "\n",
    "PARTIES  \n",
    "Name:   \n",
    "Name:   \n",
    "MAIN GOALS  \n",
    "\n",
    "\n",
    "\n",
    "\n",
    "\n",
    "\n",
    "Strengths and Level-Ups   \n",
    "For each group member, identify skills:  \n",
    "You are strong in and would like to showcase.  \n",
    "Team Member 1:  \n",
    "Team Member 2:  \n",
    "You are strong in and would like to NOT take ownership of.  \n",
    "Team Member 1:  \n",
    "Team Member 2:  \n",
    "You would like to level-up:  \n",
    "Team Member 1:  \n",
    "Team Member 2:  \n",
    "COMMUNICATION - WE WILL STRIVE TO  \n",
    "\n",
    "\n",
    "\n",
    "\n",
    "\n",
    "\n",
    "\n",
    "\n",
    "\n",
    "\n",
    "\n",
    "\n",
    "NOTES  \n",
    "Here make a note of any specific accommodations you both want to make clear before working   together. Ex: I’m at my best when I take a 3min. break every 30min.  \n",
    "\n",
    "\n"
   ]
  }
 ],
 "metadata": {
  "kernelspec": {
   "display_name": "Python 3",
   "language": "python",
   "name": "python3"
  },
  "language_info": {
   "codemirror_mode": {
    "name": "ipython",
    "version": 3
   },
   "file_extension": ".py",
   "mimetype": "text/x-python",
   "name": "python",
   "nbconvert_exporter": "python",
   "pygments_lexer": "ipython3",
   "version": "3.8.5"
  }
 },
 "nbformat": 4,
 "nbformat_minor": 4
}
