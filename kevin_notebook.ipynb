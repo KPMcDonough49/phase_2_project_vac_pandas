{
 "cells": [
  {
   "cell_type": "code",
   "execution_count": 1,
   "metadata": {},
   "outputs": [
    {
     "data": {
      "text/html": [
       "<pre>✔️ 1.09 ms (2021-06-02T07:44:24/2021-06-02T07:44:24)</pre>"
      ],
      "text/plain": [
       "<IPython.core.display.HTML object>"
      ]
     },
     "metadata": {},
     "output_type": "display_data"
    }
   ],
   "source": [
    "import seaborn as sns\n",
    "from matplotlib import pyplot as plt\n",
    "import numpy as np\n",
    "from scipy import stats\n",
    "from sklearn.datasets import load_iris\n",
    "import pandas as pd\n",
    "import statsmodels.api as sm\n",
    "from sklearn.linear_model import LinearRegression\n",
    "from sklearn.preprocessing import PolynomialFeatures, StandardScaler\n",
    "from statsmodels.formula.api import ols\n",
    "%load_ext autotime"
   ]
  },
  {
   "cell_type": "code",
   "execution_count": 2,
   "metadata": {},
   "outputs": [
    {
     "data": {
      "text/html": [
       "<pre>✔️ 442 µs (2021-06-02T07:44:24/2021-06-02T07:44:24)</pre>"
      ],
      "text/plain": [
       "<IPython.core.display.HTML object>"
      ]
     },
     "metadata": {},
     "output_type": "display_data"
    }
   ],
   "source": [
    "# df = pd.read_csv('data/kc_house_data.csv')"
   ]
  },
  {
   "cell_type": "code",
   "execution_count": 3,
   "metadata": {},
   "outputs": [
    {
     "data": {
      "text/html": [
       "<pre>✔️ 515 µs (2021-06-02T07:44:24/2021-06-02T07:44:24)</pre>"
      ],
      "text/plain": [
       "<IPython.core.display.HTML object>"
      ]
     },
     "metadata": {},
     "output_type": "display_data"
    }
   ],
   "source": [
    "# import geopy.geocoders\n",
    "# from geopy.geocoders import Nominatim\n",
    "# geopy.geocoders.options.default_user_agent = 'kpmcdonough@gmail.com'\n",
    "# geopy.geocoders.options.default_timeout = 7\n",
    "# geolocator = Nominatim()\n",
    "# print(geolocator.headers)\n",
    "# print(geolocator.timeout)"
   ]
  },
  {
   "cell_type": "code",
   "execution_count": 4,
   "metadata": {},
   "outputs": [
    {
     "data": {
      "text/html": [
       "<pre>✔️ 1.08 ms (2021-06-02T07:44:25/2021-06-02T07:44:25)</pre>"
      ],
      "text/plain": [
       "<IPython.core.display.HTML object>"
      ]
     },
     "metadata": {},
     "output_type": "display_data"
    }
   ],
   "source": [
    "# locator = Nominatim()\n",
    "# coordinates = 47.7210, -122.319\n",
    "# location = locator.reverse(coordinates)\n",
    "# location.raw"
   ]
  },
  {
   "cell_type": "code",
   "execution_count": 5,
   "metadata": {},
   "outputs": [
    {
     "data": {
      "text/html": [
       "<pre>✔️ 1.27 ms (2021-06-02T07:44:25/2021-06-02T07:44:25)</pre>"
      ],
      "text/plain": [
       "<IPython.core.display.HTML object>"
      ]
     },
     "metadata": {},
     "output_type": "display_data"
    }
   ],
   "source": [
    "# test_df = df.head()"
   ]
  },
  {
   "cell_type": "code",
   "execution_count": 6,
   "metadata": {},
   "outputs": [
    {
     "data": {
      "text/html": [
       "<pre>✔️ 1.58 ms (2021-06-02T07:44:25/2021-06-02T07:44:25)</pre>"
      ],
      "text/plain": [
       "<IPython.core.display.HTML object>"
      ]
     },
     "metadata": {},
     "output_type": "display_data"
    }
   ],
   "source": [
    "# locator = Nominatim()\n",
    "\n",
    "# def return_neighborhood(location):\n",
    "#     if 'neighbourhood' in location['address'].keys():\n",
    "#         return location['address']['neighbourhood']\n",
    "#     elif 'suburb' in location['address'].keys():\n",
    "#         return location['address']['suburb']\n",
    "#     elif 'town' in location['address'].keys():\n",
    "#         return location['address']['town']\n",
    "#     elif 'hamlet' in location['address'].keys():\n",
    "#         return location['address']['hamlet']\n",
    "#     else:\n",
    "#         return \"N/A\"\n",
    "\n",
    "# test = []\n",
    "# for row in df.index:\n",
    "#     lat = df['lat'][row]\n",
    "#     long = df['long'][row]\n",
    "#     coords = lat,long\n",
    "#     location = locator.reverse(coords)\n",
    "#     location_dict = location.raw\n",
    "#     test.append(return_neighborhood(location_dict))\n",
    "\n",
    "# df\n"
   ]
  },
  {
   "cell_type": "code",
   "execution_count": 7,
   "metadata": {},
   "outputs": [
    {
     "data": {
      "text/html": [
       "<pre>✔️ 522 µs (2021-06-02T07:44:25/2021-06-02T07:44:25)</pre>"
      ],
      "text/plain": [
       "<IPython.core.display.HTML object>"
      ]
     },
     "metadata": {},
     "output_type": "display_data"
    }
   ],
   "source": [
    "# test"
   ]
  },
  {
   "cell_type": "code",
   "execution_count": 8,
   "metadata": {},
   "outputs": [
    {
     "data": {
      "text/html": [
       "<pre>✔️ 1.49 ms (2021-06-02T07:44:25/2021-06-02T07:44:25)</pre>"
      ],
      "text/plain": [
       "<IPython.core.display.HTML object>"
      ]
     },
     "metadata": {},
     "output_type": "display_data"
    }
   ],
   "source": [
    "# test[0]"
   ]
  },
  {
   "cell_type": "code",
   "execution_count": 9,
   "metadata": {},
   "outputs": [
    {
     "data": {
      "text/html": [
       "<pre>✔️ 581 µs (2021-06-02T07:44:26/2021-06-02T07:44:26)</pre>"
      ],
      "text/plain": [
       "<IPython.core.display.HTML object>"
      ]
     },
     "metadata": {},
     "output_type": "display_data"
    }
   ],
   "source": [
    "# df['Neighborhood'] = 0\n",
    "# df\n",
    "\n",
    "# for row in df.index:\n",
    "#     df[\"Neighborhood\"][row] = test[row]\n",
    "# df"
   ]
  },
  {
   "cell_type": "code",
   "execution_count": 10,
   "metadata": {},
   "outputs": [
    {
     "data": {
      "text/html": [
       "<pre>✔️ 2.02 ms (2021-06-02T07:44:26/2021-06-02T07:44:26)</pre>"
      ],
      "text/plain": [
       "<IPython.core.display.HTML object>"
      ]
     },
     "metadata": {},
     "output_type": "display_data"
    }
   ],
   "source": [
    "# top_neighborhoods = df['Neighborhood'].value_counts()[0:251].index\n",
    "# for row in df.index:\n",
    "#     if df['Neighborhood'][row] in top_neighborhoods:\n",
    "#         df['Neighborhood'][row] = df['Neighborhood'][row]\n",
    "#     else:\n",
    "#         df['Neighborhood'][row] = \"Other\""
   ]
  },
  {
   "cell_type": "code",
   "execution_count": 11,
   "metadata": {},
   "outputs": [
    {
     "data": {
      "text/html": [
       "<pre>✔️ 497 µs (2021-06-02T07:44:26/2021-06-02T07:44:26)</pre>"
      ],
      "text/plain": [
       "<IPython.core.display.HTML object>"
      ]
     },
     "metadata": {},
     "output_type": "display_data"
    }
   ],
   "source": [
    "# df[\"Neighborhood\"].value_counts()"
   ]
  },
  {
   "cell_type": "code",
   "execution_count": 12,
   "metadata": {},
   "outputs": [
    {
     "data": {
      "text/html": [
       "<pre>✔️ 425 µs (2021-06-02T07:44:26/2021-06-02T07:44:26)</pre>"
      ],
      "text/plain": [
       "<IPython.core.display.HTML object>"
      ]
     },
     "metadata": {},
     "output_type": "display_data"
    }
   ],
   "source": [
    "# for row in df.index:\n",
    "#     if df['Neighborhood'][row] == \"N/A\":\n",
    "#         df['Neighborhood'][row] = \"Other\"\n",
    "# df['Neighborhood'].value_counts()"
   ]
  },
  {
   "cell_type": "code",
   "execution_count": 13,
   "metadata": {},
   "outputs": [
    {
     "data": {
      "text/html": [
       "<pre>✔️ 1.11 ms (2021-06-02T07:44:26/2021-06-02T07:44:26)</pre>"
      ],
      "text/plain": [
       "<IPython.core.display.HTML object>"
      ]
     },
     "metadata": {},
     "output_type": "display_data"
    }
   ],
   "source": [
    "# df.to_csv('data/KC_with_hoods')"
   ]
  },
  {
   "cell_type": "code",
   "execution_count": 14,
   "metadata": {},
   "outputs": [
    {
     "data": {
      "text/html": [
       "<pre>✔️ 71.5 ms (2021-06-02T07:44:27/2021-06-02T07:44:27)</pre>"
      ],
      "text/plain": [
       "<IPython.core.display.HTML object>"
      ]
     },
     "metadata": {},
     "output_type": "display_data"
    }
   ],
   "source": [
    "df = pd.read_csv('data/KC_with_hoods', index_col=0)"
   ]
  },
  {
   "cell_type": "code",
   "execution_count": 15,
   "metadata": {},
   "outputs": [
    {
     "data": {
      "text/html": [
       "<pre>✔️ 11.3 ms (2021-06-02T07:44:27/2021-06-02T07:44:27)</pre>"
      ],
      "text/plain": [
       "<IPython.core.display.HTML object>"
      ]
     },
     "metadata": {},
     "output_type": "display_data"
    },
    {
     "data": {
      "text/plain": [
       "id                  0\n",
       "date                0\n",
       "price               0\n",
       "bedrooms            0\n",
       "bathrooms           0\n",
       "sqft_living         0\n",
       "sqft_lot            0\n",
       "floors              0\n",
       "waterfront       2376\n",
       "view               63\n",
       "condition           0\n",
       "grade               0\n",
       "sqft_above          0\n",
       "sqft_basement       0\n",
       "yr_built            0\n",
       "yr_renovated     3842\n",
       "zipcode             0\n",
       "lat                 0\n",
       "long                0\n",
       "sqft_living15       0\n",
       "sqft_lot15          0\n",
       "Neighborhood        0\n",
       "dtype: int64"
      ]
     },
     "execution_count": 15,
     "metadata": {},
     "output_type": "execute_result"
    }
   ],
   "source": [
    "df.isna().sum()"
   ]
  },
  {
   "cell_type": "code",
   "execution_count": 16,
   "metadata": {},
   "outputs": [
    {
     "data": {
      "text/html": [
       "<pre>✔️ 773 µs (2021-06-02T07:44:27/2021-06-02T07:44:27)</pre>"
      ],
      "text/plain": [
       "<IPython.core.display.HTML object>"
      ]
     },
     "metadata": {},
     "output_type": "display_data"
    }
   ],
   "source": [
    "from sklearn.preprocessing import OrdinalEncoder"
   ]
  },
  {
   "cell_type": "code",
   "execution_count": 17,
   "metadata": {},
   "outputs": [
    {
     "data": {
      "text/html": [
       "<pre>✔️ 26.1 ms (2021-06-02T07:44:27/2021-06-02T07:44:27)</pre>"
      ],
      "text/plain": [
       "<IPython.core.display.HTML object>"
      ]
     },
     "metadata": {},
     "output_type": "display_data"
    },
    {
     "data": {
      "text/plain": [
       "id              -0.016772\n",
       "price            1.000000\n",
       "bedrooms         0.308787\n",
       "bathrooms        0.525906\n",
       "sqft_living      0.701917\n",
       "sqft_lot         0.089876\n",
       "floors           0.256804\n",
       "waterfront       0.276295\n",
       "view             0.395734\n",
       "condition        0.036056\n",
       "grade            0.667951\n",
       "sqft_above       0.605368\n",
       "yr_built         0.053953\n",
       "yr_renovated     0.129599\n",
       "zipcode         -0.053402\n",
       "lat              0.306692\n",
       "long             0.022036\n",
       "sqft_living15    0.585241\n",
       "sqft_lot15       0.082845\n",
       "Name: price, dtype: float64"
      ]
     },
     "execution_count": 17,
     "metadata": {},
     "output_type": "execute_result"
    }
   ],
   "source": [
    "df.corr()['price']"
   ]
  },
  {
   "cell_type": "code",
   "execution_count": 18,
   "metadata": {},
   "outputs": [
    {
     "data": {
      "text/html": [
       "<pre>✔️ 5.93 ms (2021-06-02T07:44:27/2021-06-02T07:44:27)</pre>"
      ],
      "text/plain": [
       "<IPython.core.display.HTML object>"
      ]
     },
     "metadata": {},
     "output_type": "display_data"
    }
   ],
   "source": [
    "y = df[\"price\"]\n",
    "X = df.drop(\"price\", axis=1)"
   ]
  },
  {
   "cell_type": "code",
   "execution_count": 19,
   "metadata": {},
   "outputs": [
    {
     "data": {
      "text/html": [
       "<pre>✔️ 8.18 ms (2021-06-02T07:44:28/2021-06-02T07:44:28)</pre>"
      ],
      "text/plain": [
       "<IPython.core.display.HTML object>"
      ]
     },
     "metadata": {},
     "output_type": "display_data"
    }
   ],
   "source": [
    "cols = list(X.isna().sum().index)"
   ]
  },
  {
   "cell_type": "code",
   "execution_count": 20,
   "metadata": {},
   "outputs": [
    {
     "data": {
      "text/html": [
       "<pre>✔️ 834 µs (2021-06-02T07:44:28/2021-06-02T07:44:28)</pre>"
      ],
      "text/plain": [
       "<IPython.core.display.HTML object>"
      ]
     },
     "metadata": {},
     "output_type": "display_data"
    }
   ],
   "source": [
    "relevant_cols = ['date','bedrooms','bathrooms','sqft_living','sqft_lot'\\\n",
    "                 ,'floors','waterfront','view','condition','grade','sqft_above', 'sqft_basement',\\\n",
    "                 'yr_built','yr_renovated','zipcode','sqft_living15','sqft_lot15','Neighborhood']"
   ]
  },
  {
   "cell_type": "code",
   "execution_count": 21,
   "metadata": {},
   "outputs": [
    {
     "data": {
      "text/html": [
       "<pre>✔️ 8.22 ms (2021-06-02T07:44:28/2021-06-02T07:44:28)</pre>"
      ],
      "text/plain": [
       "<IPython.core.display.HTML object>"
      ]
     },
     "metadata": {},
     "output_type": "display_data"
    }
   ],
   "source": [
    "X = X[relevant_cols]"
   ]
  },
  {
   "cell_type": "code",
   "execution_count": 22,
   "metadata": {},
   "outputs": [
    {
     "data": {
      "text/html": [
       "<pre>✔️ 264 ms (2021-06-02T07:44:28/2021-06-02T07:44:29)</pre>"
      ],
      "text/plain": [
       "<IPython.core.display.HTML object>"
      ]
     },
     "metadata": {},
     "output_type": "display_data"
    },
    {
     "data": {
      "image/png": "[encoded data removed]",
      "text/plain": [
       "<Figure size 432x288 with 1 Axes>"
      ]
     },
     "metadata": {
      "needs_background": "light"
     },
     "output_type": "display_data"
    }
   ],
   "source": [
    "X['yr_renovated'].hist();"
   ]
  },
  {
   "cell_type": "code",
   "execution_count": 23,
   "metadata": {},
   "outputs": [
    {
     "data": {
      "text/html": [
       "<pre>✔️ 7.17 ms (2021-06-02T07:44:29/2021-06-02T07:44:29)</pre>"
      ],
      "text/plain": [
       "<IPython.core.display.HTML object>"
      ]
     },
     "metadata": {},
     "output_type": "display_data"
    }
   ],
   "source": [
    "df['newly_renovated'] = df['yr_renovated'] > 2014"
   ]
  },
  {
   "cell_type": "code",
   "execution_count": 24,
   "metadata": {},
   "outputs": [
    {
     "data": {
      "text/html": [
       "<pre>✔️ 29.6 ms (2021-06-02T07:44:29/2021-06-02T07:44:29)</pre>"
      ],
      "text/plain": [
       "<IPython.core.display.HTML object>"
      ]
     },
     "metadata": {},
     "output_type": "display_data"
    },
    {
     "data": {
      "text/plain": [
       "0.010896324018133209"
      ]
     },
     "execution_count": 24,
     "metadata": {},
     "output_type": "execute_result"
    }
   ],
   "source": [
    "df.corr()['price']['newly_renovated']"
   ]
  },
  {
   "cell_type": "code",
   "execution_count": 25,
   "metadata": {},
   "outputs": [
    {
     "data": {
      "text/html": [
       "<pre>✔️ 4.67 ms (2021-06-02T07:44:29/2021-06-02T07:44:29)</pre>"
      ],
      "text/plain": [
       "<IPython.core.display.HTML object>"
      ]
     },
     "metadata": {},
     "output_type": "display_data"
    }
   ],
   "source": [
    "X = X.drop('yr_renovated', axis=1)"
   ]
  },
  {
   "cell_type": "code",
   "execution_count": 26,
   "metadata": {},
   "outputs": [
    {
     "data": {
      "text/html": [
       "<pre>✔️ 116 ms (2021-06-02T07:44:29/2021-06-02T07:44:29)</pre>"
      ],
      "text/plain": [
       "<IPython.core.display.HTML object>"
      ]
     },
     "metadata": {},
     "output_type": "display_data"
    },
    {
     "data": {
      "text/plain": [
       "array([[0.],\n",
       "       [0.],\n",
       "       [0.],\n",
       "       ...,\n",
       "       [0.],\n",
       "       [0.],\n",
       "       [0.]])"
      ]
     },
     "execution_count": 26,
     "metadata": {},
     "output_type": "execute_result"
    }
   ],
   "source": [
    "view = X[['view']]\n",
    "\n",
    "from sklearn.impute import SimpleImputer\n",
    "imputer = SimpleImputer(strategy='median')\n",
    "imputer.fit(view)\n",
    "view_imputed = imputer.transform(view)\n",
    "view_imputed"
   ]
  },
  {
   "cell_type": "code",
   "execution_count": 27,
   "metadata": {},
   "outputs": [
    {
     "data": {
      "text/html": [
       "<pre>✔️ 2.83 ms (2021-06-02T07:44:29/2021-06-02T07:44:29)</pre>"
      ],
      "text/plain": [
       "<IPython.core.display.HTML object>"
      ]
     },
     "metadata": {},
     "output_type": "display_data"
    }
   ],
   "source": [
    "X['view'] = view_imputed"
   ]
  },
  {
   "cell_type": "code",
   "execution_count": 28,
   "metadata": {},
   "outputs": [
    {
     "data": {
      "text/html": [
       "<pre>✔️ 7.9 ms (2021-06-02T07:44:30/2021-06-02T07:44:30)</pre>"
      ],
      "text/plain": [
       "<IPython.core.display.HTML object>"
      ]
     },
     "metadata": {},
     "output_type": "display_data"
    },
    {
     "data": {
      "text/plain": [
       "0"
      ]
     },
     "execution_count": 28,
     "metadata": {},
     "output_type": "execute_result"
    }
   ],
   "source": [
    "X['view'].isna().sum()"
   ]
  },
  {
   "cell_type": "code",
   "execution_count": 29,
   "metadata": {},
   "outputs": [
    {
     "data": {
      "text/html": [
       "<pre>✔️ 13.4 ms (2021-06-02T07:44:30/2021-06-02T07:44:30)</pre>"
      ],
      "text/plain": [
       "<IPython.core.display.HTML object>"
      ]
     },
     "metadata": {},
     "output_type": "display_data"
    }
   ],
   "source": [
    "waterfront = X[['waterfront']]\n",
    "\n",
    "from sklearn.impute import SimpleImputer\n",
    "imputer = SimpleImputer(strategy='median')\n",
    "imputer.fit(waterfront)\n",
    "waterfront_imputed = imputer.transform(waterfront)\n",
    "waterfront_imputed\n",
    "X['waterfront'] = waterfront_imputed"
   ]
  },
  {
   "cell_type": "code",
   "execution_count": 30,
   "metadata": {
    "scrolled": true
   },
   "outputs": [
    {
     "data": {
      "text/html": [
       "<pre>✔️ 8.4 ms (2021-06-02T07:44:30/2021-06-02T07:44:30)</pre>"
      ],
      "text/plain": [
       "<IPython.core.display.HTML object>"
      ]
     },
     "metadata": {},
     "output_type": "display_data"
    }
   ],
   "source": [
    "X['sqft_basement'] = X['sqft_basement'].apply(lambda x: np.nan if \"?\" in x else x)"
   ]
  },
  {
   "cell_type": "code",
   "execution_count": 31,
   "metadata": {},
   "outputs": [
    {
     "data": {
      "text/html": [
       "<pre>✔️ 16.1 ms (2021-06-02T07:44:30/2021-06-02T07:44:30)</pre>"
      ],
      "text/plain": [
       "<IPython.core.display.HTML object>"
      ]
     },
     "metadata": {},
     "output_type": "display_data"
    }
   ],
   "source": [
    "basement = X[['sqft_basement']]\n",
    "\n",
    "from sklearn.impute import SimpleImputer\n",
    "imputer = SimpleImputer(strategy='median')\n",
    "imputer.fit(basement)\n",
    "basement_imputed = imputer.transform(basement)\n",
    "basement_imputed\n",
    "X['sqft_basement'] = basement_imputed"
   ]
  },
  {
   "cell_type": "code",
   "execution_count": 32,
   "metadata": {},
   "outputs": [
    {
     "data": {
      "text/html": [
       "<pre>✔️ 7.54 ms (2021-06-02T07:44:34/2021-06-02T07:44:34)</pre>"
      ],
      "text/plain": [
       "<IPython.core.display.HTML object>"
      ]
     },
     "metadata": {},
     "output_type": "display_data"
    },
    {
     "data": {
      "text/plain": [
       "0          0.0\n",
       "1        400.0\n",
       "2          0.0\n",
       "3        910.0\n",
       "4          0.0\n",
       "         ...  \n",
       "21592      0.0\n",
       "21593      0.0\n",
       "21594      0.0\n",
       "21595      0.0\n",
       "21596      0.0\n",
       "Name: sqft_basement, Length: 21597, dtype: float64"
      ]
     },
     "execution_count": 32,
     "metadata": {},
     "output_type": "execute_result"
    }
   ],
   "source": [
    "X['sqft_basement']"
   ]
  },
  {
   "cell_type": "code",
   "execution_count": 33,
   "metadata": {},
   "outputs": [
    {
     "data": {
      "text/html": [
       "<pre>✔️ 4.46 ms (2021-06-02T07:44:34/2021-06-02T07:44:34)</pre>"
      ],
      "text/plain": [
       "<IPython.core.display.HTML object>"
      ]
     },
     "metadata": {},
     "output_type": "display_data"
    }
   ],
   "source": [
    "X['sqft_grade'] = X['sqft_living'] * X['grade']"
   ]
  },
  {
   "cell_type": "code",
   "execution_count": 34,
   "metadata": {},
   "outputs": [
    {
     "data": {
      "text/html": [
       "<pre>✔️ 589 µs (2021-06-02T07:44:34/2021-06-02T07:44:34)</pre>"
      ],
      "text/plain": [
       "<IPython.core.display.HTML object>"
      ]
     },
     "metadata": {},
     "output_type": "display_data"
    }
   ],
   "source": [
    "# X['sale'] = y\n",
    "# X\n",
    "\n",
    "# pf = PolynomialFeatures(degree=2)\n",
    "\n",
    "# pf.fit(X)"
   ]
  },
  {
   "cell_type": "code",
   "execution_count": 35,
   "metadata": {},
   "outputs": [
    {
     "data": {
      "text/html": [
       "<pre>✔️ 1.25 ms (2021-06-02T07:44:34/2021-06-02T07:44:34)</pre>"
      ],
      "text/plain": [
       "<IPython.core.display.HTML object>"
      ]
     },
     "metadata": {},
     "output_type": "display_data"
    }
   ],
   "source": [
    "# pdf = pd.DataFrame(pf.transform(X), columns=pf.get_feature_names())\n",
    "# corr_df = pdf.corr()\n",
    "# corr_df[corr_df['x15'] > .75]"
   ]
  },
  {
   "cell_type": "code",
   "execution_count": 36,
   "metadata": {},
   "outputs": [
    {
     "data": {
      "text/html": [
       "<pre>✔️ 1.34 ms (2021-06-02T07:44:34/2021-06-02T07:44:34)</pre>"
      ],
      "text/plain": [
       "<IPython.core.display.HTML object>"
      ]
     },
     "metadata": {},
     "output_type": "display_data"
    }
   ],
   "source": [
    "# X['sqft_grade'] = X['sqft_living']*X['grade']\n",
    "# X.corr()['sale']"
   ]
  },
  {
   "cell_type": "code",
   "execution_count": 37,
   "metadata": {},
   "outputs": [
    {
     "data": {
      "text/html": [
       "<pre>✔️ 26.1 ms (2021-06-02T07:44:35/2021-06-02T07:44:35)</pre>"
      ],
      "text/plain": [
       "<IPython.core.display.HTML object>"
      ]
     },
     "metadata": {},
     "output_type": "display_data"
    }
   ],
   "source": [
    "X['Yr_sold'] = X['date'].apply(lambda x: x[-4:])\n",
    "X['Mo_sold'] = X['date'].apply(lambda x: x[0:2])\n",
    "X['Mo_sold'] = X['Mo_sold'].apply(lambda x: x[0:1] if \"/\" in x else x)"
   ]
  },
  {
   "cell_type": "code",
   "execution_count": 38,
   "metadata": {},
   "outputs": [
    {
     "data": {
      "text/html": [
       "<pre>✔️ 11.7 ms (2021-06-02T07:44:35/2021-06-02T07:44:35)</pre>"
      ],
      "text/plain": [
       "<IPython.core.display.HTML object>"
      ]
     },
     "metadata": {},
     "output_type": "display_data"
    }
   ],
   "source": [
    "X = X.drop(\"date\", axis=1)"
   ]
  },
  {
   "cell_type": "code",
   "execution_count": 39,
   "metadata": {},
   "outputs": [
    {
     "data": {
      "text/html": [
       "<pre>✔️ 13.3 ms (2021-06-02T07:44:35/2021-06-02T07:44:35)</pre>"
      ],
      "text/plain": [
       "<IPython.core.display.HTML object>"
      ]
     },
     "metadata": {},
     "output_type": "display_data"
    }
   ],
   "source": [
    "from sklearn.preprocessing import OneHotEncoder\n",
    "\n",
    "month = X[['Mo_sold']]\n",
    "\n",
    "\n",
    "ohe = OneHotEncoder(categories='auto', sparse=False, handle_unknown='ignore')\n",
    "\n",
    "\n",
    "ohe.fit(month)\n",
    "\n",
    "\n",
    "ohe.categories_\n",
    "\n",
    "month_encoded = ohe.transform(month)"
   ]
  },
  {
   "cell_type": "code",
   "execution_count": 40,
   "metadata": {},
   "outputs": [
    {
     "data": {
      "text/html": [
       "<pre>✔️ 3.69 ms (2021-06-02T07:44:35/2021-06-02T07:44:35)</pre>"
      ],
      "text/plain": [
       "<IPython.core.display.HTML object>"
      ]
     },
     "metadata": {},
     "output_type": "display_data"
    }
   ],
   "source": [
    "month_encoded = pd.DataFrame(\n",
    "\n",
    "    month_encoded,\n",
    "\n",
    "    columns=ohe.categories_[0],\n",
    " \n",
    "    index=X.index\n",
    ")\n",
    "\n",
    "\n",
    "month_encoded\n",
    "month_encoded = month_encoded.drop('10', axis=1)"
   ]
  },
  {
   "cell_type": "code",
   "execution_count": 41,
   "metadata": {},
   "outputs": [
    {
     "data": {
      "text/html": [
       "<pre>✔️ 11.9 ms (2021-06-02T07:44:35/2021-06-02T07:44:35)</pre>"
      ],
      "text/plain": [
       "<IPython.core.display.HTML object>"
      ]
     },
     "metadata": {},
     "output_type": "display_data"
    }
   ],
   "source": [
    "X = pd.concat([X, month_encoded], axis=1)"
   ]
  },
  {
   "cell_type": "code",
   "execution_count": 42,
   "metadata": {},
   "outputs": [
    {
     "data": {
      "text/html": [
       "<pre>✔️ 56.1 ms (2021-06-02T07:44:36/2021-06-02T07:44:36)</pre>"
      ],
      "text/plain": [
       "<IPython.core.display.HTML object>"
      ]
     },
     "metadata": {},
     "output_type": "display_data"
    },
    {
     "data": {
      "text/html": [
       "<div>\n",
       "<style scoped>\n",
       "    .dataframe tbody tr th:only-of-type {\n",
       "        vertical-align: middle;\n",
       "    }\n",
       "\n",
       "    .dataframe tbody tr th {\n",
       "        vertical-align: top;\n",
       "    }\n",
       "\n",
       "    .dataframe thead th {\n",
       "        text-align: right;\n",
       "    }\n",
       "</style>\n",
       "<table border=\"1\" class=\"dataframe\">\n",
       "  <thead>\n",
       "    <tr style=\"text-align: right;\">\n",
       "      <th></th>\n",
       "      <th>bedrooms</th>\n",
       "      <th>bathrooms</th>\n",
       "      <th>sqft_living</th>\n",
       "      <th>sqft_lot</th>\n",
       "      <th>floors</th>\n",
       "      <th>waterfront</th>\n",
       "      <th>view</th>\n",
       "      <th>condition</th>\n",
       "      <th>grade</th>\n",
       "      <th>sqft_above</th>\n",
       "      <th>...</th>\n",
       "      <th>12</th>\n",
       "      <th>2</th>\n",
       "      <th>3</th>\n",
       "      <th>4</th>\n",
       "      <th>5</th>\n",
       "      <th>6</th>\n",
       "      <th>7</th>\n",
       "      <th>8</th>\n",
       "      <th>9</th>\n",
       "      <th>year</th>\n",
       "    </tr>\n",
       "  </thead>\n",
       "  <tbody>\n",
       "    <tr>\n",
       "      <th>0</th>\n",
       "      <td>3</td>\n",
       "      <td>1.00</td>\n",
       "      <td>1180</td>\n",
       "      <td>5650</td>\n",
       "      <td>1.0</td>\n",
       "      <td>0.0</td>\n",
       "      <td>0.0</td>\n",
       "      <td>3</td>\n",
       "      <td>7</td>\n",
       "      <td>1180</td>\n",
       "      <td>...</td>\n",
       "      <td>0.0</td>\n",
       "      <td>0.0</td>\n",
       "      <td>0.0</td>\n",
       "      <td>0.0</td>\n",
       "      <td>0.0</td>\n",
       "      <td>0.0</td>\n",
       "      <td>0.0</td>\n",
       "      <td>0.0</td>\n",
       "      <td>0.0</td>\n",
       "      <td>0.0</td>\n",
       "    </tr>\n",
       "    <tr>\n",
       "      <th>1</th>\n",
       "      <td>3</td>\n",
       "      <td>2.25</td>\n",
       "      <td>2570</td>\n",
       "      <td>7242</td>\n",
       "      <td>2.0</td>\n",
       "      <td>0.0</td>\n",
       "      <td>0.0</td>\n",
       "      <td>3</td>\n",
       "      <td>7</td>\n",
       "      <td>2170</td>\n",
       "      <td>...</td>\n",
       "      <td>1.0</td>\n",
       "      <td>0.0</td>\n",
       "      <td>0.0</td>\n",
       "      <td>0.0</td>\n",
       "      <td>0.0</td>\n",
       "      <td>0.0</td>\n",
       "      <td>0.0</td>\n",
       "      <td>0.0</td>\n",
       "      <td>0.0</td>\n",
       "      <td>0.0</td>\n",
       "    </tr>\n",
       "    <tr>\n",
       "      <th>2</th>\n",
       "      <td>2</td>\n",
       "      <td>1.00</td>\n",
       "      <td>770</td>\n",
       "      <td>10000</td>\n",
       "      <td>1.0</td>\n",
       "      <td>0.0</td>\n",
       "      <td>0.0</td>\n",
       "      <td>3</td>\n",
       "      <td>6</td>\n",
       "      <td>770</td>\n",
       "      <td>...</td>\n",
       "      <td>0.0</td>\n",
       "      <td>1.0</td>\n",
       "      <td>0.0</td>\n",
       "      <td>0.0</td>\n",
       "      <td>0.0</td>\n",
       "      <td>0.0</td>\n",
       "      <td>0.0</td>\n",
       "      <td>0.0</td>\n",
       "      <td>0.0</td>\n",
       "      <td>1.0</td>\n",
       "    </tr>\n",
       "    <tr>\n",
       "      <th>3</th>\n",
       "      <td>4</td>\n",
       "      <td>3.00</td>\n",
       "      <td>1960</td>\n",
       "      <td>5000</td>\n",
       "      <td>1.0</td>\n",
       "      <td>0.0</td>\n",
       "      <td>0.0</td>\n",
       "      <td>5</td>\n",
       "      <td>7</td>\n",
       "      <td>1050</td>\n",
       "      <td>...</td>\n",
       "      <td>1.0</td>\n",
       "      <td>0.0</td>\n",
       "      <td>0.0</td>\n",
       "      <td>0.0</td>\n",
       "      <td>0.0</td>\n",
       "      <td>0.0</td>\n",
       "      <td>0.0</td>\n",
       "      <td>0.0</td>\n",
       "      <td>0.0</td>\n",
       "      <td>0.0</td>\n",
       "    </tr>\n",
       "    <tr>\n",
       "      <th>4</th>\n",
       "      <td>3</td>\n",
       "      <td>2.00</td>\n",
       "      <td>1680</td>\n",
       "      <td>8080</td>\n",
       "      <td>1.0</td>\n",
       "      <td>0.0</td>\n",
       "      <td>0.0</td>\n",
       "      <td>3</td>\n",
       "      <td>8</td>\n",
       "      <td>1680</td>\n",
       "      <td>...</td>\n",
       "      <td>0.0</td>\n",
       "      <td>1.0</td>\n",
       "      <td>0.0</td>\n",
       "      <td>0.0</td>\n",
       "      <td>0.0</td>\n",
       "      <td>0.0</td>\n",
       "      <td>0.0</td>\n",
       "      <td>0.0</td>\n",
       "      <td>0.0</td>\n",
       "      <td>1.0</td>\n",
       "    </tr>\n",
       "    <tr>\n",
       "      <th>...</th>\n",
       "      <td>...</td>\n",
       "      <td>...</td>\n",
       "      <td>...</td>\n",
       "      <td>...</td>\n",
       "      <td>...</td>\n",
       "      <td>...</td>\n",
       "      <td>...</td>\n",
       "      <td>...</td>\n",
       "      <td>...</td>\n",
       "      <td>...</td>\n",
       "      <td>...</td>\n",
       "      <td>...</td>\n",
       "      <td>...</td>\n",
       "      <td>...</td>\n",
       "      <td>...</td>\n",
       "      <td>...</td>\n",
       "      <td>...</td>\n",
       "      <td>...</td>\n",
       "      <td>...</td>\n",
       "      <td>...</td>\n",
       "      <td>...</td>\n",
       "    </tr>\n",
       "    <tr>\n",
       "      <th>21592</th>\n",
       "      <td>3</td>\n",
       "      <td>2.50</td>\n",
       "      <td>1530</td>\n",
       "      <td>1131</td>\n",
       "      <td>3.0</td>\n",
       "      <td>0.0</td>\n",
       "      <td>0.0</td>\n",
       "      <td>3</td>\n",
       "      <td>8</td>\n",
       "      <td>1530</td>\n",
       "      <td>...</td>\n",
       "      <td>0.0</td>\n",
       "      <td>0.0</td>\n",
       "      <td>0.0</td>\n",
       "      <td>0.0</td>\n",
       "      <td>1.0</td>\n",
       "      <td>0.0</td>\n",
       "      <td>0.0</td>\n",
       "      <td>0.0</td>\n",
       "      <td>0.0</td>\n",
       "      <td>0.0</td>\n",
       "    </tr>\n",
       "    <tr>\n",
       "      <th>21593</th>\n",
       "      <td>4</td>\n",
       "      <td>2.50</td>\n",
       "      <td>2310</td>\n",
       "      <td>5813</td>\n",
       "      <td>2.0</td>\n",
       "      <td>0.0</td>\n",
       "      <td>0.0</td>\n",
       "      <td>3</td>\n",
       "      <td>8</td>\n",
       "      <td>2310</td>\n",
       "      <td>...</td>\n",
       "      <td>0.0</td>\n",
       "      <td>1.0</td>\n",
       "      <td>0.0</td>\n",
       "      <td>0.0</td>\n",
       "      <td>0.0</td>\n",
       "      <td>0.0</td>\n",
       "      <td>0.0</td>\n",
       "      <td>0.0</td>\n",
       "      <td>0.0</td>\n",
       "      <td>1.0</td>\n",
       "    </tr>\n",
       "    <tr>\n",
       "      <th>21594</th>\n",
       "      <td>2</td>\n",
       "      <td>0.75</td>\n",
       "      <td>1020</td>\n",
       "      <td>1350</td>\n",
       "      <td>2.0</td>\n",
       "      <td>0.0</td>\n",
       "      <td>0.0</td>\n",
       "      <td>3</td>\n",
       "      <td>7</td>\n",
       "      <td>1020</td>\n",
       "      <td>...</td>\n",
       "      <td>0.0</td>\n",
       "      <td>0.0</td>\n",
       "      <td>0.0</td>\n",
       "      <td>0.0</td>\n",
       "      <td>0.0</td>\n",
       "      <td>1.0</td>\n",
       "      <td>0.0</td>\n",
       "      <td>0.0</td>\n",
       "      <td>0.0</td>\n",
       "      <td>0.0</td>\n",
       "    </tr>\n",
       "    <tr>\n",
       "      <th>21595</th>\n",
       "      <td>3</td>\n",
       "      <td>2.50</td>\n",
       "      <td>1600</td>\n",
       "      <td>2388</td>\n",
       "      <td>2.0</td>\n",
       "      <td>0.0</td>\n",
       "      <td>0.0</td>\n",
       "      <td>3</td>\n",
       "      <td>8</td>\n",
       "      <td>1600</td>\n",
       "      <td>...</td>\n",
       "      <td>0.0</td>\n",
       "      <td>0.0</td>\n",
       "      <td>0.0</td>\n",
       "      <td>0.0</td>\n",
       "      <td>0.0</td>\n",
       "      <td>0.0</td>\n",
       "      <td>0.0</td>\n",
       "      <td>0.0</td>\n",
       "      <td>0.0</td>\n",
       "      <td>1.0</td>\n",
       "    </tr>\n",
       "    <tr>\n",
       "      <th>21596</th>\n",
       "      <td>2</td>\n",
       "      <td>0.75</td>\n",
       "      <td>1020</td>\n",
       "      <td>1076</td>\n",
       "      <td>2.0</td>\n",
       "      <td>0.0</td>\n",
       "      <td>0.0</td>\n",
       "      <td>3</td>\n",
       "      <td>7</td>\n",
       "      <td>1020</td>\n",
       "      <td>...</td>\n",
       "      <td>0.0</td>\n",
       "      <td>0.0</td>\n",
       "      <td>0.0</td>\n",
       "      <td>0.0</td>\n",
       "      <td>0.0</td>\n",
       "      <td>0.0</td>\n",
       "      <td>0.0</td>\n",
       "      <td>0.0</td>\n",
       "      <td>0.0</td>\n",
       "      <td>0.0</td>\n",
       "    </tr>\n",
       "  </tbody>\n",
       "</table>\n",
       "<p>21597 rows × 31 columns</p>\n",
       "</div>"
      ],
      "text/plain": [
       "       bedrooms  bathrooms  sqft_living  sqft_lot  floors  waterfront  view  \\\n",
       "0             3       1.00         1180      5650     1.0         0.0   0.0   \n",
       "1             3       2.25         2570      7242     2.0         0.0   0.0   \n",
       "2             2       1.00          770     10000     1.0         0.0   0.0   \n",
       "3             4       3.00         1960      5000     1.0         0.0   0.0   \n",
       "4             3       2.00         1680      8080     1.0         0.0   0.0   \n",
       "...         ...        ...          ...       ...     ...         ...   ...   \n",
       "21592         3       2.50         1530      1131     3.0         0.0   0.0   \n",
       "21593         4       2.50         2310      5813     2.0         0.0   0.0   \n",
       "21594         2       0.75         1020      1350     2.0         0.0   0.0   \n",
       "21595         3       2.50         1600      2388     2.0         0.0   0.0   \n",
       "21596         2       0.75         1020      1076     2.0         0.0   0.0   \n",
       "\n",
       "       condition  grade  sqft_above  ...   12    2    3    4    5    6    7  \\\n",
       "0              3      7        1180  ...  0.0  0.0  0.0  0.0  0.0  0.0  0.0   \n",
       "1              3      7        2170  ...  1.0  0.0  0.0  0.0  0.0  0.0  0.0   \n",
       "2              3      6         770  ...  0.0  1.0  0.0  0.0  0.0  0.0  0.0   \n",
       "3              5      7        1050  ...  1.0  0.0  0.0  0.0  0.0  0.0  0.0   \n",
       "4              3      8        1680  ...  0.0  1.0  0.0  0.0  0.0  0.0  0.0   \n",
       "...          ...    ...         ...  ...  ...  ...  ...  ...  ...  ...  ...   \n",
       "21592          3      8        1530  ...  0.0  0.0  0.0  0.0  1.0  0.0  0.0   \n",
       "21593          3      8        2310  ...  0.0  1.0  0.0  0.0  0.0  0.0  0.0   \n",
       "21594          3      7        1020  ...  0.0  0.0  0.0  0.0  0.0  1.0  0.0   \n",
       "21595          3      8        1600  ...  0.0  0.0  0.0  0.0  0.0  0.0  0.0   \n",
       "21596          3      7        1020  ...  0.0  0.0  0.0  0.0  0.0  0.0  0.0   \n",
       "\n",
       "         8    9  year  \n",
       "0      0.0  0.0   0.0  \n",
       "1      0.0  0.0   0.0  \n",
       "2      0.0  0.0   1.0  \n",
       "3      0.0  0.0   0.0  \n",
       "4      0.0  0.0   1.0  \n",
       "...    ...  ...   ...  \n",
       "21592  0.0  0.0   0.0  \n",
       "21593  0.0  0.0   1.0  \n",
       "21594  0.0  0.0   0.0  \n",
       "21595  0.0  0.0   1.0  \n",
       "21596  0.0  0.0   0.0  \n",
       "\n",
       "[21597 rows x 31 columns]"
      ]
     },
     "execution_count": 42,
     "metadata": {},
     "output_type": "execute_result"
    }
   ],
   "source": [
    "from sklearn.preprocessing import OrdinalEncoder\n",
    "\n",
    "year = X[['Yr_sold']]\n",
    "\n",
    "encoder_year = OrdinalEncoder()\n",
    "encoder_year.fit(year)\n",
    "\n",
    "year_encoded = encoder_year.transform(year)\n",
    "\n",
    "\n",
    "year_encoded = year_encoded.flatten()\n",
    "\n",
    "\n",
    "year_encoded\n",
    "\n",
    "X['year'] = year_encoded\n",
    "X"
   ]
  },
  {
   "cell_type": "code",
   "execution_count": 43,
   "metadata": {},
   "outputs": [
    {
     "data": {
      "text/html": [
       "<pre>✔️ 12.6 ms (2021-06-02T07:44:36/2021-06-02T07:44:36)</pre>"
      ],
      "text/plain": [
       "<IPython.core.display.HTML object>"
      ]
     },
     "metadata": {},
     "output_type": "display_data"
    }
   ],
   "source": [
    "X = X.drop('Yr_sold', axis=1)\n",
    "X = X.drop('Mo_sold', axis=1)"
   ]
  },
  {
   "cell_type": "code",
   "execution_count": 44,
   "metadata": {
    "scrolled": true
   },
   "outputs": [
    {
     "data": {
      "text/html": [
       "<pre>✔️ 8.3 ms (2021-06-02T07:44:36/2021-06-02T07:44:36)</pre>"
      ],
      "text/plain": [
       "<IPython.core.display.HTML object>"
      ]
     },
     "metadata": {},
     "output_type": "display_data"
    },
    {
     "data": {
      "text/plain": [
       "Other           3304\n",
       "Sammamish        886\n",
       "Kirkland         701\n",
       "Kent             566\n",
       "Redmond          496\n",
       "                ... \n",
       "Glendale          12\n",
       "Valley Green      12\n",
       "Endolyne          11\n",
       "Wyngates          11\n",
       "Willow Ridge      11\n",
       "Name: Neighborhood, Length: 251, dtype: int64"
      ]
     },
     "execution_count": 44,
     "metadata": {},
     "output_type": "execute_result"
    }
   ],
   "source": [
    "X['Neighborhood'].value_counts()"
   ]
  },
  {
   "cell_type": "code",
   "execution_count": 45,
   "metadata": {},
   "outputs": [
    {
     "data": {
      "text/html": [
       "<pre>✔️ 37.8 ms (2021-06-02T07:44:36/2021-06-02T07:44:36)</pre>"
      ],
      "text/plain": [
       "<IPython.core.display.HTML object>"
      ]
     },
     "metadata": {},
     "output_type": "display_data"
    }
   ],
   "source": [
    "from sklearn.preprocessing import OneHotEncoder\n",
    "\n",
    "hood = X[['Neighborhood']]\n",
    "\n",
    "\n",
    "ohe = OneHotEncoder(categories='auto', sparse=False, handle_unknown='ignore')\n",
    "\n",
    "\n",
    "ohe.fit(hood)\n",
    "\n",
    "\n",
    "ohe.categories_\n",
    "\n",
    "hood_encoded = ohe.transform(hood)"
   ]
  },
  {
   "cell_type": "code",
   "execution_count": 46,
   "metadata": {},
   "outputs": [
    {
     "data": {
      "text/html": [
       "<pre>✔️ 39.2 ms (2021-06-02T07:44:36/2021-06-02T07:44:37)</pre>"
      ],
      "text/plain": [
       "<IPython.core.display.HTML object>"
      ]
     },
     "metadata": {},
     "output_type": "display_data"
    }
   ],
   "source": [
    "hood_encoded = pd.DataFrame(\n",
    "\n",
    "    hood_encoded,\n",
    "  \n",
    "    columns=ohe.categories_[0],\n",
    "   \n",
    "    index=X.index\n",
    ")\n",
    "\n",
    "\n",
    "hood_encoded\n",
    "hood_encoded = hood_encoded.drop('Other', axis=1)"
   ]
  },
  {
   "cell_type": "code",
   "execution_count": 47,
   "metadata": {},
   "outputs": [
    {
     "data": {
      "text/html": [
       "<pre>✔️ 1.23 ms (2021-06-02T07:44:37/2021-06-02T07:44:37)</pre>"
      ],
      "text/plain": [
       "<IPython.core.display.HTML object>"
      ]
     },
     "metadata": {},
     "output_type": "display_data"
    }
   ],
   "source": [
    "# X = pd.concat([X, hood_encoded], axis=1)"
   ]
  },
  {
   "cell_type": "code",
   "execution_count": 48,
   "metadata": {},
   "outputs": [
    {
     "data": {
      "text/html": [
       "<pre>✔️ 2.48 ms (2021-06-02T07:44:37/2021-06-02T07:44:37)</pre>"
      ],
      "text/plain": [
       "<IPython.core.display.HTML object>"
      ]
     },
     "metadata": {},
     "output_type": "display_data"
    }
   ],
   "source": [
    "X['sqft_grade'] = X['sqft_living'] * X['grade']"
   ]
  },
  {
   "cell_type": "code",
   "execution_count": 49,
   "metadata": {},
   "outputs": [
    {
     "data": {
      "text/html": [
       "<pre>✔️ 5.96 ms (2021-06-02T07:44:37/2021-06-02T07:44:37)</pre>"
      ],
      "text/plain": [
       "<IPython.core.display.HTML object>"
      ]
     },
     "metadata": {},
     "output_type": "display_data"
    }
   ],
   "source": [
    "X = X.drop('Neighborhood', axis=1)"
   ]
  },
  {
   "cell_type": "code",
   "execution_count": 50,
   "metadata": {},
   "outputs": [
    {
     "data": {
      "text/html": [
       "<pre>✔️ 39.5 ms (2021-06-02T07:44:37/2021-06-02T07:44:37)</pre>"
      ],
      "text/plain": [
       "<IPython.core.display.HTML object>"
      ]
     },
     "metadata": {},
     "output_type": "display_data"
    },
    {
     "data": {
      "text/plain": [
       "0.695080716958244"
      ]
     },
     "execution_count": 50,
     "metadata": {},
     "output_type": "execute_result"
    }
   ],
   "source": [
    "from sklearn.linear_model import LinearRegression\n",
    "\n",
    "model = LinearRegression()\n",
    "model.fit(X, y)\n",
    "model.score(X,y)"
   ]
  },
  {
   "cell_type": "code",
   "execution_count": 51,
   "metadata": {},
   "outputs": [
    {
     "data": {
      "text/html": [
       "<pre>✔️ 2.92 ms (2021-06-02T07:44:38/2021-06-02T07:44:38)</pre>"
      ],
      "text/plain": [
       "<IPython.core.display.HTML object>"
      ]
     },
     "metadata": {},
     "output_type": "display_data"
    }
   ],
   "source": [
    "X_no_dummies = X.iloc[:, : 16]"
   ]
  },
  {
   "cell_type": "code",
   "execution_count": 52,
   "metadata": {},
   "outputs": [
    {
     "data": {
      "text/html": [
       "<pre>✔️ 27.7 ms (2021-06-02T07:44:38/2021-06-02T07:44:38)</pre>"
      ],
      "text/plain": [
       "<IPython.core.display.HTML object>"
      ]
     },
     "metadata": {},
     "output_type": "display_data"
    },
    {
     "data": {
      "text/html": [
       "<div>\n",
       "<style scoped>\n",
       "    .dataframe tbody tr th:only-of-type {\n",
       "        vertical-align: middle;\n",
       "    }\n",
       "\n",
       "    .dataframe tbody tr th {\n",
       "        vertical-align: top;\n",
       "    }\n",
       "\n",
       "    .dataframe thead th {\n",
       "        text-align: right;\n",
       "    }\n",
       "</style>\n",
       "<table border=\"1\" class=\"dataframe\">\n",
       "  <thead>\n",
       "    <tr style=\"text-align: right;\">\n",
       "      <th></th>\n",
       "      <th>bedrooms</th>\n",
       "      <th>bathrooms</th>\n",
       "      <th>sqft_living</th>\n",
       "      <th>sqft_lot</th>\n",
       "      <th>floors</th>\n",
       "      <th>waterfront</th>\n",
       "      <th>view</th>\n",
       "      <th>condition</th>\n",
       "      <th>grade</th>\n",
       "      <th>sqft_above</th>\n",
       "      <th>sqft_basement</th>\n",
       "      <th>yr_built</th>\n",
       "      <th>zipcode</th>\n",
       "      <th>sqft_living15</th>\n",
       "      <th>sqft_lot15</th>\n",
       "      <th>sqft_grade</th>\n",
       "    </tr>\n",
       "  </thead>\n",
       "  <tbody>\n",
       "    <tr>\n",
       "      <th>0</th>\n",
       "      <td>3</td>\n",
       "      <td>1.00</td>\n",
       "      <td>1180</td>\n",
       "      <td>5650</td>\n",
       "      <td>1.0</td>\n",
       "      <td>0.0</td>\n",
       "      <td>0.0</td>\n",
       "      <td>3</td>\n",
       "      <td>7</td>\n",
       "      <td>1180</td>\n",
       "      <td>0.0</td>\n",
       "      <td>1955</td>\n",
       "      <td>98178</td>\n",
       "      <td>1340</td>\n",
       "      <td>5650</td>\n",
       "      <td>8260</td>\n",
       "    </tr>\n",
       "    <tr>\n",
       "      <th>1</th>\n",
       "      <td>3</td>\n",
       "      <td>2.25</td>\n",
       "      <td>2570</td>\n",
       "      <td>7242</td>\n",
       "      <td>2.0</td>\n",
       "      <td>0.0</td>\n",
       "      <td>0.0</td>\n",
       "      <td>3</td>\n",
       "      <td>7</td>\n",
       "      <td>2170</td>\n",
       "      <td>400.0</td>\n",
       "      <td>1951</td>\n",
       "      <td>98125</td>\n",
       "      <td>1690</td>\n",
       "      <td>7639</td>\n",
       "      <td>17990</td>\n",
       "    </tr>\n",
       "    <tr>\n",
       "      <th>2</th>\n",
       "      <td>2</td>\n",
       "      <td>1.00</td>\n",
       "      <td>770</td>\n",
       "      <td>10000</td>\n",
       "      <td>1.0</td>\n",
       "      <td>0.0</td>\n",
       "      <td>0.0</td>\n",
       "      <td>3</td>\n",
       "      <td>6</td>\n",
       "      <td>770</td>\n",
       "      <td>0.0</td>\n",
       "      <td>1933</td>\n",
       "      <td>98028</td>\n",
       "      <td>2720</td>\n",
       "      <td>8062</td>\n",
       "      <td>4620</td>\n",
       "    </tr>\n",
       "    <tr>\n",
       "      <th>3</th>\n",
       "      <td>4</td>\n",
       "      <td>3.00</td>\n",
       "      <td>1960</td>\n",
       "      <td>5000</td>\n",
       "      <td>1.0</td>\n",
       "      <td>0.0</td>\n",
       "      <td>0.0</td>\n",
       "      <td>5</td>\n",
       "      <td>7</td>\n",
       "      <td>1050</td>\n",
       "      <td>910.0</td>\n",
       "      <td>1965</td>\n",
       "      <td>98136</td>\n",
       "      <td>1360</td>\n",
       "      <td>5000</td>\n",
       "      <td>13720</td>\n",
       "    </tr>\n",
       "    <tr>\n",
       "      <th>4</th>\n",
       "      <td>3</td>\n",
       "      <td>2.00</td>\n",
       "      <td>1680</td>\n",
       "      <td>8080</td>\n",
       "      <td>1.0</td>\n",
       "      <td>0.0</td>\n",
       "      <td>0.0</td>\n",
       "      <td>3</td>\n",
       "      <td>8</td>\n",
       "      <td>1680</td>\n",
       "      <td>0.0</td>\n",
       "      <td>1987</td>\n",
       "      <td>98074</td>\n",
       "      <td>1800</td>\n",
       "      <td>7503</td>\n",
       "      <td>13440</td>\n",
       "    </tr>\n",
       "    <tr>\n",
       "      <th>...</th>\n",
       "      <td>...</td>\n",
       "      <td>...</td>\n",
       "      <td>...</td>\n",
       "      <td>...</td>\n",
       "      <td>...</td>\n",
       "      <td>...</td>\n",
       "      <td>...</td>\n",
       "      <td>...</td>\n",
       "      <td>...</td>\n",
       "      <td>...</td>\n",
       "      <td>...</td>\n",
       "      <td>...</td>\n",
       "      <td>...</td>\n",
       "      <td>...</td>\n",
       "      <td>...</td>\n",
       "      <td>...</td>\n",
       "    </tr>\n",
       "    <tr>\n",
       "      <th>21592</th>\n",
       "      <td>3</td>\n",
       "      <td>2.50</td>\n",
       "      <td>1530</td>\n",
       "      <td>1131</td>\n",
       "      <td>3.0</td>\n",
       "      <td>0.0</td>\n",
       "      <td>0.0</td>\n",
       "      <td>3</td>\n",
       "      <td>8</td>\n",
       "      <td>1530</td>\n",
       "      <td>0.0</td>\n",
       "      <td>2009</td>\n",
       "      <td>98103</td>\n",
       "      <td>1530</td>\n",
       "      <td>1509</td>\n",
       "      <td>12240</td>\n",
       "    </tr>\n",
       "    <tr>\n",
       "      <th>21593</th>\n",
       "      <td>4</td>\n",
       "      <td>2.50</td>\n",
       "      <td>2310</td>\n",
       "      <td>5813</td>\n",
       "      <td>2.0</td>\n",
       "      <td>0.0</td>\n",
       "      <td>0.0</td>\n",
       "      <td>3</td>\n",
       "      <td>8</td>\n",
       "      <td>2310</td>\n",
       "      <td>0.0</td>\n",
       "      <td>2014</td>\n",
       "      <td>98146</td>\n",
       "      <td>1830</td>\n",
       "      <td>7200</td>\n",
       "      <td>18480</td>\n",
       "    </tr>\n",
       "    <tr>\n",
       "      <th>21594</th>\n",
       "      <td>2</td>\n",
       "      <td>0.75</td>\n",
       "      <td>1020</td>\n",
       "      <td>1350</td>\n",
       "      <td>2.0</td>\n",
       "      <td>0.0</td>\n",
       "      <td>0.0</td>\n",
       "      <td>3</td>\n",
       "      <td>7</td>\n",
       "      <td>1020</td>\n",
       "      <td>0.0</td>\n",
       "      <td>2009</td>\n",
       "      <td>98144</td>\n",
       "      <td>1020</td>\n",
       "      <td>2007</td>\n",
       "      <td>7140</td>\n",
       "    </tr>\n",
       "    <tr>\n",
       "      <th>21595</th>\n",
       "      <td>3</td>\n",
       "      <td>2.50</td>\n",
       "      <td>1600</td>\n",
       "      <td>2388</td>\n",
       "      <td>2.0</td>\n",
       "      <td>0.0</td>\n",
       "      <td>0.0</td>\n",
       "      <td>3</td>\n",
       "      <td>8</td>\n",
       "      <td>1600</td>\n",
       "      <td>0.0</td>\n",
       "      <td>2004</td>\n",
       "      <td>98027</td>\n",
       "      <td>1410</td>\n",
       "      <td>1287</td>\n",
       "      <td>12800</td>\n",
       "    </tr>\n",
       "    <tr>\n",
       "      <th>21596</th>\n",
       "      <td>2</td>\n",
       "      <td>0.75</td>\n",
       "      <td>1020</td>\n",
       "      <td>1076</td>\n",
       "      <td>2.0</td>\n",
       "      <td>0.0</td>\n",
       "      <td>0.0</td>\n",
       "      <td>3</td>\n",
       "      <td>7</td>\n",
       "      <td>1020</td>\n",
       "      <td>0.0</td>\n",
       "      <td>2008</td>\n",
       "      <td>98144</td>\n",
       "      <td>1020</td>\n",
       "      <td>1357</td>\n",
       "      <td>7140</td>\n",
       "    </tr>\n",
       "  </tbody>\n",
       "</table>\n",
       "<p>21597 rows × 16 columns</p>\n",
       "</div>"
      ],
      "text/plain": [
       "       bedrooms  bathrooms  sqft_living  sqft_lot  floors  waterfront  view  \\\n",
       "0             3       1.00         1180      5650     1.0         0.0   0.0   \n",
       "1             3       2.25         2570      7242     2.0         0.0   0.0   \n",
       "2             2       1.00          770     10000     1.0         0.0   0.0   \n",
       "3             4       3.00         1960      5000     1.0         0.0   0.0   \n",
       "4             3       2.00         1680      8080     1.0         0.0   0.0   \n",
       "...         ...        ...          ...       ...     ...         ...   ...   \n",
       "21592         3       2.50         1530      1131     3.0         0.0   0.0   \n",
       "21593         4       2.50         2310      5813     2.0         0.0   0.0   \n",
       "21594         2       0.75         1020      1350     2.0         0.0   0.0   \n",
       "21595         3       2.50         1600      2388     2.0         0.0   0.0   \n",
       "21596         2       0.75         1020      1076     2.0         0.0   0.0   \n",
       "\n",
       "       condition  grade  sqft_above  sqft_basement  yr_built  zipcode  \\\n",
       "0              3      7        1180            0.0      1955    98178   \n",
       "1              3      7        2170          400.0      1951    98125   \n",
       "2              3      6         770            0.0      1933    98028   \n",
       "3              5      7        1050          910.0      1965    98136   \n",
       "4              3      8        1680            0.0      1987    98074   \n",
       "...          ...    ...         ...            ...       ...      ...   \n",
       "21592          3      8        1530            0.0      2009    98103   \n",
       "21593          3      8        2310            0.0      2014    98146   \n",
       "21594          3      7        1020            0.0      2009    98144   \n",
       "21595          3      8        1600            0.0      2004    98027   \n",
       "21596          3      7        1020            0.0      2008    98144   \n",
       "\n",
       "       sqft_living15  sqft_lot15  sqft_grade  \n",
       "0               1340        5650        8260  \n",
       "1               1690        7639       17990  \n",
       "2               2720        8062        4620  \n",
       "3               1360        5000       13720  \n",
       "4               1800        7503       13440  \n",
       "...              ...         ...         ...  \n",
       "21592           1530        1509       12240  \n",
       "21593           1830        7200       18480  \n",
       "21594           1020        2007        7140  \n",
       "21595           1410        1287       12800  \n",
       "21596           1020        1357        7140  \n",
       "\n",
       "[21597 rows x 16 columns]"
      ]
     },
     "execution_count": 52,
     "metadata": {},
     "output_type": "execute_result"
    }
   ],
   "source": [
    "X_no_dummies"
   ]
  },
  {
   "cell_type": "code",
   "execution_count": 53,
   "metadata": {},
   "outputs": [
    {
     "data": {
      "text/html": [
       "<pre>✔️ 21.3 ms (2021-06-02T07:44:38/2021-06-02T07:44:38)</pre>"
      ],
      "text/plain": [
       "<IPython.core.display.HTML object>"
      ]
     },
     "metadata": {},
     "output_type": "display_data"
    },
    {
     "data": {
      "text/plain": [
       "0.693225527970078"
      ]
     },
     "execution_count": 53,
     "metadata": {},
     "output_type": "execute_result"
    }
   ],
   "source": [
    "from sklearn.linear_model import LinearRegression\n",
    "\n",
    "model = LinearRegression()\n",
    "model.fit(X_no_dummies, y)\n",
    "model.score(X_no_dummies,y)"
   ]
  },
  {
   "cell_type": "code",
   "execution_count": 54,
   "metadata": {},
   "outputs": [
    {
     "data": {
      "text/html": [
       "<pre>✔️ 20.1 ms (2021-06-02T07:44:38/2021-06-02T07:44:38)</pre>"
      ],
      "text/plain": [
       "<IPython.core.display.HTML object>"
      ]
     },
     "metadata": {},
     "output_type": "display_data"
    }
   ],
   "source": [
    "from sklearn.preprocessing import OneHotEncoder\n",
    "\n",
    "zip = X_no_dummies[['zipcode']]\n",
    "\n",
    "\n",
    "ohe = OneHotEncoder(categories='auto', sparse=False, handle_unknown='ignore')\n",
    "\n",
    "\n",
    "ohe.fit(zip)\n",
    "\n",
    "\n",
    "ohe.categories_\n",
    "\n",
    "zip_encoded = ohe.transform(zip)"
   ]
  },
  {
   "cell_type": "code",
   "execution_count": 55,
   "metadata": {},
   "outputs": [
    {
     "data": {
      "text/html": [
       "<pre>✔️ 40.6 ms (2021-06-02T07:44:38/2021-06-02T07:44:39)</pre>"
      ],
      "text/plain": [
       "<IPython.core.display.HTML object>"
      ]
     },
     "metadata": {},
     "output_type": "display_data"
    },
    {
     "data": {
      "text/html": [
       "<div>\n",
       "<style scoped>\n",
       "    .dataframe tbody tr th:only-of-type {\n",
       "        vertical-align: middle;\n",
       "    }\n",
       "\n",
       "    .dataframe tbody tr th {\n",
       "        vertical-align: top;\n",
       "    }\n",
       "\n",
       "    .dataframe thead th {\n",
       "        text-align: right;\n",
       "    }\n",
       "</style>\n",
       "<table border=\"1\" class=\"dataframe\">\n",
       "  <thead>\n",
       "    <tr style=\"text-align: right;\">\n",
       "      <th></th>\n",
       "      <th>98001</th>\n",
       "      <th>98002</th>\n",
       "      <th>98003</th>\n",
       "      <th>98004</th>\n",
       "      <th>98005</th>\n",
       "      <th>98006</th>\n",
       "      <th>98007</th>\n",
       "      <th>98008</th>\n",
       "      <th>98010</th>\n",
       "      <th>98011</th>\n",
       "      <th>...</th>\n",
       "      <th>98146</th>\n",
       "      <th>98148</th>\n",
       "      <th>98155</th>\n",
       "      <th>98166</th>\n",
       "      <th>98168</th>\n",
       "      <th>98177</th>\n",
       "      <th>98178</th>\n",
       "      <th>98188</th>\n",
       "      <th>98198</th>\n",
       "      <th>98199</th>\n",
       "    </tr>\n",
       "  </thead>\n",
       "  <tbody>\n",
       "    <tr>\n",
       "      <th>0</th>\n",
       "      <td>0.0</td>\n",
       "      <td>0.0</td>\n",
       "      <td>0.0</td>\n",
       "      <td>0.0</td>\n",
       "      <td>0.0</td>\n",
       "      <td>0.0</td>\n",
       "      <td>0.0</td>\n",
       "      <td>0.0</td>\n",
       "      <td>0.0</td>\n",
       "      <td>0.0</td>\n",
       "      <td>...</td>\n",
       "      <td>0.0</td>\n",
       "      <td>0.0</td>\n",
       "      <td>0.0</td>\n",
       "      <td>0.0</td>\n",
       "      <td>0.0</td>\n",
       "      <td>0.0</td>\n",
       "      <td>1.0</td>\n",
       "      <td>0.0</td>\n",
       "      <td>0.0</td>\n",
       "      <td>0.0</td>\n",
       "    </tr>\n",
       "    <tr>\n",
       "      <th>1</th>\n",
       "      <td>0.0</td>\n",
       "      <td>0.0</td>\n",
       "      <td>0.0</td>\n",
       "      <td>0.0</td>\n",
       "      <td>0.0</td>\n",
       "      <td>0.0</td>\n",
       "      <td>0.0</td>\n",
       "      <td>0.0</td>\n",
       "      <td>0.0</td>\n",
       "      <td>0.0</td>\n",
       "      <td>...</td>\n",
       "      <td>0.0</td>\n",
       "      <td>0.0</td>\n",
       "      <td>0.0</td>\n",
       "      <td>0.0</td>\n",
       "      <td>0.0</td>\n",
       "      <td>0.0</td>\n",
       "      <td>0.0</td>\n",
       "      <td>0.0</td>\n",
       "      <td>0.0</td>\n",
       "      <td>0.0</td>\n",
       "    </tr>\n",
       "    <tr>\n",
       "      <th>2</th>\n",
       "      <td>0.0</td>\n",
       "      <td>0.0</td>\n",
       "      <td>0.0</td>\n",
       "      <td>0.0</td>\n",
       "      <td>0.0</td>\n",
       "      <td>0.0</td>\n",
       "      <td>0.0</td>\n",
       "      <td>0.0</td>\n",
       "      <td>0.0</td>\n",
       "      <td>0.0</td>\n",
       "      <td>...</td>\n",
       "      <td>0.0</td>\n",
       "      <td>0.0</td>\n",
       "      <td>0.0</td>\n",
       "      <td>0.0</td>\n",
       "      <td>0.0</td>\n",
       "      <td>0.0</td>\n",
       "      <td>0.0</td>\n",
       "      <td>0.0</td>\n",
       "      <td>0.0</td>\n",
       "      <td>0.0</td>\n",
       "    </tr>\n",
       "    <tr>\n",
       "      <th>3</th>\n",
       "      <td>0.0</td>\n",
       "      <td>0.0</td>\n",
       "      <td>0.0</td>\n",
       "      <td>0.0</td>\n",
       "      <td>0.0</td>\n",
       "      <td>0.0</td>\n",
       "      <td>0.0</td>\n",
       "      <td>0.0</td>\n",
       "      <td>0.0</td>\n",
       "      <td>0.0</td>\n",
       "      <td>...</td>\n",
       "      <td>0.0</td>\n",
       "      <td>0.0</td>\n",
       "      <td>0.0</td>\n",
       "      <td>0.0</td>\n",
       "      <td>0.0</td>\n",
       "      <td>0.0</td>\n",
       "      <td>0.0</td>\n",
       "      <td>0.0</td>\n",
       "      <td>0.0</td>\n",
       "      <td>0.0</td>\n",
       "    </tr>\n",
       "    <tr>\n",
       "      <th>4</th>\n",
       "      <td>0.0</td>\n",
       "      <td>0.0</td>\n",
       "      <td>0.0</td>\n",
       "      <td>0.0</td>\n",
       "      <td>0.0</td>\n",
       "      <td>0.0</td>\n",
       "      <td>0.0</td>\n",
       "      <td>0.0</td>\n",
       "      <td>0.0</td>\n",
       "      <td>0.0</td>\n",
       "      <td>...</td>\n",
       "      <td>0.0</td>\n",
       "      <td>0.0</td>\n",
       "      <td>0.0</td>\n",
       "      <td>0.0</td>\n",
       "      <td>0.0</td>\n",
       "      <td>0.0</td>\n",
       "      <td>0.0</td>\n",
       "      <td>0.0</td>\n",
       "      <td>0.0</td>\n",
       "      <td>0.0</td>\n",
       "    </tr>\n",
       "    <tr>\n",
       "      <th>...</th>\n",
       "      <td>...</td>\n",
       "      <td>...</td>\n",
       "      <td>...</td>\n",
       "      <td>...</td>\n",
       "      <td>...</td>\n",
       "      <td>...</td>\n",
       "      <td>...</td>\n",
       "      <td>...</td>\n",
       "      <td>...</td>\n",
       "      <td>...</td>\n",
       "      <td>...</td>\n",
       "      <td>...</td>\n",
       "      <td>...</td>\n",
       "      <td>...</td>\n",
       "      <td>...</td>\n",
       "      <td>...</td>\n",
       "      <td>...</td>\n",
       "      <td>...</td>\n",
       "      <td>...</td>\n",
       "      <td>...</td>\n",
       "      <td>...</td>\n",
       "    </tr>\n",
       "    <tr>\n",
       "      <th>21592</th>\n",
       "      <td>0.0</td>\n",
       "      <td>0.0</td>\n",
       "      <td>0.0</td>\n",
       "      <td>0.0</td>\n",
       "      <td>0.0</td>\n",
       "      <td>0.0</td>\n",
       "      <td>0.0</td>\n",
       "      <td>0.0</td>\n",
       "      <td>0.0</td>\n",
       "      <td>0.0</td>\n",
       "      <td>...</td>\n",
       "      <td>0.0</td>\n",
       "      <td>0.0</td>\n",
       "      <td>0.0</td>\n",
       "      <td>0.0</td>\n",
       "      <td>0.0</td>\n",
       "      <td>0.0</td>\n",
       "      <td>0.0</td>\n",
       "      <td>0.0</td>\n",
       "      <td>0.0</td>\n",
       "      <td>0.0</td>\n",
       "    </tr>\n",
       "    <tr>\n",
       "      <th>21593</th>\n",
       "      <td>0.0</td>\n",
       "      <td>0.0</td>\n",
       "      <td>0.0</td>\n",
       "      <td>0.0</td>\n",
       "      <td>0.0</td>\n",
       "      <td>0.0</td>\n",
       "      <td>0.0</td>\n",
       "      <td>0.0</td>\n",
       "      <td>0.0</td>\n",
       "      <td>0.0</td>\n",
       "      <td>...</td>\n",
       "      <td>1.0</td>\n",
       "      <td>0.0</td>\n",
       "      <td>0.0</td>\n",
       "      <td>0.0</td>\n",
       "      <td>0.0</td>\n",
       "      <td>0.0</td>\n",
       "      <td>0.0</td>\n",
       "      <td>0.0</td>\n",
       "      <td>0.0</td>\n",
       "      <td>0.0</td>\n",
       "    </tr>\n",
       "    <tr>\n",
       "      <th>21594</th>\n",
       "      <td>0.0</td>\n",
       "      <td>0.0</td>\n",
       "      <td>0.0</td>\n",
       "      <td>0.0</td>\n",
       "      <td>0.0</td>\n",
       "      <td>0.0</td>\n",
       "      <td>0.0</td>\n",
       "      <td>0.0</td>\n",
       "      <td>0.0</td>\n",
       "      <td>0.0</td>\n",
       "      <td>...</td>\n",
       "      <td>0.0</td>\n",
       "      <td>0.0</td>\n",
       "      <td>0.0</td>\n",
       "      <td>0.0</td>\n",
       "      <td>0.0</td>\n",
       "      <td>0.0</td>\n",
       "      <td>0.0</td>\n",
       "      <td>0.0</td>\n",
       "      <td>0.0</td>\n",
       "      <td>0.0</td>\n",
       "    </tr>\n",
       "    <tr>\n",
       "      <th>21595</th>\n",
       "      <td>0.0</td>\n",
       "      <td>0.0</td>\n",
       "      <td>0.0</td>\n",
       "      <td>0.0</td>\n",
       "      <td>0.0</td>\n",
       "      <td>0.0</td>\n",
       "      <td>0.0</td>\n",
       "      <td>0.0</td>\n",
       "      <td>0.0</td>\n",
       "      <td>0.0</td>\n",
       "      <td>...</td>\n",
       "      <td>0.0</td>\n",
       "      <td>0.0</td>\n",
       "      <td>0.0</td>\n",
       "      <td>0.0</td>\n",
       "      <td>0.0</td>\n",
       "      <td>0.0</td>\n",
       "      <td>0.0</td>\n",
       "      <td>0.0</td>\n",
       "      <td>0.0</td>\n",
       "      <td>0.0</td>\n",
       "    </tr>\n",
       "    <tr>\n",
       "      <th>21596</th>\n",
       "      <td>0.0</td>\n",
       "      <td>0.0</td>\n",
       "      <td>0.0</td>\n",
       "      <td>0.0</td>\n",
       "      <td>0.0</td>\n",
       "      <td>0.0</td>\n",
       "      <td>0.0</td>\n",
       "      <td>0.0</td>\n",
       "      <td>0.0</td>\n",
       "      <td>0.0</td>\n",
       "      <td>...</td>\n",
       "      <td>0.0</td>\n",
       "      <td>0.0</td>\n",
       "      <td>0.0</td>\n",
       "      <td>0.0</td>\n",
       "      <td>0.0</td>\n",
       "      <td>0.0</td>\n",
       "      <td>0.0</td>\n",
       "      <td>0.0</td>\n",
       "      <td>0.0</td>\n",
       "      <td>0.0</td>\n",
       "    </tr>\n",
       "  </tbody>\n",
       "</table>\n",
       "<p>21597 rows × 70 columns</p>\n",
       "</div>"
      ],
      "text/plain": [
       "       98001  98002  98003  98004  98005  98006  98007  98008  98010  98011  \\\n",
       "0        0.0    0.0    0.0    0.0    0.0    0.0    0.0    0.0    0.0    0.0   \n",
       "1        0.0    0.0    0.0    0.0    0.0    0.0    0.0    0.0    0.0    0.0   \n",
       "2        0.0    0.0    0.0    0.0    0.0    0.0    0.0    0.0    0.0    0.0   \n",
       "3        0.0    0.0    0.0    0.0    0.0    0.0    0.0    0.0    0.0    0.0   \n",
       "4        0.0    0.0    0.0    0.0    0.0    0.0    0.0    0.0    0.0    0.0   \n",
       "...      ...    ...    ...    ...    ...    ...    ...    ...    ...    ...   \n",
       "21592    0.0    0.0    0.0    0.0    0.0    0.0    0.0    0.0    0.0    0.0   \n",
       "21593    0.0    0.0    0.0    0.0    0.0    0.0    0.0    0.0    0.0    0.0   \n",
       "21594    0.0    0.0    0.0    0.0    0.0    0.0    0.0    0.0    0.0    0.0   \n",
       "21595    0.0    0.0    0.0    0.0    0.0    0.0    0.0    0.0    0.0    0.0   \n",
       "21596    0.0    0.0    0.0    0.0    0.0    0.0    0.0    0.0    0.0    0.0   \n",
       "\n",
       "       ...  98146  98148  98155  98166  98168  98177  98178  98188  98198  \\\n",
       "0      ...    0.0    0.0    0.0    0.0    0.0    0.0    1.0    0.0    0.0   \n",
       "1      ...    0.0    0.0    0.0    0.0    0.0    0.0    0.0    0.0    0.0   \n",
       "2      ...    0.0    0.0    0.0    0.0    0.0    0.0    0.0    0.0    0.0   \n",
       "3      ...    0.0    0.0    0.0    0.0    0.0    0.0    0.0    0.0    0.0   \n",
       "4      ...    0.0    0.0    0.0    0.0    0.0    0.0    0.0    0.0    0.0   \n",
       "...    ...    ...    ...    ...    ...    ...    ...    ...    ...    ...   \n",
       "21592  ...    0.0    0.0    0.0    0.0    0.0    0.0    0.0    0.0    0.0   \n",
       "21593  ...    1.0    0.0    0.0    0.0    0.0    0.0    0.0    0.0    0.0   \n",
       "21594  ...    0.0    0.0    0.0    0.0    0.0    0.0    0.0    0.0    0.0   \n",
       "21595  ...    0.0    0.0    0.0    0.0    0.0    0.0    0.0    0.0    0.0   \n",
       "21596  ...    0.0    0.0    0.0    0.0    0.0    0.0    0.0    0.0    0.0   \n",
       "\n",
       "       98199  \n",
       "0        0.0  \n",
       "1        0.0  \n",
       "2        0.0  \n",
       "3        0.0  \n",
       "4        0.0  \n",
       "...      ...  \n",
       "21592    0.0  \n",
       "21593    0.0  \n",
       "21594    0.0  \n",
       "21595    0.0  \n",
       "21596    0.0  \n",
       "\n",
       "[21597 rows x 70 columns]"
      ]
     },
     "execution_count": 55,
     "metadata": {},
     "output_type": "execute_result"
    }
   ],
   "source": [
    "zip_encoded = pd.DataFrame(\n",
    "\n",
    "    zip_encoded,\n",
    "  \n",
    "    columns=ohe.categories_[0],\n",
    "   \n",
    "    index=X_no_dummies.index\n",
    ")\n",
    "\n",
    "\n",
    "zip_encoded"
   ]
  },
  {
   "cell_type": "code",
   "execution_count": 56,
   "metadata": {},
   "outputs": [
    {
     "data": {
      "text/html": [
       "<pre>✔️ 21.2 ms (2021-06-02T07:44:39/2021-06-02T07:44:39)</pre>"
      ],
      "text/plain": [
       "<IPython.core.display.HTML object>"
      ]
     },
     "metadata": {},
     "output_type": "display_data"
    }
   ],
   "source": [
    "X_zip_dummies = pd.concat([X_no_dummies, zip_encoded], axis=1)"
   ]
  },
  {
   "cell_type": "code",
   "execution_count": 57,
   "metadata": {},
   "outputs": [
    {
     "data": {
      "text/html": [
       "<pre>✔️ 217 ms (2021-06-02T07:44:39/2021-06-02T07:44:39)</pre>"
      ],
      "text/plain": [
       "<IPython.core.display.HTML object>"
      ]
     },
     "metadata": {},
     "output_type": "display_data"
    },
    {
     "data": {
      "text/plain": [
       "0.8394401048046631"
      ]
     },
     "execution_count": 57,
     "metadata": {},
     "output_type": "execute_result"
    }
   ],
   "source": [
    "model = LinearRegression()\n",
    "model.fit(X_zip_dummies, y)\n",
    "model.score(X_zip_dummies,y)"
   ]
  },
  {
   "cell_type": "code",
   "execution_count": 58,
   "metadata": {},
   "outputs": [
    {
     "data": {
      "text/html": [
       "<pre>✔️ 2.43 ms (2021-06-02T07:44:39/2021-06-02T07:44:39)</pre>"
      ],
      "text/plain": [
       "<IPython.core.display.HTML object>"
      ]
     },
     "metadata": {},
     "output_type": "display_data"
    }
   ],
   "source": [
    "X_no_dummies\n",
    "SM_df = X_no_dummies.copy()"
   ]
  },
  {
   "cell_type": "code",
   "execution_count": 59,
   "metadata": {},
   "outputs": [
    {
     "data": {
      "text/html": [
       "<pre>✔️ 4.57 ms (2021-06-02T07:44:39/2021-06-02T07:44:39)</pre>"
      ],
      "text/plain": [
       "<IPython.core.display.HTML object>"
      ]
     },
     "metadata": {},
     "output_type": "display_data"
    }
   ],
   "source": [
    "SM_df['price'] = y"
   ]
  },
  {
   "cell_type": "code",
   "execution_count": 60,
   "metadata": {},
   "outputs": [
    {
     "data": {
      "text/html": [
       "<pre>✔️ 117 ms (2021-06-02T07:44:40/2021-06-02T07:44:40)</pre>"
      ],
      "text/plain": [
       "<IPython.core.display.HTML object>"
      ]
     },
     "metadata": {},
     "output_type": "display_data"
    },
    {
     "data": {
      "text/html": [
       "<table class=\"simpletable\">\n",
       "<caption>OLS Regression Results</caption>\n",
       "<tr>\n",
       "  <th>Dep. Variable:</th>          <td>price</td>      <th>  R-squared:         </th>  <td>   0.693</td>  \n",
       "</tr>\n",
       "<tr>\n",
       "  <th>Model:</th>                   <td>OLS</td>       <th>  Adj. R-squared:    </th>  <td>   0.693</td>  \n",
       "</tr>\n",
       "<tr>\n",
       "  <th>Method:</th>             <td>Least Squares</td>  <th>  F-statistic:       </th>  <td>   3048.</td>  \n",
       "</tr>\n",
       "<tr>\n",
       "  <th>Date:</th>             <td>Wed, 02 Jun 2021</td> <th>  Prob (F-statistic):</th>   <td>  0.00</td>   \n",
       "</tr>\n",
       "<tr>\n",
       "  <th>Time:</th>                 <td>07:44:40</td>     <th>  Log-Likelihood:    </th> <td>-2.9463e+05</td>\n",
       "</tr>\n",
       "<tr>\n",
       "  <th>No. Observations:</th>      <td> 21597</td>      <th>  AIC:               </th>  <td>5.893e+05</td> \n",
       "</tr>\n",
       "<tr>\n",
       "  <th>Df Residuals:</th>          <td> 21580</td>      <th>  BIC:               </th>  <td>5.894e+05</td> \n",
       "</tr>\n",
       "<tr>\n",
       "  <th>Df Model:</th>              <td>    16</td>      <th>                     </th>      <td> </td>     \n",
       "</tr>\n",
       "<tr>\n",
       "  <th>Covariance Type:</th>      <td>nonrobust</td>    <th>                     </th>      <td> </td>     \n",
       "</tr>\n",
       "</table>\n",
       "<table class=\"simpletable\">\n",
       "<tr>\n",
       "        <td></td>           <th>coef</th>     <th>std err</th>      <th>t</th>      <th>P>|t|</th>  <th>[0.025</th>    <th>0.975]</th>  \n",
       "</tr>\n",
       "<tr>\n",
       "  <th>Intercept</th>     <td> 9.367e+06</td> <td> 2.94e+06</td> <td>    3.185</td> <td> 0.001</td> <td>  3.6e+06</td> <td> 1.51e+07</td>\n",
       "</tr>\n",
       "<tr>\n",
       "  <th>bedrooms</th>      <td>-1.372e+04</td> <td> 1982.827</td> <td>   -6.918</td> <td> 0.000</td> <td>-1.76e+04</td> <td>-9831.672</td>\n",
       "</tr>\n",
       "<tr>\n",
       "  <th>bathrooms</th>     <td>  5.45e+04</td> <td> 3278.096</td> <td>   16.625</td> <td> 0.000</td> <td> 4.81e+04</td> <td> 6.09e+04</td>\n",
       "</tr>\n",
       "<tr>\n",
       "  <th>sqft_living</th>   <td> -307.2310</td> <td>   19.956</td> <td>  -15.395</td> <td> 0.000</td> <td> -346.346</td> <td> -268.116</td>\n",
       "</tr>\n",
       "<tr>\n",
       "  <th>sqft_lot</th>      <td>   -0.0290</td> <td>    0.048</td> <td>   -0.601</td> <td> 0.548</td> <td>   -0.124</td> <td>    0.066</td>\n",
       "</tr>\n",
       "<tr>\n",
       "  <th>floors</th>        <td> 5.422e+04</td> <td> 3650.421</td> <td>   14.853</td> <td> 0.000</td> <td> 4.71e+04</td> <td> 6.14e+04</td>\n",
       "</tr>\n",
       "<tr>\n",
       "  <th>waterfront</th>    <td> 5.853e+05</td> <td> 1.83e+04</td> <td>   31.928</td> <td> 0.000</td> <td> 5.49e+05</td> <td> 6.21e+05</td>\n",
       "</tr>\n",
       "<tr>\n",
       "  <th>view</th>          <td> 3.802e+04</td> <td> 2136.324</td> <td>   17.795</td> <td> 0.000</td> <td> 3.38e+04</td> <td> 4.22e+04</td>\n",
       "</tr>\n",
       "<tr>\n",
       "  <th>condition</th>     <td> 2.608e+04</td> <td> 2346.040</td> <td>   11.117</td> <td> 0.000</td> <td> 2.15e+04</td> <td> 3.07e+04</td>\n",
       "</tr>\n",
       "<tr>\n",
       "  <th>grade</th>         <td> 1.122e+04</td> <td> 2987.745</td> <td>    3.755</td> <td> 0.000</td> <td> 5362.686</td> <td> 1.71e+04</td>\n",
       "</tr>\n",
       "<tr>\n",
       "  <th>sqft_above</th>    <td>    4.1450</td> <td>   18.275</td> <td>    0.227</td> <td> 0.821</td> <td>  -31.675</td> <td>   39.965</td>\n",
       "</tr>\n",
       "<tr>\n",
       "  <th>sqft_basement</th> <td>   52.5859</td> <td>   18.109</td> <td>    2.904</td> <td> 0.004</td> <td>   17.091</td> <td>   88.080</td>\n",
       "</tr>\n",
       "<tr>\n",
       "  <th>yr_built</th>      <td>-3212.4610</td> <td>   67.191</td> <td>  -47.811</td> <td> 0.000</td> <td>-3344.161</td> <td>-3080.761</td>\n",
       "</tr>\n",
       "<tr>\n",
       "  <th>zipcode</th>       <td>  -31.5669</td> <td>   29.543</td> <td>   -1.068</td> <td> 0.285</td> <td>  -89.474</td> <td>   26.340</td>\n",
       "</tr>\n",
       "<tr>\n",
       "  <th>sqft_living15</th> <td>   36.6704</td> <td>    3.448</td> <td>   10.635</td> <td> 0.000</td> <td>   29.912</td> <td>   43.429</td>\n",
       "</tr>\n",
       "<tr>\n",
       "  <th>sqft_lot15</th>    <td>   -0.5265</td> <td>    0.074</td> <td>   -7.123</td> <td> 0.000</td> <td>   -0.671</td> <td>   -0.382</td>\n",
       "</tr>\n",
       "<tr>\n",
       "  <th>sqft_grade</th>    <td>   48.6164</td> <td>    0.928</td> <td>   52.409</td> <td> 0.000</td> <td>   46.798</td> <td>   50.435</td>\n",
       "</tr>\n",
       "</table>\n",
       "<table class=\"simpletable\">\n",
       "<tr>\n",
       "  <th>Omnibus:</th>       <td>10303.908</td> <th>  Durbin-Watson:     </th>  <td>   1.976</td> \n",
       "</tr>\n",
       "<tr>\n",
       "  <th>Prob(Omnibus):</th>  <td> 0.000</td>   <th>  Jarque-Bera (JB):  </th> <td>294981.153</td>\n",
       "</tr>\n",
       "<tr>\n",
       "  <th>Skew:</th>           <td> 1.711</td>   <th>  Prob(JB):          </th>  <td>    0.00</td> \n",
       "</tr>\n",
       "<tr>\n",
       "  <th>Kurtosis:</th>       <td>20.779</td>   <th>  Cond. No.          </th>  <td>2.17e+08</td> \n",
       "</tr>\n",
       "</table><br/><br/>Notes:<br/>[1] Standard Errors assume that the covariance matrix of the errors is correctly specified.<br/>[2] The condition number is large, 2.17e+08. This might indicate that there are<br/>strong multicollinearity or other numerical problems."
      ],
      "text/plain": [
       "<class 'statsmodels.iolib.summary.Summary'>\n",
       "\"\"\"\n",
       "                            OLS Regression Results                            \n",
       "==============================================================================\n",
       "Dep. Variable:                  price   R-squared:                       0.693\n",
       "Model:                            OLS   Adj. R-squared:                  0.693\n",
       "Method:                 Least Squares   F-statistic:                     3048.\n",
       "Date:                Wed, 02 Jun 2021   Prob (F-statistic):               0.00\n",
       "Time:                        07:44:40   Log-Likelihood:            -2.9463e+05\n",
       "No. Observations:               21597   AIC:                         5.893e+05\n",
       "Df Residuals:                   21580   BIC:                         5.894e+05\n",
       "Df Model:                          16                                         \n",
       "Covariance Type:            nonrobust                                         \n",
       "=================================================================================\n",
       "                    coef    std err          t      P>|t|      [0.025      0.975]\n",
       "---------------------------------------------------------------------------------\n",
       "Intercept      9.367e+06   2.94e+06      3.185      0.001     3.6e+06    1.51e+07\n",
       "bedrooms      -1.372e+04   1982.827     -6.918      0.000   -1.76e+04   -9831.672\n",
       "bathrooms       5.45e+04   3278.096     16.625      0.000    4.81e+04    6.09e+04\n",
       "sqft_living    -307.2310     19.956    -15.395      0.000    -346.346    -268.116\n",
       "sqft_lot         -0.0290      0.048     -0.601      0.548      -0.124       0.066\n",
       "floors         5.422e+04   3650.421     14.853      0.000    4.71e+04    6.14e+04\n",
       "waterfront     5.853e+05   1.83e+04     31.928      0.000    5.49e+05    6.21e+05\n",
       "view           3.802e+04   2136.324     17.795      0.000    3.38e+04    4.22e+04\n",
       "condition      2.608e+04   2346.040     11.117      0.000    2.15e+04    3.07e+04\n",
       "grade          1.122e+04   2987.745      3.755      0.000    5362.686    1.71e+04\n",
       "sqft_above        4.1450     18.275      0.227      0.821     -31.675      39.965\n",
       "sqft_basement    52.5859     18.109      2.904      0.004      17.091      88.080\n",
       "yr_built      -3212.4610     67.191    -47.811      0.000   -3344.161   -3080.761\n",
       "zipcode         -31.5669     29.543     -1.068      0.285     -89.474      26.340\n",
       "sqft_living15    36.6704      3.448     10.635      0.000      29.912      43.429\n",
       "sqft_lot15       -0.5265      0.074     -7.123      0.000      -0.671      -0.382\n",
       "sqft_grade       48.6164      0.928     52.409      0.000      46.798      50.435\n",
       "==============================================================================\n",
       "Omnibus:                    10303.908   Durbin-Watson:                   1.976\n",
       "Prob(Omnibus):                  0.000   Jarque-Bera (JB):           294981.153\n",
       "Skew:                           1.711   Prob(JB):                         0.00\n",
       "Kurtosis:                      20.779   Cond. No.                     2.17e+08\n",
       "==============================================================================\n",
       "\n",
       "Notes:\n",
       "[1] Standard Errors assume that the covariance matrix of the errors is correctly specified.\n",
       "[2] The condition number is large, 2.17e+08. This might indicate that there are\n",
       "strong multicollinearity or other numerical problems.\n",
       "\"\"\""
      ]
     },
     "execution_count": 60,
     "metadata": {},
     "output_type": "execute_result"
    }
   ],
   "source": [
    "multiple_formula = 'price ~' + '+'.join(SM_df.columns[0:-1])\n",
    "multiple_model = ols(multiple_formula, SM_df).fit()\n",
    "multiple_model_summary = multiple_model.summary()\n",
    "multiple_model_summary"
   ]
  },
  {
   "cell_type": "code",
   "execution_count": 61,
   "metadata": {
    "scrolled": true
   },
   "outputs": [
    {
     "data": {
      "text/html": [
       "<pre>✔️ 43.3 ms (2021-06-02T07:44:40/2021-06-02T07:44:40)</pre>"
      ],
      "text/plain": [
       "<IPython.core.display.HTML object>"
      ]
     },
     "metadata": {},
     "output_type": "display_data"
    },
    {
     "data": {
      "text/html": [
       "<div>\n",
       "<style scoped>\n",
       "    .dataframe tbody tr th:only-of-type {\n",
       "        vertical-align: middle;\n",
       "    }\n",
       "\n",
       "    .dataframe tbody tr th {\n",
       "        vertical-align: top;\n",
       "    }\n",
       "\n",
       "    .dataframe thead th {\n",
       "        text-align: right;\n",
       "    }\n",
       "</style>\n",
       "<table border=\"1\" class=\"dataframe\">\n",
       "  <thead>\n",
       "    <tr style=\"text-align: right;\">\n",
       "      <th></th>\n",
       "      <th>bedrooms</th>\n",
       "      <th>bathrooms</th>\n",
       "      <th>sqft_living</th>\n",
       "      <th>sqft_lot</th>\n",
       "      <th>floors</th>\n",
       "      <th>waterfront</th>\n",
       "      <th>view</th>\n",
       "      <th>condition</th>\n",
       "      <th>grade</th>\n",
       "      <th>sqft_above</th>\n",
       "      <th>sqft_basement</th>\n",
       "      <th>yr_built</th>\n",
       "      <th>zipcode</th>\n",
       "      <th>sqft_living15</th>\n",
       "      <th>sqft_lot15</th>\n",
       "      <th>sqft_grade</th>\n",
       "    </tr>\n",
       "  </thead>\n",
       "  <tbody>\n",
       "    <tr>\n",
       "      <th>bedrooms</th>\n",
       "      <td>1.000000</td>\n",
       "      <td>0.514508</td>\n",
       "      <td>0.578212</td>\n",
       "      <td>0.032471</td>\n",
       "      <td>0.177944</td>\n",
       "      <td>-0.002127</td>\n",
       "      <td>0.078354</td>\n",
       "      <td>0.026496</td>\n",
       "      <td>0.356563</td>\n",
       "      <td>0.479386</td>\n",
       "      <td>0.297229</td>\n",
       "      <td>0.155670</td>\n",
       "      <td>-0.154092</td>\n",
       "      <td>0.393406</td>\n",
       "      <td>0.030690</td>\n",
       "      <td>0.506704</td>\n",
       "    </tr>\n",
       "    <tr>\n",
       "      <th>bathrooms</th>\n",
       "      <td>0.514508</td>\n",
       "      <td>1.000000</td>\n",
       "      <td>0.755758</td>\n",
       "      <td>0.088373</td>\n",
       "      <td>0.502582</td>\n",
       "      <td>0.063629</td>\n",
       "      <td>0.186016</td>\n",
       "      <td>-0.126479</td>\n",
       "      <td>0.665838</td>\n",
       "      <td>0.686668</td>\n",
       "      <td>0.278485</td>\n",
       "      <td>0.507173</td>\n",
       "      <td>-0.204786</td>\n",
       "      <td>0.569884</td>\n",
       "      <td>0.088303</td>\n",
       "      <td>0.738928</td>\n",
       "    </tr>\n",
       "    <tr>\n",
       "      <th>sqft_living</th>\n",
       "      <td>0.578212</td>\n",
       "      <td>0.755758</td>\n",
       "      <td>1.000000</td>\n",
       "      <td>0.173453</td>\n",
       "      <td>0.353953</td>\n",
       "      <td>0.104637</td>\n",
       "      <td>0.281715</td>\n",
       "      <td>-0.059445</td>\n",
       "      <td>0.762779</td>\n",
       "      <td>0.876448</td>\n",
       "      <td>0.428660</td>\n",
       "      <td>0.318152</td>\n",
       "      <td>-0.199802</td>\n",
       "      <td>0.756402</td>\n",
       "      <td>0.184342</td>\n",
       "      <td>0.973752</td>\n",
       "    </tr>\n",
       "    <tr>\n",
       "      <th>sqft_lot</th>\n",
       "      <td>0.032471</td>\n",
       "      <td>0.088373</td>\n",
       "      <td>0.173453</td>\n",
       "      <td>1.000000</td>\n",
       "      <td>-0.004814</td>\n",
       "      <td>0.021459</td>\n",
       "      <td>0.075054</td>\n",
       "      <td>-0.008830</td>\n",
       "      <td>0.114731</td>\n",
       "      <td>0.184139</td>\n",
       "      <td>0.015031</td>\n",
       "      <td>0.052946</td>\n",
       "      <td>-0.129586</td>\n",
       "      <td>0.144763</td>\n",
       "      <td>0.718204</td>\n",
       "      <td>0.172951</td>\n",
       "    </tr>\n",
       "    <tr>\n",
       "      <th>floors</th>\n",
       "      <td>0.177944</td>\n",
       "      <td>0.502582</td>\n",
       "      <td>0.353953</td>\n",
       "      <td>-0.004814</td>\n",
       "      <td>1.000000</td>\n",
       "      <td>0.020797</td>\n",
       "      <td>0.028414</td>\n",
       "      <td>-0.264075</td>\n",
       "      <td>0.458794</td>\n",
       "      <td>0.523989</td>\n",
       "      <td>-0.241866</td>\n",
       "      <td>0.489193</td>\n",
       "      <td>-0.059541</td>\n",
       "      <td>0.280102</td>\n",
       "      <td>-0.010722</td>\n",
       "      <td>0.373290</td>\n",
       "    </tr>\n",
       "    <tr>\n",
       "      <th>waterfront</th>\n",
       "      <td>-0.002127</td>\n",
       "      <td>0.063629</td>\n",
       "      <td>0.104637</td>\n",
       "      <td>0.021459</td>\n",
       "      <td>0.020797</td>\n",
       "      <td>1.000000</td>\n",
       "      <td>0.380543</td>\n",
       "      <td>0.016648</td>\n",
       "      <td>0.082818</td>\n",
       "      <td>0.071778</td>\n",
       "      <td>0.083050</td>\n",
       "      <td>-0.024487</td>\n",
       "      <td>0.028923</td>\n",
       "      <td>0.083823</td>\n",
       "      <td>0.030658</td>\n",
       "      <td>0.114449</td>\n",
       "    </tr>\n",
       "    <tr>\n",
       "      <th>view</th>\n",
       "      <td>0.078354</td>\n",
       "      <td>0.186016</td>\n",
       "      <td>0.281715</td>\n",
       "      <td>0.075054</td>\n",
       "      <td>0.028414</td>\n",
       "      <td>0.380543</td>\n",
       "      <td>1.000000</td>\n",
       "      <td>0.045622</td>\n",
       "      <td>0.249082</td>\n",
       "      <td>0.166017</td>\n",
       "      <td>0.270629</td>\n",
       "      <td>-0.054452</td>\n",
       "      <td>0.085059</td>\n",
       "      <td>0.278928</td>\n",
       "      <td>0.073083</td>\n",
       "      <td>0.296626</td>\n",
       "    </tr>\n",
       "    <tr>\n",
       "      <th>condition</th>\n",
       "      <td>0.026496</td>\n",
       "      <td>-0.126479</td>\n",
       "      <td>-0.059445</td>\n",
       "      <td>-0.008830</td>\n",
       "      <td>-0.264075</td>\n",
       "      <td>0.016648</td>\n",
       "      <td>0.045622</td>\n",
       "      <td>1.000000</td>\n",
       "      <td>-0.146896</td>\n",
       "      <td>-0.158904</td>\n",
       "      <td>0.168482</td>\n",
       "      <td>-0.361592</td>\n",
       "      <td>0.002888</td>\n",
       "      <td>-0.093072</td>\n",
       "      <td>-0.003126</td>\n",
       "      <td>-0.085574</td>\n",
       "    </tr>\n",
       "    <tr>\n",
       "      <th>grade</th>\n",
       "      <td>0.356563</td>\n",
       "      <td>0.665838</td>\n",
       "      <td>0.762779</td>\n",
       "      <td>0.114731</td>\n",
       "      <td>0.458794</td>\n",
       "      <td>0.082818</td>\n",
       "      <td>0.249082</td>\n",
       "      <td>-0.146896</td>\n",
       "      <td>1.000000</td>\n",
       "      <td>0.756073</td>\n",
       "      <td>0.165843</td>\n",
       "      <td>0.447865</td>\n",
       "      <td>-0.185771</td>\n",
       "      <td>0.713867</td>\n",
       "      <td>0.120981</td>\n",
       "      <td>0.848301</td>\n",
       "    </tr>\n",
       "    <tr>\n",
       "      <th>sqft_above</th>\n",
       "      <td>0.479386</td>\n",
       "      <td>0.686668</td>\n",
       "      <td>0.876448</td>\n",
       "      <td>0.184139</td>\n",
       "      <td>0.523989</td>\n",
       "      <td>0.071778</td>\n",
       "      <td>0.166017</td>\n",
       "      <td>-0.158904</td>\n",
       "      <td>0.756073</td>\n",
       "      <td>1.000000</td>\n",
       "      <td>-0.051175</td>\n",
       "      <td>0.424037</td>\n",
       "      <td>-0.261570</td>\n",
       "      <td>0.731767</td>\n",
       "      <td>0.195077</td>\n",
       "      <td>0.881953</td>\n",
       "    </tr>\n",
       "    <tr>\n",
       "      <th>sqft_basement</th>\n",
       "      <td>0.297229</td>\n",
       "      <td>0.278485</td>\n",
       "      <td>0.428660</td>\n",
       "      <td>0.015031</td>\n",
       "      <td>-0.241866</td>\n",
       "      <td>0.083050</td>\n",
       "      <td>0.270629</td>\n",
       "      <td>0.168482</td>\n",
       "      <td>0.165843</td>\n",
       "      <td>-0.051175</td>\n",
       "      <td>1.000000</td>\n",
       "      <td>-0.130085</td>\n",
       "      <td>0.073271</td>\n",
       "      <td>0.199288</td>\n",
       "      <td>0.015885</td>\n",
       "      <td>0.365043</td>\n",
       "    </tr>\n",
       "    <tr>\n",
       "      <th>yr_built</th>\n",
       "      <td>0.155670</td>\n",
       "      <td>0.507173</td>\n",
       "      <td>0.318152</td>\n",
       "      <td>0.052946</td>\n",
       "      <td>0.489193</td>\n",
       "      <td>-0.024487</td>\n",
       "      <td>-0.054452</td>\n",
       "      <td>-0.361592</td>\n",
       "      <td>0.447865</td>\n",
       "      <td>0.424037</td>\n",
       "      <td>-0.130085</td>\n",
       "      <td>1.000000</td>\n",
       "      <td>-0.347210</td>\n",
       "      <td>0.326377</td>\n",
       "      <td>0.070777</td>\n",
       "      <td>0.336612</td>\n",
       "    </tr>\n",
       "    <tr>\n",
       "      <th>zipcode</th>\n",
       "      <td>-0.154092</td>\n",
       "      <td>-0.204786</td>\n",
       "      <td>-0.199802</td>\n",
       "      <td>-0.129586</td>\n",
       "      <td>-0.059541</td>\n",
       "      <td>0.028923</td>\n",
       "      <td>0.085059</td>\n",
       "      <td>0.002888</td>\n",
       "      <td>-0.185771</td>\n",
       "      <td>-0.261570</td>\n",
       "      <td>0.073271</td>\n",
       "      <td>-0.347210</td>\n",
       "      <td>1.000000</td>\n",
       "      <td>-0.279299</td>\n",
       "      <td>-0.147294</td>\n",
       "      <td>-0.193693</td>\n",
       "    </tr>\n",
       "    <tr>\n",
       "      <th>sqft_living15</th>\n",
       "      <td>0.393406</td>\n",
       "      <td>0.569884</td>\n",
       "      <td>0.756402</td>\n",
       "      <td>0.144763</td>\n",
       "      <td>0.280102</td>\n",
       "      <td>0.083823</td>\n",
       "      <td>0.278928</td>\n",
       "      <td>-0.093072</td>\n",
       "      <td>0.713867</td>\n",
       "      <td>0.731767</td>\n",
       "      <td>0.199288</td>\n",
       "      <td>0.326377</td>\n",
       "      <td>-0.279299</td>\n",
       "      <td>1.000000</td>\n",
       "      <td>0.183515</td>\n",
       "      <td>0.769581</td>\n",
       "    </tr>\n",
       "    <tr>\n",
       "      <th>sqft_lot15</th>\n",
       "      <td>0.030690</td>\n",
       "      <td>0.088303</td>\n",
       "      <td>0.184342</td>\n",
       "      <td>0.718204</td>\n",
       "      <td>-0.010722</td>\n",
       "      <td>0.030658</td>\n",
       "      <td>0.073083</td>\n",
       "      <td>-0.003126</td>\n",
       "      <td>0.120981</td>\n",
       "      <td>0.195077</td>\n",
       "      <td>0.015885</td>\n",
       "      <td>0.070777</td>\n",
       "      <td>-0.147294</td>\n",
       "      <td>0.183515</td>\n",
       "      <td>1.000000</td>\n",
       "      <td>0.181826</td>\n",
       "    </tr>\n",
       "    <tr>\n",
       "      <th>sqft_grade</th>\n",
       "      <td>0.506704</td>\n",
       "      <td>0.738928</td>\n",
       "      <td>0.973752</td>\n",
       "      <td>0.172951</td>\n",
       "      <td>0.373290</td>\n",
       "      <td>0.114449</td>\n",
       "      <td>0.296626</td>\n",
       "      <td>-0.085574</td>\n",
       "      <td>0.848301</td>\n",
       "      <td>0.881953</td>\n",
       "      <td>0.365043</td>\n",
       "      <td>0.336612</td>\n",
       "      <td>-0.193693</td>\n",
       "      <td>0.769581</td>\n",
       "      <td>0.181826</td>\n",
       "      <td>1.000000</td>\n",
       "    </tr>\n",
       "  </tbody>\n",
       "</table>\n",
       "</div>"
      ],
      "text/plain": [
       "               bedrooms  bathrooms  sqft_living  sqft_lot    floors  \\\n",
       "bedrooms       1.000000   0.514508     0.578212  0.032471  0.177944   \n",
       "bathrooms      0.514508   1.000000     0.755758  0.088373  0.502582   \n",
       "sqft_living    0.578212   0.755758     1.000000  0.173453  0.353953   \n",
       "sqft_lot       0.032471   0.088373     0.173453  1.000000 -0.004814   \n",
       "floors         0.177944   0.502582     0.353953 -0.004814  1.000000   \n",
       "waterfront    -0.002127   0.063629     0.104637  0.021459  0.020797   \n",
       "view           0.078354   0.186016     0.281715  0.075054  0.028414   \n",
       "condition      0.026496  -0.126479    -0.059445 -0.008830 -0.264075   \n",
       "grade          0.356563   0.665838     0.762779  0.114731  0.458794   \n",
       "sqft_above     0.479386   0.686668     0.876448  0.184139  0.523989   \n",
       "sqft_basement  0.297229   0.278485     0.428660  0.015031 -0.241866   \n",
       "yr_built       0.155670   0.507173     0.318152  0.052946  0.489193   \n",
       "zipcode       -0.154092  -0.204786    -0.199802 -0.129586 -0.059541   \n",
       "sqft_living15  0.393406   0.569884     0.756402  0.144763  0.280102   \n",
       "sqft_lot15     0.030690   0.088303     0.184342  0.718204 -0.010722   \n",
       "sqft_grade     0.506704   0.738928     0.973752  0.172951  0.373290   \n",
       "\n",
       "               waterfront      view  condition     grade  sqft_above  \\\n",
       "bedrooms        -0.002127  0.078354   0.026496  0.356563    0.479386   \n",
       "bathrooms        0.063629  0.186016  -0.126479  0.665838    0.686668   \n",
       "sqft_living      0.104637  0.281715  -0.059445  0.762779    0.876448   \n",
       "sqft_lot         0.021459  0.075054  -0.008830  0.114731    0.184139   \n",
       "floors           0.020797  0.028414  -0.264075  0.458794    0.523989   \n",
       "waterfront       1.000000  0.380543   0.016648  0.082818    0.071778   \n",
       "view             0.380543  1.000000   0.045622  0.249082    0.166017   \n",
       "condition        0.016648  0.045622   1.000000 -0.146896   -0.158904   \n",
       "grade            0.082818  0.249082  -0.146896  1.000000    0.756073   \n",
       "sqft_above       0.071778  0.166017  -0.158904  0.756073    1.000000   \n",
       "sqft_basement    0.083050  0.270629   0.168482  0.165843   -0.051175   \n",
       "yr_built        -0.024487 -0.054452  -0.361592  0.447865    0.424037   \n",
       "zipcode          0.028923  0.085059   0.002888 -0.185771   -0.261570   \n",
       "sqft_living15    0.083823  0.278928  -0.093072  0.713867    0.731767   \n",
       "sqft_lot15       0.030658  0.073083  -0.003126  0.120981    0.195077   \n",
       "sqft_grade       0.114449  0.296626  -0.085574  0.848301    0.881953   \n",
       "\n",
       "               sqft_basement  yr_built   zipcode  sqft_living15  sqft_lot15  \\\n",
       "bedrooms            0.297229  0.155670 -0.154092       0.393406    0.030690   \n",
       "bathrooms           0.278485  0.507173 -0.204786       0.569884    0.088303   \n",
       "sqft_living         0.428660  0.318152 -0.199802       0.756402    0.184342   \n",
       "sqft_lot            0.015031  0.052946 -0.129586       0.144763    0.718204   \n",
       "floors             -0.241866  0.489193 -0.059541       0.280102   -0.010722   \n",
       "waterfront          0.083050 -0.024487  0.028923       0.083823    0.030658   \n",
       "view                0.270629 -0.054452  0.085059       0.278928    0.073083   \n",
       "condition           0.168482 -0.361592  0.002888      -0.093072   -0.003126   \n",
       "grade               0.165843  0.447865 -0.185771       0.713867    0.120981   \n",
       "sqft_above         -0.051175  0.424037 -0.261570       0.731767    0.195077   \n",
       "sqft_basement       1.000000 -0.130085  0.073271       0.199288    0.015885   \n",
       "yr_built           -0.130085  1.000000 -0.347210       0.326377    0.070777   \n",
       "zipcode             0.073271 -0.347210  1.000000      -0.279299   -0.147294   \n",
       "sqft_living15       0.199288  0.326377 -0.279299       1.000000    0.183515   \n",
       "sqft_lot15          0.015885  0.070777 -0.147294       0.183515    1.000000   \n",
       "sqft_grade          0.365043  0.336612 -0.193693       0.769581    0.181826   \n",
       "\n",
       "               sqft_grade  \n",
       "bedrooms         0.506704  \n",
       "bathrooms        0.738928  \n",
       "sqft_living      0.973752  \n",
       "sqft_lot         0.172951  \n",
       "floors           0.373290  \n",
       "waterfront       0.114449  \n",
       "view             0.296626  \n",
       "condition       -0.085574  \n",
       "grade            0.848301  \n",
       "sqft_above       0.881953  \n",
       "sqft_basement    0.365043  \n",
       "yr_built         0.336612  \n",
       "zipcode         -0.193693  \n",
       "sqft_living15    0.769581  \n",
       "sqft_lot15       0.181826  \n",
       "sqft_grade       1.000000  "
      ]
     },
     "execution_count": 61,
     "metadata": {},
     "output_type": "execute_result"
    }
   ],
   "source": [
    "X_no_dummies.corr()"
   ]
  },
  {
   "cell_type": "code",
   "execution_count": 62,
   "metadata": {},
   "outputs": [
    {
     "data": {
      "text/html": [
       "<pre>✔️ 3.06 ms (2021-06-02T07:44:40/2021-06-02T07:44:40)</pre>"
      ],
      "text/plain": [
       "<IPython.core.display.HTML object>"
      ]
     },
     "metadata": {},
     "output_type": "display_data"
    }
   ],
   "source": [
    "X = X.drop('sqft_lot', axis=1)"
   ]
  },
  {
   "cell_type": "code",
   "execution_count": 63,
   "metadata": {},
   "outputs": [
    {
     "data": {
      "text/html": [
       "<pre>✔️ 4.23 ms (2021-06-02T07:44:40/2021-06-02T07:44:40)</pre>"
      ],
      "text/plain": [
       "<IPython.core.display.HTML object>"
      ]
     },
     "metadata": {},
     "output_type": "display_data"
    }
   ],
   "source": [
    "X = X.drop('sqft_above', axis=1)"
   ]
  },
  {
   "cell_type": "code",
   "execution_count": 64,
   "metadata": {},
   "outputs": [
    {
     "data": {
      "text/html": [
       "<pre>✔️ 27.5 ms (2021-06-02T07:44:41/2021-06-02T07:44:41)</pre>"
      ],
      "text/plain": [
       "<IPython.core.display.HTML object>"
      ]
     },
     "metadata": {},
     "output_type": "display_data"
    }
   ],
   "source": [
    "X = pd.concat([X, zip_encoded], axis=1)"
   ]
  },
  {
   "cell_type": "code",
   "execution_count": 65,
   "metadata": {},
   "outputs": [
    {
     "data": {
      "text/html": [
       "<pre>✔️ 232 ms (2021-06-02T07:44:41/2021-06-02T07:44:41)</pre>"
      ],
      "text/plain": [
       "<IPython.core.display.HTML object>"
      ]
     },
     "metadata": {},
     "output_type": "display_data"
    },
    {
     "data": {
      "text/plain": [
       "0.8410224734217631"
      ]
     },
     "execution_count": 65,
     "metadata": {},
     "output_type": "execute_result"
    }
   ],
   "source": [
    "model = LinearRegression()\n",
    "model.fit(X, y)\n",
    "model.score(X,y)"
   ]
  },
  {
   "cell_type": "code",
   "execution_count": 66,
   "metadata": {},
   "outputs": [
    {
     "data": {
      "text/html": [
       "<pre>✔️ 22 ms (2021-06-02T07:44:41/2021-06-02T07:44:41)</pre>"
      ],
      "text/plain": [
       "<IPython.core.display.HTML object>"
      ]
     },
     "metadata": {},
     "output_type": "display_data"
    }
   ],
   "source": [
    "residual = y - model.predict(X)"
   ]
  },
  {
   "cell_type": "code",
   "execution_count": 67,
   "metadata": {},
   "outputs": [
    {
     "data": {
      "text/html": [
       "<pre>✔️ 362 ms (2021-06-02T07:44:41/2021-06-02T07:44:42)</pre>"
      ],
      "text/plain": [
       "<IPython.core.display.HTML object>"
      ]
     },
     "metadata": {},
     "output_type": "display_data"
    },
    {
     "data": {
      "image/png": "[encoded data removed]",
      "text/plain": [
       "<Figure size 432x288 with 1 Axes>"
      ]
     },
     "metadata": {
      "needs_background": "light"
     },
     "output_type": "display_data"
    }
   ],
   "source": [
    "fig, ax = plt.subplots()\n",
    "ax.hist(residual, bins=20, density=True, range =[-300000,300000]);"
   ]
  },
  {
   "cell_type": "code",
   "execution_count": 68,
   "metadata": {},
   "outputs": [
    {
     "data": {
      "text/html": [
       "<pre>✔️ 286 ms (2021-06-02T07:44:42/2021-06-02T07:44:42)</pre>"
      ],
      "text/plain": [
       "<IPython.core.display.HTML object>"
      ]
     },
     "metadata": {},
     "output_type": "display_data"
    },
    {
     "name": "stderr",
     "output_type": "stream",
     "text": [
      "/Users/kevinmcdonough/opt/anaconda3/envs/learn-env/lib/python3.8/site-packages/seaborn/_decorators.py:36: FutureWarning: Pass the following variables as keyword args: x, y. From version 0.12, the only valid positional argument will be `data`, and passing other arguments without an explicit keyword will result in an error or misinterpretation.\n",
      "  warnings.warn(\n"
     ]
    },
    {
     "data": {
      "text/plain": [
       "Text(0.5, 1.0, 'Residual plot')"
      ]
     },
     "execution_count": 68,
     "metadata": {},
     "output_type": "execute_result"
    },
    {
     "data": {
      "image/png": "[encoded data removed]",
      "text/plain": [
       "<Figure size 432x288 with 1 Axes>"
      ]
     },
     "metadata": {
      "needs_background": "light"
     },
     "output_type": "display_data"
    }
   ],
   "source": [
    "sns.residplot(y, residual)\n",
    "    \n",
    "plt.xlabel(\"Fitted values\")\n",
    "plt.title('Residual plot')"
   ]
  },
  {
   "cell_type": "code",
   "execution_count": 69,
   "metadata": {},
   "outputs": [
    {
     "data": {
      "text/html": [
       "<pre>✔️ 256 ms (2021-06-02T07:44:43/2021-06-02T07:44:43)</pre>"
      ],
      "text/plain": [
       "<IPython.core.display.HTML object>"
      ]
     },
     "metadata": {},
     "output_type": "display_data"
    },
    {
     "data": {
      "text/plain": [
       "Text(0.5, 1.0, 'Normal Q-Q Plot')"
      ]
     },
     "execution_count": 69,
     "metadata": {},
     "output_type": "execute_result"
    },
    {
     "data": {
      "image/png": "[encoded data removed]",
      "text/plain": [
       "<Figure size 504x504 with 1 Axes>"
      ]
     },
     "metadata": {
      "needs_background": "light"
     },
     "output_type": "display_data"
    }
   ],
   "source": [
    "plt.figure(figsize=(7,7))\n",
    "stats.probplot(residual, dist=\"norm\", plot=plt)\n",
    "plt.title(\"Normal Q-Q Plot\")"
   ]
  },
  {
   "cell_type": "code",
   "execution_count": 70,
   "metadata": {},
   "outputs": [
    {
     "data": {
      "text/html": [
       "<pre>✔️ 55.5 ms (2021-06-02T07:44:43/2021-06-02T07:44:43)</pre>"
      ],
      "text/plain": [
       "<IPython.core.display.HTML object>"
      ]
     },
     "metadata": {},
     "output_type": "display_data"
    },
    {
     "data": {
      "text/html": [
       "<div>\n",
       "<style scoped>\n",
       "    .dataframe tbody tr th:only-of-type {\n",
       "        vertical-align: middle;\n",
       "    }\n",
       "\n",
       "    .dataframe tbody tr th {\n",
       "        vertical-align: top;\n",
       "    }\n",
       "\n",
       "    .dataframe thead th {\n",
       "        text-align: right;\n",
       "    }\n",
       "</style>\n",
       "<table border=\"1\" class=\"dataframe\">\n",
       "  <thead>\n",
       "    <tr style=\"text-align: right;\">\n",
       "      <th></th>\n",
       "      <th>bedrooms</th>\n",
       "      <th>bathrooms</th>\n",
       "      <th>sqft_living</th>\n",
       "      <th>floors</th>\n",
       "      <th>waterfront</th>\n",
       "      <th>view</th>\n",
       "      <th>condition</th>\n",
       "      <th>grade</th>\n",
       "      <th>sqft_basement</th>\n",
       "      <th>yr_built</th>\n",
       "      <th>...</th>\n",
       "      <th>98146</th>\n",
       "      <th>98148</th>\n",
       "      <th>98155</th>\n",
       "      <th>98166</th>\n",
       "      <th>98168</th>\n",
       "      <th>98177</th>\n",
       "      <th>98178</th>\n",
       "      <th>98188</th>\n",
       "      <th>98198</th>\n",
       "      <th>98199</th>\n",
       "    </tr>\n",
       "  </thead>\n",
       "  <tbody>\n",
       "    <tr>\n",
       "      <th>0</th>\n",
       "      <td>3</td>\n",
       "      <td>1.00</td>\n",
       "      <td>1180</td>\n",
       "      <td>1.0</td>\n",
       "      <td>0.0</td>\n",
       "      <td>0.0</td>\n",
       "      <td>3</td>\n",
       "      <td>7</td>\n",
       "      <td>0.0</td>\n",
       "      <td>1955</td>\n",
       "      <td>...</td>\n",
       "      <td>0.0</td>\n",
       "      <td>0.0</td>\n",
       "      <td>0.0</td>\n",
       "      <td>0.0</td>\n",
       "      <td>0.0</td>\n",
       "      <td>0.0</td>\n",
       "      <td>1.0</td>\n",
       "      <td>0.0</td>\n",
       "      <td>0.0</td>\n",
       "      <td>0.0</td>\n",
       "    </tr>\n",
       "    <tr>\n",
       "      <th>1</th>\n",
       "      <td>3</td>\n",
       "      <td>2.25</td>\n",
       "      <td>2570</td>\n",
       "      <td>2.0</td>\n",
       "      <td>0.0</td>\n",
       "      <td>0.0</td>\n",
       "      <td>3</td>\n",
       "      <td>7</td>\n",
       "      <td>400.0</td>\n",
       "      <td>1951</td>\n",
       "      <td>...</td>\n",
       "      <td>0.0</td>\n",
       "      <td>0.0</td>\n",
       "      <td>0.0</td>\n",
       "      <td>0.0</td>\n",
       "      <td>0.0</td>\n",
       "      <td>0.0</td>\n",
       "      <td>0.0</td>\n",
       "      <td>0.0</td>\n",
       "      <td>0.0</td>\n",
       "      <td>0.0</td>\n",
       "    </tr>\n",
       "    <tr>\n",
       "      <th>2</th>\n",
       "      <td>2</td>\n",
       "      <td>1.00</td>\n",
       "      <td>770</td>\n",
       "      <td>1.0</td>\n",
       "      <td>0.0</td>\n",
       "      <td>0.0</td>\n",
       "      <td>3</td>\n",
       "      <td>6</td>\n",
       "      <td>0.0</td>\n",
       "      <td>1933</td>\n",
       "      <td>...</td>\n",
       "      <td>0.0</td>\n",
       "      <td>0.0</td>\n",
       "      <td>0.0</td>\n",
       "      <td>0.0</td>\n",
       "      <td>0.0</td>\n",
       "      <td>0.0</td>\n",
       "      <td>0.0</td>\n",
       "      <td>0.0</td>\n",
       "      <td>0.0</td>\n",
       "      <td>0.0</td>\n",
       "    </tr>\n",
       "    <tr>\n",
       "      <th>3</th>\n",
       "      <td>4</td>\n",
       "      <td>3.00</td>\n",
       "      <td>1960</td>\n",
       "      <td>1.0</td>\n",
       "      <td>0.0</td>\n",
       "      <td>0.0</td>\n",
       "      <td>5</td>\n",
       "      <td>7</td>\n",
       "      <td>910.0</td>\n",
       "      <td>1965</td>\n",
       "      <td>...</td>\n",
       "      <td>0.0</td>\n",
       "      <td>0.0</td>\n",
       "      <td>0.0</td>\n",
       "      <td>0.0</td>\n",
       "      <td>0.0</td>\n",
       "      <td>0.0</td>\n",
       "      <td>0.0</td>\n",
       "      <td>0.0</td>\n",
       "      <td>0.0</td>\n",
       "      <td>0.0</td>\n",
       "    </tr>\n",
       "    <tr>\n",
       "      <th>4</th>\n",
       "      <td>3</td>\n",
       "      <td>2.00</td>\n",
       "      <td>1680</td>\n",
       "      <td>1.0</td>\n",
       "      <td>0.0</td>\n",
       "      <td>0.0</td>\n",
       "      <td>3</td>\n",
       "      <td>8</td>\n",
       "      <td>0.0</td>\n",
       "      <td>1987</td>\n",
       "      <td>...</td>\n",
       "      <td>0.0</td>\n",
       "      <td>0.0</td>\n",
       "      <td>0.0</td>\n",
       "      <td>0.0</td>\n",
       "      <td>0.0</td>\n",
       "      <td>0.0</td>\n",
       "      <td>0.0</td>\n",
       "      <td>0.0</td>\n",
       "      <td>0.0</td>\n",
       "      <td>0.0</td>\n",
       "    </tr>\n",
       "    <tr>\n",
       "      <th>...</th>\n",
       "      <td>...</td>\n",
       "      <td>...</td>\n",
       "      <td>...</td>\n",
       "      <td>...</td>\n",
       "      <td>...</td>\n",
       "      <td>...</td>\n",
       "      <td>...</td>\n",
       "      <td>...</td>\n",
       "      <td>...</td>\n",
       "      <td>...</td>\n",
       "      <td>...</td>\n",
       "      <td>...</td>\n",
       "      <td>...</td>\n",
       "      <td>...</td>\n",
       "      <td>...</td>\n",
       "      <td>...</td>\n",
       "      <td>...</td>\n",
       "      <td>...</td>\n",
       "      <td>...</td>\n",
       "      <td>...</td>\n",
       "      <td>...</td>\n",
       "    </tr>\n",
       "    <tr>\n",
       "      <th>21592</th>\n",
       "      <td>3</td>\n",
       "      <td>2.50</td>\n",
       "      <td>1530</td>\n",
       "      <td>3.0</td>\n",
       "      <td>0.0</td>\n",
       "      <td>0.0</td>\n",
       "      <td>3</td>\n",
       "      <td>8</td>\n",
       "      <td>0.0</td>\n",
       "      <td>2009</td>\n",
       "      <td>...</td>\n",
       "      <td>0.0</td>\n",
       "      <td>0.0</td>\n",
       "      <td>0.0</td>\n",
       "      <td>0.0</td>\n",
       "      <td>0.0</td>\n",
       "      <td>0.0</td>\n",
       "      <td>0.0</td>\n",
       "      <td>0.0</td>\n",
       "      <td>0.0</td>\n",
       "      <td>0.0</td>\n",
       "    </tr>\n",
       "    <tr>\n",
       "      <th>21593</th>\n",
       "      <td>4</td>\n",
       "      <td>2.50</td>\n",
       "      <td>2310</td>\n",
       "      <td>2.0</td>\n",
       "      <td>0.0</td>\n",
       "      <td>0.0</td>\n",
       "      <td>3</td>\n",
       "      <td>8</td>\n",
       "      <td>0.0</td>\n",
       "      <td>2014</td>\n",
       "      <td>...</td>\n",
       "      <td>1.0</td>\n",
       "      <td>0.0</td>\n",
       "      <td>0.0</td>\n",
       "      <td>0.0</td>\n",
       "      <td>0.0</td>\n",
       "      <td>0.0</td>\n",
       "      <td>0.0</td>\n",
       "      <td>0.0</td>\n",
       "      <td>0.0</td>\n",
       "      <td>0.0</td>\n",
       "    </tr>\n",
       "    <tr>\n",
       "      <th>21594</th>\n",
       "      <td>2</td>\n",
       "      <td>0.75</td>\n",
       "      <td>1020</td>\n",
       "      <td>2.0</td>\n",
       "      <td>0.0</td>\n",
       "      <td>0.0</td>\n",
       "      <td>3</td>\n",
       "      <td>7</td>\n",
       "      <td>0.0</td>\n",
       "      <td>2009</td>\n",
       "      <td>...</td>\n",
       "      <td>0.0</td>\n",
       "      <td>0.0</td>\n",
       "      <td>0.0</td>\n",
       "      <td>0.0</td>\n",
       "      <td>0.0</td>\n",
       "      <td>0.0</td>\n",
       "      <td>0.0</td>\n",
       "      <td>0.0</td>\n",
       "      <td>0.0</td>\n",
       "      <td>0.0</td>\n",
       "    </tr>\n",
       "    <tr>\n",
       "      <th>21595</th>\n",
       "      <td>3</td>\n",
       "      <td>2.50</td>\n",
       "      <td>1600</td>\n",
       "      <td>2.0</td>\n",
       "      <td>0.0</td>\n",
       "      <td>0.0</td>\n",
       "      <td>3</td>\n",
       "      <td>8</td>\n",
       "      <td>0.0</td>\n",
       "      <td>2004</td>\n",
       "      <td>...</td>\n",
       "      <td>0.0</td>\n",
       "      <td>0.0</td>\n",
       "      <td>0.0</td>\n",
       "      <td>0.0</td>\n",
       "      <td>0.0</td>\n",
       "      <td>0.0</td>\n",
       "      <td>0.0</td>\n",
       "      <td>0.0</td>\n",
       "      <td>0.0</td>\n",
       "      <td>0.0</td>\n",
       "    </tr>\n",
       "    <tr>\n",
       "      <th>21596</th>\n",
       "      <td>2</td>\n",
       "      <td>0.75</td>\n",
       "      <td>1020</td>\n",
       "      <td>2.0</td>\n",
       "      <td>0.0</td>\n",
       "      <td>0.0</td>\n",
       "      <td>3</td>\n",
       "      <td>7</td>\n",
       "      <td>0.0</td>\n",
       "      <td>2008</td>\n",
       "      <td>...</td>\n",
       "      <td>0.0</td>\n",
       "      <td>0.0</td>\n",
       "      <td>0.0</td>\n",
       "      <td>0.0</td>\n",
       "      <td>0.0</td>\n",
       "      <td>0.0</td>\n",
       "      <td>0.0</td>\n",
       "      <td>0.0</td>\n",
       "      <td>0.0</td>\n",
       "      <td>0.0</td>\n",
       "    </tr>\n",
       "  </tbody>\n",
       "</table>\n",
       "<p>21597 rows × 96 columns</p>\n",
       "</div>"
      ],
      "text/plain": [
       "       bedrooms  bathrooms  sqft_living  floors  waterfront  view  condition  \\\n",
       "0             3       1.00         1180     1.0         0.0   0.0          3   \n",
       "1             3       2.25         2570     2.0         0.0   0.0          3   \n",
       "2             2       1.00          770     1.0         0.0   0.0          3   \n",
       "3             4       3.00         1960     1.0         0.0   0.0          5   \n",
       "4             3       2.00         1680     1.0         0.0   0.0          3   \n",
       "...         ...        ...          ...     ...         ...   ...        ...   \n",
       "21592         3       2.50         1530     3.0         0.0   0.0          3   \n",
       "21593         4       2.50         2310     2.0         0.0   0.0          3   \n",
       "21594         2       0.75         1020     2.0         0.0   0.0          3   \n",
       "21595         3       2.50         1600     2.0         0.0   0.0          3   \n",
       "21596         2       0.75         1020     2.0         0.0   0.0          3   \n",
       "\n",
       "       grade  sqft_basement  yr_built  ...  98146  98148  98155  98166  98168  \\\n",
       "0          7            0.0      1955  ...    0.0    0.0    0.0    0.0    0.0   \n",
       "1          7          400.0      1951  ...    0.0    0.0    0.0    0.0    0.0   \n",
       "2          6            0.0      1933  ...    0.0    0.0    0.0    0.0    0.0   \n",
       "3          7          910.0      1965  ...    0.0    0.0    0.0    0.0    0.0   \n",
       "4          8            0.0      1987  ...    0.0    0.0    0.0    0.0    0.0   \n",
       "...      ...            ...       ...  ...    ...    ...    ...    ...    ...   \n",
       "21592      8            0.0      2009  ...    0.0    0.0    0.0    0.0    0.0   \n",
       "21593      8            0.0      2014  ...    1.0    0.0    0.0    0.0    0.0   \n",
       "21594      7            0.0      2009  ...    0.0    0.0    0.0    0.0    0.0   \n",
       "21595      8            0.0      2004  ...    0.0    0.0    0.0    0.0    0.0   \n",
       "21596      7            0.0      2008  ...    0.0    0.0    0.0    0.0    0.0   \n",
       "\n",
       "       98177  98178  98188  98198  98199  \n",
       "0        0.0    1.0    0.0    0.0    0.0  \n",
       "1        0.0    0.0    0.0    0.0    0.0  \n",
       "2        0.0    0.0    0.0    0.0    0.0  \n",
       "3        0.0    0.0    0.0    0.0    0.0  \n",
       "4        0.0    0.0    0.0    0.0    0.0  \n",
       "...      ...    ...    ...    ...    ...  \n",
       "21592    0.0    0.0    0.0    0.0    0.0  \n",
       "21593    0.0    0.0    0.0    0.0    0.0  \n",
       "21594    0.0    0.0    0.0    0.0    0.0  \n",
       "21595    0.0    0.0    0.0    0.0    0.0  \n",
       "21596    0.0    0.0    0.0    0.0    0.0  \n",
       "\n",
       "[21597 rows x 96 columns]"
      ]
     },
     "execution_count": 70,
     "metadata": {},
     "output_type": "execute_result"
    }
   ],
   "source": [
    "X"
   ]
  },
  {
   "cell_type": "code",
   "execution_count": 71,
   "metadata": {},
   "outputs": [
    {
     "data": {
      "text/html": [
       "<pre>✔️ 83.5 ms (2021-06-02T07:44:44/2021-06-02T07:44:44)</pre>"
      ],
      "text/plain": [
       "<IPython.core.display.HTML object>"
      ]
     },
     "metadata": {},
     "output_type": "display_data"
    }
   ],
   "source": [
    "X = pd.concat([X, hood_encoded], axis=1)"
   ]
  },
  {
   "cell_type": "code",
   "execution_count": 72,
   "metadata": {
    "scrolled": true
   },
   "outputs": [
    {
     "data": {
      "text/html": [
       "<pre>✔️ 782 ms (2021-06-02T07:44:45/2021-06-02T07:44:45)</pre>"
      ],
      "text/plain": [
       "<IPython.core.display.HTML object>"
      ]
     },
     "metadata": {},
     "output_type": "display_data"
    },
    {
     "data": {
      "text/plain": [
       "0.8566825491773701"
      ]
     },
     "execution_count": 72,
     "metadata": {},
     "output_type": "execute_result"
    }
   ],
   "source": [
    "model = LinearRegression()\n",
    "model.fit(X, y)\n",
    "model.score(X,y)"
   ]
  },
  {
   "cell_type": "code",
   "execution_count": 73,
   "metadata": {},
   "outputs": [
    {
     "data": {
      "text/html": [
       "<pre>✔️ 41.1 ms (2021-06-02T07:44:46/2021-06-02T07:44:46)</pre>"
      ],
      "text/plain": [
       "<IPython.core.display.HTML object>"
      ]
     },
     "metadata": {},
     "output_type": "display_data"
    }
   ],
   "source": [
    "residuals = y - model.predict(X)"
   ]
  },
  {
   "cell_type": "code",
   "execution_count": 74,
   "metadata": {},
   "outputs": [
    {
     "data": {
      "text/html": [
       "<pre>✔️ 8.67 s (2021-06-02T07:44:46/2021-06-02T07:44:54)</pre>"
      ],
      "text/plain": [
       "<IPython.core.display.HTML object>"
      ]
     },
     "metadata": {},
     "output_type": "display_data"
    },
    {
     "data": {
      "image/png": "[encoded data removed]",
      "text/plain": [
       "<Figure size 432x288 with 1 Axes>"
      ]
     },
     "metadata": {
      "needs_background": "light"
     },
     "output_type": "display_data"
    },
    {
     "data": {
      "image/png": "[encoded data removed]",
      "text/plain": [
       "<Figure size 432x288 with 1 Axes>"
      ]
     },
     "metadata": {
      "needs_background": "light"
     },
     "output_type": "display_data"
    },
    {
     "data": {
      "image/png": "[encoded data removed]",
      "text/plain": [
       "<Figure size 432x288 with 1 Axes>"
      ]
     },
     "metadata": {
      "needs_background": "light"
     },
     "output_type": "display_data"
    },
    {
     "data": {
      "image/png": "[encoded data removed]",
      "text/plain": [
       "<Figure size 432x288 with 1 Axes>"
      ]
     },
     "metadata": {
      "needs_background": "light"
     },
     "output_type": "display_data"
    },
    {
     "data": {
      "image/png": "[encoded data removed]",
      "text/plain": [
       "<Figure size 432x288 with 1 Axes>"
      ]
     },
     "metadata": {
      "needs_background": "light"
     },
     "output_type": "display_data"
    },
    {
     "data": {
      "image/png": "[encoded data removed]",
      "text/plain": [
       "<Figure size 432x288 with 1 Axes>"
      ]
     },
     "metadata": {
      "needs_background": "light"
     },
     "output_type": "display_data"
    },
    {
     "data": {
      "image/png": "[encoded data removed]",
      "text/plain": [
       "<Figure size 432x288 with 1 Axes>"
      ]
     },
     "metadata": {
      "needs_background": "light"
     },
     "output_type": "display_data"
    },
    {
     "data": {
      "image/png": "[encoded data removed]",
      "text/plain": [
       "<Figure size 432x288 with 1 Axes>"
      ]
     },
     "metadata": {
      "needs_background": "light"
     },
     "output_type": "display_data"
    },
    {
     "data": {
      "image/png": "[encoded data removed]",
      "text/plain": [
       "<Figure size 432x288 with 1 Axes>"
      ]
     },
     "metadata": {
      "needs_background": "light"
     },
     "output_type": "display_data"
    },
    {
     "data": {
      "image/png": "[encoded data removed]",
      "text/plain": [
       "<Figure size 432x288 with 1 Axes>"
      ]
     },
     "metadata": {
      "needs_background": "light"
     },
     "output_type": "display_data"
    },
    {
     "data": {
      "image/png": "[encoded data removed]",
      "text/plain": [
       "<Figure size 432x288 with 1 Axes>"
      ]
     },
     "metadata": {
      "needs_background": "light"
     },
     "output_type": "display_data"
    },
    {
     "data": {
      "image/png": "[encoded data removed]",
      "text/plain": [
       "<Figure size 432x288 with 1 Axes>"
      ]
     },
     "metadata": {
      "needs_background": "light"
     },
     "output_type": "display_data"
    },
    {
     "data": {
      "image/png": "[encoded data removed]",
      "text/plain": [
       "<Figure size 432x288 with 1 Axes>"
      ]
     },
     "metadata": {
      "needs_background": "light"
     },
     "output_type": "display_data"
    },
    {
     "data": {
      "image/png": "[encoded data removed]",
      "text/plain": [
       "<Figure size 432x288 with 1 Axes>"
      ]
     },
     "metadata": {
      "needs_background": "light"
     },
     "output_type": "display_data"
    },
    {
     "data": {
      "image/png": "[encoded data removed]",
      "text/plain": [
       "<Figure size 432x288 with 1 Axes>"
      ]
     },
     "metadata": {
      "needs_background": "light"
     },
     "output_type": "display_data"
    },
    {
     "data": {
      "image/png": "[encoded data removed]",
      "text/plain": [
       "<Figure size 432x288 with 1 Axes>"
      ]
     },
     "metadata": {
      "needs_background": "light"
     },
     "output_type": "display_data"
    }
   ],
   "source": [
    "for column in X_no_dummies:\n",
    "    X_no_dummies[column].plot.hist(density=True, label = column+' histogram')\n",
    "    X_no_dummies[column].plot.kde(label =column+' kde')\n",
    "    plt.legend()\n",
    "    plt.show()"
   ]
  },
  {
   "cell_type": "code",
   "execution_count": 75,
   "metadata": {},
   "outputs": [
    {
     "data": {
      "text/html": [
       "<pre>✔️ 2.38 ms (2021-06-02T07:44:54/2021-06-02T07:44:54)</pre>"
      ],
      "text/plain": [
       "<IPython.core.display.HTML object>"
      ]
     },
     "metadata": {},
     "output_type": "display_data"
    }
   ],
   "source": [
    "df['Residual'] = residuals"
   ]
  },
  {
   "cell_type": "code",
   "execution_count": 76,
   "metadata": {},
   "outputs": [
    {
     "data": {
      "text/html": [
       "<pre>✔️ 67.1 ms (2021-06-02T07:44:55/2021-06-02T07:44:55)</pre>"
      ],
      "text/plain": [
       "<IPython.core.display.HTML object>"
      ]
     },
     "metadata": {},
     "output_type": "display_data"
    },
    {
     "data": {
      "text/html": [
       "<div>\n",
       "<style scoped>\n",
       "    .dataframe tbody tr th:only-of-type {\n",
       "        vertical-align: middle;\n",
       "    }\n",
       "\n",
       "    .dataframe tbody tr th {\n",
       "        vertical-align: top;\n",
       "    }\n",
       "\n",
       "    .dataframe thead th {\n",
       "        text-align: right;\n",
       "    }\n",
       "</style>\n",
       "<table border=\"1\" class=\"dataframe\">\n",
       "  <thead>\n",
       "    <tr style=\"text-align: right;\">\n",
       "      <th></th>\n",
       "      <th>id</th>\n",
       "      <th>date</th>\n",
       "      <th>price</th>\n",
       "      <th>bedrooms</th>\n",
       "      <th>bathrooms</th>\n",
       "      <th>sqft_living</th>\n",
       "      <th>sqft_lot</th>\n",
       "      <th>floors</th>\n",
       "      <th>waterfront</th>\n",
       "      <th>view</th>\n",
       "      <th>...</th>\n",
       "      <th>yr_built</th>\n",
       "      <th>yr_renovated</th>\n",
       "      <th>zipcode</th>\n",
       "      <th>lat</th>\n",
       "      <th>long</th>\n",
       "      <th>sqft_living15</th>\n",
       "      <th>sqft_lot15</th>\n",
       "      <th>Neighborhood</th>\n",
       "      <th>newly_renovated</th>\n",
       "      <th>Residual</th>\n",
       "    </tr>\n",
       "  </thead>\n",
       "  <tbody>\n",
       "    <tr>\n",
       "      <th>0</th>\n",
       "      <td>7129300520</td>\n",
       "      <td>10/13/2014</td>\n",
       "      <td>221900.0</td>\n",
       "      <td>3</td>\n",
       "      <td>1.00</td>\n",
       "      <td>1180</td>\n",
       "      <td>5650</td>\n",
       "      <td>1.0</td>\n",
       "      <td>NaN</td>\n",
       "      <td>0.0</td>\n",
       "      <td>...</td>\n",
       "      <td>1955</td>\n",
       "      <td>0.0</td>\n",
       "      <td>98178</td>\n",
       "      <td>47.5112</td>\n",
       "      <td>-122.257</td>\n",
       "      <td>1340</td>\n",
       "      <td>5650</td>\n",
       "      <td>Rainier Beach</td>\n",
       "      <td>False</td>\n",
       "      <td>98483.343750</td>\n",
       "    </tr>\n",
       "    <tr>\n",
       "      <th>1</th>\n",
       "      <td>6414100192</td>\n",
       "      <td>12/9/2014</td>\n",
       "      <td>538000.0</td>\n",
       "      <td>3</td>\n",
       "      <td>2.25</td>\n",
       "      <td>2570</td>\n",
       "      <td>7242</td>\n",
       "      <td>2.0</td>\n",
       "      <td>0.0</td>\n",
       "      <td>0.0</td>\n",
       "      <td>...</td>\n",
       "      <td>1951</td>\n",
       "      <td>1991.0</td>\n",
       "      <td>98125</td>\n",
       "      <td>47.7210</td>\n",
       "      <td>-122.319</td>\n",
       "      <td>1690</td>\n",
       "      <td>7639</td>\n",
       "      <td>Northgate</td>\n",
       "      <td>False</td>\n",
       "      <td>72837.769531</td>\n",
       "    </tr>\n",
       "    <tr>\n",
       "      <th>2</th>\n",
       "      <td>5631500400</td>\n",
       "      <td>2/25/2015</td>\n",
       "      <td>180000.0</td>\n",
       "      <td>2</td>\n",
       "      <td>1.00</td>\n",
       "      <td>770</td>\n",
       "      <td>10000</td>\n",
       "      <td>1.0</td>\n",
       "      <td>0.0</td>\n",
       "      <td>0.0</td>\n",
       "      <td>...</td>\n",
       "      <td>1933</td>\n",
       "      <td>NaN</td>\n",
       "      <td>98028</td>\n",
       "      <td>47.7379</td>\n",
       "      <td>-122.233</td>\n",
       "      <td>2720</td>\n",
       "      <td>8062</td>\n",
       "      <td>Kenmore</td>\n",
       "      <td>False</td>\n",
       "      <td>-113242.425781</td>\n",
       "    </tr>\n",
       "    <tr>\n",
       "      <th>3</th>\n",
       "      <td>2487200875</td>\n",
       "      <td>12/9/2014</td>\n",
       "      <td>604000.0</td>\n",
       "      <td>4</td>\n",
       "      <td>3.00</td>\n",
       "      <td>1960</td>\n",
       "      <td>5000</td>\n",
       "      <td>1.0</td>\n",
       "      <td>0.0</td>\n",
       "      <td>0.0</td>\n",
       "      <td>...</td>\n",
       "      <td>1965</td>\n",
       "      <td>0.0</td>\n",
       "      <td>98136</td>\n",
       "      <td>47.5208</td>\n",
       "      <td>-122.393</td>\n",
       "      <td>1360</td>\n",
       "      <td>5000</td>\n",
       "      <td>Fauntleroy</td>\n",
       "      <td>False</td>\n",
       "      <td>54009.312500</td>\n",
       "    </tr>\n",
       "    <tr>\n",
       "      <th>4</th>\n",
       "      <td>1954400510</td>\n",
       "      <td>2/18/2015</td>\n",
       "      <td>510000.0</td>\n",
       "      <td>3</td>\n",
       "      <td>2.00</td>\n",
       "      <td>1680</td>\n",
       "      <td>8080</td>\n",
       "      <td>1.0</td>\n",
       "      <td>0.0</td>\n",
       "      <td>0.0</td>\n",
       "      <td>...</td>\n",
       "      <td>1987</td>\n",
       "      <td>0.0</td>\n",
       "      <td>98074</td>\n",
       "      <td>47.6168</td>\n",
       "      <td>-122.045</td>\n",
       "      <td>1800</td>\n",
       "      <td>7503</td>\n",
       "      <td>Sammamish</td>\n",
       "      <td>False</td>\n",
       "      <td>69446.949219</td>\n",
       "    </tr>\n",
       "    <tr>\n",
       "      <th>...</th>\n",
       "      <td>...</td>\n",
       "      <td>...</td>\n",
       "      <td>...</td>\n",
       "      <td>...</td>\n",
       "      <td>...</td>\n",
       "      <td>...</td>\n",
       "      <td>...</td>\n",
       "      <td>...</td>\n",
       "      <td>...</td>\n",
       "      <td>...</td>\n",
       "      <td>...</td>\n",
       "      <td>...</td>\n",
       "      <td>...</td>\n",
       "      <td>...</td>\n",
       "      <td>...</td>\n",
       "      <td>...</td>\n",
       "      <td>...</td>\n",
       "      <td>...</td>\n",
       "      <td>...</td>\n",
       "      <td>...</td>\n",
       "      <td>...</td>\n",
       "    </tr>\n",
       "    <tr>\n",
       "      <th>21592</th>\n",
       "      <td>263000018</td>\n",
       "      <td>5/21/2014</td>\n",
       "      <td>360000.0</td>\n",
       "      <td>3</td>\n",
       "      <td>2.50</td>\n",
       "      <td>1530</td>\n",
       "      <td>1131</td>\n",
       "      <td>3.0</td>\n",
       "      <td>0.0</td>\n",
       "      <td>0.0</td>\n",
       "      <td>...</td>\n",
       "      <td>2009</td>\n",
       "      <td>0.0</td>\n",
       "      <td>98103</td>\n",
       "      <td>47.6993</td>\n",
       "      <td>-122.346</td>\n",
       "      <td>1530</td>\n",
       "      <td>1509</td>\n",
       "      <td>Licton Springs</td>\n",
       "      <td>False</td>\n",
       "      <td>-73195.886719</td>\n",
       "    </tr>\n",
       "    <tr>\n",
       "      <th>21593</th>\n",
       "      <td>6600060120</td>\n",
       "      <td>2/23/2015</td>\n",
       "      <td>400000.0</td>\n",
       "      <td>4</td>\n",
       "      <td>2.50</td>\n",
       "      <td>2310</td>\n",
       "      <td>5813</td>\n",
       "      <td>2.0</td>\n",
       "      <td>0.0</td>\n",
       "      <td>0.0</td>\n",
       "      <td>...</td>\n",
       "      <td>2014</td>\n",
       "      <td>0.0</td>\n",
       "      <td>98146</td>\n",
       "      <td>47.5107</td>\n",
       "      <td>-122.362</td>\n",
       "      <td>1830</td>\n",
       "      <td>7200</td>\n",
       "      <td>White Center</td>\n",
       "      <td>False</td>\n",
       "      <td>-1499.976562</td>\n",
       "    </tr>\n",
       "    <tr>\n",
       "      <th>21594</th>\n",
       "      <td>1523300141</td>\n",
       "      <td>6/23/2014</td>\n",
       "      <td>402101.0</td>\n",
       "      <td>2</td>\n",
       "      <td>0.75</td>\n",
       "      <td>1020</td>\n",
       "      <td>1350</td>\n",
       "      <td>2.0</td>\n",
       "      <td>0.0</td>\n",
       "      <td>0.0</td>\n",
       "      <td>...</td>\n",
       "      <td>2009</td>\n",
       "      <td>0.0</td>\n",
       "      <td>98144</td>\n",
       "      <td>47.5944</td>\n",
       "      <td>-122.299</td>\n",
       "      <td>1020</td>\n",
       "      <td>2007</td>\n",
       "      <td>Leschi</td>\n",
       "      <td>False</td>\n",
       "      <td>35958.183594</td>\n",
       "    </tr>\n",
       "    <tr>\n",
       "      <th>21595</th>\n",
       "      <td>291310100</td>\n",
       "      <td>1/16/2015</td>\n",
       "      <td>400000.0</td>\n",
       "      <td>3</td>\n",
       "      <td>2.50</td>\n",
       "      <td>1600</td>\n",
       "      <td>2388</td>\n",
       "      <td>2.0</td>\n",
       "      <td>NaN</td>\n",
       "      <td>0.0</td>\n",
       "      <td>...</td>\n",
       "      <td>2004</td>\n",
       "      <td>0.0</td>\n",
       "      <td>98027</td>\n",
       "      <td>47.5345</td>\n",
       "      <td>-122.069</td>\n",
       "      <td>1410</td>\n",
       "      <td>1287</td>\n",
       "      <td>Issaquah</td>\n",
       "      <td>False</td>\n",
       "      <td>-16.152344</td>\n",
       "    </tr>\n",
       "    <tr>\n",
       "      <th>21596</th>\n",
       "      <td>1523300157</td>\n",
       "      <td>10/15/2014</td>\n",
       "      <td>325000.0</td>\n",
       "      <td>2</td>\n",
       "      <td>0.75</td>\n",
       "      <td>1020</td>\n",
       "      <td>1076</td>\n",
       "      <td>2.0</td>\n",
       "      <td>0.0</td>\n",
       "      <td>0.0</td>\n",
       "      <td>...</td>\n",
       "      <td>2008</td>\n",
       "      <td>0.0</td>\n",
       "      <td>98144</td>\n",
       "      <td>47.5941</td>\n",
       "      <td>-122.299</td>\n",
       "      <td>1020</td>\n",
       "      <td>1357</td>\n",
       "      <td>Leschi</td>\n",
       "      <td>False</td>\n",
       "      <td>-37224.554688</td>\n",
       "    </tr>\n",
       "  </tbody>\n",
       "</table>\n",
       "<p>21597 rows × 24 columns</p>\n",
       "</div>"
      ],
      "text/plain": [
       "               id        date     price  bedrooms  bathrooms  sqft_living  \\\n",
       "0      7129300520  10/13/2014  221900.0         3       1.00         1180   \n",
       "1      6414100192   12/9/2014  538000.0         3       2.25         2570   \n",
       "2      5631500400   2/25/2015  180000.0         2       1.00          770   \n",
       "3      2487200875   12/9/2014  604000.0         4       3.00         1960   \n",
       "4      1954400510   2/18/2015  510000.0         3       2.00         1680   \n",
       "...           ...         ...       ...       ...        ...          ...   \n",
       "21592   263000018   5/21/2014  360000.0         3       2.50         1530   \n",
       "21593  6600060120   2/23/2015  400000.0         4       2.50         2310   \n",
       "21594  1523300141   6/23/2014  402101.0         2       0.75         1020   \n",
       "21595   291310100   1/16/2015  400000.0         3       2.50         1600   \n",
       "21596  1523300157  10/15/2014  325000.0         2       0.75         1020   \n",
       "\n",
       "       sqft_lot  floors  waterfront  view  ...  yr_built  yr_renovated  \\\n",
       "0          5650     1.0         NaN   0.0  ...      1955           0.0   \n",
       "1          7242     2.0         0.0   0.0  ...      1951        1991.0   \n",
       "2         10000     1.0         0.0   0.0  ...      1933           NaN   \n",
       "3          5000     1.0         0.0   0.0  ...      1965           0.0   \n",
       "4          8080     1.0         0.0   0.0  ...      1987           0.0   \n",
       "...         ...     ...         ...   ...  ...       ...           ...   \n",
       "21592      1131     3.0         0.0   0.0  ...      2009           0.0   \n",
       "21593      5813     2.0         0.0   0.0  ...      2014           0.0   \n",
       "21594      1350     2.0         0.0   0.0  ...      2009           0.0   \n",
       "21595      2388     2.0         NaN   0.0  ...      2004           0.0   \n",
       "21596      1076     2.0         0.0   0.0  ...      2008           0.0   \n",
       "\n",
       "       zipcode      lat     long  sqft_living15  sqft_lot15    Neighborhood  \\\n",
       "0        98178  47.5112 -122.257           1340        5650   Rainier Beach   \n",
       "1        98125  47.7210 -122.319           1690        7639       Northgate   \n",
       "2        98028  47.7379 -122.233           2720        8062         Kenmore   \n",
       "3        98136  47.5208 -122.393           1360        5000      Fauntleroy   \n",
       "4        98074  47.6168 -122.045           1800        7503       Sammamish   \n",
       "...        ...      ...      ...            ...         ...             ...   \n",
       "21592    98103  47.6993 -122.346           1530        1509  Licton Springs   \n",
       "21593    98146  47.5107 -122.362           1830        7200    White Center   \n",
       "21594    98144  47.5944 -122.299           1020        2007          Leschi   \n",
       "21595    98027  47.5345 -122.069           1410        1287        Issaquah   \n",
       "21596    98144  47.5941 -122.299           1020        1357          Leschi   \n",
       "\n",
       "       newly_renovated       Residual  \n",
       "0                False   98483.343750  \n",
       "1                False   72837.769531  \n",
       "2                False -113242.425781  \n",
       "3                False   54009.312500  \n",
       "4                False   69446.949219  \n",
       "...                ...            ...  \n",
       "21592            False  -73195.886719  \n",
       "21593            False   -1499.976562  \n",
       "21594            False   35958.183594  \n",
       "21595            False     -16.152344  \n",
       "21596            False  -37224.554688  \n",
       "\n",
       "[21597 rows x 24 columns]"
      ]
     },
     "execution_count": 76,
     "metadata": {},
     "output_type": "execute_result"
    }
   ],
   "source": [
    "df"
   ]
  },
  {
   "cell_type": "code",
   "execution_count": 77,
   "metadata": {},
   "outputs": [
    {
     "data": {
      "text/html": [
       "<pre>✔️ 8.31 ms (2021-06-02T07:44:55/2021-06-02T07:44:55)</pre>"
      ],
      "text/plain": [
       "<IPython.core.display.HTML object>"
      ]
     },
     "metadata": {},
     "output_type": "display_data"
    }
   ],
   "source": [
    "best_value = df['Residual'].sort_values().index[0:200]"
   ]
  },
  {
   "cell_type": "code",
   "execution_count": 78,
   "metadata": {},
   "outputs": [
    {
     "data": {
      "text/html": [
       "<pre>✔️ 8.04 ms (2021-06-02T07:44:55/2021-06-02T07:44:55)</pre>"
      ],
      "text/plain": [
       "<IPython.core.display.HTML object>"
      ]
     },
     "metadata": {},
     "output_type": "display_data"
    }
   ],
   "source": [
    "best_value_df = df.loc[best_value,:]"
   ]
  },
  {
   "cell_type": "code",
   "execution_count": 79,
   "metadata": {},
   "outputs": [
    {
     "data": {
      "text/html": [
       "<pre>✔️ 79.5 ms (2021-06-02T07:44:55/2021-06-02T07:44:55)</pre>"
      ],
      "text/plain": [
       "<IPython.core.display.HTML object>"
      ]
     },
     "metadata": {},
     "output_type": "display_data"
    },
    {
     "data": {
      "text/html": [
       "<div>\n",
       "<style scoped>\n",
       "    .dataframe tbody tr th:only-of-type {\n",
       "        vertical-align: middle;\n",
       "    }\n",
       "\n",
       "    .dataframe tbody tr th {\n",
       "        vertical-align: top;\n",
       "    }\n",
       "\n",
       "    .dataframe thead th {\n",
       "        text-align: right;\n",
       "    }\n",
       "</style>\n",
       "<table border=\"1\" class=\"dataframe\">\n",
       "  <thead>\n",
       "    <tr style=\"text-align: right;\">\n",
       "      <th></th>\n",
       "      <th>id</th>\n",
       "      <th>date</th>\n",
       "      <th>price</th>\n",
       "      <th>bedrooms</th>\n",
       "      <th>bathrooms</th>\n",
       "      <th>sqft_living</th>\n",
       "      <th>sqft_lot</th>\n",
       "      <th>floors</th>\n",
       "      <th>waterfront</th>\n",
       "      <th>view</th>\n",
       "      <th>...</th>\n",
       "      <th>yr_built</th>\n",
       "      <th>yr_renovated</th>\n",
       "      <th>zipcode</th>\n",
       "      <th>lat</th>\n",
       "      <th>long</th>\n",
       "      <th>sqft_living15</th>\n",
       "      <th>sqft_lot15</th>\n",
       "      <th>Neighborhood</th>\n",
       "      <th>newly_renovated</th>\n",
       "      <th>Residual</th>\n",
       "    </tr>\n",
       "  </thead>\n",
       "  <tbody>\n",
       "    <tr>\n",
       "      <th>12764</th>\n",
       "      <td>1225069038</td>\n",
       "      <td>5/5/2014</td>\n",
       "      <td>2280000.0</td>\n",
       "      <td>7</td>\n",
       "      <td>8.00</td>\n",
       "      <td>13540</td>\n",
       "      <td>307752</td>\n",
       "      <td>3.0</td>\n",
       "      <td>0.0</td>\n",
       "      <td>4.0</td>\n",
       "      <td>...</td>\n",
       "      <td>1999</td>\n",
       "      <td>0.0</td>\n",
       "      <td>98053</td>\n",
       "      <td>47.6675</td>\n",
       "      <td>-121.986</td>\n",
       "      <td>4850</td>\n",
       "      <td>217800</td>\n",
       "      <td>Other</td>\n",
       "      <td>False</td>\n",
       "      <td>-2.287800e+06</td>\n",
       "    </tr>\n",
       "    <tr>\n",
       "      <th>21034</th>\n",
       "      <td>2424059170</td>\n",
       "      <td>2/19/2015</td>\n",
       "      <td>900000.0</td>\n",
       "      <td>5</td>\n",
       "      <td>6.00</td>\n",
       "      <td>7120</td>\n",
       "      <td>40806</td>\n",
       "      <td>2.0</td>\n",
       "      <td>0.0</td>\n",
       "      <td>4.0</td>\n",
       "      <td>...</td>\n",
       "      <td>2007</td>\n",
       "      <td>0.0</td>\n",
       "      <td>98006</td>\n",
       "      <td>47.5451</td>\n",
       "      <td>-122.114</td>\n",
       "      <td>3440</td>\n",
       "      <td>36859</td>\n",
       "      <td>Other</td>\n",
       "      <td>False</td>\n",
       "      <td>-1.688569e+06</td>\n",
       "    </tr>\n",
       "    <tr>\n",
       "      <th>4020</th>\n",
       "      <td>9175600025</td>\n",
       "      <td>10/7/2014</td>\n",
       "      <td>800000.0</td>\n",
       "      <td>7</td>\n",
       "      <td>6.75</td>\n",
       "      <td>7480</td>\n",
       "      <td>41664</td>\n",
       "      <td>2.0</td>\n",
       "      <td>0.0</td>\n",
       "      <td>2.0</td>\n",
       "      <td>...</td>\n",
       "      <td>1953</td>\n",
       "      <td>NaN</td>\n",
       "      <td>98166</td>\n",
       "      <td>47.4643</td>\n",
       "      <td>-122.368</td>\n",
       "      <td>2810</td>\n",
       "      <td>33190</td>\n",
       "      <td>Seahurst</td>\n",
       "      <td>False</td>\n",
       "      <td>-1.356020e+06</td>\n",
       "    </tr>\n",
       "    <tr>\n",
       "      <th>21356</th>\n",
       "      <td>6169901185</td>\n",
       "      <td>5/20/2014</td>\n",
       "      <td>490000.0</td>\n",
       "      <td>5</td>\n",
       "      <td>3.50</td>\n",
       "      <td>4460</td>\n",
       "      <td>2975</td>\n",
       "      <td>3.0</td>\n",
       "      <td>0.0</td>\n",
       "      <td>2.0</td>\n",
       "      <td>...</td>\n",
       "      <td>2015</td>\n",
       "      <td>NaN</td>\n",
       "      <td>98119</td>\n",
       "      <td>47.6313</td>\n",
       "      <td>-122.370</td>\n",
       "      <td>2490</td>\n",
       "      <td>4231</td>\n",
       "      <td>Queen Anne</td>\n",
       "      <td>False</td>\n",
       "      <td>-1.130008e+06</td>\n",
       "    </tr>\n",
       "    <tr>\n",
       "      <th>3249</th>\n",
       "      <td>3343301910</td>\n",
       "      <td>10/20/2014</td>\n",
       "      <td>1000000.0</td>\n",
       "      <td>5</td>\n",
       "      <td>4.50</td>\n",
       "      <td>2120</td>\n",
       "      <td>8944</td>\n",
       "      <td>2.0</td>\n",
       "      <td>1.0</td>\n",
       "      <td>4.0</td>\n",
       "      <td>...</td>\n",
       "      <td>1939</td>\n",
       "      <td>1963.0</td>\n",
       "      <td>98006</td>\n",
       "      <td>47.5488</td>\n",
       "      <td>-122.197</td>\n",
       "      <td>2870</td>\n",
       "      <td>8944</td>\n",
       "      <td>Newport Shores</td>\n",
       "      <td>False</td>\n",
       "      <td>-1.116196e+06</td>\n",
       "    </tr>\n",
       "    <tr>\n",
       "      <th>...</th>\n",
       "      <td>...</td>\n",
       "      <td>...</td>\n",
       "      <td>...</td>\n",
       "      <td>...</td>\n",
       "      <td>...</td>\n",
       "      <td>...</td>\n",
       "      <td>...</td>\n",
       "      <td>...</td>\n",
       "      <td>...</td>\n",
       "      <td>...</td>\n",
       "      <td>...</td>\n",
       "      <td>...</td>\n",
       "      <td>...</td>\n",
       "      <td>...</td>\n",
       "      <td>...</td>\n",
       "      <td>...</td>\n",
       "      <td>...</td>\n",
       "      <td>...</td>\n",
       "      <td>...</td>\n",
       "      <td>...</td>\n",
       "      <td>...</td>\n",
       "    </tr>\n",
       "    <tr>\n",
       "      <th>486</th>\n",
       "      <td>9286000240</td>\n",
       "      <td>7/11/2014</td>\n",
       "      <td>1070000.0</td>\n",
       "      <td>6</td>\n",
       "      <td>3.50</td>\n",
       "      <td>4860</td>\n",
       "      <td>11793</td>\n",
       "      <td>2.0</td>\n",
       "      <td>0.0</td>\n",
       "      <td>0.0</td>\n",
       "      <td>...</td>\n",
       "      <td>1998</td>\n",
       "      <td>0.0</td>\n",
       "      <td>98006</td>\n",
       "      <td>47.5521</td>\n",
       "      <td>-122.137</td>\n",
       "      <td>3600</td>\n",
       "      <td>11793</td>\n",
       "      <td>Hilltop</td>\n",
       "      <td>False</td>\n",
       "      <td>-3.938970e+05</td>\n",
       "    </tr>\n",
       "    <tr>\n",
       "      <th>5058</th>\n",
       "      <td>7237550020</td>\n",
       "      <td>7/3/2014</td>\n",
       "      <td>1100000.0</td>\n",
       "      <td>4</td>\n",
       "      <td>3.75</td>\n",
       "      <td>5070</td>\n",
       "      <td>60123</td>\n",
       "      <td>2.0</td>\n",
       "      <td>0.0</td>\n",
       "      <td>0.0</td>\n",
       "      <td>...</td>\n",
       "      <td>2000</td>\n",
       "      <td>0.0</td>\n",
       "      <td>98053</td>\n",
       "      <td>47.6567</td>\n",
       "      <td>-122.004</td>\n",
       "      <td>4920</td>\n",
       "      <td>101930</td>\n",
       "      <td>Other</td>\n",
       "      <td>False</td>\n",
       "      <td>-3.930868e+05</td>\n",
       "    </tr>\n",
       "    <tr>\n",
       "      <th>14807</th>\n",
       "      <td>7525950180</td>\n",
       "      <td>7/1/2014</td>\n",
       "      <td>1060000.0</td>\n",
       "      <td>4</td>\n",
       "      <td>2.50</td>\n",
       "      <td>4570</td>\n",
       "      <td>16015</td>\n",
       "      <td>2.0</td>\n",
       "      <td>0.0</td>\n",
       "      <td>2.0</td>\n",
       "      <td>...</td>\n",
       "      <td>1990</td>\n",
       "      <td>0.0</td>\n",
       "      <td>98074</td>\n",
       "      <td>47.6246</td>\n",
       "      <td>-122.067</td>\n",
       "      <td>4490</td>\n",
       "      <td>17668</td>\n",
       "      <td>Sammamish</td>\n",
       "      <td>False</td>\n",
       "      <td>-3.924245e+05</td>\n",
       "    </tr>\n",
       "    <tr>\n",
       "      <th>15573</th>\n",
       "      <td>4139910170</td>\n",
       "      <td>12/16/2014</td>\n",
       "      <td>1010000.0</td>\n",
       "      <td>5</td>\n",
       "      <td>3.25</td>\n",
       "      <td>4050</td>\n",
       "      <td>35600</td>\n",
       "      <td>2.0</td>\n",
       "      <td>0.0</td>\n",
       "      <td>0.0</td>\n",
       "      <td>...</td>\n",
       "      <td>1990</td>\n",
       "      <td>0.0</td>\n",
       "      <td>98006</td>\n",
       "      <td>47.5465</td>\n",
       "      <td>-122.122</td>\n",
       "      <td>4770</td>\n",
       "      <td>33880</td>\n",
       "      <td>Coal Creek</td>\n",
       "      <td>False</td>\n",
       "      <td>-3.920340e+05</td>\n",
       "    </tr>\n",
       "    <tr>\n",
       "      <th>7378</th>\n",
       "      <td>5039300305</td>\n",
       "      <td>11/7/2014</td>\n",
       "      <td>450000.0</td>\n",
       "      <td>3</td>\n",
       "      <td>2.50</td>\n",
       "      <td>1990</td>\n",
       "      <td>3478</td>\n",
       "      <td>2.0</td>\n",
       "      <td>0.0</td>\n",
       "      <td>0.0</td>\n",
       "      <td>...</td>\n",
       "      <td>1990</td>\n",
       "      <td>NaN</td>\n",
       "      <td>98199</td>\n",
       "      <td>47.6361</td>\n",
       "      <td>-122.399</td>\n",
       "      <td>1710</td>\n",
       "      <td>6157</td>\n",
       "      <td>Carleton Park</td>\n",
       "      <td>False</td>\n",
       "      <td>-3.916471e+05</td>\n",
       "    </tr>\n",
       "  </tbody>\n",
       "</table>\n",
       "<p>200 rows × 24 columns</p>\n",
       "</div>"
      ],
      "text/plain": [
       "               id        date      price  bedrooms  bathrooms  sqft_living  \\\n",
       "12764  1225069038    5/5/2014  2280000.0         7       8.00        13540   \n",
       "21034  2424059170   2/19/2015   900000.0         5       6.00         7120   \n",
       "4020   9175600025   10/7/2014   800000.0         7       6.75         7480   \n",
       "21356  6169901185   5/20/2014   490000.0         5       3.50         4460   \n",
       "3249   3343301910  10/20/2014  1000000.0         5       4.50         2120   \n",
       "...           ...         ...        ...       ...        ...          ...   \n",
       "486    9286000240   7/11/2014  1070000.0         6       3.50         4860   \n",
       "5058   7237550020    7/3/2014  1100000.0         4       3.75         5070   \n",
       "14807  7525950180    7/1/2014  1060000.0         4       2.50         4570   \n",
       "15573  4139910170  12/16/2014  1010000.0         5       3.25         4050   \n",
       "7378   5039300305   11/7/2014   450000.0         3       2.50         1990   \n",
       "\n",
       "       sqft_lot  floors  waterfront  view  ...  yr_built  yr_renovated  \\\n",
       "12764    307752     3.0         0.0   4.0  ...      1999           0.0   \n",
       "21034     40806     2.0         0.0   4.0  ...      2007           0.0   \n",
       "4020      41664     2.0         0.0   2.0  ...      1953           NaN   \n",
       "21356      2975     3.0         0.0   2.0  ...      2015           NaN   \n",
       "3249       8944     2.0         1.0   4.0  ...      1939        1963.0   \n",
       "...         ...     ...         ...   ...  ...       ...           ...   \n",
       "486       11793     2.0         0.0   0.0  ...      1998           0.0   \n",
       "5058      60123     2.0         0.0   0.0  ...      2000           0.0   \n",
       "14807     16015     2.0         0.0   2.0  ...      1990           0.0   \n",
       "15573     35600     2.0         0.0   0.0  ...      1990           0.0   \n",
       "7378       3478     2.0         0.0   0.0  ...      1990           NaN   \n",
       "\n",
       "       zipcode      lat     long  sqft_living15  sqft_lot15    Neighborhood  \\\n",
       "12764    98053  47.6675 -121.986           4850      217800           Other   \n",
       "21034    98006  47.5451 -122.114           3440       36859           Other   \n",
       "4020     98166  47.4643 -122.368           2810       33190        Seahurst   \n",
       "21356    98119  47.6313 -122.370           2490        4231      Queen Anne   \n",
       "3249     98006  47.5488 -122.197           2870        8944  Newport Shores   \n",
       "...        ...      ...      ...            ...         ...             ...   \n",
       "486      98006  47.5521 -122.137           3600       11793         Hilltop   \n",
       "5058     98053  47.6567 -122.004           4920      101930           Other   \n",
       "14807    98074  47.6246 -122.067           4490       17668       Sammamish   \n",
       "15573    98006  47.5465 -122.122           4770       33880      Coal Creek   \n",
       "7378     98199  47.6361 -122.399           1710        6157   Carleton Park   \n",
       "\n",
       "       newly_renovated      Residual  \n",
       "12764            False -2.287800e+06  \n",
       "21034            False -1.688569e+06  \n",
       "4020             False -1.356020e+06  \n",
       "21356            False -1.130008e+06  \n",
       "3249             False -1.116196e+06  \n",
       "...                ...           ...  \n",
       "486              False -3.938970e+05  \n",
       "5058             False -3.930868e+05  \n",
       "14807            False -3.924245e+05  \n",
       "15573            False -3.920340e+05  \n",
       "7378             False -3.916471e+05  \n",
       "\n",
       "[200 rows x 24 columns]"
      ]
     },
     "execution_count": 79,
     "metadata": {},
     "output_type": "execute_result"
    }
   ],
   "source": [
    "best_value_df"
   ]
  },
  {
   "cell_type": "code",
   "execution_count": 80,
   "metadata": {},
   "outputs": [
    {
     "data": {
      "text/html": [
       "<pre>✔️ 567 ms (2021-06-02T07:44:55/2021-06-02T07:44:56)</pre>"
      ],
      "text/plain": [
       "<IPython.core.display.HTML object>"
      ]
     },
     "metadata": {},
     "output_type": "display_data"
    },
    {
     "name": "stdout",
     "output_type": "stream",
     "text": [
      "15117 6480 15117 6480\n",
      "train r-squared: 0.859 test r-squared: 0.845\n"
     ]
    }
   ],
   "source": [
    "from sklearn.model_selection import train_test_split\n",
    "from sklearn.linear_model import LinearRegression\n",
    "linreg = LinearRegression()\n",
    "from sklearn.metrics import mean_squared_error\n",
    "\n",
    "X_train, X_test, y_train, y_test = train_test_split(X, y, test_size=.3)\n",
    "print(len(X_train), len(X_test), len(y_train), len(y_test))\n",
    "\n",
    "lr = LinearRegression()\n",
    "lr.fit(X_train, y_train)\n",
    "train_score = round(lr.score(X_train, y_train),3)\n",
    "test_score = round(lr.score(X_test, y_test), 3)\n",
    "\n",
    "print(\"train r-squared: {}\".format(train_score) + \" test r-squared: {}\".format(test_score))"
   ]
  },
  {
   "cell_type": "code",
   "execution_count": 81,
   "metadata": {},
   "outputs": [
    {
     "data": {
      "text/html": [
       "<pre>✔️ 12.5 ms (2021-06-02T07:44:56/2021-06-02T07:44:56)</pre>"
      ],
      "text/plain": [
       "<IPython.core.display.HTML object>"
      ]
     },
     "metadata": {},
     "output_type": "display_data"
    },
    {
     "data": {
      "text/plain": [
       "orange    121\n",
       "blue       45\n",
       "green      24\n",
       "red        10\n",
       "Name: color, dtype: int64"
      ]
     },
     "execution_count": 81,
     "metadata": {},
     "output_type": "execute_result"
    }
   ],
   "source": [
    " def pricecolors(residual):\n",
    "    if  residual < -250000 and residual > -400000:\n",
    "        return 'red'\n",
    "    elif residual < -400000 and residual > -550000:\n",
    "        return 'orange'\n",
    "    elif residual < -550000 and residual > -700000:\n",
    "        return 'blue'\n",
    "    else:\n",
    "        return 'green'\n",
    "\n",
    "best_value_df['color'] = best_value_df['Residual']\n",
    "best_value_df['color'] = best_value_df[\"color\"].apply(pricecolors)\n",
    "best_value_df['color'].value_counts()"
   ]
  },
  {
   "cell_type": "code",
   "execution_count": 82,
   "metadata": {
    "scrolled": true
   },
   "outputs": [
    {
     "data": {
      "text/html": [
       "<pre>✔️ 771 ms (2021-06-02T07:44:56/2021-06-02T07:44:57)</pre>"
      ],
      "text/plain": [
       "<IPython.core.display.HTML object>"
      ]
     },
     "metadata": {},
     "output_type": "display_data"
    },
    {
     "data": {
      "text/html": [
       "<div style=\"width:100%;\"><div style=\"position:relative;width:100%;height:0;padding-bottom:60%;\"><span style=\"color:#565656\">Make this Notebook Trusted to load map: File -> Trust Notebook</span><iframe src=\"about:blank\" style=\"position:absolute;width:100%;height:100%;left:0;top:0;border:none !important;\" data-html=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 onload=\"this.contentDocument.open();this.contentDocument.write(atob(this.getAttribute('data-html')));this.contentDocument.close();\" allowfullscreen webkitallowfullscreen mozallowfullscreen></iframe></div></div>"
      ],
      "text/plain": [
       "<folium.folium.Map at 0x7f9b6b83e9d0>"
      ]
     },
     "execution_count": 82,
     "metadata": {},
     "output_type": "execute_result"
    }
   ],
   "source": [
    "import folium\n",
    "\n",
    "\n",
    "lat = 47.47\n",
    "long = -121.84\n",
    "\n",
    "base_map = folium.Map([lat,long], zoom_start=15)\n",
    "base_map\n",
    "\n",
    "for indice, row in best_value_df.iterrows():\n",
    "    folium.Marker(\n",
    "        location=[row[\"lat\"], row[\"long\"]],\n",
    "        popup=('Price: {}, Bedrooms: {}, Residual: {} \\\n",
    "        Square Feet: {}'.format(row['price'], row['bedrooms'], row['Residual'], row['sqft_living'])),\n",
    "        icon=folium.map.Icon(color=row['color'])\n",
    "    ).add_to(base_map)\n",
    "base_map"
   ]
  },
  {
   "cell_type": "code",
   "execution_count": 83,
   "metadata": {},
   "outputs": [
    {
     "data": {
      "text/html": [
       "<pre>✔️ 43.8 ms (2021-06-02T07:45:01/2021-06-02T07:45:02)</pre>"
      ],
      "text/plain": [
       "<IPython.core.display.HTML object>"
      ]
     },
     "metadata": {},
     "output_type": "display_data"
    }
   ],
   "source": [
    "import tkinter as tk\n",
    "from tkinter import *"
   ]
  },
  {
   "cell_type": "code",
   "execution_count": 99,
   "metadata": {},
   "outputs": [
    {
     "data": {
      "text/html": [
       "<pre>✔️ 10.1 s (2021-06-02T07:55:49/2021-06-02T07:55:59)</pre>"
      ],
      "text/plain": [
       "<IPython.core.display.HTML object>"
      ]
     },
     "metadata": {},
     "output_type": "display_data"
    }
   ],
   "source": [
    "# root = Tk()\n",
    "# root.title(\"Tk dropdown example\")\n",
    "\n",
    "# def show():\n",
    "#     myLabel = Label(root, text=clicked.get()).pack()\n",
    "\n",
    "# options = [\"Monday\", \"Tuesday\", \"Wednesday\"]\n",
    "\n",
    "# clicked = StringVar()\n",
    "# clicked.set(options[0])\n",
    "\n",
    "# drop = OptionMenu(root, clicked, *options)\n",
    "# drop.pack()\n",
    "\n",
    "# myButton = Button(root, text=\"Show Selection\", command=show).pack()\n",
    "\n",
    "# root.mainloop()"
   ]
  },
  {
   "cell_type": "code",
   "execution_count": 104,
   "metadata": {},
   "outputs": [
    {
     "data": {
      "text/html": [
       "<pre>✔️ 1.04 ms (2021-06-02T07:58:21/2021-06-02T07:58:21)</pre>"
      ],
      "text/plain": [
       "<IPython.core.display.HTML object>"
      ]
     },
     "metadata": {},
     "output_type": "display_data"
    },
    {
     "name": "stdout",
     "output_type": "stream",
     "text": [
      "None\n"
     ]
    }
   ],
   "source": [
    "print(myButton)"
   ]
  }
 ],
 "metadata": {
  "kernelspec": {
   "display_name": "Python (learn-env)",
   "language": "python",
   "name": "learn-env"
  },
  "language_info": {
   "codemirror_mode": {
    "name": "ipython",
    "version": 3
   },
   "file_extension": ".py",
   "mimetype": "text/x-python",
   "name": "python",
   "nbconvert_exporter": "python",
   "pygments_lexer": "ipython3",
   "version": "3.8.5"
  }
 },
 "nbformat": 4,
 "nbformat_minor": 4
}
