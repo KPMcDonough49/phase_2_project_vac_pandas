{
 "cells": [
  {
   "cell_type": "code",
   "execution_count": 2,
   "metadata": {},
   "outputs": [
    {
     "data": {
      "text/html": [
       "<pre>✔️ 706 µs (2021-06-02T17:42:05/2021-06-02T17:42:05)</pre>"
      ],
      "text/plain": [
       "<IPython.core.display.HTML object>"
      ]
     },
     "metadata": {},
     "output_type": "display_data"
    }
   ],
   "source": [
    "import seaborn as sns\n",
    "from matplotlib import pyplot as plt\n",
    "import numpy as np\n",
    "from scipy import stats\n",
    "from sklearn.datasets import load_iris\n",
    "import pandas as pd\n",
    "import statsmodels.api as sm\n",
    "from sklearn.linear_model import LinearRegression\n",
    "from sklearn.preprocessing import PolynomialFeatures, StandardScaler\n",
    "from statsmodels.formula.api import ols\n",
    "%load_ext autotime"
   ]
  },
  {
   "cell_type": "code",
   "execution_count": 3,
   "metadata": {},
   "outputs": [
    {
     "data": {
      "text/html": [
       "<pre>✔️ 3.05 ms (2021-06-02T17:42:05/2021-06-02T17:42:05)</pre>"
      ],
      "text/plain": [
       "<IPython.core.display.HTML object>"
      ]
     },
     "metadata": {},
     "output_type": "display_data"
    }
   ],
   "source": [
    "# df = pd.read_csv('data/kc_house_data.csv')"
   ]
  },
  {
   "cell_type": "code",
   "execution_count": 4,
   "metadata": {},
   "outputs": [
    {
     "data": {
      "text/html": [
       "<pre>✔️ 629 µs (2021-06-02T17:42:06/2021-06-02T17:42:06)</pre>"
      ],
      "text/plain": [
       "<IPython.core.display.HTML object>"
      ]
     },
     "metadata": {},
     "output_type": "display_data"
    }
   ],
   "source": [
    "# import geopy.geocoders\n",
    "# from geopy.geocoders import Nominatim\n",
    "# geopy.geocoders.options.default_user_agent = 'kpmcdonough@gmail.com'\n",
    "# geopy.geocoders.options.default_timeout = 7\n",
    "# geolocator = Nominatim()\n",
    "# print(geolocator.headers)\n",
    "# print(geolocator.timeout)"
   ]
  },
  {
   "cell_type": "code",
   "execution_count": 5,
   "metadata": {},
   "outputs": [
    {
     "data": {
      "text/html": [
       "<pre>✔️ 749 µs (2021-06-02T17:42:06/2021-06-02T17:42:06)</pre>"
      ],
      "text/plain": [
       "<IPython.core.display.HTML object>"
      ]
     },
     "metadata": {},
     "output_type": "display_data"
    }
   ],
   "source": [
    "# locator = Nominatim()\n",
    "# coordinates = 47.7210, -122.319\n",
    "# location = locator.reverse(coordinates)\n",
    "# location.raw"
   ]
  },
  {
   "cell_type": "code",
   "execution_count": 6,
   "metadata": {},
   "outputs": [
    {
     "data": {
      "text/html": [
       "<pre>✔️ 640 µs (2021-06-02T17:42:06/2021-06-02T17:42:06)</pre>"
      ],
      "text/plain": [
       "<IPython.core.display.HTML object>"
      ]
     },
     "metadata": {},
     "output_type": "display_data"
    }
   ],
   "source": [
    "# test_df = df.head()"
   ]
  },
  {
   "cell_type": "code",
   "execution_count": 7,
   "metadata": {},
   "outputs": [
    {
     "data": {
      "text/html": [
       "<pre>✔️ 725 µs (2021-06-02T17:42:06/2021-06-02T17:42:06)</pre>"
      ],
      "text/plain": [
       "<IPython.core.display.HTML object>"
      ]
     },
     "metadata": {},
     "output_type": "display_data"
    }
   ],
   "source": [
    "# locator = Nominatim()\n",
    "\n",
    "# def return_neighborhood(location):\n",
    "#     if 'neighbourhood' in location['address'].keys():\n",
    "#         return location['address']['neighbourhood']\n",
    "#     elif 'suburb' in location['address'].keys():\n",
    "#         return location['address']['suburb']\n",
    "#     elif 'town' in location['address'].keys():\n",
    "#         return location['address']['town']\n",
    "#     elif 'hamlet' in location['address'].keys():\n",
    "#         return location['address']['hamlet']\n",
    "#     else:\n",
    "#         return \"N/A\"\n",
    "\n",
    "# test = []\n",
    "# for row in df.index:\n",
    "#     lat = df['lat'][row]\n",
    "#     long = df['long'][row]\n",
    "#     coords = lat,long\n",
    "#     location = locator.reverse(coords)\n",
    "#     location_dict = location.raw\n",
    "#     test.append(return_neighborhood(location_dict))\n",
    "\n",
    "# df\n"
   ]
  },
  {
   "cell_type": "code",
   "execution_count": 8,
   "metadata": {},
   "outputs": [
    {
     "data": {
      "text/html": [
       "<pre>✔️ 989 µs (2021-06-02T17:42:06/2021-06-02T17:42:06)</pre>"
      ],
      "text/plain": [
       "<IPython.core.display.HTML object>"
      ]
     },
     "metadata": {},
     "output_type": "display_data"
    }
   ],
   "source": [
    "# test"
   ]
  },
  {
   "cell_type": "code",
   "execution_count": 9,
   "metadata": {},
   "outputs": [
    {
     "data": {
      "text/html": [
       "<pre>✔️ 796 µs (2021-06-02T17:42:07/2021-06-02T17:42:07)</pre>"
      ],
      "text/plain": [
       "<IPython.core.display.HTML object>"
      ]
     },
     "metadata": {},
     "output_type": "display_data"
    }
   ],
   "source": [
    "# test[0]"
   ]
  },
  {
   "cell_type": "code",
   "execution_count": 10,
   "metadata": {},
   "outputs": [
    {
     "data": {
      "text/html": [
       "<pre>✔️ 1.86 ms (2021-06-02T17:42:07/2021-06-02T17:42:07)</pre>"
      ],
      "text/plain": [
       "<IPython.core.display.HTML object>"
      ]
     },
     "metadata": {},
     "output_type": "display_data"
    }
   ],
   "source": [
    "# df['Neighborhood'] = 0\n",
    "# df\n",
    "\n",
    "# for row in df.index:\n",
    "#     df[\"Neighborhood\"][row] = test[row]\n",
    "# df"
   ]
  },
  {
   "cell_type": "code",
   "execution_count": 11,
   "metadata": {},
   "outputs": [
    {
     "data": {
      "text/html": [
       "<pre>✔️ 1.77 ms (2021-06-02T17:42:07/2021-06-02T17:42:07)</pre>"
      ],
      "text/plain": [
       "<IPython.core.display.HTML object>"
      ]
     },
     "metadata": {},
     "output_type": "display_data"
    }
   ],
   "source": [
    "# top_neighborhoods = df['Neighborhood'].value_counts()[0:251].index\n",
    "# for row in df.index:\n",
    "#     if df['Neighborhood'][row] in top_neighborhoods:\n",
    "#         df['Neighborhood'][row] = df['Neighborhood'][row]\n",
    "#     else:\n",
    "#         df['Neighborhood'][row] = \"Other\""
   ]
  },
  {
   "cell_type": "code",
   "execution_count": 12,
   "metadata": {},
   "outputs": [
    {
     "data": {
      "text/html": [
       "<pre>✔️ 2.13 ms (2021-06-02T17:42:07/2021-06-02T17:42:07)</pre>"
      ],
      "text/plain": [
       "<IPython.core.display.HTML object>"
      ]
     },
     "metadata": {},
     "output_type": "display_data"
    }
   ],
   "source": [
    "# df[\"Neighborhood\"].value_counts()"
   ]
  },
  {
   "cell_type": "code",
   "execution_count": 13,
   "metadata": {},
   "outputs": [
    {
     "data": {
      "text/html": [
       "<pre>✔️ 1.58 ms (2021-06-02T17:42:07/2021-06-02T17:42:07)</pre>"
      ],
      "text/plain": [
       "<IPython.core.display.HTML object>"
      ]
     },
     "metadata": {},
     "output_type": "display_data"
    }
   ],
   "source": [
    "# for row in df.index:\n",
    "#     if df['Neighborhood'][row] == \"N/A\":\n",
    "#         df['Neighborhood'][row] = \"Other\"\n",
    "# df['Neighborhood'].value_counts()"
   ]
  },
  {
   "cell_type": "code",
   "execution_count": 14,
   "metadata": {},
   "outputs": [
    {
     "data": {
      "text/html": [
       "<pre>✔️ 820 µs (2021-06-02T17:42:08/2021-06-02T17:42:08)</pre>"
      ],
      "text/plain": [
       "<IPython.core.display.HTML object>"
      ]
     },
     "metadata": {},
     "output_type": "display_data"
    }
   ],
   "source": [
    "# df.to_csv('data/KC_with_hoods')"
   ]
  },
  {
   "cell_type": "code",
   "execution_count": 15,
   "metadata": {},
   "outputs": [
    {
     "data": {
      "text/html": [
       "<pre>✔️ 140 ms (2021-06-02T17:42:08/2021-06-02T17:42:08)</pre>"
      ],
      "text/plain": [
       "<IPython.core.display.HTML object>"
      ]
     },
     "metadata": {},
     "output_type": "display_data"
    }
   ],
   "source": [
    "df = pd.read_csv('data/KC_with_hoods', index_col=0)"
   ]
  },
  {
   "cell_type": "code",
   "execution_count": 16,
   "metadata": {},
   "outputs": [
    {
     "data": {
      "text/html": [
       "<pre>✔️ 18.2 ms (2021-06-02T17:42:08/2021-06-02T17:42:08)</pre>"
      ],
      "text/plain": [
       "<IPython.core.display.HTML object>"
      ]
     },
     "metadata": {},
     "output_type": "display_data"
    },
    {
     "data": {
      "text/plain": [
       "id                  0\n",
       "date                0\n",
       "price               0\n",
       "bedrooms            0\n",
       "bathrooms           0\n",
       "sqft_living         0\n",
       "sqft_lot            0\n",
       "floors              0\n",
       "waterfront       2376\n",
       "view               63\n",
       "condition           0\n",
       "grade               0\n",
       "sqft_above          0\n",
       "sqft_basement       0\n",
       "yr_built            0\n",
       "yr_renovated     3842\n",
       "zipcode             0\n",
       "lat                 0\n",
       "long                0\n",
       "sqft_living15       0\n",
       "sqft_lot15          0\n",
       "Neighborhood        0\n",
       "dtype: int64"
      ]
     },
     "execution_count": 16,
     "metadata": {},
     "output_type": "execute_result"
    }
   ],
   "source": [
    "df.isna().sum()"
   ]
  },
  {
   "cell_type": "code",
   "execution_count": 17,
   "metadata": {},
   "outputs": [
    {
     "data": {
      "text/html": [
       "<pre>✔️ 2.12 ms (2021-06-02T17:42:08/2021-06-02T17:42:08)</pre>"
      ],
      "text/plain": [
       "<IPython.core.display.HTML object>"
      ]
     },
     "metadata": {},
     "output_type": "display_data"
    }
   ],
   "source": [
    "from sklearn.preprocessing import OrdinalEncoder"
   ]
  },
  {
   "cell_type": "code",
   "execution_count": 18,
   "metadata": {},
   "outputs": [
    {
     "data": {
      "text/html": [
       "<pre>✔️ 40.9 ms (2021-06-02T17:42:08/2021-06-02T17:42:08)</pre>"
      ],
      "text/plain": [
       "<IPython.core.display.HTML object>"
      ]
     },
     "metadata": {},
     "output_type": "display_data"
    },
    {
     "data": {
      "text/plain": [
       "id              -0.016772\n",
       "price            1.000000\n",
       "bedrooms         0.308787\n",
       "bathrooms        0.525906\n",
       "sqft_living      0.701917\n",
       "sqft_lot         0.089876\n",
       "floors           0.256804\n",
       "waterfront       0.276295\n",
       "view             0.395734\n",
       "condition        0.036056\n",
       "grade            0.667951\n",
       "sqft_above       0.605368\n",
       "yr_built         0.053953\n",
       "yr_renovated     0.129599\n",
       "zipcode         -0.053402\n",
       "lat              0.306692\n",
       "long             0.022036\n",
       "sqft_living15    0.585241\n",
       "sqft_lot15       0.082845\n",
       "Name: price, dtype: float64"
      ]
     },
     "execution_count": 18,
     "metadata": {},
     "output_type": "execute_result"
    }
   ],
   "source": [
    "df.corr()['price']"
   ]
  },
  {
   "cell_type": "code",
   "execution_count": 19,
   "metadata": {},
   "outputs": [
    {
     "data": {
      "text/html": [
       "<pre>✔️ 9.43 ms (2021-06-02T17:42:08/2021-06-02T17:42:08)</pre>"
      ],
      "text/plain": [
       "<IPython.core.display.HTML object>"
      ]
     },
     "metadata": {},
     "output_type": "display_data"
    }
   ],
   "source": [
    "y = df[\"price\"]\n",
    "X = df.drop(\"price\", axis=1)"
   ]
  },
  {
   "cell_type": "code",
   "execution_count": 20,
   "metadata": {},
   "outputs": [
    {
     "data": {
      "text/html": [
       "<pre>✔️ 37.6 ms (2021-06-02T17:42:09/2021-06-02T17:42:09)</pre>"
      ],
      "text/plain": [
       "<IPython.core.display.HTML object>"
      ]
     },
     "metadata": {},
     "output_type": "display_data"
    }
   ],
   "source": [
    "cols = list(X.isna().sum().index)"
   ]
  },
  {
   "cell_type": "code",
   "execution_count": 21,
   "metadata": {},
   "outputs": [
    {
     "data": {
      "text/html": [
       "<pre>✔️ 2.22 ms (2021-06-02T17:42:09/2021-06-02T17:42:09)</pre>"
      ],
      "text/plain": [
       "<IPython.core.display.HTML object>"
      ]
     },
     "metadata": {},
     "output_type": "display_data"
    }
   ],
   "source": [
    "relevant_cols = ['date','bedrooms','bathrooms','sqft_living','sqft_lot'\\\n",
    "                 ,'floors','waterfront','view','condition','grade','sqft_above', 'sqft_basement',\\\n",
    "                 'yr_built','yr_renovated','zipcode','sqft_living15','sqft_lot15','Neighborhood']"
   ]
  },
  {
   "cell_type": "code",
   "execution_count": 22,
   "metadata": {},
   "outputs": [
    {
     "data": {
      "text/html": [
       "<pre>✔️ 11.1 ms (2021-06-02T17:42:09/2021-06-02T17:42:09)</pre>"
      ],
      "text/plain": [
       "<IPython.core.display.HTML object>"
      ]
     },
     "metadata": {},
     "output_type": "display_data"
    }
   ],
   "source": [
    "X = X[relevant_cols]"
   ]
  },
  {
   "cell_type": "code",
   "execution_count": 23,
   "metadata": {},
   "outputs": [
    {
     "data": {
      "text/html": [
       "<pre>✔️ 442 ms (2021-06-02T17:42:09/2021-06-02T17:42:10)</pre>"
      ],
      "text/plain": [
       "<IPython.core.display.HTML object>"
      ]
     },
     "metadata": {},
     "output_type": "display_data"
    },
    {
     "data": {
      "image/png": "[encoded data removed]",
      "text/plain": [
       "<Figure size 432x288 with 1 Axes>"
      ]
     },
     "metadata": {
      "needs_background": "light"
     },
     "output_type": "display_data"
    }
   ],
   "source": [
    "X['yr_renovated'].hist();"
   ]
  },
  {
   "cell_type": "code",
   "execution_count": 24,
   "metadata": {},
   "outputs": [
    {
     "data": {
      "text/html": [
       "<pre>✔️ 9.55 ms (2021-06-02T17:42:10/2021-06-02T17:42:10)</pre>"
      ],
      "text/plain": [
       "<IPython.core.display.HTML object>"
      ]
     },
     "metadata": {},
     "output_type": "display_data"
    }
   ],
   "source": [
    "df['newly_renovated'] = df['yr_renovated'] > 2014"
   ]
  },
  {
   "cell_type": "code",
   "execution_count": 25,
   "metadata": {},
   "outputs": [
    {
     "data": {
      "text/html": [
       "<pre>✔️ 47.2 ms (2021-06-02T17:42:10/2021-06-02T17:42:10)</pre>"
      ],
      "text/plain": [
       "<IPython.core.display.HTML object>"
      ]
     },
     "metadata": {},
     "output_type": "display_data"
    },
    {
     "data": {
      "text/plain": [
       "0.010896324018133209"
      ]
     },
     "execution_count": 25,
     "metadata": {},
     "output_type": "execute_result"
    }
   ],
   "source": [
    "df.corr()['price']['newly_renovated']"
   ]
  },
  {
   "cell_type": "code",
   "execution_count": 26,
   "metadata": {},
   "outputs": [
    {
     "data": {
      "text/html": [
       "<pre>✔️ 7.9 ms (2021-06-02T17:42:10/2021-06-02T17:42:10)</pre>"
      ],
      "text/plain": [
       "<IPython.core.display.HTML object>"
      ]
     },
     "metadata": {},
     "output_type": "display_data"
    }
   ],
   "source": [
    "X = X.drop('yr_renovated', axis=1)"
   ]
  },
  {
   "cell_type": "code",
   "execution_count": 27,
   "metadata": {},
   "outputs": [
    {
     "data": {
      "text/html": [
       "<pre>✔️ 92.8 ms (2021-06-02T17:42:10/2021-06-02T17:42:10)</pre>"
      ],
      "text/plain": [
       "<IPython.core.display.HTML object>"
      ]
     },
     "metadata": {},
     "output_type": "display_data"
    },
    {
     "data": {
      "text/plain": [
       "array([[0.],\n",
       "       [0.],\n",
       "       [0.],\n",
       "       ...,\n",
       "       [0.],\n",
       "       [0.],\n",
       "       [0.]])"
      ]
     },
     "execution_count": 27,
     "metadata": {},
     "output_type": "execute_result"
    }
   ],
   "source": [
    "view = X[['view']]\n",
    "\n",
    "from sklearn.impute import SimpleImputer\n",
    "imputer = SimpleImputer(strategy='median')\n",
    "imputer.fit(view)\n",
    "view_imputed = imputer.transform(view)\n",
    "view_imputed"
   ]
  },
  {
   "cell_type": "code",
   "execution_count": 28,
   "metadata": {},
   "outputs": [
    {
     "data": {
      "text/html": [
       "<pre>✔️ 7.89 ms (2021-06-02T17:42:10/2021-06-02T17:42:10)</pre>"
      ],
      "text/plain": [
       "<IPython.core.display.HTML object>"
      ]
     },
     "metadata": {},
     "output_type": "display_data"
    }
   ],
   "source": [
    "X['view'] = view_imputed"
   ]
  },
  {
   "cell_type": "code",
   "execution_count": 29,
   "metadata": {},
   "outputs": [
    {
     "data": {
      "text/html": [
       "<pre>✔️ 8.75 ms (2021-06-02T17:42:11/2021-06-02T17:42:11)</pre>"
      ],
      "text/plain": [
       "<IPython.core.display.HTML object>"
      ]
     },
     "metadata": {},
     "output_type": "display_data"
    },
    {
     "data": {
      "text/plain": [
       "0"
      ]
     },
     "execution_count": 29,
     "metadata": {},
     "output_type": "execute_result"
    }
   ],
   "source": [
    "X['view'].isna().sum()"
   ]
  },
  {
   "cell_type": "code",
   "execution_count": 30,
   "metadata": {},
   "outputs": [
    {
     "data": {
      "text/html": [
       "<pre>✔️ 18 ms (2021-06-02T17:42:11/2021-06-02T17:42:11)</pre>"
      ],
      "text/plain": [
       "<IPython.core.display.HTML object>"
      ]
     },
     "metadata": {},
     "output_type": "display_data"
    }
   ],
   "source": [
    "waterfront = X[['waterfront']]\n",
    "\n",
    "from sklearn.impute import SimpleImputer\n",
    "imputer = SimpleImputer(strategy='median')\n",
    "imputer.fit(waterfront)\n",
    "waterfront_imputed = imputer.transform(waterfront)\n",
    "waterfront_imputed\n",
    "X['waterfront'] = waterfront_imputed"
   ]
  },
  {
   "cell_type": "code",
   "execution_count": 31,
   "metadata": {
    "scrolled": true
   },
   "outputs": [
    {
     "data": {
      "text/html": [
       "<pre>✔️ 14.2 ms (2021-06-02T17:42:11/2021-06-02T17:42:11)</pre>"
      ],
      "text/plain": [
       "<IPython.core.display.HTML object>"
      ]
     },
     "metadata": {},
     "output_type": "display_data"
    }
   ],
   "source": [
    "X['sqft_basement'] = X['sqft_basement'].apply(lambda x: np.nan if \"?\" in x else x)"
   ]
  },
  {
   "cell_type": "code",
   "execution_count": 32,
   "metadata": {},
   "outputs": [
    {
     "data": {
      "text/html": [
       "<pre>✔️ 26.2 ms (2021-06-02T17:42:11/2021-06-02T17:42:11)</pre>"
      ],
      "text/plain": [
       "<IPython.core.display.HTML object>"
      ]
     },
     "metadata": {},
     "output_type": "display_data"
    }
   ],
   "source": [
    "basement = X[['sqft_basement']]\n",
    "\n",
    "from sklearn.impute import SimpleImputer\n",
    "imputer = SimpleImputer(strategy='median')\n",
    "imputer.fit(basement)\n",
    "basement_imputed = imputer.transform(basement)\n",
    "basement_imputed\n",
    "X['sqft_basement'] = basement_imputed"
   ]
  },
  {
   "cell_type": "code",
   "execution_count": 33,
   "metadata": {},
   "outputs": [
    {
     "data": {
      "text/html": [
       "<pre>✔️ 11.3 ms (2021-06-02T17:42:11/2021-06-02T17:42:11)</pre>"
      ],
      "text/plain": [
       "<IPython.core.display.HTML object>"
      ]
     },
     "metadata": {},
     "output_type": "display_data"
    },
    {
     "data": {
      "text/plain": [
       "0          0.0\n",
       "1        400.0\n",
       "2          0.0\n",
       "3        910.0\n",
       "4          0.0\n",
       "         ...  \n",
       "21592      0.0\n",
       "21593      0.0\n",
       "21594      0.0\n",
       "21595      0.0\n",
       "21596      0.0\n",
       "Name: sqft_basement, Length: 21597, dtype: float64"
      ]
     },
     "execution_count": 33,
     "metadata": {},
     "output_type": "execute_result"
    }
   ],
   "source": [
    "X['sqft_basement']"
   ]
  },
  {
   "cell_type": "code",
   "execution_count": 34,
   "metadata": {},
   "outputs": [
    {
     "data": {
      "text/html": [
       "<pre>✔️ 6.51 ms (2021-06-02T17:42:11/2021-06-02T17:42:11)</pre>"
      ],
      "text/plain": [
       "<IPython.core.display.HTML object>"
      ]
     },
     "metadata": {},
     "output_type": "display_data"
    }
   ],
   "source": [
    "X['sqft_grade'] = X['sqft_living'] * X['grade']"
   ]
  },
  {
   "cell_type": "code",
   "execution_count": 35,
   "metadata": {},
   "outputs": [
    {
     "data": {
      "text/html": [
       "<pre>✔️ 469 ms (2021-06-02T17:42:11/2021-06-02T17:42:12)</pre>"
      ],
      "text/plain": [
       "<IPython.core.display.HTML object>"
      ]
     },
     "metadata": {},
     "output_type": "display_data"
    },
    {
     "ename": "ValueError",
     "evalue": "could not convert string to float: '10/13/2014'",
     "output_type": "error",
     "traceback": [
      "\u001b[0;31m---------------------------------------------------------------------------\u001b[0m",
      "\u001b[0;31mValueError\u001b[0m                                Traceback (most recent call last)",
      "\u001b[0;32m<ipython-input-35-6b0332a31483>\u001b[0m in \u001b[0;36m<module>\u001b[0;34m\u001b[0m\n\u001b[1;32m      4\u001b[0m \u001b[0mpf\u001b[0m \u001b[0;34m=\u001b[0m \u001b[0mPolynomialFeatures\u001b[0m\u001b[0;34m(\u001b[0m\u001b[0mdegree\u001b[0m\u001b[0;34m=\u001b[0m\u001b[0;36m2\u001b[0m\u001b[0;34m)\u001b[0m\u001b[0;34m\u001b[0m\u001b[0;34m\u001b[0m\u001b[0m\n\u001b[1;32m      5\u001b[0m \u001b[0;34m\u001b[0m\u001b[0m\n\u001b[0;32m----> 6\u001b[0;31m \u001b[0mpf\u001b[0m\u001b[0;34m.\u001b[0m\u001b[0mfit\u001b[0m\u001b[0;34m(\u001b[0m\u001b[0mX\u001b[0m\u001b[0;34m)\u001b[0m\u001b[0;34m\u001b[0m\u001b[0;34m\u001b[0m\u001b[0m\n\u001b[0m",
      "\u001b[0;32m~/opt/anaconda3/envs/learn-env/lib/python3.8/site-packages/sklearn/preprocessing/_data.py\u001b[0m in \u001b[0;36mfit\u001b[0;34m(self, X, y)\u001b[0m\n\u001b[1;32m   1510\u001b[0m         \u001b[0mself\u001b[0m \u001b[0;34m:\u001b[0m \u001b[0minstance\u001b[0m\u001b[0;34m\u001b[0m\u001b[0;34m\u001b[0m\u001b[0m\n\u001b[1;32m   1511\u001b[0m         \"\"\"\n\u001b[0;32m-> 1512\u001b[0;31m         n_samples, n_features = self._validate_data(\n\u001b[0m\u001b[1;32m   1513\u001b[0m             X, accept_sparse=True).shape\n\u001b[1;32m   1514\u001b[0m         combinations = self._combinations(n_features, self.degree,\n",
      "\u001b[0;32m~/opt/anaconda3/envs/learn-env/lib/python3.8/site-packages/sklearn/base.py\u001b[0m in \u001b[0;36m_validate_data\u001b[0;34m(self, X, y, reset, validate_separately, **check_params)\u001b[0m\n\u001b[1;32m    418\u001b[0m                     \u001b[0;34mf\"requires y to be passed, but the target y is None.\"\u001b[0m\u001b[0;34m\u001b[0m\u001b[0;34m\u001b[0m\u001b[0m\n\u001b[1;32m    419\u001b[0m                 )\n\u001b[0;32m--> 420\u001b[0;31m             \u001b[0mX\u001b[0m \u001b[0;34m=\u001b[0m \u001b[0mcheck_array\u001b[0m\u001b[0;34m(\u001b[0m\u001b[0mX\u001b[0m\u001b[0;34m,\u001b[0m \u001b[0;34m**\u001b[0m\u001b[0mcheck_params\u001b[0m\u001b[0;34m)\u001b[0m\u001b[0;34m\u001b[0m\u001b[0;34m\u001b[0m\u001b[0m\n\u001b[0m\u001b[1;32m    421\u001b[0m             \u001b[0mout\u001b[0m \u001b[0;34m=\u001b[0m \u001b[0mX\u001b[0m\u001b[0;34m\u001b[0m\u001b[0;34m\u001b[0m\u001b[0m\n\u001b[1;32m    422\u001b[0m         \u001b[0;32melse\u001b[0m\u001b[0;34m:\u001b[0m\u001b[0;34m\u001b[0m\u001b[0;34m\u001b[0m\u001b[0m\n",
      "\u001b[0;32m~/opt/anaconda3/envs/learn-env/lib/python3.8/site-packages/sklearn/utils/validation.py\u001b[0m in \u001b[0;36minner_f\u001b[0;34m(*args, **kwargs)\u001b[0m\n\u001b[1;32m     70\u001b[0m                           FutureWarning)\n\u001b[1;32m     71\u001b[0m         \u001b[0mkwargs\u001b[0m\u001b[0;34m.\u001b[0m\u001b[0mupdate\u001b[0m\u001b[0;34m(\u001b[0m\u001b[0;34m{\u001b[0m\u001b[0mk\u001b[0m\u001b[0;34m:\u001b[0m \u001b[0marg\u001b[0m \u001b[0;32mfor\u001b[0m \u001b[0mk\u001b[0m\u001b[0;34m,\u001b[0m \u001b[0marg\u001b[0m \u001b[0;32min\u001b[0m \u001b[0mzip\u001b[0m\u001b[0;34m(\u001b[0m\u001b[0msig\u001b[0m\u001b[0;34m.\u001b[0m\u001b[0mparameters\u001b[0m\u001b[0;34m,\u001b[0m \u001b[0margs\u001b[0m\u001b[0;34m)\u001b[0m\u001b[0;34m}\u001b[0m\u001b[0;34m)\u001b[0m\u001b[0;34m\u001b[0m\u001b[0;34m\u001b[0m\u001b[0m\n\u001b[0;32m---> 72\u001b[0;31m         \u001b[0;32mreturn\u001b[0m \u001b[0mf\u001b[0m\u001b[0;34m(\u001b[0m\u001b[0;34m**\u001b[0m\u001b[0mkwargs\u001b[0m\u001b[0;34m)\u001b[0m\u001b[0;34m\u001b[0m\u001b[0;34m\u001b[0m\u001b[0m\n\u001b[0m\u001b[1;32m     73\u001b[0m     \u001b[0;32mreturn\u001b[0m \u001b[0minner_f\u001b[0m\u001b[0;34m\u001b[0m\u001b[0;34m\u001b[0m\u001b[0m\n\u001b[1;32m     74\u001b[0m \u001b[0;34m\u001b[0m\u001b[0m\n",
      "\u001b[0;32m~/opt/anaconda3/envs/learn-env/lib/python3.8/site-packages/sklearn/utils/validation.py\u001b[0m in \u001b[0;36mcheck_array\u001b[0;34m(array, accept_sparse, accept_large_sparse, dtype, order, copy, force_all_finite, ensure_2d, allow_nd, ensure_min_samples, ensure_min_features, estimator)\u001b[0m\n\u001b[1;32m    596\u001b[0m                     \u001b[0marray\u001b[0m \u001b[0;34m=\u001b[0m \u001b[0marray\u001b[0m\u001b[0;34m.\u001b[0m\u001b[0mastype\u001b[0m\u001b[0;34m(\u001b[0m\u001b[0mdtype\u001b[0m\u001b[0;34m,\u001b[0m \u001b[0mcasting\u001b[0m\u001b[0;34m=\u001b[0m\u001b[0;34m\"unsafe\"\u001b[0m\u001b[0;34m,\u001b[0m \u001b[0mcopy\u001b[0m\u001b[0;34m=\u001b[0m\u001b[0;32mFalse\u001b[0m\u001b[0;34m)\u001b[0m\u001b[0;34m\u001b[0m\u001b[0;34m\u001b[0m\u001b[0m\n\u001b[1;32m    597\u001b[0m                 \u001b[0;32melse\u001b[0m\u001b[0;34m:\u001b[0m\u001b[0;34m\u001b[0m\u001b[0;34m\u001b[0m\u001b[0m\n\u001b[0;32m--> 598\u001b[0;31m                     \u001b[0marray\u001b[0m \u001b[0;34m=\u001b[0m \u001b[0mnp\u001b[0m\u001b[0;34m.\u001b[0m\u001b[0masarray\u001b[0m\u001b[0;34m(\u001b[0m\u001b[0marray\u001b[0m\u001b[0;34m,\u001b[0m \u001b[0morder\u001b[0m\u001b[0;34m=\u001b[0m\u001b[0morder\u001b[0m\u001b[0;34m,\u001b[0m \u001b[0mdtype\u001b[0m\u001b[0;34m=\u001b[0m\u001b[0mdtype\u001b[0m\u001b[0;34m)\u001b[0m\u001b[0;34m\u001b[0m\u001b[0;34m\u001b[0m\u001b[0m\n\u001b[0m\u001b[1;32m    599\u001b[0m             \u001b[0;32mexcept\u001b[0m \u001b[0mComplexWarning\u001b[0m\u001b[0;34m:\u001b[0m\u001b[0;34m\u001b[0m\u001b[0;34m\u001b[0m\u001b[0m\n\u001b[1;32m    600\u001b[0m                 raise ValueError(\"Complex data not supported\\n\"\n",
      "\u001b[0;32m~/opt/anaconda3/envs/learn-env/lib/python3.8/site-packages/numpy/core/_asarray.py\u001b[0m in \u001b[0;36masarray\u001b[0;34m(a, dtype, order)\u001b[0m\n\u001b[1;32m     83\u001b[0m \u001b[0;34m\u001b[0m\u001b[0m\n\u001b[1;32m     84\u001b[0m     \"\"\"\n\u001b[0;32m---> 85\u001b[0;31m     \u001b[0;32mreturn\u001b[0m \u001b[0marray\u001b[0m\u001b[0;34m(\u001b[0m\u001b[0ma\u001b[0m\u001b[0;34m,\u001b[0m \u001b[0mdtype\u001b[0m\u001b[0;34m,\u001b[0m \u001b[0mcopy\u001b[0m\u001b[0;34m=\u001b[0m\u001b[0;32mFalse\u001b[0m\u001b[0;34m,\u001b[0m \u001b[0morder\u001b[0m\u001b[0;34m=\u001b[0m\u001b[0morder\u001b[0m\u001b[0;34m)\u001b[0m\u001b[0;34m\u001b[0m\u001b[0;34m\u001b[0m\u001b[0m\n\u001b[0m\u001b[1;32m     86\u001b[0m \u001b[0;34m\u001b[0m\u001b[0m\n\u001b[1;32m     87\u001b[0m \u001b[0;34m\u001b[0m\u001b[0m\n",
      "\u001b[0;32m~/opt/anaconda3/envs/learn-env/lib/python3.8/site-packages/pandas/core/generic.py\u001b[0m in \u001b[0;36m__array__\u001b[0;34m(self, dtype)\u001b[0m\n\u001b[1;32m   1779\u001b[0m \u001b[0;34m\u001b[0m\u001b[0m\n\u001b[1;32m   1780\u001b[0m     \u001b[0;32mdef\u001b[0m \u001b[0m__array__\u001b[0m\u001b[0;34m(\u001b[0m\u001b[0mself\u001b[0m\u001b[0;34m,\u001b[0m \u001b[0mdtype\u001b[0m\u001b[0;34m=\u001b[0m\u001b[0;32mNone\u001b[0m\u001b[0;34m)\u001b[0m \u001b[0;34m->\u001b[0m \u001b[0mnp\u001b[0m\u001b[0;34m.\u001b[0m\u001b[0mndarray\u001b[0m\u001b[0;34m:\u001b[0m\u001b[0;34m\u001b[0m\u001b[0;34m\u001b[0m\u001b[0m\n\u001b[0;32m-> 1781\u001b[0;31m         \u001b[0;32mreturn\u001b[0m \u001b[0mnp\u001b[0m\u001b[0;34m.\u001b[0m\u001b[0masarray\u001b[0m\u001b[0;34m(\u001b[0m\u001b[0mself\u001b[0m\u001b[0;34m.\u001b[0m\u001b[0m_values\u001b[0m\u001b[0;34m,\u001b[0m \u001b[0mdtype\u001b[0m\u001b[0;34m=\u001b[0m\u001b[0mdtype\u001b[0m\u001b[0;34m)\u001b[0m\u001b[0;34m\u001b[0m\u001b[0;34m\u001b[0m\u001b[0m\n\u001b[0m\u001b[1;32m   1782\u001b[0m \u001b[0;34m\u001b[0m\u001b[0m\n\u001b[1;32m   1783\u001b[0m     \u001b[0;32mdef\u001b[0m \u001b[0m__array_wrap__\u001b[0m\u001b[0;34m(\u001b[0m\u001b[0mself\u001b[0m\u001b[0;34m,\u001b[0m \u001b[0mresult\u001b[0m\u001b[0;34m,\u001b[0m \u001b[0mcontext\u001b[0m\u001b[0;34m=\u001b[0m\u001b[0;32mNone\u001b[0m\u001b[0;34m)\u001b[0m\u001b[0;34m:\u001b[0m\u001b[0;34m\u001b[0m\u001b[0;34m\u001b[0m\u001b[0m\n",
      "\u001b[0;32m~/opt/anaconda3/envs/learn-env/lib/python3.8/site-packages/numpy/core/_asarray.py\u001b[0m in \u001b[0;36masarray\u001b[0;34m(a, dtype, order)\u001b[0m\n\u001b[1;32m     83\u001b[0m \u001b[0;34m\u001b[0m\u001b[0m\n\u001b[1;32m     84\u001b[0m     \"\"\"\n\u001b[0;32m---> 85\u001b[0;31m     \u001b[0;32mreturn\u001b[0m \u001b[0marray\u001b[0m\u001b[0;34m(\u001b[0m\u001b[0ma\u001b[0m\u001b[0;34m,\u001b[0m \u001b[0mdtype\u001b[0m\u001b[0;34m,\u001b[0m \u001b[0mcopy\u001b[0m\u001b[0;34m=\u001b[0m\u001b[0;32mFalse\u001b[0m\u001b[0;34m,\u001b[0m \u001b[0morder\u001b[0m\u001b[0;34m=\u001b[0m\u001b[0morder\u001b[0m\u001b[0;34m)\u001b[0m\u001b[0;34m\u001b[0m\u001b[0;34m\u001b[0m\u001b[0m\n\u001b[0m\u001b[1;32m     86\u001b[0m \u001b[0;34m\u001b[0m\u001b[0m\n\u001b[1;32m     87\u001b[0m \u001b[0;34m\u001b[0m\u001b[0m\n",
      "\u001b[0;31mValueError\u001b[0m: could not convert string to float: '10/13/2014'"
     ]
    }
   ],
   "source": [
    "X['sale'] = y\n",
    "X\n",
    "\n",
    "pf = PolynomialFeatures(degree=2)\n",
    "\n",
    "pf.fit(X)"
   ]
  },
  {
   "cell_type": "code",
   "execution_count": null,
   "metadata": {},
   "outputs": [],
   "source": [
    "pdf = pd.DataFrame(pf.transform(X), columns=pf.get_feature_names())\n",
    "corr_df = pdf.corr()\n",
    "corr_df[corr_df['x15'] > .75]"
   ]
  },
  {
   "cell_type": "code",
   "execution_count": null,
   "metadata": {},
   "outputs": [],
   "source": [
    "# X['sqft_grade'] = X['sqft_living']*X['grade']\n",
    "# X.corr()['sale']"
   ]
  },
  {
   "cell_type": "code",
   "execution_count": null,
   "metadata": {},
   "outputs": [],
   "source": [
    "X['Yr_sold'] = X['date'].apply(lambda x: x[-4:])\n",
    "X['Mo_sold'] = X['date'].apply(lambda x: x[0:2])\n",
    "X['Mo_sold'] = X['Mo_sold'].apply(lambda x: x[0:1] if \"/\" in x else x)"
   ]
  },
  {
   "cell_type": "code",
   "execution_count": null,
   "metadata": {},
   "outputs": [],
   "source": [
    "X = X.drop(\"date\", axis=1)"
   ]
  },
  {
   "cell_type": "code",
   "execution_count": null,
   "metadata": {},
   "outputs": [],
   "source": [
    "from sklearn.preprocessing import OneHotEncoder\n",
    "\n",
    "month = X[['Mo_sold']]\n",
    "\n",
    "\n",
    "ohe = OneHotEncoder(categories='auto', sparse=False, handle_unknown='ignore')\n",
    "\n",
    "\n",
    "ohe.fit(month)\n",
    "\n",
    "\n",
    "ohe.categories_\n",
    "\n",
    "month_encoded = ohe.transform(month)"
   ]
  },
  {
   "cell_type": "code",
   "execution_count": null,
   "metadata": {},
   "outputs": [],
   "source": [
    "month_encoded = pd.DataFrame(\n",
    "\n",
    "    month_encoded,\n",
    "\n",
    "    columns=ohe.categories_[0],\n",
    " \n",
    "    index=X.index\n",
    ")\n",
    "\n",
    "\n",
    "month_encoded\n",
    "month_encoded = month_encoded.drop('10', axis=1)"
   ]
  },
  {
   "cell_type": "code",
   "execution_count": null,
   "metadata": {},
   "outputs": [],
   "source": [
    "X = pd.concat([X, month_encoded], axis=1)"
   ]
  },
  {
   "cell_type": "code",
   "execution_count": null,
   "metadata": {},
   "outputs": [],
   "source": [
    "X"
   ]
  },
  {
   "cell_type": "code",
   "execution_count": null,
   "metadata": {},
   "outputs": [],
   "source": [
    "from sklearn.preprocessing import OrdinalEncoder\n",
    "\n",
    "year = X[['Yr_sold']]\n",
    "\n",
    "encoder_year = OrdinalEncoder()\n",
    "encoder_year.fit(year)\n",
    "\n",
    "year_encoded = encoder_year.transform(year)\n",
    "\n",
    "\n",
    "year_encoded = year_encoded.flatten()\n",
    "\n",
    "\n",
    "year_encoded\n",
    "\n",
    "X['year'] = year_encoded\n",
    "X"
   ]
  },
  {
   "cell_type": "code",
   "execution_count": null,
   "metadata": {},
   "outputs": [],
   "source": [
    "X = X.drop('Yr_sold', axis=1)\n",
    "X = X.drop('Mo_sold', axis=1)"
   ]
  },
  {
   "cell_type": "code",
   "execution_count": null,
   "metadata": {
    "scrolled": true
   },
   "outputs": [],
   "source": [
    "X['Neighborhood'].value_counts()"
   ]
  },
  {
   "cell_type": "code",
   "execution_count": null,
   "metadata": {},
   "outputs": [],
   "source": [
    "from sklearn.preprocessing import OneHotEncoder\n",
    "\n",
    "hood = X[['Neighborhood']]\n",
    "\n",
    "\n",
    "ohe = OneHotEncoder(categories='auto', sparse=False, handle_unknown='ignore')\n",
    "\n",
    "\n",
    "ohe.fit(hood)\n",
    "\n",
    "\n",
    "ohe.categories_\n",
    "\n",
    "hood_encoded = ohe.transform(hood)"
   ]
  },
  {
   "cell_type": "code",
   "execution_count": null,
   "metadata": {},
   "outputs": [],
   "source": [
    "hood_encoded = pd.DataFrame(\n",
    "\n",
    "    hood_encoded,\n",
    "  \n",
    "    columns=ohe.categories_[0],\n",
    "   \n",
    "    index=X.index\n",
    ")\n",
    "\n",
    "\n",
    "hood_encoded\n",
    "hood_encoded = hood_encoded.drop('Other', axis=1)"
   ]
  },
  {
   "cell_type": "code",
   "execution_count": null,
   "metadata": {},
   "outputs": [],
   "source": [
    "# X = pd.concat([X, hood_encoded], axis=1)"
   ]
  },
  {
   "cell_type": "code",
   "execution_count": null,
   "metadata": {},
   "outputs": [],
   "source": [
    "X['sqft_grade'] = X['sqft_living'] * X['grade']"
   ]
  },
  {
   "cell_type": "code",
   "execution_count": null,
   "metadata": {},
   "outputs": [],
   "source": [
    "X = X.drop('Neighborhood', axis=1)"
   ]
  },
  {
   "cell_type": "code",
   "execution_count": null,
   "metadata": {},
   "outputs": [],
   "source": [
    "from sklearn.linear_model import LinearRegression\n",
    "\n",
    "model = LinearRegression()\n",
    "model.fit(X, y)\n",
    "model.score(X,y)"
   ]
  },
  {
   "cell_type": "code",
   "execution_count": 36,
   "metadata": {},
   "outputs": [
    {
     "data": {
      "text/html": [
       "<pre>✔️ 2.97 ms (2021-06-02T17:42:12/2021-06-02T17:42:12)</pre>"
      ],
      "text/plain": [
       "<IPython.core.display.HTML object>"
      ]
     },
     "metadata": {},
     "output_type": "display_data"
    }
   ],
   "source": [
    "X_no_dummies = X.iloc[:, : 16]"
   ]
  },
  {
   "cell_type": "code",
   "execution_count": 37,
   "metadata": {},
   "outputs": [
    {
     "data": {
      "text/html": [
       "<pre>✔️ 52.1 ms (2021-06-02T17:42:12/2021-06-02T17:42:12)</pre>"
      ],
      "text/plain": [
       "<IPython.core.display.HTML object>"
      ]
     },
     "metadata": {},
     "output_type": "display_data"
    },
    {
     "data": {
      "text/html": [
       "<div>\n",
       "<style scoped>\n",
       "    .dataframe tbody tr th:only-of-type {\n",
       "        vertical-align: middle;\n",
       "    }\n",
       "\n",
       "    .dataframe tbody tr th {\n",
       "        vertical-align: top;\n",
       "    }\n",
       "\n",
       "    .dataframe thead th {\n",
       "        text-align: right;\n",
       "    }\n",
       "</style>\n",
       "<table border=\"1\" class=\"dataframe\">\n",
       "  <thead>\n",
       "    <tr style=\"text-align: right;\">\n",
       "      <th></th>\n",
       "      <th>date</th>\n",
       "      <th>bedrooms</th>\n",
       "      <th>bathrooms</th>\n",
       "      <th>sqft_living</th>\n",
       "      <th>sqft_lot</th>\n",
       "      <th>floors</th>\n",
       "      <th>waterfront</th>\n",
       "      <th>view</th>\n",
       "      <th>condition</th>\n",
       "      <th>grade</th>\n",
       "      <th>sqft_above</th>\n",
       "      <th>sqft_basement</th>\n",
       "      <th>yr_built</th>\n",
       "      <th>zipcode</th>\n",
       "      <th>sqft_living15</th>\n",
       "      <th>sqft_lot15</th>\n",
       "    </tr>\n",
       "  </thead>\n",
       "  <tbody>\n",
       "    <tr>\n",
       "      <th>0</th>\n",
       "      <td>10/13/2014</td>\n",
       "      <td>3</td>\n",
       "      <td>1.00</td>\n",
       "      <td>1180</td>\n",
       "      <td>5650</td>\n",
       "      <td>1.0</td>\n",
       "      <td>0.0</td>\n",
       "      <td>0.0</td>\n",
       "      <td>3</td>\n",
       "      <td>7</td>\n",
       "      <td>1180</td>\n",
       "      <td>0.0</td>\n",
       "      <td>1955</td>\n",
       "      <td>98178</td>\n",
       "      <td>1340</td>\n",
       "      <td>5650</td>\n",
       "    </tr>\n",
       "    <tr>\n",
       "      <th>1</th>\n",
       "      <td>12/9/2014</td>\n",
       "      <td>3</td>\n",
       "      <td>2.25</td>\n",
       "      <td>2570</td>\n",
       "      <td>7242</td>\n",
       "      <td>2.0</td>\n",
       "      <td>0.0</td>\n",
       "      <td>0.0</td>\n",
       "      <td>3</td>\n",
       "      <td>7</td>\n",
       "      <td>2170</td>\n",
       "      <td>400.0</td>\n",
       "      <td>1951</td>\n",
       "      <td>98125</td>\n",
       "      <td>1690</td>\n",
       "      <td>7639</td>\n",
       "    </tr>\n",
       "    <tr>\n",
       "      <th>2</th>\n",
       "      <td>2/25/2015</td>\n",
       "      <td>2</td>\n",
       "      <td>1.00</td>\n",
       "      <td>770</td>\n",
       "      <td>10000</td>\n",
       "      <td>1.0</td>\n",
       "      <td>0.0</td>\n",
       "      <td>0.0</td>\n",
       "      <td>3</td>\n",
       "      <td>6</td>\n",
       "      <td>770</td>\n",
       "      <td>0.0</td>\n",
       "      <td>1933</td>\n",
       "      <td>98028</td>\n",
       "      <td>2720</td>\n",
       "      <td>8062</td>\n",
       "    </tr>\n",
       "    <tr>\n",
       "      <th>3</th>\n",
       "      <td>12/9/2014</td>\n",
       "      <td>4</td>\n",
       "      <td>3.00</td>\n",
       "      <td>1960</td>\n",
       "      <td>5000</td>\n",
       "      <td>1.0</td>\n",
       "      <td>0.0</td>\n",
       "      <td>0.0</td>\n",
       "      <td>5</td>\n",
       "      <td>7</td>\n",
       "      <td>1050</td>\n",
       "      <td>910.0</td>\n",
       "      <td>1965</td>\n",
       "      <td>98136</td>\n",
       "      <td>1360</td>\n",
       "      <td>5000</td>\n",
       "    </tr>\n",
       "    <tr>\n",
       "      <th>4</th>\n",
       "      <td>2/18/2015</td>\n",
       "      <td>3</td>\n",
       "      <td>2.00</td>\n",
       "      <td>1680</td>\n",
       "      <td>8080</td>\n",
       "      <td>1.0</td>\n",
       "      <td>0.0</td>\n",
       "      <td>0.0</td>\n",
       "      <td>3</td>\n",
       "      <td>8</td>\n",
       "      <td>1680</td>\n",
       "      <td>0.0</td>\n",
       "      <td>1987</td>\n",
       "      <td>98074</td>\n",
       "      <td>1800</td>\n",
       "      <td>7503</td>\n",
       "    </tr>\n",
       "    <tr>\n",
       "      <th>...</th>\n",
       "      <td>...</td>\n",
       "      <td>...</td>\n",
       "      <td>...</td>\n",
       "      <td>...</td>\n",
       "      <td>...</td>\n",
       "      <td>...</td>\n",
       "      <td>...</td>\n",
       "      <td>...</td>\n",
       "      <td>...</td>\n",
       "      <td>...</td>\n",
       "      <td>...</td>\n",
       "      <td>...</td>\n",
       "      <td>...</td>\n",
       "      <td>...</td>\n",
       "      <td>...</td>\n",
       "      <td>...</td>\n",
       "    </tr>\n",
       "    <tr>\n",
       "      <th>21592</th>\n",
       "      <td>5/21/2014</td>\n",
       "      <td>3</td>\n",
       "      <td>2.50</td>\n",
       "      <td>1530</td>\n",
       "      <td>1131</td>\n",
       "      <td>3.0</td>\n",
       "      <td>0.0</td>\n",
       "      <td>0.0</td>\n",
       "      <td>3</td>\n",
       "      <td>8</td>\n",
       "      <td>1530</td>\n",
       "      <td>0.0</td>\n",
       "      <td>2009</td>\n",
       "      <td>98103</td>\n",
       "      <td>1530</td>\n",
       "      <td>1509</td>\n",
       "    </tr>\n",
       "    <tr>\n",
       "      <th>21593</th>\n",
       "      <td>2/23/2015</td>\n",
       "      <td>4</td>\n",
       "      <td>2.50</td>\n",
       "      <td>2310</td>\n",
       "      <td>5813</td>\n",
       "      <td>2.0</td>\n",
       "      <td>0.0</td>\n",
       "      <td>0.0</td>\n",
       "      <td>3</td>\n",
       "      <td>8</td>\n",
       "      <td>2310</td>\n",
       "      <td>0.0</td>\n",
       "      <td>2014</td>\n",
       "      <td>98146</td>\n",
       "      <td>1830</td>\n",
       "      <td>7200</td>\n",
       "    </tr>\n",
       "    <tr>\n",
       "      <th>21594</th>\n",
       "      <td>6/23/2014</td>\n",
       "      <td>2</td>\n",
       "      <td>0.75</td>\n",
       "      <td>1020</td>\n",
       "      <td>1350</td>\n",
       "      <td>2.0</td>\n",
       "      <td>0.0</td>\n",
       "      <td>0.0</td>\n",
       "      <td>3</td>\n",
       "      <td>7</td>\n",
       "      <td>1020</td>\n",
       "      <td>0.0</td>\n",
       "      <td>2009</td>\n",
       "      <td>98144</td>\n",
       "      <td>1020</td>\n",
       "      <td>2007</td>\n",
       "    </tr>\n",
       "    <tr>\n",
       "      <th>21595</th>\n",
       "      <td>1/16/2015</td>\n",
       "      <td>3</td>\n",
       "      <td>2.50</td>\n",
       "      <td>1600</td>\n",
       "      <td>2388</td>\n",
       "      <td>2.0</td>\n",
       "      <td>0.0</td>\n",
       "      <td>0.0</td>\n",
       "      <td>3</td>\n",
       "      <td>8</td>\n",
       "      <td>1600</td>\n",
       "      <td>0.0</td>\n",
       "      <td>2004</td>\n",
       "      <td>98027</td>\n",
       "      <td>1410</td>\n",
       "      <td>1287</td>\n",
       "    </tr>\n",
       "    <tr>\n",
       "      <th>21596</th>\n",
       "      <td>10/15/2014</td>\n",
       "      <td>2</td>\n",
       "      <td>0.75</td>\n",
       "      <td>1020</td>\n",
       "      <td>1076</td>\n",
       "      <td>2.0</td>\n",
       "      <td>0.0</td>\n",
       "      <td>0.0</td>\n",
       "      <td>3</td>\n",
       "      <td>7</td>\n",
       "      <td>1020</td>\n",
       "      <td>0.0</td>\n",
       "      <td>2008</td>\n",
       "      <td>98144</td>\n",
       "      <td>1020</td>\n",
       "      <td>1357</td>\n",
       "    </tr>\n",
       "  </tbody>\n",
       "</table>\n",
       "<p>21597 rows × 16 columns</p>\n",
       "</div>"
      ],
      "text/plain": [
       "             date  bedrooms  bathrooms  sqft_living  sqft_lot  floors  \\\n",
       "0      10/13/2014         3       1.00         1180      5650     1.0   \n",
       "1       12/9/2014         3       2.25         2570      7242     2.0   \n",
       "2       2/25/2015         2       1.00          770     10000     1.0   \n",
       "3       12/9/2014         4       3.00         1960      5000     1.0   \n",
       "4       2/18/2015         3       2.00         1680      8080     1.0   \n",
       "...           ...       ...        ...          ...       ...     ...   \n",
       "21592   5/21/2014         3       2.50         1530      1131     3.0   \n",
       "21593   2/23/2015         4       2.50         2310      5813     2.0   \n",
       "21594   6/23/2014         2       0.75         1020      1350     2.0   \n",
       "21595   1/16/2015         3       2.50         1600      2388     2.0   \n",
       "21596  10/15/2014         2       0.75         1020      1076     2.0   \n",
       "\n",
       "       waterfront  view  condition  grade  sqft_above  sqft_basement  \\\n",
       "0             0.0   0.0          3      7        1180            0.0   \n",
       "1             0.0   0.0          3      7        2170          400.0   \n",
       "2             0.0   0.0          3      6         770            0.0   \n",
       "3             0.0   0.0          5      7        1050          910.0   \n",
       "4             0.0   0.0          3      8        1680            0.0   \n",
       "...           ...   ...        ...    ...         ...            ...   \n",
       "21592         0.0   0.0          3      8        1530            0.0   \n",
       "21593         0.0   0.0          3      8        2310            0.0   \n",
       "21594         0.0   0.0          3      7        1020            0.0   \n",
       "21595         0.0   0.0          3      8        1600            0.0   \n",
       "21596         0.0   0.0          3      7        1020            0.0   \n",
       "\n",
       "       yr_built  zipcode  sqft_living15  sqft_lot15  \n",
       "0          1955    98178           1340        5650  \n",
       "1          1951    98125           1690        7639  \n",
       "2          1933    98028           2720        8062  \n",
       "3          1965    98136           1360        5000  \n",
       "4          1987    98074           1800        7503  \n",
       "...         ...      ...            ...         ...  \n",
       "21592      2009    98103           1530        1509  \n",
       "21593      2014    98146           1830        7200  \n",
       "21594      2009    98144           1020        2007  \n",
       "21595      2004    98027           1410        1287  \n",
       "21596      2008    98144           1020        1357  \n",
       "\n",
       "[21597 rows x 16 columns]"
      ]
     },
     "execution_count": 37,
     "metadata": {},
     "output_type": "execute_result"
    }
   ],
   "source": [
    "X_no_dummies"
   ]
  },
  {
   "cell_type": "code",
   "execution_count": 38,
   "metadata": {},
   "outputs": [
    {
     "data": {
      "text/html": [
       "<pre>✔️ 74 ms (2021-06-02T17:42:13/2021-06-02T17:42:13)</pre>"
      ],
      "text/plain": [
       "<IPython.core.display.HTML object>"
      ]
     },
     "metadata": {},
     "output_type": "display_data"
    },
    {
     "ename": "ValueError",
     "evalue": "could not convert string to float: '10/13/2014'",
     "output_type": "error",
     "traceback": [
      "\u001b[0;31m---------------------------------------------------------------------------\u001b[0m",
      "\u001b[0;31mValueError\u001b[0m                                Traceback (most recent call last)",
      "\u001b[0;32m<ipython-input-38-ebf7d9f30a54>\u001b[0m in \u001b[0;36m<module>\u001b[0;34m\u001b[0m\n\u001b[1;32m      2\u001b[0m \u001b[0;34m\u001b[0m\u001b[0m\n\u001b[1;32m      3\u001b[0m \u001b[0mmodel\u001b[0m \u001b[0;34m=\u001b[0m \u001b[0mLinearRegression\u001b[0m\u001b[0;34m(\u001b[0m\u001b[0;34m)\u001b[0m\u001b[0;34m\u001b[0m\u001b[0;34m\u001b[0m\u001b[0m\n\u001b[0;32m----> 4\u001b[0;31m \u001b[0mmodel\u001b[0m\u001b[0;34m.\u001b[0m\u001b[0mfit\u001b[0m\u001b[0;34m(\u001b[0m\u001b[0mX_no_dummies\u001b[0m\u001b[0;34m,\u001b[0m \u001b[0my\u001b[0m\u001b[0;34m)\u001b[0m\u001b[0;34m\u001b[0m\u001b[0;34m\u001b[0m\u001b[0m\n\u001b[0m\u001b[1;32m      5\u001b[0m \u001b[0mmodel\u001b[0m\u001b[0;34m.\u001b[0m\u001b[0mscore\u001b[0m\u001b[0;34m(\u001b[0m\u001b[0mX_no_dummies\u001b[0m\u001b[0;34m,\u001b[0m\u001b[0my\u001b[0m\u001b[0;34m)\u001b[0m\u001b[0;34m\u001b[0m\u001b[0;34m\u001b[0m\u001b[0m\n",
      "\u001b[0;32m~/opt/anaconda3/envs/learn-env/lib/python3.8/site-packages/sklearn/linear_model/_base.py\u001b[0m in \u001b[0;36mfit\u001b[0;34m(self, X, y, sample_weight)\u001b[0m\n\u001b[1;32m    503\u001b[0m \u001b[0;34m\u001b[0m\u001b[0m\n\u001b[1;32m    504\u001b[0m         \u001b[0mn_jobs_\u001b[0m \u001b[0;34m=\u001b[0m \u001b[0mself\u001b[0m\u001b[0;34m.\u001b[0m\u001b[0mn_jobs\u001b[0m\u001b[0;34m\u001b[0m\u001b[0;34m\u001b[0m\u001b[0m\n\u001b[0;32m--> 505\u001b[0;31m         X, y = self._validate_data(X, y, accept_sparse=['csr', 'csc', 'coo'],\n\u001b[0m\u001b[1;32m    506\u001b[0m                                    y_numeric=True, multi_output=True)\n\u001b[1;32m    507\u001b[0m \u001b[0;34m\u001b[0m\u001b[0m\n",
      "\u001b[0;32m~/opt/anaconda3/envs/learn-env/lib/python3.8/site-packages/sklearn/base.py\u001b[0m in \u001b[0;36m_validate_data\u001b[0;34m(self, X, y, reset, validate_separately, **check_params)\u001b[0m\n\u001b[1;32m    430\u001b[0m                 \u001b[0my\u001b[0m \u001b[0;34m=\u001b[0m \u001b[0mcheck_array\u001b[0m\u001b[0;34m(\u001b[0m\u001b[0my\u001b[0m\u001b[0;34m,\u001b[0m \u001b[0;34m**\u001b[0m\u001b[0mcheck_y_params\u001b[0m\u001b[0;34m)\u001b[0m\u001b[0;34m\u001b[0m\u001b[0;34m\u001b[0m\u001b[0m\n\u001b[1;32m    431\u001b[0m             \u001b[0;32melse\u001b[0m\u001b[0;34m:\u001b[0m\u001b[0;34m\u001b[0m\u001b[0;34m\u001b[0m\u001b[0m\n\u001b[0;32m--> 432\u001b[0;31m                 \u001b[0mX\u001b[0m\u001b[0;34m,\u001b[0m \u001b[0my\u001b[0m \u001b[0;34m=\u001b[0m \u001b[0mcheck_X_y\u001b[0m\u001b[0;34m(\u001b[0m\u001b[0mX\u001b[0m\u001b[0;34m,\u001b[0m \u001b[0my\u001b[0m\u001b[0;34m,\u001b[0m \u001b[0;34m**\u001b[0m\u001b[0mcheck_params\u001b[0m\u001b[0;34m)\u001b[0m\u001b[0;34m\u001b[0m\u001b[0;34m\u001b[0m\u001b[0m\n\u001b[0m\u001b[1;32m    433\u001b[0m             \u001b[0mout\u001b[0m \u001b[0;34m=\u001b[0m \u001b[0mX\u001b[0m\u001b[0;34m,\u001b[0m \u001b[0my\u001b[0m\u001b[0;34m\u001b[0m\u001b[0;34m\u001b[0m\u001b[0m\n\u001b[1;32m    434\u001b[0m \u001b[0;34m\u001b[0m\u001b[0m\n",
      "\u001b[0;32m~/opt/anaconda3/envs/learn-env/lib/python3.8/site-packages/sklearn/utils/validation.py\u001b[0m in \u001b[0;36minner_f\u001b[0;34m(*args, **kwargs)\u001b[0m\n\u001b[1;32m     70\u001b[0m                           FutureWarning)\n\u001b[1;32m     71\u001b[0m         \u001b[0mkwargs\u001b[0m\u001b[0;34m.\u001b[0m\u001b[0mupdate\u001b[0m\u001b[0;34m(\u001b[0m\u001b[0;34m{\u001b[0m\u001b[0mk\u001b[0m\u001b[0;34m:\u001b[0m \u001b[0marg\u001b[0m \u001b[0;32mfor\u001b[0m \u001b[0mk\u001b[0m\u001b[0;34m,\u001b[0m \u001b[0marg\u001b[0m \u001b[0;32min\u001b[0m \u001b[0mzip\u001b[0m\u001b[0;34m(\u001b[0m\u001b[0msig\u001b[0m\u001b[0;34m.\u001b[0m\u001b[0mparameters\u001b[0m\u001b[0;34m,\u001b[0m \u001b[0margs\u001b[0m\u001b[0;34m)\u001b[0m\u001b[0;34m}\u001b[0m\u001b[0;34m)\u001b[0m\u001b[0;34m\u001b[0m\u001b[0;34m\u001b[0m\u001b[0m\n\u001b[0;32m---> 72\u001b[0;31m         \u001b[0;32mreturn\u001b[0m \u001b[0mf\u001b[0m\u001b[0;34m(\u001b[0m\u001b[0;34m**\u001b[0m\u001b[0mkwargs\u001b[0m\u001b[0;34m)\u001b[0m\u001b[0;34m\u001b[0m\u001b[0;34m\u001b[0m\u001b[0m\n\u001b[0m\u001b[1;32m     73\u001b[0m     \u001b[0;32mreturn\u001b[0m \u001b[0minner_f\u001b[0m\u001b[0;34m\u001b[0m\u001b[0;34m\u001b[0m\u001b[0m\n\u001b[1;32m     74\u001b[0m \u001b[0;34m\u001b[0m\u001b[0m\n",
      "\u001b[0;32m~/opt/anaconda3/envs/learn-env/lib/python3.8/site-packages/sklearn/utils/validation.py\u001b[0m in \u001b[0;36mcheck_X_y\u001b[0;34m(X, y, accept_sparse, accept_large_sparse, dtype, order, copy, force_all_finite, ensure_2d, allow_nd, multi_output, ensure_min_samples, ensure_min_features, y_numeric, estimator)\u001b[0m\n\u001b[1;32m    793\u001b[0m         \u001b[0;32mraise\u001b[0m \u001b[0mValueError\u001b[0m\u001b[0;34m(\u001b[0m\u001b[0;34m\"y cannot be None\"\u001b[0m\u001b[0;34m)\u001b[0m\u001b[0;34m\u001b[0m\u001b[0;34m\u001b[0m\u001b[0m\n\u001b[1;32m    794\u001b[0m \u001b[0;34m\u001b[0m\u001b[0m\n\u001b[0;32m--> 795\u001b[0;31m     X = check_array(X, accept_sparse=accept_sparse,\n\u001b[0m\u001b[1;32m    796\u001b[0m                     \u001b[0maccept_large_sparse\u001b[0m\u001b[0;34m=\u001b[0m\u001b[0maccept_large_sparse\u001b[0m\u001b[0;34m,\u001b[0m\u001b[0;34m\u001b[0m\u001b[0;34m\u001b[0m\u001b[0m\n\u001b[1;32m    797\u001b[0m                     \u001b[0mdtype\u001b[0m\u001b[0;34m=\u001b[0m\u001b[0mdtype\u001b[0m\u001b[0;34m,\u001b[0m \u001b[0morder\u001b[0m\u001b[0;34m=\u001b[0m\u001b[0morder\u001b[0m\u001b[0;34m,\u001b[0m \u001b[0mcopy\u001b[0m\u001b[0;34m=\u001b[0m\u001b[0mcopy\u001b[0m\u001b[0;34m,\u001b[0m\u001b[0;34m\u001b[0m\u001b[0;34m\u001b[0m\u001b[0m\n",
      "\u001b[0;32m~/opt/anaconda3/envs/learn-env/lib/python3.8/site-packages/sklearn/utils/validation.py\u001b[0m in \u001b[0;36minner_f\u001b[0;34m(*args, **kwargs)\u001b[0m\n\u001b[1;32m     70\u001b[0m                           FutureWarning)\n\u001b[1;32m     71\u001b[0m         \u001b[0mkwargs\u001b[0m\u001b[0;34m.\u001b[0m\u001b[0mupdate\u001b[0m\u001b[0;34m(\u001b[0m\u001b[0;34m{\u001b[0m\u001b[0mk\u001b[0m\u001b[0;34m:\u001b[0m \u001b[0marg\u001b[0m \u001b[0;32mfor\u001b[0m \u001b[0mk\u001b[0m\u001b[0;34m,\u001b[0m \u001b[0marg\u001b[0m \u001b[0;32min\u001b[0m \u001b[0mzip\u001b[0m\u001b[0;34m(\u001b[0m\u001b[0msig\u001b[0m\u001b[0;34m.\u001b[0m\u001b[0mparameters\u001b[0m\u001b[0;34m,\u001b[0m \u001b[0margs\u001b[0m\u001b[0;34m)\u001b[0m\u001b[0;34m}\u001b[0m\u001b[0;34m)\u001b[0m\u001b[0;34m\u001b[0m\u001b[0;34m\u001b[0m\u001b[0m\n\u001b[0;32m---> 72\u001b[0;31m         \u001b[0;32mreturn\u001b[0m \u001b[0mf\u001b[0m\u001b[0;34m(\u001b[0m\u001b[0;34m**\u001b[0m\u001b[0mkwargs\u001b[0m\u001b[0;34m)\u001b[0m\u001b[0;34m\u001b[0m\u001b[0;34m\u001b[0m\u001b[0m\n\u001b[0m\u001b[1;32m     73\u001b[0m     \u001b[0;32mreturn\u001b[0m \u001b[0minner_f\u001b[0m\u001b[0;34m\u001b[0m\u001b[0;34m\u001b[0m\u001b[0m\n\u001b[1;32m     74\u001b[0m \u001b[0;34m\u001b[0m\u001b[0m\n",
      "\u001b[0;32m~/opt/anaconda3/envs/learn-env/lib/python3.8/site-packages/sklearn/utils/validation.py\u001b[0m in \u001b[0;36mcheck_array\u001b[0;34m(array, accept_sparse, accept_large_sparse, dtype, order, copy, force_all_finite, ensure_2d, allow_nd, ensure_min_samples, ensure_min_features, estimator)\u001b[0m\n\u001b[1;32m    596\u001b[0m                     \u001b[0marray\u001b[0m \u001b[0;34m=\u001b[0m \u001b[0marray\u001b[0m\u001b[0;34m.\u001b[0m\u001b[0mastype\u001b[0m\u001b[0;34m(\u001b[0m\u001b[0mdtype\u001b[0m\u001b[0;34m,\u001b[0m \u001b[0mcasting\u001b[0m\u001b[0;34m=\u001b[0m\u001b[0;34m\"unsafe\"\u001b[0m\u001b[0;34m,\u001b[0m \u001b[0mcopy\u001b[0m\u001b[0;34m=\u001b[0m\u001b[0;32mFalse\u001b[0m\u001b[0;34m)\u001b[0m\u001b[0;34m\u001b[0m\u001b[0;34m\u001b[0m\u001b[0m\n\u001b[1;32m    597\u001b[0m                 \u001b[0;32melse\u001b[0m\u001b[0;34m:\u001b[0m\u001b[0;34m\u001b[0m\u001b[0;34m\u001b[0m\u001b[0m\n\u001b[0;32m--> 598\u001b[0;31m                     \u001b[0marray\u001b[0m \u001b[0;34m=\u001b[0m \u001b[0mnp\u001b[0m\u001b[0;34m.\u001b[0m\u001b[0masarray\u001b[0m\u001b[0;34m(\u001b[0m\u001b[0marray\u001b[0m\u001b[0;34m,\u001b[0m \u001b[0morder\u001b[0m\u001b[0;34m=\u001b[0m\u001b[0morder\u001b[0m\u001b[0;34m,\u001b[0m \u001b[0mdtype\u001b[0m\u001b[0;34m=\u001b[0m\u001b[0mdtype\u001b[0m\u001b[0;34m)\u001b[0m\u001b[0;34m\u001b[0m\u001b[0;34m\u001b[0m\u001b[0m\n\u001b[0m\u001b[1;32m    599\u001b[0m             \u001b[0;32mexcept\u001b[0m \u001b[0mComplexWarning\u001b[0m\u001b[0;34m:\u001b[0m\u001b[0;34m\u001b[0m\u001b[0;34m\u001b[0m\u001b[0m\n\u001b[1;32m    600\u001b[0m                 raise ValueError(\"Complex data not supported\\n\"\n",
      "\u001b[0;32m~/opt/anaconda3/envs/learn-env/lib/python3.8/site-packages/numpy/core/_asarray.py\u001b[0m in \u001b[0;36masarray\u001b[0;34m(a, dtype, order)\u001b[0m\n\u001b[1;32m     83\u001b[0m \u001b[0;34m\u001b[0m\u001b[0m\n\u001b[1;32m     84\u001b[0m     \"\"\"\n\u001b[0;32m---> 85\u001b[0;31m     \u001b[0;32mreturn\u001b[0m \u001b[0marray\u001b[0m\u001b[0;34m(\u001b[0m\u001b[0ma\u001b[0m\u001b[0;34m,\u001b[0m \u001b[0mdtype\u001b[0m\u001b[0;34m,\u001b[0m \u001b[0mcopy\u001b[0m\u001b[0;34m=\u001b[0m\u001b[0;32mFalse\u001b[0m\u001b[0;34m,\u001b[0m \u001b[0morder\u001b[0m\u001b[0;34m=\u001b[0m\u001b[0morder\u001b[0m\u001b[0;34m)\u001b[0m\u001b[0;34m\u001b[0m\u001b[0;34m\u001b[0m\u001b[0m\n\u001b[0m\u001b[1;32m     86\u001b[0m \u001b[0;34m\u001b[0m\u001b[0m\n\u001b[1;32m     87\u001b[0m \u001b[0;34m\u001b[0m\u001b[0m\n",
      "\u001b[0;32m~/opt/anaconda3/envs/learn-env/lib/python3.8/site-packages/pandas/core/generic.py\u001b[0m in \u001b[0;36m__array__\u001b[0;34m(self, dtype)\u001b[0m\n\u001b[1;32m   1779\u001b[0m \u001b[0;34m\u001b[0m\u001b[0m\n\u001b[1;32m   1780\u001b[0m     \u001b[0;32mdef\u001b[0m \u001b[0m__array__\u001b[0m\u001b[0;34m(\u001b[0m\u001b[0mself\u001b[0m\u001b[0;34m,\u001b[0m \u001b[0mdtype\u001b[0m\u001b[0;34m=\u001b[0m\u001b[0;32mNone\u001b[0m\u001b[0;34m)\u001b[0m \u001b[0;34m->\u001b[0m \u001b[0mnp\u001b[0m\u001b[0;34m.\u001b[0m\u001b[0mndarray\u001b[0m\u001b[0;34m:\u001b[0m\u001b[0;34m\u001b[0m\u001b[0;34m\u001b[0m\u001b[0m\n\u001b[0;32m-> 1781\u001b[0;31m         \u001b[0;32mreturn\u001b[0m \u001b[0mnp\u001b[0m\u001b[0;34m.\u001b[0m\u001b[0masarray\u001b[0m\u001b[0;34m(\u001b[0m\u001b[0mself\u001b[0m\u001b[0;34m.\u001b[0m\u001b[0m_values\u001b[0m\u001b[0;34m,\u001b[0m \u001b[0mdtype\u001b[0m\u001b[0;34m=\u001b[0m\u001b[0mdtype\u001b[0m\u001b[0;34m)\u001b[0m\u001b[0;34m\u001b[0m\u001b[0;34m\u001b[0m\u001b[0m\n\u001b[0m\u001b[1;32m   1782\u001b[0m \u001b[0;34m\u001b[0m\u001b[0m\n\u001b[1;32m   1783\u001b[0m     \u001b[0;32mdef\u001b[0m \u001b[0m__array_wrap__\u001b[0m\u001b[0;34m(\u001b[0m\u001b[0mself\u001b[0m\u001b[0;34m,\u001b[0m \u001b[0mresult\u001b[0m\u001b[0;34m,\u001b[0m \u001b[0mcontext\u001b[0m\u001b[0;34m=\u001b[0m\u001b[0;32mNone\u001b[0m\u001b[0;34m)\u001b[0m\u001b[0;34m:\u001b[0m\u001b[0;34m\u001b[0m\u001b[0;34m\u001b[0m\u001b[0m\n",
      "\u001b[0;32m~/opt/anaconda3/envs/learn-env/lib/python3.8/site-packages/numpy/core/_asarray.py\u001b[0m in \u001b[0;36masarray\u001b[0;34m(a, dtype, order)\u001b[0m\n\u001b[1;32m     83\u001b[0m \u001b[0;34m\u001b[0m\u001b[0m\n\u001b[1;32m     84\u001b[0m     \"\"\"\n\u001b[0;32m---> 85\u001b[0;31m     \u001b[0;32mreturn\u001b[0m \u001b[0marray\u001b[0m\u001b[0;34m(\u001b[0m\u001b[0ma\u001b[0m\u001b[0;34m,\u001b[0m \u001b[0mdtype\u001b[0m\u001b[0;34m,\u001b[0m \u001b[0mcopy\u001b[0m\u001b[0;34m=\u001b[0m\u001b[0;32mFalse\u001b[0m\u001b[0;34m,\u001b[0m \u001b[0morder\u001b[0m\u001b[0;34m=\u001b[0m\u001b[0morder\u001b[0m\u001b[0;34m)\u001b[0m\u001b[0;34m\u001b[0m\u001b[0;34m\u001b[0m\u001b[0m\n\u001b[0m\u001b[1;32m     86\u001b[0m \u001b[0;34m\u001b[0m\u001b[0m\n\u001b[1;32m     87\u001b[0m \u001b[0;34m\u001b[0m\u001b[0m\n",
      "\u001b[0;31mValueError\u001b[0m: could not convert string to float: '10/13/2014'"
     ]
    }
   ],
   "source": [
    "from sklearn.linear_model import LinearRegression\n",
    "\n",
    "model = LinearRegression()\n",
    "model.fit(X_no_dummies, y)\n",
    "model.score(X_no_dummies,y)"
   ]
  },
  {
   "cell_type": "code",
   "execution_count": null,
   "metadata": {},
   "outputs": [],
   "source": [
    "from sklearn.preprocessing import OneHotEncoder\n",
    "\n",
    "zip = X_no_dummies[['zipcode']]\n",
    "\n",
    "\n",
    "ohe = OneHotEncoder(categories='auto', sparse=False, handle_unknown='ignore')\n",
    "\n",
    "\n",
    "ohe.fit(zip)\n",
    "\n",
    "\n",
    "ohe.categories_\n",
    "\n",
    "zip_encoded = ohe.transform(zip)"
   ]
  },
  {
   "cell_type": "code",
   "execution_count": 39,
   "metadata": {},
   "outputs": [
    {
     "data": {
      "text/html": [
       "<pre>✔️ 18.2 ms (2021-06-02T17:42:13/2021-06-02T17:42:13)</pre>"
      ],
      "text/plain": [
       "<IPython.core.display.HTML object>"
      ]
     },
     "metadata": {},
     "output_type": "display_data"
    },
    {
     "ename": "NameError",
     "evalue": "name 'zip_encoded' is not defined",
     "output_type": "error",
     "traceback": [
      "\u001b[0;31m---------------------------------------------------------------------------\u001b[0m",
      "\u001b[0;31mNameError\u001b[0m                                 Traceback (most recent call last)",
      "\u001b[0;32m<ipython-input-39-d429bc86df2a>\u001b[0m in \u001b[0;36m<module>\u001b[0;34m\u001b[0m\n\u001b[1;32m      1\u001b[0m zip_encoded = pd.DataFrame(\n\u001b[1;32m      2\u001b[0m \u001b[0;34m\u001b[0m\u001b[0m\n\u001b[0;32m----> 3\u001b[0;31m     \u001b[0mzip_encoded\u001b[0m\u001b[0;34m,\u001b[0m\u001b[0;34m\u001b[0m\u001b[0;34m\u001b[0m\u001b[0m\n\u001b[0m\u001b[1;32m      4\u001b[0m \u001b[0;34m\u001b[0m\u001b[0m\n\u001b[1;32m      5\u001b[0m     \u001b[0mcolumns\u001b[0m\u001b[0;34m=\u001b[0m\u001b[0mohe\u001b[0m\u001b[0;34m.\u001b[0m\u001b[0mcategories_\u001b[0m\u001b[0;34m[\u001b[0m\u001b[0;36m0\u001b[0m\u001b[0;34m]\u001b[0m\u001b[0;34m,\u001b[0m\u001b[0;34m\u001b[0m\u001b[0;34m\u001b[0m\u001b[0m\n",
      "\u001b[0;31mNameError\u001b[0m: name 'zip_encoded' is not defined"
     ]
    }
   ],
   "source": [
    "zip_encoded = pd.DataFrame(\n",
    "\n",
    "    zip_encoded,\n",
    "  \n",
    "    columns=ohe.categories_[0],\n",
    "   \n",
    "    index=X_no_dummies.index\n",
    ")\n",
    "\n",
    "\n",
    "zip_encoded"
   ]
  },
  {
   "cell_type": "code",
   "execution_count": 40,
   "metadata": {},
   "outputs": [
    {
     "data": {
      "text/html": [
       "<pre>✔️ 16.6 ms (2021-06-02T17:42:13/2021-06-02T17:42:13)</pre>"
      ],
      "text/plain": [
       "<IPython.core.display.HTML object>"
      ]
     },
     "metadata": {},
     "output_type": "display_data"
    },
    {
     "ename": "NameError",
     "evalue": "name 'zip_encoded' is not defined",
     "output_type": "error",
     "traceback": [
      "\u001b[0;31m---------------------------------------------------------------------------\u001b[0m",
      "\u001b[0;31mNameError\u001b[0m                                 Traceback (most recent call last)",
      "\u001b[0;32m<ipython-input-40-100c9f5e8744>\u001b[0m in \u001b[0;36m<module>\u001b[0;34m\u001b[0m\n\u001b[0;32m----> 1\u001b[0;31m \u001b[0mX_zip_dummies\u001b[0m \u001b[0;34m=\u001b[0m \u001b[0mpd\u001b[0m\u001b[0;34m.\u001b[0m\u001b[0mconcat\u001b[0m\u001b[0;34m(\u001b[0m\u001b[0;34m[\u001b[0m\u001b[0mX_no_dummies\u001b[0m\u001b[0;34m,\u001b[0m \u001b[0mzip_encoded\u001b[0m\u001b[0;34m]\u001b[0m\u001b[0;34m,\u001b[0m \u001b[0maxis\u001b[0m\u001b[0;34m=\u001b[0m\u001b[0;36m1\u001b[0m\u001b[0;34m)\u001b[0m\u001b[0;34m\u001b[0m\u001b[0;34m\u001b[0m\u001b[0m\n\u001b[0m",
      "\u001b[0;31mNameError\u001b[0m: name 'zip_encoded' is not defined"
     ]
    }
   ],
   "source": [
    "X_zip_dummies = pd.concat([X_no_dummies, zip_encoded], axis=1)"
   ]
  },
  {
   "cell_type": "code",
   "execution_count": null,
   "metadata": {},
   "outputs": [],
   "source": [
    "model = LinearRegression()\n",
    "model.fit(X_zip_dummies, y)\n",
    "model.score(X_zip_dummies,y)"
   ]
  },
  {
   "cell_type": "code",
   "execution_count": 41,
   "metadata": {},
   "outputs": [
    {
     "data": {
      "text/html": [
       "<pre>✔️ 5.07 ms (2021-06-02T17:42:13/2021-06-02T17:42:13)</pre>"
      ],
      "text/plain": [
       "<IPython.core.display.HTML object>"
      ]
     },
     "metadata": {},
     "output_type": "display_data"
    }
   ],
   "source": [
    "X_no_dummies\n",
    "SM_df = X_no_dummies.copy()"
   ]
  },
  {
   "cell_type": "code",
   "execution_count": 42,
   "metadata": {},
   "outputs": [
    {
     "data": {
      "text/html": [
       "<pre>✔️ 5.36 ms (2021-06-02T17:42:14/2021-06-02T17:42:14)</pre>"
      ],
      "text/plain": [
       "<IPython.core.display.HTML object>"
      ]
     },
     "metadata": {},
     "output_type": "display_data"
    }
   ],
   "source": [
    "SM_df['price'] = y"
   ]
  },
  {
   "cell_type": "code",
   "execution_count": 43,
   "metadata": {},
   "outputs": [
    {
     "data": {
      "text/html": [
       "<pre>✔️ 4.4 s (2021-06-02T17:42:14/2021-06-02T17:42:18)</pre>"
      ],
      "text/plain": [
       "<IPython.core.display.HTML object>"
      ]
     },
     "metadata": {},
     "output_type": "display_data"
    },
    {
     "data": {
      "text/html": [
       "<table class=\"simpletable\">\n",
       "<caption>OLS Regression Results</caption>\n",
       "<tr>\n",
       "  <th>Dep. Variable:</th>          <td>price</td>      <th>  R-squared:         </th>  <td>   0.663</td>  \n",
       "</tr>\n",
       "<tr>\n",
       "  <th>Model:</th>                   <td>OLS</td>       <th>  Adj. R-squared:    </th>  <td>   0.657</td>  \n",
       "</tr>\n",
       "<tr>\n",
       "  <th>Method:</th>             <td>Least Squares</td>  <th>  F-statistic:       </th>  <td>   108.0</td>  \n",
       "</tr>\n",
       "<tr>\n",
       "  <th>Date:</th>             <td>Wed, 02 Jun 2021</td> <th>  Prob (F-statistic):</th>   <td>  0.00</td>   \n",
       "</tr>\n",
       "<tr>\n",
       "  <th>Time:</th>                 <td>17:42:18</td>     <th>  Log-Likelihood:    </th> <td>-2.9565e+05</td>\n",
       "</tr>\n",
       "<tr>\n",
       "  <th>No. Observations:</th>      <td> 21597</td>      <th>  AIC:               </th>  <td>5.921e+05</td> \n",
       "</tr>\n",
       "<tr>\n",
       "  <th>Df Residuals:</th>          <td> 21210</td>      <th>  BIC:               </th>  <td>5.952e+05</td> \n",
       "</tr>\n",
       "<tr>\n",
       "  <th>Df Model:</th>              <td>   386</td>      <th>                     </th>      <td> </td>     \n",
       "</tr>\n",
       "<tr>\n",
       "  <th>Covariance Type:</th>      <td>nonrobust</td>    <th>                     </th>      <td> </td>     \n",
       "</tr>\n",
       "</table>\n",
       "<table class=\"simpletable\">\n",
       "<tr>\n",
       "           <td></td>             <th>coef</th>     <th>std err</th>      <th>t</th>      <th>P>|t|</th>  <th>[0.025</th>    <th>0.975]</th>  \n",
       "</tr>\n",
       "<tr>\n",
       "  <th>Intercept</th>          <td> 7.429e+06</td> <td> 3.14e+06</td> <td>    2.366</td> <td> 0.018</td> <td> 1.27e+06</td> <td> 1.36e+07</td>\n",
       "</tr>\n",
       "<tr>\n",
       "  <th>date[T.1/12/2015]</th>  <td> 1.724e+05</td> <td> 2.18e+05</td> <td>    0.791</td> <td> 0.429</td> <td>-2.55e+05</td> <td> 5.99e+05</td>\n",
       "</tr>\n",
       "<tr>\n",
       "  <th>date[T.1/13/2015]</th>  <td> 1.757e+05</td> <td> 2.18e+05</td> <td>    0.807</td> <td> 0.420</td> <td>-2.51e+05</td> <td> 6.03e+05</td>\n",
       "</tr>\n",
       "<tr>\n",
       "  <th>date[T.1/14/2015]</th>  <td> 1.091e+05</td> <td> 2.17e+05</td> <td>    0.502</td> <td> 0.616</td> <td>-3.17e+05</td> <td> 5.35e+05</td>\n",
       "</tr>\n",
       "<tr>\n",
       "  <th>date[T.1/15/2015]</th>  <td> 1.383e+05</td> <td> 2.18e+05</td> <td>    0.635</td> <td> 0.525</td> <td>-2.88e+05</td> <td> 5.65e+05</td>\n",
       "</tr>\n",
       "<tr>\n",
       "  <th>date[T.1/16/2015]</th>  <td>  1.23e+05</td> <td> 2.17e+05</td> <td>    0.566</td> <td> 0.572</td> <td>-3.03e+05</td> <td> 5.49e+05</td>\n",
       "</tr>\n",
       "<tr>\n",
       "  <th>date[T.1/17/2015]</th>  <td> 9.427e+04</td> <td> 3.04e+05</td> <td>    0.310</td> <td> 0.757</td> <td>-5.03e+05</td> <td> 6.91e+05</td>\n",
       "</tr>\n",
       "<tr>\n",
       "  <th>date[T.1/19/2015]</th>  <td> 5.657e+04</td> <td> 2.28e+05</td> <td>    0.248</td> <td> 0.804</td> <td>-3.91e+05</td> <td> 5.04e+05</td>\n",
       "</tr>\n",
       "<tr>\n",
       "  <th>date[T.1/2/2015]</th>   <td>  1.53e+05</td> <td> 2.18e+05</td> <td>    0.703</td> <td> 0.482</td> <td>-2.74e+05</td> <td>  5.8e+05</td>\n",
       "</tr>\n",
       "<tr>\n",
       "  <th>date[T.1/20/2015]</th>  <td> 1.746e+05</td> <td> 2.18e+05</td> <td>    0.802</td> <td> 0.422</td> <td>-2.52e+05</td> <td> 6.01e+05</td>\n",
       "</tr>\n",
       "<tr>\n",
       "  <th>date[T.1/21/2015]</th>  <td> 1.519e+05</td> <td> 2.17e+05</td> <td>    0.699</td> <td> 0.484</td> <td>-2.74e+05</td> <td> 5.78e+05</td>\n",
       "</tr>\n",
       "<tr>\n",
       "  <th>date[T.1/22/2015]</th>  <td> 1.776e+05</td> <td> 2.18e+05</td> <td>    0.816</td> <td> 0.414</td> <td>-2.49e+05</td> <td> 6.04e+05</td>\n",
       "</tr>\n",
       "<tr>\n",
       "  <th>date[T.1/23/2015]</th>  <td> 1.791e+05</td> <td> 2.18e+05</td> <td>    0.823</td> <td> 0.410</td> <td>-2.47e+05</td> <td> 6.05e+05</td>\n",
       "</tr>\n",
       "<tr>\n",
       "  <th>date[T.1/24/2015]</th>  <td>-6.074e+04</td> <td> 2.41e+05</td> <td>   -0.252</td> <td> 0.801</td> <td>-5.33e+05</td> <td> 4.11e+05</td>\n",
       "</tr>\n",
       "<tr>\n",
       "  <th>date[T.1/25/2015]</th>  <td> 1.176e+05</td> <td> 2.49e+05</td> <td>    0.473</td> <td> 0.636</td> <td> -3.7e+05</td> <td> 6.05e+05</td>\n",
       "</tr>\n",
       "<tr>\n",
       "  <th>date[T.1/26/2015]</th>  <td> 1.227e+05</td> <td> 2.18e+05</td> <td>    0.564</td> <td> 0.573</td> <td>-3.04e+05</td> <td> 5.49e+05</td>\n",
       "</tr>\n",
       "<tr>\n",
       "  <th>date[T.1/27/2015]</th>  <td> 1.741e+05</td> <td> 2.17e+05</td> <td>    0.801</td> <td> 0.423</td> <td>-2.52e+05</td> <td>    6e+05</td>\n",
       "</tr>\n",
       "<tr>\n",
       "  <th>date[T.1/28/2015]</th>  <td> 1.414e+05</td> <td> 2.17e+05</td> <td>    0.651</td> <td> 0.515</td> <td>-2.84e+05</td> <td> 5.67e+05</td>\n",
       "</tr>\n",
       "<tr>\n",
       "  <th>date[T.1/29/2015]</th>  <td> 1.944e+05</td> <td> 2.18e+05</td> <td>    0.893</td> <td> 0.372</td> <td>-2.32e+05</td> <td> 6.21e+05</td>\n",
       "</tr>\n",
       "<tr>\n",
       "  <th>date[T.1/30/2015]</th>  <td> 2.872e+05</td> <td> 2.18e+05</td> <td>    1.315</td> <td> 0.188</td> <td>-1.41e+05</td> <td> 7.15e+05</td>\n",
       "</tr>\n",
       "<tr>\n",
       "  <th>date[T.1/31/2015]</th>  <td>-2.645e+04</td> <td> 3.05e+05</td> <td>   -0.087</td> <td> 0.931</td> <td>-6.23e+05</td> <td>  5.7e+05</td>\n",
       "</tr>\n",
       "<tr>\n",
       "  <th>date[T.1/5/2015]</th>   <td> 1.922e+05</td> <td> 2.17e+05</td> <td>    0.885</td> <td> 0.376</td> <td>-2.33e+05</td> <td> 6.18e+05</td>\n",
       "</tr>\n",
       "<tr>\n",
       "  <th>date[T.1/6/2015]</th>   <td> 2.066e+05</td> <td> 2.18e+05</td> <td>    0.948</td> <td> 0.343</td> <td> -2.2e+05</td> <td> 6.34e+05</td>\n",
       "</tr>\n",
       "<tr>\n",
       "  <th>date[T.1/7/2015]</th>   <td> 1.949e+05</td> <td> 2.17e+05</td> <td>    0.897</td> <td> 0.370</td> <td>-2.31e+05</td> <td> 6.21e+05</td>\n",
       "</tr>\n",
       "<tr>\n",
       "  <th>date[T.1/8/2015]</th>   <td> 1.433e+05</td> <td> 2.17e+05</td> <td>    0.659</td> <td> 0.510</td> <td>-2.83e+05</td> <td>  5.7e+05</td>\n",
       "</tr>\n",
       "<tr>\n",
       "  <th>date[T.1/9/2015]</th>   <td>  2.39e+05</td> <td> 2.18e+05</td> <td>    1.095</td> <td> 0.274</td> <td>-1.89e+05</td> <td> 6.67e+05</td>\n",
       "</tr>\n",
       "<tr>\n",
       "  <th>date[T.10/1/2014]</th>  <td> 1.962e+05</td> <td> 2.17e+05</td> <td>    0.906</td> <td> 0.365</td> <td>-2.28e+05</td> <td> 6.21e+05</td>\n",
       "</tr>\n",
       "<tr>\n",
       "  <th>date[T.10/10/2014]</th> <td> 1.878e+05</td> <td> 2.17e+05</td> <td>    0.867</td> <td> 0.386</td> <td>-2.37e+05</td> <td> 6.12e+05</td>\n",
       "</tr>\n",
       "<tr>\n",
       "  <th>date[T.10/11/2014]</th> <td> 1.257e+06</td> <td> 2.64e+05</td> <td>    4.767</td> <td> 0.000</td> <td>  7.4e+05</td> <td> 1.77e+06</td>\n",
       "</tr>\n",
       "<tr>\n",
       "  <th>date[T.10/12/2014]</th> <td> 1.412e+05</td> <td> 2.49e+05</td> <td>    0.568</td> <td> 0.570</td> <td>-3.46e+05</td> <td> 6.28e+05</td>\n",
       "</tr>\n",
       "<tr>\n",
       "  <th>date[T.10/13/2014]</th> <td>  2.21e+05</td> <td> 2.17e+05</td> <td>    1.018</td> <td> 0.309</td> <td>-2.04e+05</td> <td> 6.46e+05</td>\n",
       "</tr>\n",
       "<tr>\n",
       "  <th>date[T.10/14/2014]</th> <td>  1.89e+05</td> <td> 2.17e+05</td> <td>    0.873</td> <td> 0.383</td> <td>-2.35e+05</td> <td> 6.13e+05</td>\n",
       "</tr>\n",
       "<tr>\n",
       "  <th>date[T.10/15/2014]</th> <td> 1.619e+05</td> <td> 2.17e+05</td> <td>    0.747</td> <td> 0.455</td> <td>-2.63e+05</td> <td> 5.86e+05</td>\n",
       "</tr>\n",
       "<tr>\n",
       "  <th>date[T.10/16/2014]</th> <td> 1.856e+05</td> <td> 2.16e+05</td> <td>    0.857</td> <td> 0.391</td> <td>-2.39e+05</td> <td>  6.1e+05</td>\n",
       "</tr>\n",
       "<tr>\n",
       "  <th>date[T.10/17/2014]</th> <td> 1.846e+05</td> <td> 2.17e+05</td> <td>    0.851</td> <td> 0.395</td> <td> -2.4e+05</td> <td> 6.09e+05</td>\n",
       "</tr>\n",
       "<tr>\n",
       "  <th>date[T.10/18/2014]</th> <td> 2.127e+05</td> <td> 2.33e+05</td> <td>    0.914</td> <td> 0.360</td> <td>-2.43e+05</td> <td> 6.69e+05</td>\n",
       "</tr>\n",
       "<tr>\n",
       "  <th>date[T.10/19/2014]</th> <td> 1.815e+05</td> <td> 2.41e+05</td> <td>    0.754</td> <td> 0.451</td> <td>-2.91e+05</td> <td> 6.54e+05</td>\n",
       "</tr>\n",
       "<tr>\n",
       "  <th>date[T.10/2/2014]</th>  <td> 1.479e+05</td> <td> 2.17e+05</td> <td>    0.682</td> <td> 0.495</td> <td>-2.77e+05</td> <td> 5.73e+05</td>\n",
       "</tr>\n",
       "<tr>\n",
       "  <th>date[T.10/20/2014]</th> <td> 2.111e+05</td> <td> 2.17e+05</td> <td>    0.975</td> <td> 0.330</td> <td>-2.13e+05</td> <td> 6.36e+05</td>\n",
       "</tr>\n",
       "<tr>\n",
       "  <th>date[T.10/21/2014]</th> <td> 1.475e+05</td> <td> 2.16e+05</td> <td>    0.682</td> <td> 0.496</td> <td>-2.77e+05</td> <td> 5.72e+05</td>\n",
       "</tr>\n",
       "<tr>\n",
       "  <th>date[T.10/22/2014]</th> <td> 1.611e+05</td> <td> 2.17e+05</td> <td>    0.744</td> <td> 0.457</td> <td>-2.64e+05</td> <td> 5.86e+05</td>\n",
       "</tr>\n",
       "<tr>\n",
       "  <th>date[T.10/23/2014]</th> <td> 1.215e+05</td> <td> 2.17e+05</td> <td>    0.560</td> <td> 0.575</td> <td>-3.03e+05</td> <td> 5.46e+05</td>\n",
       "</tr>\n",
       "<tr>\n",
       "  <th>date[T.10/24/2014]</th> <td>  1.42e+05</td> <td> 2.17e+05</td> <td>    0.654</td> <td> 0.513</td> <td>-2.84e+05</td> <td> 5.68e+05</td>\n",
       "</tr>\n",
       "<tr>\n",
       "  <th>date[T.10/25/2014]</th> <td> 1.817e+05</td> <td> 2.36e+05</td> <td>    0.770</td> <td> 0.441</td> <td>-2.81e+05</td> <td> 6.44e+05</td>\n",
       "</tr>\n",
       "<tr>\n",
       "  <th>date[T.10/26/2014]</th> <td> 8.576e+04</td> <td> 2.41e+05</td> <td>    0.356</td> <td> 0.722</td> <td>-3.86e+05</td> <td> 5.58e+05</td>\n",
       "</tr>\n",
       "<tr>\n",
       "  <th>date[T.10/27/2014]</th> <td> 1.148e+05</td> <td> 2.16e+05</td> <td>    0.530</td> <td> 0.596</td> <td>-3.09e+05</td> <td> 5.39e+05</td>\n",
       "</tr>\n",
       "<tr>\n",
       "  <th>date[T.10/28/2014]</th> <td> 1.576e+05</td> <td> 2.16e+05</td> <td>    0.729</td> <td> 0.466</td> <td>-2.66e+05</td> <td> 5.81e+05</td>\n",
       "</tr>\n",
       "<tr>\n",
       "  <th>date[T.10/29/2014]</th> <td> 1.813e+05</td> <td> 2.16e+05</td> <td>    0.837</td> <td> 0.402</td> <td>-2.43e+05</td> <td> 6.06e+05</td>\n",
       "</tr>\n",
       "<tr>\n",
       "  <th>date[T.10/3/2014]</th>  <td> 1.624e+05</td> <td> 2.17e+05</td> <td>    0.749</td> <td> 0.454</td> <td>-2.63e+05</td> <td> 5.88e+05</td>\n",
       "</tr>\n",
       "<tr>\n",
       "  <th>date[T.10/30/2014]</th> <td> 1.935e+05</td> <td> 2.17e+05</td> <td>    0.893</td> <td> 0.372</td> <td>-2.31e+05</td> <td> 6.18e+05</td>\n",
       "</tr>\n",
       "<tr>\n",
       "  <th>date[T.10/31/2014]</th> <td> 2.063e+05</td> <td> 2.18e+05</td> <td>    0.946</td> <td> 0.344</td> <td>-2.21e+05</td> <td> 6.34e+05</td>\n",
       "</tr>\n",
       "<tr>\n",
       "  <th>date[T.10/4/2014]</th>  <td> 1.004e+05</td> <td> 2.41e+05</td> <td>    0.417</td> <td> 0.677</td> <td>-3.71e+05</td> <td> 5.72e+05</td>\n",
       "</tr>\n",
       "<tr>\n",
       "  <th>date[T.10/5/2014]</th>  <td> 1.082e+05</td> <td> 2.49e+05</td> <td>    0.435</td> <td> 0.663</td> <td>-3.79e+05</td> <td> 5.95e+05</td>\n",
       "</tr>\n",
       "<tr>\n",
       "  <th>date[T.10/6/2014]</th>  <td>  1.37e+05</td> <td> 2.17e+05</td> <td>    0.632</td> <td> 0.528</td> <td>-2.88e+05</td> <td> 5.62e+05</td>\n",
       "</tr>\n",
       "<tr>\n",
       "  <th>date[T.10/7/2014]</th>  <td> 1.873e+05</td> <td> 2.16e+05</td> <td>    0.865</td> <td> 0.387</td> <td>-2.37e+05</td> <td> 6.12e+05</td>\n",
       "</tr>\n",
       "<tr>\n",
       "  <th>date[T.10/8/2014]</th>  <td> 1.681e+05</td> <td> 2.17e+05</td> <td>    0.776</td> <td> 0.438</td> <td>-2.57e+05</td> <td> 5.93e+05</td>\n",
       "</tr>\n",
       "<tr>\n",
       "  <th>date[T.10/9/2014]</th>  <td> 1.598e+05</td> <td> 2.17e+05</td> <td>    0.738</td> <td> 0.461</td> <td>-2.65e+05</td> <td> 5.84e+05</td>\n",
       "</tr>\n",
       "<tr>\n",
       "  <th>date[T.11/1/2014]</th>  <td> 3.049e+05</td> <td> 2.36e+05</td> <td>    1.293</td> <td> 0.196</td> <td>-1.57e+05</td> <td> 7.67e+05</td>\n",
       "</tr>\n",
       "<tr>\n",
       "  <th>date[T.11/10/2014]</th> <td> 2.258e+05</td> <td> 2.17e+05</td> <td>    1.043</td> <td> 0.297</td> <td>-1.99e+05</td> <td>  6.5e+05</td>\n",
       "</tr>\n",
       "<tr>\n",
       "  <th>date[T.11/11/2014]</th> <td> 1.261e+05</td> <td> 2.17e+05</td> <td>    0.580</td> <td> 0.562</td> <td>   -3e+05</td> <td> 5.52e+05</td>\n",
       "</tr>\n",
       "<tr>\n",
       "  <th>date[T.11/12/2014]</th> <td> 1.413e+05</td> <td> 2.17e+05</td> <td>    0.652</td> <td> 0.514</td> <td>-2.83e+05</td> <td> 5.66e+05</td>\n",
       "</tr>\n",
       "<tr>\n",
       "  <th>date[T.11/13/2014]</th> <td> 1.695e+05</td> <td> 2.16e+05</td> <td>    0.783</td> <td> 0.433</td> <td>-2.55e+05</td> <td> 5.94e+05</td>\n",
       "</tr>\n",
       "<tr>\n",
       "  <th>date[T.11/14/2014]</th> <td> 1.709e+05</td> <td> 2.17e+05</td> <td>    0.788</td> <td> 0.431</td> <td>-2.54e+05</td> <td> 5.96e+05</td>\n",
       "</tr>\n",
       "<tr>\n",
       "  <th>date[T.11/15/2014]</th> <td>   2.8e+05</td> <td> 2.64e+05</td> <td>    1.062</td> <td> 0.288</td> <td>-2.37e+05</td> <td> 7.97e+05</td>\n",
       "</tr>\n",
       "<tr>\n",
       "  <th>date[T.11/16/2014]</th> <td>-1.837e+04</td> <td> 2.49e+05</td> <td>   -0.074</td> <td> 0.941</td> <td>-5.06e+05</td> <td> 4.69e+05</td>\n",
       "</tr>\n",
       "<tr>\n",
       "  <th>date[T.11/17/2014]</th> <td> 1.281e+05</td> <td> 2.17e+05</td> <td>    0.592</td> <td> 0.554</td> <td>-2.96e+05</td> <td> 5.53e+05</td>\n",
       "</tr>\n",
       "<tr>\n",
       "  <th>date[T.11/18/2014]</th> <td> 1.758e+05</td> <td> 2.17e+05</td> <td>    0.812</td> <td> 0.417</td> <td>-2.49e+05</td> <td>    6e+05</td>\n",
       "</tr>\n",
       "<tr>\n",
       "  <th>date[T.11/19/2014]</th> <td> 1.886e+05</td> <td> 2.17e+05</td> <td>    0.871</td> <td> 0.384</td> <td>-2.36e+05</td> <td> 6.13e+05</td>\n",
       "</tr>\n",
       "<tr>\n",
       "  <th>date[T.11/2/2014]</th>  <td> 1.596e+05</td> <td> 3.05e+05</td> <td>    0.524</td> <td> 0.600</td> <td>-4.37e+05</td> <td> 7.56e+05</td>\n",
       "</tr>\n",
       "<tr>\n",
       "  <th>date[T.11/20/2014]</th> <td>  1.74e+05</td> <td> 2.17e+05</td> <td>    0.803</td> <td> 0.422</td> <td> -2.5e+05</td> <td> 5.98e+05</td>\n",
       "</tr>\n",
       "<tr>\n",
       "  <th>date[T.11/21/2014]</th> <td> 1.307e+05</td> <td> 2.17e+05</td> <td>    0.604</td> <td> 0.546</td> <td>-2.94e+05</td> <td> 5.55e+05</td>\n",
       "</tr>\n",
       "<tr>\n",
       "  <th>date[T.11/22/2014]</th> <td> 2.248e+05</td> <td>  2.3e+05</td> <td>    0.976</td> <td> 0.329</td> <td>-2.26e+05</td> <td> 6.76e+05</td>\n",
       "</tr>\n",
       "<tr>\n",
       "  <th>date[T.11/23/2014]</th> <td> 2.338e+05</td> <td> 2.41e+05</td> <td>    0.971</td> <td> 0.331</td> <td>-2.38e+05</td> <td> 7.06e+05</td>\n",
       "</tr>\n",
       "<tr>\n",
       "  <th>date[T.11/24/2014]</th> <td> 1.801e+05</td> <td> 2.17e+05</td> <td>    0.831</td> <td> 0.406</td> <td>-2.45e+05</td> <td> 6.05e+05</td>\n",
       "</tr>\n",
       "<tr>\n",
       "  <th>date[T.11/25/2014]</th> <td> 1.851e+05</td> <td> 2.17e+05</td> <td>    0.854</td> <td> 0.393</td> <td> -2.4e+05</td> <td>  6.1e+05</td>\n",
       "</tr>\n",
       "<tr>\n",
       "  <th>date[T.11/26/2014]</th> <td> 1.878e+05</td> <td> 2.18e+05</td> <td>    0.863</td> <td> 0.388</td> <td>-2.39e+05</td> <td> 6.14e+05</td>\n",
       "</tr>\n",
       "<tr>\n",
       "  <th>date[T.11/28/2014]</th> <td> 3.077e+05</td> <td> 2.64e+05</td> <td>    1.167</td> <td> 0.243</td> <td>-2.09e+05</td> <td> 8.25e+05</td>\n",
       "</tr>\n",
       "<tr>\n",
       "  <th>date[T.11/29/2014]</th> <td> 4.455e+04</td> <td> 2.49e+05</td> <td>    0.179</td> <td> 0.858</td> <td>-4.43e+05</td> <td> 5.32e+05</td>\n",
       "</tr>\n",
       "<tr>\n",
       "  <th>date[T.11/3/2014]</th>  <td> 1.664e+05</td> <td> 2.17e+05</td> <td>    0.768</td> <td> 0.443</td> <td>-2.58e+05</td> <td> 5.91e+05</td>\n",
       "</tr>\n",
       "<tr>\n",
       "  <th>date[T.11/30/2014]</th> <td> 4.726e+05</td> <td> 3.05e+05</td> <td>    1.552</td> <td> 0.121</td> <td>-1.24e+05</td> <td> 1.07e+06</td>\n",
       "</tr>\n",
       "<tr>\n",
       "  <th>date[T.11/4/2014]</th>  <td> 1.389e+05</td> <td> 2.17e+05</td> <td>    0.641</td> <td> 0.522</td> <td>-2.86e+05</td> <td> 5.64e+05</td>\n",
       "</tr>\n",
       "<tr>\n",
       "  <th>date[T.11/5/2014]</th>  <td> 1.452e+05</td> <td> 2.17e+05</td> <td>    0.670</td> <td> 0.503</td> <td> -2.8e+05</td> <td>  5.7e+05</td>\n",
       "</tr>\n",
       "<tr>\n",
       "  <th>date[T.11/6/2014]</th>  <td> 1.905e+05</td> <td> 2.17e+05</td> <td>    0.879</td> <td> 0.379</td> <td>-2.34e+05</td> <td> 6.15e+05</td>\n",
       "</tr>\n",
       "<tr>\n",
       "  <th>date[T.11/7/2014]</th>  <td> 1.138e+05</td> <td> 2.17e+05</td> <td>    0.525</td> <td> 0.600</td> <td>-3.11e+05</td> <td> 5.39e+05</td>\n",
       "</tr>\n",
       "<tr>\n",
       "  <th>date[T.11/8/2014]</th>  <td> 3.245e+05</td> <td> 2.36e+05</td> <td>    1.376</td> <td> 0.169</td> <td>-1.38e+05</td> <td> 7.87e+05</td>\n",
       "</tr>\n",
       "<tr>\n",
       "  <th>date[T.11/9/2014]</th>  <td> 1.034e+05</td> <td> 2.49e+05</td> <td>    0.416</td> <td> 0.677</td> <td>-3.84e+05</td> <td> 5.91e+05</td>\n",
       "</tr>\n",
       "<tr>\n",
       "  <th>date[T.12/1/2014]</th>  <td> 1.766e+05</td> <td> 2.16e+05</td> <td>    0.816</td> <td> 0.414</td> <td>-2.48e+05</td> <td> 6.01e+05</td>\n",
       "</tr>\n",
       "<tr>\n",
       "  <th>date[T.12/10/2014]</th> <td> 1.276e+05</td> <td> 2.17e+05</td> <td>    0.589</td> <td> 0.556</td> <td>-2.97e+05</td> <td> 5.52e+05</td>\n",
       "</tr>\n",
       "<tr>\n",
       "  <th>date[T.12/11/2014]</th> <td> 1.636e+05</td> <td> 2.17e+05</td> <td>    0.755</td> <td> 0.450</td> <td>-2.61e+05</td> <td> 5.88e+05</td>\n",
       "</tr>\n",
       "<tr>\n",
       "  <th>date[T.12/12/2014]</th> <td> 1.472e+05</td> <td> 2.17e+05</td> <td>    0.679</td> <td> 0.497</td> <td>-2.78e+05</td> <td> 5.72e+05</td>\n",
       "</tr>\n",
       "<tr>\n",
       "  <th>date[T.12/13/2014]</th> <td> 1.553e+05</td> <td> 2.41e+05</td> <td>    0.645</td> <td> 0.519</td> <td>-3.17e+05</td> <td> 6.27e+05</td>\n",
       "</tr>\n",
       "<tr>\n",
       "  <th>date[T.12/14/2014]</th> <td> 1.697e+05</td> <td> 2.41e+05</td> <td>    0.705</td> <td> 0.481</td> <td>-3.02e+05</td> <td> 6.41e+05</td>\n",
       "</tr>\n",
       "<tr>\n",
       "  <th>date[T.12/15/2014]</th> <td> 1.675e+05</td> <td> 2.17e+05</td> <td>    0.773</td> <td> 0.439</td> <td>-2.57e+05</td> <td> 5.92e+05</td>\n",
       "</tr>\n",
       "<tr>\n",
       "  <th>date[T.12/16/2014]</th> <td> 1.552e+05</td> <td> 2.17e+05</td> <td>    0.716</td> <td> 0.474</td> <td> -2.7e+05</td> <td>  5.8e+05</td>\n",
       "</tr>\n",
       "<tr>\n",
       "  <th>date[T.12/17/2014]</th> <td> 1.634e+05</td> <td> 2.17e+05</td> <td>    0.753</td> <td> 0.451</td> <td>-2.62e+05</td> <td> 5.89e+05</td>\n",
       "</tr>\n",
       "<tr>\n",
       "  <th>date[T.12/18/2014]</th> <td>  1.57e+05</td> <td> 2.17e+05</td> <td>    0.724</td> <td> 0.469</td> <td>-2.68e+05</td> <td> 5.82e+05</td>\n",
       "</tr>\n",
       "<tr>\n",
       "  <th>date[T.12/19/2014]</th> <td>  2.18e+05</td> <td> 2.18e+05</td> <td>    1.001</td> <td> 0.317</td> <td>-2.09e+05</td> <td> 6.45e+05</td>\n",
       "</tr>\n",
       "<tr>\n",
       "  <th>date[T.12/2/2014]</th>  <td>  1.66e+05</td> <td> 2.16e+05</td> <td>    0.767</td> <td> 0.443</td> <td>-2.58e+05</td> <td>  5.9e+05</td>\n",
       "</tr>\n",
       "<tr>\n",
       "  <th>date[T.12/20/2014]</th> <td>  6.88e+04</td> <td> 2.28e+05</td> <td>    0.301</td> <td> 0.763</td> <td>-3.79e+05</td> <td> 5.16e+05</td>\n",
       "</tr>\n",
       "<tr>\n",
       "  <th>date[T.12/21/2014]</th> <td> 2.608e+05</td> <td> 2.64e+05</td> <td>    0.989</td> <td> 0.323</td> <td>-2.56e+05</td> <td> 7.78e+05</td>\n",
       "</tr>\n",
       "<tr>\n",
       "  <th>date[T.12/22/2014]</th> <td> 1.407e+05</td> <td> 2.17e+05</td> <td>    0.649</td> <td> 0.516</td> <td>-2.84e+05</td> <td> 5.66e+05</td>\n",
       "</tr>\n",
       "<tr>\n",
       "  <th>date[T.12/23/2014]</th> <td> 1.015e+05</td> <td> 2.17e+05</td> <td>    0.467</td> <td> 0.640</td> <td>-3.24e+05</td> <td> 5.27e+05</td>\n",
       "</tr>\n",
       "<tr>\n",
       "  <th>date[T.12/24/2014]</th> <td> 1.416e+05</td> <td> 2.19e+05</td> <td>    0.647</td> <td> 0.517</td> <td>-2.87e+05</td> <td>  5.7e+05</td>\n",
       "</tr>\n",
       "<tr>\n",
       "  <th>date[T.12/26/2014]</th> <td>  1.11e+05</td> <td> 2.18e+05</td> <td>    0.509</td> <td> 0.611</td> <td>-3.16e+05</td> <td> 5.39e+05</td>\n",
       "</tr>\n",
       "<tr>\n",
       "  <th>date[T.12/27/2014]</th> <td> 5142.2681</td> <td> 2.64e+05</td> <td>    0.020</td> <td> 0.984</td> <td>-5.12e+05</td> <td> 5.22e+05</td>\n",
       "</tr>\n",
       "<tr>\n",
       "  <th>date[T.12/29/2014]</th> <td> 1.486e+05</td> <td> 2.17e+05</td> <td>    0.685</td> <td> 0.493</td> <td>-2.77e+05</td> <td> 5.74e+05</td>\n",
       "</tr>\n",
       "<tr>\n",
       "  <th>date[T.12/3/2014]</th>  <td>   1.7e+05</td> <td> 2.17e+05</td> <td>    0.785</td> <td> 0.433</td> <td>-2.55e+05</td> <td> 5.95e+05</td>\n",
       "</tr>\n",
       "<tr>\n",
       "  <th>date[T.12/30/2014]</th> <td> 2.483e+05</td> <td> 2.18e+05</td> <td>    1.140</td> <td> 0.254</td> <td>-1.79e+05</td> <td> 6.75e+05</td>\n",
       "</tr>\n",
       "<tr>\n",
       "  <th>date[T.12/31/2014]</th> <td> 1.871e+05</td> <td> 2.18e+05</td> <td>    0.860</td> <td> 0.390</td> <td> -2.4e+05</td> <td> 6.14e+05</td>\n",
       "</tr>\n",
       "<tr>\n",
       "  <th>date[T.12/4/2014]</th>  <td>  1.62e+05</td> <td> 2.17e+05</td> <td>    0.747</td> <td> 0.455</td> <td>-2.63e+05</td> <td> 5.87e+05</td>\n",
       "</tr>\n",
       "<tr>\n",
       "  <th>date[T.12/5/2014]</th>  <td> 1.798e+05</td> <td> 2.17e+05</td> <td>    0.828</td> <td> 0.408</td> <td>-2.46e+05</td> <td> 6.05e+05</td>\n",
       "</tr>\n",
       "<tr>\n",
       "  <th>date[T.12/6/2014]</th>  <td> 1.377e+05</td> <td> 2.33e+05</td> <td>    0.592</td> <td> 0.554</td> <td>-3.18e+05</td> <td> 5.94e+05</td>\n",
       "</tr>\n",
       "<tr>\n",
       "  <th>date[T.12/7/2014]</th>  <td> 1.269e+05</td> <td> 2.64e+05</td> <td>    0.481</td> <td> 0.630</td> <td> -3.9e+05</td> <td> 6.44e+05</td>\n",
       "</tr>\n",
       "<tr>\n",
       "  <th>date[T.12/8/2014]</th>  <td> 1.925e+05</td> <td> 2.17e+05</td> <td>    0.888</td> <td> 0.375</td> <td>-2.32e+05</td> <td> 6.17e+05</td>\n",
       "</tr>\n",
       "<tr>\n",
       "  <th>date[T.12/9/2014]</th>  <td> 1.685e+05</td> <td> 2.17e+05</td> <td>    0.777</td> <td> 0.437</td> <td>-2.56e+05</td> <td> 5.93e+05</td>\n",
       "</tr>\n",
       "<tr>\n",
       "  <th>date[T.2/1/2015]</th>   <td> 2.246e+05</td> <td> 2.64e+05</td> <td>    0.852</td> <td> 0.394</td> <td>-2.92e+05</td> <td> 7.41e+05</td>\n",
       "</tr>\n",
       "<tr>\n",
       "  <th>date[T.2/10/2015]</th>  <td> 1.632e+05</td> <td> 2.17e+05</td> <td>    0.751</td> <td> 0.453</td> <td>-2.63e+05</td> <td> 5.89e+05</td>\n",
       "</tr>\n",
       "<tr>\n",
       "  <th>date[T.2/11/2015]</th>  <td> 1.696e+05</td> <td> 2.17e+05</td> <td>    0.781</td> <td> 0.435</td> <td>-2.56e+05</td> <td> 5.95e+05</td>\n",
       "</tr>\n",
       "<tr>\n",
       "  <th>date[T.2/12/2015]</th>  <td>  2.34e+05</td> <td> 2.18e+05</td> <td>    1.076</td> <td> 0.282</td> <td>-1.92e+05</td> <td>  6.6e+05</td>\n",
       "</tr>\n",
       "<tr>\n",
       "  <th>date[T.2/13/2015]</th>  <td> 1.776e+05</td> <td> 2.17e+05</td> <td>    0.819</td> <td> 0.413</td> <td>-2.48e+05</td> <td> 6.03e+05</td>\n",
       "</tr>\n",
       "<tr>\n",
       "  <th>date[T.2/14/2015]</th>  <td> 1.178e+05</td> <td> 2.49e+05</td> <td>    0.474</td> <td> 0.636</td> <td> -3.7e+05</td> <td> 6.05e+05</td>\n",
       "</tr>\n",
       "<tr>\n",
       "  <th>date[T.2/15/2015]</th>  <td> 1.824e+05</td> <td> 3.04e+05</td> <td>    0.599</td> <td> 0.549</td> <td>-4.14e+05</td> <td> 7.79e+05</td>\n",
       "</tr>\n",
       "<tr>\n",
       "  <th>date[T.2/16/2015]</th>  <td>  2.13e+05</td> <td> 2.33e+05</td> <td>    0.916</td> <td> 0.360</td> <td>-2.43e+05</td> <td> 6.69e+05</td>\n",
       "</tr>\n",
       "<tr>\n",
       "  <th>date[T.2/17/2015]</th>  <td>  1.54e+05</td> <td> 2.17e+05</td> <td>    0.710</td> <td> 0.478</td> <td>-2.71e+05</td> <td> 5.79e+05</td>\n",
       "</tr>\n",
       "<tr>\n",
       "  <th>date[T.2/18/2015]</th>  <td> 1.404e+05</td> <td> 2.17e+05</td> <td>    0.648</td> <td> 0.517</td> <td>-2.84e+05</td> <td> 5.65e+05</td>\n",
       "</tr>\n",
       "<tr>\n",
       "  <th>date[T.2/19/2015]</th>  <td> 1.887e+05</td> <td> 2.17e+05</td> <td>    0.871</td> <td> 0.384</td> <td>-2.36e+05</td> <td> 6.14e+05</td>\n",
       "</tr>\n",
       "<tr>\n",
       "  <th>date[T.2/2/2015]</th>   <td> 1.787e+05</td> <td> 2.18e+05</td> <td>    0.821</td> <td> 0.411</td> <td>-2.48e+05</td> <td> 6.05e+05</td>\n",
       "</tr>\n",
       "<tr>\n",
       "  <th>date[T.2/20/2015]</th>  <td> 1.755e+05</td> <td> 2.17e+05</td> <td>    0.809</td> <td> 0.418</td> <td>-2.49e+05</td> <td>    6e+05</td>\n",
       "</tr>\n",
       "<tr>\n",
       "  <th>date[T.2/21/2015]</th>  <td> 4.634e+05</td> <td> 2.49e+05</td> <td>    1.864</td> <td> 0.062</td> <td>-2.39e+04</td> <td> 9.51e+05</td>\n",
       "</tr>\n",
       "<tr>\n",
       "  <th>date[T.2/22/2015]</th>  <td> 6.867e+04</td> <td> 2.23e+05</td> <td>    0.307</td> <td> 0.759</td> <td>-3.69e+05</td> <td> 5.07e+05</td>\n",
       "</tr>\n",
       "<tr>\n",
       "  <th>date[T.2/23/2015]</th>  <td>   1.7e+05</td> <td> 2.17e+05</td> <td>    0.784</td> <td> 0.433</td> <td>-2.55e+05</td> <td> 5.95e+05</td>\n",
       "</tr>\n",
       "<tr>\n",
       "  <th>date[T.2/24/2015]</th>  <td> 1.529e+05</td> <td> 2.16e+05</td> <td>    0.706</td> <td> 0.480</td> <td>-2.71e+05</td> <td> 5.77e+05</td>\n",
       "</tr>\n",
       "<tr>\n",
       "  <th>date[T.2/25/2015]</th>  <td> 1.922e+05</td> <td> 2.16e+05</td> <td>    0.888</td> <td> 0.374</td> <td>-2.32e+05</td> <td> 6.16e+05</td>\n",
       "</tr>\n",
       "<tr>\n",
       "  <th>date[T.2/26/2015]</th>  <td> 1.653e+05</td> <td> 2.17e+05</td> <td>    0.761</td> <td> 0.446</td> <td> -2.6e+05</td> <td> 5.91e+05</td>\n",
       "</tr>\n",
       "<tr>\n",
       "  <th>date[T.2/27/2015]</th>  <td> 2.276e+05</td> <td> 2.17e+05</td> <td>    1.047</td> <td> 0.295</td> <td>-1.99e+05</td> <td> 6.54e+05</td>\n",
       "</tr>\n",
       "<tr>\n",
       "  <th>date[T.2/28/2015]</th>  <td> 2.262e+05</td> <td> 2.36e+05</td> <td>    0.959</td> <td> 0.338</td> <td>-2.36e+05</td> <td> 6.88e+05</td>\n",
       "</tr>\n",
       "<tr>\n",
       "  <th>date[T.2/3/2015]</th>   <td> 1.272e+05</td> <td> 2.18e+05</td> <td>    0.584</td> <td> 0.559</td> <td>-2.99e+05</td> <td> 5.54e+05</td>\n",
       "</tr>\n",
       "<tr>\n",
       "  <th>date[T.2/4/2015]</th>   <td> 1.636e+05</td> <td> 2.17e+05</td> <td>    0.753</td> <td> 0.452</td> <td>-2.62e+05</td> <td>  5.9e+05</td>\n",
       "</tr>\n",
       "<tr>\n",
       "  <th>date[T.2/5/2015]</th>   <td> 1.439e+05</td> <td> 2.17e+05</td> <td>    0.662</td> <td> 0.508</td> <td>-2.82e+05</td> <td>  5.7e+05</td>\n",
       "</tr>\n",
       "<tr>\n",
       "  <th>date[T.2/6/2015]</th>   <td> 1.664e+05</td> <td> 2.17e+05</td> <td>    0.765</td> <td> 0.444</td> <td> -2.6e+05</td> <td> 5.93e+05</td>\n",
       "</tr>\n",
       "<tr>\n",
       "  <th>date[T.2/7/2015]</th>   <td> 6.639e+04</td> <td> 2.49e+05</td> <td>    0.267</td> <td> 0.789</td> <td>-4.21e+05</td> <td> 5.54e+05</td>\n",
       "</tr>\n",
       "<tr>\n",
       "  <th>date[T.2/9/2015]</th>   <td>  2.22e+05</td> <td> 2.17e+05</td> <td>    1.022</td> <td> 0.307</td> <td>-2.04e+05</td> <td> 6.48e+05</td>\n",
       "</tr>\n",
       "<tr>\n",
       "  <th>date[T.3/1/2015]</th>   <td> 2.273e+05</td> <td> 2.33e+05</td> <td>    0.977</td> <td> 0.328</td> <td>-2.29e+05</td> <td> 6.83e+05</td>\n",
       "</tr>\n",
       "<tr>\n",
       "  <th>date[T.3/10/2015]</th>  <td> 1.988e+05</td> <td> 2.17e+05</td> <td>    0.917</td> <td> 0.359</td> <td>-2.26e+05</td> <td> 6.24e+05</td>\n",
       "</tr>\n",
       "<tr>\n",
       "  <th>date[T.3/11/2015]</th>  <td> 1.818e+05</td> <td> 2.17e+05</td> <td>    0.840</td> <td> 0.401</td> <td>-2.43e+05</td> <td> 6.06e+05</td>\n",
       "</tr>\n",
       "<tr>\n",
       "  <th>date[T.3/12/2015]</th>  <td> 1.613e+05</td> <td> 2.17e+05</td> <td>    0.744</td> <td> 0.457</td> <td>-2.64e+05</td> <td> 5.86e+05</td>\n",
       "</tr>\n",
       "<tr>\n",
       "  <th>date[T.3/13/2015]</th>  <td> 2.624e+05</td> <td> 2.17e+05</td> <td>    1.210</td> <td> 0.226</td> <td>-1.63e+05</td> <td> 6.87e+05</td>\n",
       "</tr>\n",
       "<tr>\n",
       "  <th>date[T.3/14/2015]</th>  <td> 2.107e+05</td> <td> 2.33e+05</td> <td>    0.906</td> <td> 0.365</td> <td>-2.45e+05</td> <td> 6.67e+05</td>\n",
       "</tr>\n",
       "<tr>\n",
       "  <th>date[T.3/15/2015]</th>  <td> 2.133e+05</td> <td> 2.49e+05</td> <td>    0.858</td> <td> 0.391</td> <td>-2.74e+05</td> <td> 7.01e+05</td>\n",
       "</tr>\n",
       "<tr>\n",
       "  <th>date[T.3/16/2015]</th>  <td> 2.302e+05</td> <td> 2.17e+05</td> <td>    1.063</td> <td> 0.288</td> <td>-1.94e+05</td> <td> 6.55e+05</td>\n",
       "</tr>\n",
       "<tr>\n",
       "  <th>date[T.3/17/2015]</th>  <td> 1.942e+05</td> <td> 2.16e+05</td> <td>    0.897</td> <td> 0.369</td> <td> -2.3e+05</td> <td> 6.18e+05</td>\n",
       "</tr>\n",
       "<tr>\n",
       "  <th>date[T.3/18/2015]</th>  <td> 1.765e+05</td> <td> 2.16e+05</td> <td>    0.816</td> <td> 0.415</td> <td>-2.48e+05</td> <td> 6.01e+05</td>\n",
       "</tr>\n",
       "<tr>\n",
       "  <th>date[T.3/19/2015]</th>  <td> 1.994e+05</td> <td> 2.17e+05</td> <td>    0.920</td> <td> 0.358</td> <td>-2.26e+05</td> <td> 6.24e+05</td>\n",
       "</tr>\n",
       "<tr>\n",
       "  <th>date[T.3/2/2015]</th>   <td> 2.571e+05</td> <td> 2.18e+05</td> <td>    1.181</td> <td> 0.238</td> <td> -1.7e+05</td> <td> 6.84e+05</td>\n",
       "</tr>\n",
       "<tr>\n",
       "  <th>date[T.3/20/2015]</th>  <td> 1.568e+05</td> <td> 2.17e+05</td> <td>    0.723</td> <td> 0.470</td> <td>-2.69e+05</td> <td> 5.82e+05</td>\n",
       "</tr>\n",
       "<tr>\n",
       "  <th>date[T.3/21/2015]</th>  <td> 2.599e+05</td> <td> 2.22e+05</td> <td>    1.169</td> <td> 0.243</td> <td>-1.76e+05</td> <td> 6.96e+05</td>\n",
       "</tr>\n",
       "<tr>\n",
       "  <th>date[T.3/22/2015]</th>  <td> 3.136e+05</td> <td> 2.41e+05</td> <td>    1.303</td> <td> 0.193</td> <td>-1.58e+05</td> <td> 7.85e+05</td>\n",
       "</tr>\n",
       "<tr>\n",
       "  <th>date[T.3/23/2015]</th>  <td> 1.881e+05</td> <td> 2.16e+05</td> <td>    0.869</td> <td> 0.385</td> <td>-2.36e+05</td> <td> 6.12e+05</td>\n",
       "</tr>\n",
       "<tr>\n",
       "  <th>date[T.3/24/2015]</th>  <td> 1.839e+05</td> <td> 2.16e+05</td> <td>    0.850</td> <td> 0.395</td> <td> -2.4e+05</td> <td> 6.08e+05</td>\n",
       "</tr>\n",
       "<tr>\n",
       "  <th>date[T.3/25/2015]</th>  <td> 2.012e+05</td> <td> 2.16e+05</td> <td>    0.931</td> <td> 0.352</td> <td>-2.23e+05</td> <td> 6.25e+05</td>\n",
       "</tr>\n",
       "<tr>\n",
       "  <th>date[T.3/26/2015]</th>  <td> 2.141e+05</td> <td> 2.16e+05</td> <td>    0.990</td> <td> 0.322</td> <td> -2.1e+05</td> <td> 6.38e+05</td>\n",
       "</tr>\n",
       "<tr>\n",
       "  <th>date[T.3/27/2015]</th>  <td> 2.022e+05</td> <td> 2.16e+05</td> <td>    0.935</td> <td> 0.350</td> <td>-2.22e+05</td> <td> 6.26e+05</td>\n",
       "</tr>\n",
       "<tr>\n",
       "  <th>date[T.3/28/2015]</th>  <td> 1.843e+05</td> <td> 2.28e+05</td> <td>    0.807</td> <td> 0.420</td> <td>-2.63e+05</td> <td> 6.32e+05</td>\n",
       "</tr>\n",
       "<tr>\n",
       "  <th>date[T.3/29/2015]</th>  <td> 1.201e+05</td> <td> 2.28e+05</td> <td>    0.526</td> <td> 0.599</td> <td>-3.28e+05</td> <td> 5.68e+05</td>\n",
       "</tr>\n",
       "<tr>\n",
       "  <th>date[T.3/3/2015]</th>   <td>  2.62e+05</td> <td> 2.17e+05</td> <td>    1.208</td> <td> 0.227</td> <td>-1.63e+05</td> <td> 6.87e+05</td>\n",
       "</tr>\n",
       "<tr>\n",
       "  <th>date[T.3/30/2015]</th>  <td> 2.034e+05</td> <td> 2.16e+05</td> <td>    0.939</td> <td> 0.348</td> <td>-2.21e+05</td> <td> 6.28e+05</td>\n",
       "</tr>\n",
       "<tr>\n",
       "  <th>date[T.3/31/2015]</th>  <td> 2.504e+05</td> <td> 2.17e+05</td> <td>    1.155</td> <td> 0.248</td> <td>-1.75e+05</td> <td> 6.75e+05</td>\n",
       "</tr>\n",
       "<tr>\n",
       "  <th>date[T.3/4/2015]</th>   <td> 1.864e+05</td> <td> 2.16e+05</td> <td>    0.861</td> <td> 0.389</td> <td>-2.38e+05</td> <td> 6.11e+05</td>\n",
       "</tr>\n",
       "<tr>\n",
       "  <th>date[T.3/5/2015]</th>   <td> 1.801e+05</td> <td> 2.17e+05</td> <td>    0.831</td> <td> 0.406</td> <td>-2.45e+05</td> <td> 6.05e+05</td>\n",
       "</tr>\n",
       "<tr>\n",
       "  <th>date[T.3/6/2015]</th>   <td> 1.975e+05</td> <td> 2.17e+05</td> <td>    0.909</td> <td> 0.363</td> <td>-2.28e+05</td> <td> 6.23e+05</td>\n",
       "</tr>\n",
       "<tr>\n",
       "  <th>date[T.3/7/2015]</th>   <td> 1.449e+05</td> <td> 2.41e+05</td> <td>    0.602</td> <td> 0.547</td> <td>-3.27e+05</td> <td> 6.17e+05</td>\n",
       "</tr>\n",
       "<tr>\n",
       "  <th>date[T.3/8/2015]</th>   <td> 1.873e+05</td> <td> 3.05e+05</td> <td>    0.615</td> <td> 0.539</td> <td> -4.1e+05</td> <td> 7.84e+05</td>\n",
       "</tr>\n",
       "<tr>\n",
       "  <th>date[T.3/9/2015]</th>   <td> 1.814e+05</td> <td> 2.17e+05</td> <td>    0.836</td> <td> 0.403</td> <td>-2.44e+05</td> <td> 6.06e+05</td>\n",
       "</tr>\n",
       "<tr>\n",
       "  <th>date[T.4/1/2015]</th>   <td> 2.253e+05</td> <td> 2.17e+05</td> <td>    1.041</td> <td> 0.298</td> <td>-1.99e+05</td> <td>  6.5e+05</td>\n",
       "</tr>\n",
       "<tr>\n",
       "  <th>date[T.4/10/2015]</th>  <td>  2.21e+05</td> <td> 2.17e+05</td> <td>    1.020</td> <td> 0.308</td> <td>-2.04e+05</td> <td> 6.46e+05</td>\n",
       "</tr>\n",
       "<tr>\n",
       "  <th>date[T.4/11/2015]</th>  <td> 1.601e+05</td> <td> 2.23e+05</td> <td>    0.717</td> <td> 0.474</td> <td>-2.78e+05</td> <td> 5.98e+05</td>\n",
       "</tr>\n",
       "<tr>\n",
       "  <th>date[T.4/12/2015]</th>  <td> 1.337e+05</td> <td> 2.23e+05</td> <td>    0.598</td> <td> 0.550</td> <td>-3.04e+05</td> <td> 5.72e+05</td>\n",
       "</tr>\n",
       "<tr>\n",
       "  <th>date[T.4/13/2015]</th>  <td>  2.71e+05</td> <td> 2.17e+05</td> <td>    1.252</td> <td> 0.211</td> <td>-1.53e+05</td> <td> 6.95e+05</td>\n",
       "</tr>\n",
       "<tr>\n",
       "  <th>date[T.4/14/2015]</th>  <td> 1.868e+05</td> <td> 2.16e+05</td> <td>    0.864</td> <td> 0.388</td> <td>-2.37e+05</td> <td> 6.11e+05</td>\n",
       "</tr>\n",
       "<tr>\n",
       "  <th>date[T.4/15/2015]</th>  <td>  2.08e+05</td> <td> 2.17e+05</td> <td>    0.960</td> <td> 0.337</td> <td>-2.17e+05</td> <td> 6.33e+05</td>\n",
       "</tr>\n",
       "<tr>\n",
       "  <th>date[T.4/16/2015]</th>  <td>   1.6e+05</td> <td> 2.17e+05</td> <td>    0.738</td> <td> 0.460</td> <td>-2.65e+05</td> <td> 5.85e+05</td>\n",
       "</tr>\n",
       "<tr>\n",
       "  <th>date[T.4/17/2015]</th>  <td> 1.928e+05</td> <td> 2.17e+05</td> <td>    0.890</td> <td> 0.373</td> <td>-2.32e+05</td> <td> 6.17e+05</td>\n",
       "</tr>\n",
       "<tr>\n",
       "  <th>date[T.4/18/2015]</th>  <td> 2.849e+05</td> <td> 2.36e+05</td> <td>    1.208</td> <td> 0.227</td> <td>-1.77e+05</td> <td> 7.47e+05</td>\n",
       "</tr>\n",
       "<tr>\n",
       "  <th>date[T.4/19/2015]</th>  <td> 1.868e+05</td> <td> 2.33e+05</td> <td>    0.803</td> <td> 0.422</td> <td>-2.69e+05</td> <td> 6.43e+05</td>\n",
       "</tr>\n",
       "<tr>\n",
       "  <th>date[T.4/2/2015]</th>   <td> 2.124e+05</td> <td> 2.16e+05</td> <td>    0.982</td> <td> 0.326</td> <td>-2.12e+05</td> <td> 6.36e+05</td>\n",
       "</tr>\n",
       "<tr>\n",
       "  <th>date[T.4/20/2015]</th>  <td> 1.708e+05</td> <td> 2.17e+05</td> <td>    0.788</td> <td> 0.431</td> <td>-2.54e+05</td> <td> 5.96e+05</td>\n",
       "</tr>\n",
       "<tr>\n",
       "  <th>date[T.4/21/2015]</th>  <td> 2.129e+05</td> <td> 2.16e+05</td> <td>    0.985</td> <td> 0.325</td> <td>-2.11e+05</td> <td> 6.37e+05</td>\n",
       "</tr>\n",
       "<tr>\n",
       "  <th>date[T.4/22/2015]</th>  <td> 1.829e+05</td> <td> 2.16e+05</td> <td>    0.846</td> <td> 0.398</td> <td>-2.41e+05</td> <td> 6.07e+05</td>\n",
       "</tr>\n",
       "<tr>\n",
       "  <th>date[T.4/23/2015]</th>  <td> 2.019e+05</td> <td> 2.16e+05</td> <td>    0.933</td> <td> 0.351</td> <td>-2.22e+05</td> <td> 6.26e+05</td>\n",
       "</tr>\n",
       "<tr>\n",
       "  <th>date[T.4/24/2015]</th>  <td>  2.06e+05</td> <td> 2.16e+05</td> <td>    0.952</td> <td> 0.341</td> <td>-2.18e+05</td> <td>  6.3e+05</td>\n",
       "</tr>\n",
       "<tr>\n",
       "  <th>date[T.4/25/2015]</th>  <td> 2.403e+05</td> <td> 2.22e+05</td> <td>    1.083</td> <td> 0.279</td> <td>-1.95e+05</td> <td> 6.75e+05</td>\n",
       "</tr>\n",
       "<tr>\n",
       "  <th>date[T.4/26/2015]</th>  <td> 1.504e+05</td> <td> 2.23e+05</td> <td>    0.673</td> <td> 0.501</td> <td>-2.88e+05</td> <td> 5.88e+05</td>\n",
       "</tr>\n",
       "<tr>\n",
       "  <th>date[T.4/27/2015]</th>  <td> 1.786e+05</td> <td> 2.16e+05</td> <td>    0.826</td> <td> 0.409</td> <td>-2.45e+05</td> <td> 6.02e+05</td>\n",
       "</tr>\n",
       "<tr>\n",
       "  <th>date[T.4/28/2015]</th>  <td> 2.125e+05</td> <td> 2.16e+05</td> <td>    0.983</td> <td> 0.326</td> <td>-2.11e+05</td> <td> 6.36e+05</td>\n",
       "</tr>\n",
       "<tr>\n",
       "  <th>date[T.4/29/2015]</th>  <td> 2.212e+05</td> <td> 2.16e+05</td> <td>    1.023</td> <td> 0.306</td> <td>-2.03e+05</td> <td> 6.45e+05</td>\n",
       "</tr>\n",
       "<tr>\n",
       "  <th>date[T.4/3/2015]</th>   <td> 2.221e+05</td> <td> 2.17e+05</td> <td>    1.025</td> <td> 0.306</td> <td>-2.03e+05</td> <td> 6.47e+05</td>\n",
       "</tr>\n",
       "<tr>\n",
       "  <th>date[T.4/30/2015]</th>  <td> 1.744e+05</td> <td> 2.17e+05</td> <td>    0.805</td> <td> 0.421</td> <td> -2.5e+05</td> <td> 5.99e+05</td>\n",
       "</tr>\n",
       "<tr>\n",
       "  <th>date[T.4/4/2015]</th>   <td> 2.626e+05</td> <td> 2.41e+05</td> <td>    1.091</td> <td> 0.275</td> <td>-2.09e+05</td> <td> 7.34e+05</td>\n",
       "</tr>\n",
       "<tr>\n",
       "  <th>date[T.4/5/2015]</th>   <td> 2.628e+05</td> <td> 2.33e+05</td> <td>    1.130</td> <td> 0.258</td> <td>-1.93e+05</td> <td> 7.19e+05</td>\n",
       "</tr>\n",
       "<tr>\n",
       "  <th>date[T.4/6/2015]</th>   <td> 1.929e+05</td> <td> 2.17e+05</td> <td>    0.891</td> <td> 0.373</td> <td>-2.32e+05</td> <td> 6.17e+05</td>\n",
       "</tr>\n",
       "<tr>\n",
       "  <th>date[T.4/7/2015]</th>   <td> 2.514e+05</td> <td> 2.16e+05</td> <td>    1.162</td> <td> 0.245</td> <td>-1.73e+05</td> <td> 6.76e+05</td>\n",
       "</tr>\n",
       "<tr>\n",
       "  <th>date[T.4/8/2015]</th>   <td>  2.32e+05</td> <td> 2.16e+05</td> <td>    1.073</td> <td> 0.283</td> <td>-1.92e+05</td> <td> 6.56e+05</td>\n",
       "</tr>\n",
       "<tr>\n",
       "  <th>date[T.4/9/2015]</th>   <td> 1.792e+05</td> <td> 2.16e+05</td> <td>    0.828</td> <td> 0.408</td> <td>-2.45e+05</td> <td> 6.03e+05</td>\n",
       "</tr>\n",
       "<tr>\n",
       "  <th>date[T.5/1/2015]</th>   <td> 2.372e+05</td> <td> 2.17e+05</td> <td>    1.095</td> <td> 0.274</td> <td>-1.88e+05</td> <td> 6.62e+05</td>\n",
       "</tr>\n",
       "<tr>\n",
       "  <th>date[T.5/10/2014]</th>  <td> 1.426e+05</td> <td> 2.36e+05</td> <td>    0.605</td> <td> 0.545</td> <td> -3.2e+05</td> <td> 6.05e+05</td>\n",
       "</tr>\n",
       "<tr>\n",
       "  <th>date[T.5/10/2015]</th>  <td>  1.22e+05</td> <td> 2.64e+05</td> <td>    0.463</td> <td> 0.643</td> <td>-3.95e+05</td> <td> 6.39e+05</td>\n",
       "</tr>\n",
       "<tr>\n",
       "  <th>date[T.5/11/2014]</th>  <td> 1.735e+05</td> <td> 2.64e+05</td> <td>    0.658</td> <td> 0.510</td> <td>-3.43e+05</td> <td>  6.9e+05</td>\n",
       "</tr>\n",
       "<tr>\n",
       "  <th>date[T.5/11/2015]</th>  <td> 2.502e+05</td> <td> 2.18e+05</td> <td>    1.148</td> <td> 0.251</td> <td>-1.77e+05</td> <td> 6.77e+05</td>\n",
       "</tr>\n",
       "<tr>\n",
       "  <th>date[T.5/12/2014]</th>  <td> 1.798e+05</td> <td> 2.17e+05</td> <td>    0.830</td> <td> 0.407</td> <td>-2.45e+05</td> <td> 6.04e+05</td>\n",
       "</tr>\n",
       "<tr>\n",
       "  <th>date[T.5/12/2015]</th>  <td> 2.205e+05</td> <td> 2.17e+05</td> <td>    1.014</td> <td> 0.311</td> <td>-2.06e+05</td> <td> 6.47e+05</td>\n",
       "</tr>\n",
       "<tr>\n",
       "  <th>date[T.5/13/2014]</th>  <td> 2.143e+05</td> <td> 2.17e+05</td> <td>    0.990</td> <td> 0.322</td> <td> -2.1e+05</td> <td> 6.39e+05</td>\n",
       "</tr>\n",
       "<tr>\n",
       "  <th>date[T.5/13/2015]</th>  <td> 1.908e+05</td> <td> 2.19e+05</td> <td>    0.872</td> <td> 0.383</td> <td>-2.38e+05</td> <td>  6.2e+05</td>\n",
       "</tr>\n",
       "<tr>\n",
       "  <th>date[T.5/14/2014]</th>  <td>  1.51e+05</td> <td> 2.17e+05</td> <td>    0.697</td> <td> 0.486</td> <td>-2.74e+05</td> <td> 5.76e+05</td>\n",
       "</tr>\n",
       "<tr>\n",
       "  <th>date[T.5/14/2015]</th>  <td> 2.772e+05</td> <td> 2.25e+05</td> <td>    1.233</td> <td> 0.218</td> <td>-1.64e+05</td> <td> 7.18e+05</td>\n",
       "</tr>\n",
       "<tr>\n",
       "  <th>date[T.5/15/2014]</th>  <td> 1.716e+05</td> <td> 2.17e+05</td> <td>    0.792</td> <td> 0.428</td> <td>-2.53e+05</td> <td> 5.96e+05</td>\n",
       "</tr>\n",
       "<tr>\n",
       "  <th>date[T.5/15/2015]</th>  <td> 2.522e+05</td> <td> 3.04e+05</td> <td>    0.828</td> <td> 0.408</td> <td>-3.45e+05</td> <td> 8.49e+05</td>\n",
       "</tr>\n",
       "<tr>\n",
       "  <th>date[T.5/16/2014]</th>  <td> 1.426e+05</td> <td> 2.17e+05</td> <td>    0.658</td> <td> 0.511</td> <td>-2.82e+05</td> <td> 5.67e+05</td>\n",
       "</tr>\n",
       "<tr>\n",
       "  <th>date[T.5/17/2014]</th>  <td> 2.429e+05</td> <td> 3.05e+05</td> <td>    0.798</td> <td> 0.425</td> <td>-3.54e+05</td> <td>  8.4e+05</td>\n",
       "</tr>\n",
       "<tr>\n",
       "  <th>date[T.5/18/2014]</th>  <td> 1.545e+05</td> <td>  2.3e+05</td> <td>    0.671</td> <td> 0.502</td> <td>-2.97e+05</td> <td> 6.06e+05</td>\n",
       "</tr>\n",
       "<tr>\n",
       "  <th>date[T.5/19/2014]</th>  <td> 1.605e+05</td> <td> 2.17e+05</td> <td>    0.741</td> <td> 0.459</td> <td>-2.64e+05</td> <td> 5.85e+05</td>\n",
       "</tr>\n",
       "<tr>\n",
       "  <th>date[T.5/2/2014]</th>   <td> 1.478e+05</td> <td> 2.17e+05</td> <td>    0.681</td> <td> 0.496</td> <td>-2.77e+05</td> <td> 5.73e+05</td>\n",
       "</tr>\n",
       "<tr>\n",
       "  <th>date[T.5/2/2015]</th>   <td> 2.065e+05</td> <td> 2.33e+05</td> <td>    0.888</td> <td> 0.375</td> <td>-2.49e+05</td> <td> 6.62e+05</td>\n",
       "</tr>\n",
       "<tr>\n",
       "  <th>date[T.5/20/2014]</th>  <td> 1.618e+05</td> <td> 2.16e+05</td> <td>    0.748</td> <td> 0.454</td> <td>-2.62e+05</td> <td> 5.86e+05</td>\n",
       "</tr>\n",
       "<tr>\n",
       "  <th>date[T.5/21/2014]</th>  <td> 1.639e+05</td> <td> 2.16e+05</td> <td>    0.757</td> <td> 0.449</td> <td> -2.6e+05</td> <td> 5.88e+05</td>\n",
       "</tr>\n",
       "<tr>\n",
       "  <th>date[T.5/22/2014]</th>  <td> 1.465e+05</td> <td> 2.16e+05</td> <td>    0.677</td> <td> 0.499</td> <td>-2.78e+05</td> <td> 5.71e+05</td>\n",
       "</tr>\n",
       "<tr>\n",
       "  <th>date[T.5/23/2014]</th>  <td> 1.596e+05</td> <td> 2.17e+05</td> <td>    0.737</td> <td> 0.461</td> <td>-2.65e+05</td> <td> 5.84e+05</td>\n",
       "</tr>\n",
       "<tr>\n",
       "  <th>date[T.5/24/2014]</th>  <td> 1.749e+05</td> <td> 2.25e+05</td> <td>    0.778</td> <td> 0.437</td> <td>-2.66e+05</td> <td> 6.16e+05</td>\n",
       "</tr>\n",
       "<tr>\n",
       "  <th>date[T.5/24/2015]</th>  <td> 3.027e+05</td> <td> 3.05e+05</td> <td>    0.994</td> <td> 0.320</td> <td>-2.94e+05</td> <td>    9e+05</td>\n",
       "</tr>\n",
       "<tr>\n",
       "  <th>date[T.5/25/2014]</th>  <td> 1.867e+04</td> <td> 2.36e+05</td> <td>    0.079</td> <td> 0.937</td> <td>-4.44e+05</td> <td> 4.81e+05</td>\n",
       "</tr>\n",
       "<tr>\n",
       "  <th>date[T.5/26/2014]</th>  <td> 1.827e+05</td> <td> 2.28e+05</td> <td>    0.800</td> <td> 0.424</td> <td>-2.65e+05</td> <td>  6.3e+05</td>\n",
       "</tr>\n",
       "<tr>\n",
       "  <th>date[T.5/27/2014]</th>  <td> 1.798e+05</td> <td> 2.16e+05</td> <td>    0.831</td> <td> 0.406</td> <td>-2.44e+05</td> <td> 6.04e+05</td>\n",
       "</tr>\n",
       "<tr>\n",
       "  <th>date[T.5/27/2015]</th>  <td>  4.36e+05</td> <td> 3.05e+05</td> <td>    1.432</td> <td> 0.152</td> <td>-1.61e+05</td> <td> 1.03e+06</td>\n",
       "</tr>\n",
       "<tr>\n",
       "  <th>date[T.5/28/2014]</th>  <td> 1.629e+05</td> <td> 2.16e+05</td> <td>    0.753</td> <td> 0.451</td> <td>-2.61e+05</td> <td> 5.87e+05</td>\n",
       "</tr>\n",
       "<tr>\n",
       "  <th>date[T.5/29/2014]</th>  <td> 1.796e+05</td> <td> 2.17e+05</td> <td>    0.829</td> <td> 0.407</td> <td>-2.45e+05</td> <td> 6.04e+05</td>\n",
       "</tr>\n",
       "<tr>\n",
       "  <th>date[T.5/3/2014]</th>   <td> 3.148e+05</td> <td> 2.41e+05</td> <td>    1.308</td> <td> 0.191</td> <td>-1.57e+05</td> <td> 7.87e+05</td>\n",
       "</tr>\n",
       "<tr>\n",
       "  <th>date[T.5/3/2015]</th>   <td>  2.37e+05</td> <td> 2.26e+05</td> <td>    1.049</td> <td> 0.294</td> <td>-2.06e+05</td> <td>  6.8e+05</td>\n",
       "</tr>\n",
       "<tr>\n",
       "  <th>date[T.5/30/2014]</th>  <td> 1.978e+05</td> <td> 2.17e+05</td> <td>    0.912</td> <td> 0.362</td> <td>-2.27e+05</td> <td> 6.23e+05</td>\n",
       "</tr>\n",
       "<tr>\n",
       "  <th>date[T.5/31/2014]</th>  <td> 1.722e+05</td> <td> 2.33e+05</td> <td>    0.740</td> <td> 0.459</td> <td>-2.84e+05</td> <td> 6.28e+05</td>\n",
       "</tr>\n",
       "<tr>\n",
       "  <th>date[T.5/4/2014]</th>   <td> 2.634e+04</td> <td> 2.36e+05</td> <td>    0.112</td> <td> 0.911</td> <td>-4.36e+05</td> <td> 4.89e+05</td>\n",
       "</tr>\n",
       "<tr>\n",
       "  <th>date[T.5/4/2015]</th>   <td> 1.947e+05</td> <td> 2.16e+05</td> <td>    0.900</td> <td> 0.368</td> <td>-2.29e+05</td> <td> 6.19e+05</td>\n",
       "</tr>\n",
       "<tr>\n",
       "  <th>date[T.5/5/2014]</th>   <td> 1.789e+05</td> <td> 2.17e+05</td> <td>    0.826</td> <td> 0.409</td> <td>-2.46e+05</td> <td> 6.03e+05</td>\n",
       "</tr>\n",
       "<tr>\n",
       "  <th>date[T.5/5/2015]</th>   <td> 2.045e+05</td> <td> 2.16e+05</td> <td>    0.945</td> <td> 0.345</td> <td> -2.2e+05</td> <td> 6.29e+05</td>\n",
       "</tr>\n",
       "<tr>\n",
       "  <th>date[T.5/6/2014]</th>   <td> 1.726e+05</td> <td> 2.17e+05</td> <td>    0.797</td> <td> 0.425</td> <td>-2.52e+05</td> <td> 5.97e+05</td>\n",
       "</tr>\n",
       "<tr>\n",
       "  <th>date[T.5/6/2015]</th>   <td> 2.244e+05</td> <td> 2.17e+05</td> <td>    1.036</td> <td> 0.300</td> <td>   -2e+05</td> <td> 6.49e+05</td>\n",
       "</tr>\n",
       "<tr>\n",
       "  <th>date[T.5/7/2014]</th>   <td> 1.655e+05</td> <td> 2.16e+05</td> <td>    0.764</td> <td> 0.445</td> <td>-2.59e+05</td> <td>  5.9e+05</td>\n",
       "</tr>\n",
       "<tr>\n",
       "  <th>date[T.5/7/2015]</th>   <td> 2.174e+05</td> <td> 2.17e+05</td> <td>    1.003</td> <td> 0.316</td> <td>-2.07e+05</td> <td> 6.42e+05</td>\n",
       "</tr>\n",
       "<tr>\n",
       "  <th>date[T.5/8/2014]</th>   <td> 1.923e+05</td> <td> 2.17e+05</td> <td>    0.888</td> <td> 0.375</td> <td>-2.32e+05</td> <td> 6.17e+05</td>\n",
       "</tr>\n",
       "<tr>\n",
       "  <th>date[T.5/8/2015]</th>   <td> 2.249e+05</td> <td> 2.17e+05</td> <td>    1.035</td> <td> 0.301</td> <td>-2.01e+05</td> <td> 6.51e+05</td>\n",
       "</tr>\n",
       "<tr>\n",
       "  <th>date[T.5/9/2014]</th>   <td> 1.307e+05</td> <td> 2.17e+05</td> <td>    0.603</td> <td> 0.546</td> <td>-2.94e+05</td> <td> 5.55e+05</td>\n",
       "</tr>\n",
       "<tr>\n",
       "  <th>date[T.5/9/2015]</th>   <td> 1.885e+05</td> <td> 2.49e+05</td> <td>    0.758</td> <td> 0.448</td> <td>-2.99e+05</td> <td> 6.76e+05</td>\n",
       "</tr>\n",
       "<tr>\n",
       "  <th>date[T.6/1/2014]</th>   <td> 2.602e+05</td> <td>  2.3e+05</td> <td>    1.130</td> <td> 0.258</td> <td>-1.91e+05</td> <td> 7.11e+05</td>\n",
       "</tr>\n",
       "<tr>\n",
       "  <th>date[T.6/10/2014]</th>  <td> 1.704e+05</td> <td> 2.16e+05</td> <td>    0.787</td> <td> 0.431</td> <td>-2.54e+05</td> <td> 5.95e+05</td>\n",
       "</tr>\n",
       "<tr>\n",
       "  <th>date[T.6/11/2014]</th>  <td> 1.903e+05</td> <td> 2.16e+05</td> <td>    0.879</td> <td> 0.379</td> <td>-2.34e+05</td> <td> 6.15e+05</td>\n",
       "</tr>\n",
       "<tr>\n",
       "  <th>date[T.6/12/2014]</th>  <td> 1.783e+05</td> <td> 2.17e+05</td> <td>    0.824</td> <td> 0.410</td> <td>-2.46e+05</td> <td> 6.03e+05</td>\n",
       "</tr>\n",
       "<tr>\n",
       "  <th>date[T.6/13/2014]</th>  <td> 1.828e+05</td> <td> 2.17e+05</td> <td>    0.844</td> <td> 0.399</td> <td>-2.42e+05</td> <td> 6.07e+05</td>\n",
       "</tr>\n",
       "<tr>\n",
       "  <th>date[T.6/14/2014]</th>  <td> 2.006e+05</td> <td> 2.28e+05</td> <td>    0.878</td> <td> 0.380</td> <td>-2.47e+05</td> <td> 6.48e+05</td>\n",
       "</tr>\n",
       "<tr>\n",
       "  <th>date[T.6/15/2014]</th>  <td> 2.103e+05</td> <td>  2.3e+05</td> <td>    0.913</td> <td> 0.361</td> <td>-2.41e+05</td> <td> 6.61e+05</td>\n",
       "</tr>\n",
       "<tr>\n",
       "  <th>date[T.6/16/2014]</th>  <td> 1.785e+05</td> <td> 2.16e+05</td> <td>    0.825</td> <td> 0.410</td> <td>-2.46e+05</td> <td> 6.03e+05</td>\n",
       "</tr>\n",
       "<tr>\n",
       "  <th>date[T.6/17/2014]</th>  <td> 2.035e+05</td> <td> 2.16e+05</td> <td>    0.941</td> <td> 0.347</td> <td> -2.2e+05</td> <td> 6.27e+05</td>\n",
       "</tr>\n",
       "<tr>\n",
       "  <th>date[T.6/18/2014]</th>  <td> 1.862e+05</td> <td> 2.16e+05</td> <td>    0.860</td> <td> 0.390</td> <td>-2.38e+05</td> <td>  6.1e+05</td>\n",
       "</tr>\n",
       "<tr>\n",
       "  <th>date[T.6/19/2014]</th>  <td> 1.565e+05</td> <td> 2.16e+05</td> <td>    0.723</td> <td> 0.469</td> <td>-2.68e+05</td> <td> 5.81e+05</td>\n",
       "</tr>\n",
       "<tr>\n",
       "  <th>date[T.6/2/2014]</th>   <td> 1.705e+05</td> <td> 2.17e+05</td> <td>    0.787</td> <td> 0.431</td> <td>-2.54e+05</td> <td> 5.95e+05</td>\n",
       "</tr>\n",
       "<tr>\n",
       "  <th>date[T.6/20/2014]</th>  <td> 1.759e+05</td> <td> 2.16e+05</td> <td>    0.813</td> <td> 0.416</td> <td>-2.48e+05</td> <td>    6e+05</td>\n",
       "</tr>\n",
       "<tr>\n",
       "  <th>date[T.6/21/2014]</th>  <td> 2.685e+05</td> <td> 2.28e+05</td> <td>    1.176</td> <td> 0.240</td> <td>-1.79e+05</td> <td> 7.16e+05</td>\n",
       "</tr>\n",
       "<tr>\n",
       "  <th>date[T.6/22/2014]</th>  <td> 1.334e+05</td> <td> 2.24e+05</td> <td>    0.595</td> <td> 0.552</td> <td>-3.06e+05</td> <td> 5.73e+05</td>\n",
       "</tr>\n",
       "<tr>\n",
       "  <th>date[T.6/23/2014]</th>  <td> 1.531e+05</td> <td> 2.16e+05</td> <td>    0.708</td> <td> 0.479</td> <td> -2.7e+05</td> <td> 5.77e+05</td>\n",
       "</tr>\n",
       "<tr>\n",
       "  <th>date[T.6/24/2014]</th>  <td> 1.741e+05</td> <td> 2.16e+05</td> <td>    0.805</td> <td> 0.421</td> <td> -2.5e+05</td> <td> 5.98e+05</td>\n",
       "</tr>\n",
       "<tr>\n",
       "  <th>date[T.6/25/2014]</th>  <td>  1.73e+05</td> <td> 2.16e+05</td> <td>    0.801</td> <td> 0.423</td> <td>-2.51e+05</td> <td> 5.97e+05</td>\n",
       "</tr>\n",
       "<tr>\n",
       "  <th>date[T.6/26/2014]</th>  <td> 1.337e+05</td> <td> 2.16e+05</td> <td>    0.619</td> <td> 0.536</td> <td> -2.9e+05</td> <td> 5.57e+05</td>\n",
       "</tr>\n",
       "<tr>\n",
       "  <th>date[T.6/27/2014]</th>  <td> 1.196e+05</td> <td> 2.16e+05</td> <td>    0.553</td> <td> 0.580</td> <td>-3.05e+05</td> <td> 5.44e+05</td>\n",
       "</tr>\n",
       "<tr>\n",
       "  <th>date[T.6/28/2014]</th>  <td> 1.799e+05</td> <td> 2.23e+05</td> <td>    0.805</td> <td> 0.421</td> <td>-2.58e+05</td> <td> 6.18e+05</td>\n",
       "</tr>\n",
       "<tr>\n",
       "  <th>date[T.6/29/2014]</th>  <td> 1.233e+05</td> <td>  2.3e+05</td> <td>    0.536</td> <td> 0.592</td> <td>-3.28e+05</td> <td> 5.74e+05</td>\n",
       "</tr>\n",
       "<tr>\n",
       "  <th>date[T.6/3/2014]</th>   <td> 1.522e+05</td> <td> 2.16e+05</td> <td>    0.704</td> <td> 0.482</td> <td>-2.72e+05</td> <td> 5.76e+05</td>\n",
       "</tr>\n",
       "<tr>\n",
       "  <th>date[T.6/30/2014]</th>  <td>  1.86e+05</td> <td> 2.17e+05</td> <td>    0.858</td> <td> 0.391</td> <td>-2.39e+05</td> <td> 6.11e+05</td>\n",
       "</tr>\n",
       "<tr>\n",
       "  <th>date[T.6/4/2014]</th>   <td> 2.106e+05</td> <td> 2.16e+05</td> <td>    0.973</td> <td> 0.330</td> <td>-2.14e+05</td> <td> 6.35e+05</td>\n",
       "</tr>\n",
       "<tr>\n",
       "  <th>date[T.6/5/2014]</th>   <td> 1.475e+05</td> <td> 2.16e+05</td> <td>    0.682</td> <td> 0.496</td> <td>-2.77e+05</td> <td> 5.72e+05</td>\n",
       "</tr>\n",
       "<tr>\n",
       "  <th>date[T.6/6/2014]</th>   <td> 1.626e+05</td> <td> 2.17e+05</td> <td>    0.750</td> <td> 0.454</td> <td>-2.63e+05</td> <td> 5.88e+05</td>\n",
       "</tr>\n",
       "<tr>\n",
       "  <th>date[T.6/7/2014]</th>   <td> 5.838e+04</td> <td> 2.41e+05</td> <td>    0.243</td> <td> 0.808</td> <td>-4.13e+05</td> <td>  5.3e+05</td>\n",
       "</tr>\n",
       "<tr>\n",
       "  <th>date[T.6/8/2014]</th>   <td> 1.969e+05</td> <td> 2.26e+05</td> <td>    0.872</td> <td> 0.383</td> <td>-2.46e+05</td> <td> 6.39e+05</td>\n",
       "</tr>\n",
       "<tr>\n",
       "  <th>date[T.6/9/2014]</th>   <td> 1.704e+05</td> <td> 2.16e+05</td> <td>    0.787</td> <td> 0.431</td> <td>-2.54e+05</td> <td> 5.95e+05</td>\n",
       "</tr>\n",
       "<tr>\n",
       "  <th>date[T.7/1/2014]</th>   <td> 1.961e+05</td> <td> 2.16e+05</td> <td>    0.907</td> <td> 0.365</td> <td>-2.28e+05</td> <td>  6.2e+05</td>\n",
       "</tr>\n",
       "<tr>\n",
       "  <th>date[T.7/10/2014]</th>  <td> 1.729e+05</td> <td> 2.16e+05</td> <td>    0.799</td> <td> 0.424</td> <td>-2.51e+05</td> <td> 5.97e+05</td>\n",
       "</tr>\n",
       "<tr>\n",
       "  <th>date[T.7/11/2014]</th>  <td> 1.681e+05</td> <td> 2.17e+05</td> <td>    0.776</td> <td> 0.438</td> <td>-2.56e+05</td> <td> 5.93e+05</td>\n",
       "</tr>\n",
       "<tr>\n",
       "  <th>date[T.7/12/2014]</th>  <td> 2.073e+05</td> <td> 2.27e+05</td> <td>    0.913</td> <td> 0.361</td> <td>-2.38e+05</td> <td> 6.52e+05</td>\n",
       "</tr>\n",
       "<tr>\n",
       "  <th>date[T.7/13/2014]</th>  <td> 1.409e+05</td> <td> 2.49e+05</td> <td>    0.567</td> <td> 0.571</td> <td>-3.46e+05</td> <td> 6.28e+05</td>\n",
       "</tr>\n",
       "<tr>\n",
       "  <th>date[T.7/14/2014]</th>  <td> 1.995e+05</td> <td> 2.16e+05</td> <td>    0.923</td> <td> 0.356</td> <td>-2.24e+05</td> <td> 6.23e+05</td>\n",
       "</tr>\n",
       "<tr>\n",
       "  <th>date[T.7/15/2014]</th>  <td> 1.608e+05</td> <td> 2.16e+05</td> <td>    0.743</td> <td> 0.457</td> <td>-2.63e+05</td> <td> 5.85e+05</td>\n",
       "</tr>\n",
       "<tr>\n",
       "  <th>date[T.7/16/2014]</th>  <td> 1.634e+05</td> <td> 2.16e+05</td> <td>    0.756</td> <td> 0.450</td> <td> -2.6e+05</td> <td> 5.87e+05</td>\n",
       "</tr>\n",
       "<tr>\n",
       "  <th>date[T.7/17/2014]</th>  <td> 1.436e+05</td> <td> 2.17e+05</td> <td>    0.663</td> <td> 0.507</td> <td>-2.81e+05</td> <td> 5.68e+05</td>\n",
       "</tr>\n",
       "<tr>\n",
       "  <th>date[T.7/18/2014]</th>  <td> 1.597e+05</td> <td> 2.16e+05</td> <td>    0.738</td> <td> 0.461</td> <td>-2.64e+05</td> <td> 5.84e+05</td>\n",
       "</tr>\n",
       "<tr>\n",
       "  <th>date[T.7/19/2014]</th>  <td> 1.521e+05</td> <td> 2.36e+05</td> <td>    0.645</td> <td> 0.519</td> <td> -3.1e+05</td> <td> 6.14e+05</td>\n",
       "</tr>\n",
       "<tr>\n",
       "  <th>date[T.7/2/2014]</th>   <td>  2.16e+05</td> <td> 2.16e+05</td> <td>    0.998</td> <td> 0.318</td> <td>-2.08e+05</td> <td>  6.4e+05</td>\n",
       "</tr>\n",
       "<tr>\n",
       "  <th>date[T.7/20/2014]</th>  <td> 5.226e+04</td> <td> 2.28e+05</td> <td>    0.229</td> <td> 0.819</td> <td>-3.95e+05</td> <td>    5e+05</td>\n",
       "</tr>\n",
       "<tr>\n",
       "  <th>date[T.7/21/2014]</th>  <td> 1.684e+05</td> <td> 2.16e+05</td> <td>    0.778</td> <td> 0.437</td> <td>-2.56e+05</td> <td> 5.93e+05</td>\n",
       "</tr>\n",
       "<tr>\n",
       "  <th>date[T.7/22/2014]</th>  <td> 1.182e+05</td> <td> 2.16e+05</td> <td>    0.546</td> <td> 0.585</td> <td>-3.06e+05</td> <td> 5.42e+05</td>\n",
       "</tr>\n",
       "<tr>\n",
       "  <th>date[T.7/23/2014]</th>  <td> 1.452e+05</td> <td> 2.16e+05</td> <td>    0.671</td> <td> 0.502</td> <td>-2.79e+05</td> <td> 5.69e+05</td>\n",
       "</tr>\n",
       "<tr>\n",
       "  <th>date[T.7/24/2014]</th>  <td>  1.53e+05</td> <td> 2.16e+05</td> <td>    0.707</td> <td> 0.480</td> <td>-2.71e+05</td> <td> 5.77e+05</td>\n",
       "</tr>\n",
       "<tr>\n",
       "  <th>date[T.7/25/2014]</th>  <td> 1.954e+05</td> <td> 2.16e+05</td> <td>    0.903</td> <td> 0.366</td> <td>-2.29e+05</td> <td> 6.19e+05</td>\n",
       "</tr>\n",
       "<tr>\n",
       "  <th>date[T.7/26/2014]</th>  <td> 1.628e+05</td> <td> 2.28e+05</td> <td>    0.713</td> <td> 0.476</td> <td>-2.85e+05</td> <td>  6.1e+05</td>\n",
       "</tr>\n",
       "<tr>\n",
       "  <th>date[T.7/27/2014]</th>  <td> 2.376e+05</td> <td> 3.05e+05</td> <td>    0.780</td> <td> 0.435</td> <td>-3.59e+05</td> <td> 8.34e+05</td>\n",
       "</tr>\n",
       "<tr>\n",
       "  <th>date[T.7/28/2014]</th>  <td> 1.364e+05</td> <td> 2.16e+05</td> <td>    0.630</td> <td> 0.529</td> <td>-2.88e+05</td> <td> 5.61e+05</td>\n",
       "</tr>\n",
       "<tr>\n",
       "  <th>date[T.7/29/2014]</th>  <td> 1.416e+05</td> <td> 2.16e+05</td> <td>    0.655</td> <td> 0.513</td> <td>-2.82e+05</td> <td> 5.65e+05</td>\n",
       "</tr>\n",
       "<tr>\n",
       "  <th>date[T.7/3/2014]</th>   <td> 1.888e+05</td> <td> 2.17e+05</td> <td>    0.871</td> <td> 0.384</td> <td>-2.36e+05</td> <td> 6.14e+05</td>\n",
       "</tr>\n",
       "<tr>\n",
       "  <th>date[T.7/30/2014]</th>  <td> 1.876e+05</td> <td> 2.17e+05</td> <td>    0.866</td> <td> 0.387</td> <td>-2.37e+05</td> <td> 6.12e+05</td>\n",
       "</tr>\n",
       "<tr>\n",
       "  <th>date[T.7/31/2014]</th>  <td> 1.864e+05</td> <td> 2.17e+05</td> <td>    0.861</td> <td> 0.389</td> <td>-2.38e+05</td> <td> 6.11e+05</td>\n",
       "</tr>\n",
       "<tr>\n",
       "  <th>date[T.7/4/2014]</th>   <td> 3.285e+05</td> <td> 2.64e+05</td> <td>    1.246</td> <td> 0.213</td> <td>-1.88e+05</td> <td> 8.45e+05</td>\n",
       "</tr>\n",
       "<tr>\n",
       "  <th>date[T.7/5/2014]</th>   <td> 4.605e+05</td> <td> 2.33e+05</td> <td>    1.980</td> <td> 0.048</td> <td> 4649.403</td> <td> 9.16e+05</td>\n",
       "</tr>\n",
       "<tr>\n",
       "  <th>date[T.7/6/2014]</th>   <td> 1.998e+05</td> <td> 2.49e+05</td> <td>    0.804</td> <td> 0.422</td> <td>-2.88e+05</td> <td> 6.87e+05</td>\n",
       "</tr>\n",
       "<tr>\n",
       "  <th>date[T.7/7/2014]</th>   <td> 1.724e+05</td> <td> 2.17e+05</td> <td>    0.796</td> <td> 0.426</td> <td>-2.52e+05</td> <td> 5.97e+05</td>\n",
       "</tr>\n",
       "<tr>\n",
       "  <th>date[T.7/8/2014]</th>   <td> 1.413e+05</td> <td> 2.16e+05</td> <td>    0.654</td> <td> 0.513</td> <td>-2.82e+05</td> <td> 5.65e+05</td>\n",
       "</tr>\n",
       "<tr>\n",
       "  <th>date[T.7/9/2014]</th>   <td> 1.556e+05</td> <td> 2.16e+05</td> <td>    0.720</td> <td> 0.472</td> <td>-2.68e+05</td> <td> 5.79e+05</td>\n",
       "</tr>\n",
       "<tr>\n",
       "  <th>date[T.8/1/2014]</th>   <td> 2.022e+05</td> <td> 2.17e+05</td> <td>    0.933</td> <td> 0.351</td> <td>-2.22e+05</td> <td> 6.27e+05</td>\n",
       "</tr>\n",
       "<tr>\n",
       "  <th>date[T.8/10/2014]</th>  <td>  1.62e+04</td> <td> 2.49e+05</td> <td>    0.065</td> <td> 0.948</td> <td>-4.71e+05</td> <td> 5.03e+05</td>\n",
       "</tr>\n",
       "<tr>\n",
       "  <th>date[T.8/11/2014]</th>  <td>  1.75e+05</td> <td> 2.16e+05</td> <td>    0.809</td> <td> 0.418</td> <td>-2.49e+05</td> <td> 5.99e+05</td>\n",
       "</tr>\n",
       "<tr>\n",
       "  <th>date[T.8/12/2014]</th>  <td> 1.678e+05</td> <td> 2.16e+05</td> <td>    0.775</td> <td> 0.438</td> <td>-2.56e+05</td> <td> 5.92e+05</td>\n",
       "</tr>\n",
       "<tr>\n",
       "  <th>date[T.8/13/2014]</th>  <td> 1.618e+05</td> <td> 2.16e+05</td> <td>    0.748</td> <td> 0.455</td> <td>-2.62e+05</td> <td> 5.86e+05</td>\n",
       "</tr>\n",
       "<tr>\n",
       "  <th>date[T.8/14/2014]</th>  <td>  1.54e+05</td> <td> 2.16e+05</td> <td>    0.711</td> <td> 0.477</td> <td> -2.7e+05</td> <td> 5.78e+05</td>\n",
       "</tr>\n",
       "<tr>\n",
       "  <th>date[T.8/15/2014]</th>  <td> 2.331e+05</td> <td> 2.17e+05</td> <td>    1.074</td> <td> 0.283</td> <td>-1.92e+05</td> <td> 6.59e+05</td>\n",
       "</tr>\n",
       "<tr>\n",
       "  <th>date[T.8/16/2014]</th>  <td> 1.356e+05</td> <td> 2.41e+05</td> <td>    0.563</td> <td> 0.573</td> <td>-3.36e+05</td> <td> 6.07e+05</td>\n",
       "</tr>\n",
       "<tr>\n",
       "  <th>date[T.8/17/2014]</th>  <td> 3.249e+04</td> <td> 2.41e+05</td> <td>    0.135</td> <td> 0.893</td> <td>-4.39e+05</td> <td> 5.04e+05</td>\n",
       "</tr>\n",
       "<tr>\n",
       "  <th>date[T.8/18/2014]</th>  <td> 1.533e+05</td> <td> 2.17e+05</td> <td>    0.708</td> <td> 0.479</td> <td>-2.71e+05</td> <td> 5.78e+05</td>\n",
       "</tr>\n",
       "<tr>\n",
       "  <th>date[T.8/19/2014]</th>  <td> 1.867e+05</td> <td> 2.16e+05</td> <td>    0.863</td> <td> 0.388</td> <td>-2.38e+05</td> <td> 6.11e+05</td>\n",
       "</tr>\n",
       "<tr>\n",
       "  <th>date[T.8/2/2014]</th>   <td> 2.323e+05</td> <td> 2.36e+05</td> <td>    0.985</td> <td> 0.325</td> <td> -2.3e+05</td> <td> 6.95e+05</td>\n",
       "</tr>\n",
       "<tr>\n",
       "  <th>date[T.8/20/2014]</th>  <td> 1.665e+05</td> <td> 2.16e+05</td> <td>    0.770</td> <td> 0.441</td> <td>-2.57e+05</td> <td>  5.9e+05</td>\n",
       "</tr>\n",
       "<tr>\n",
       "  <th>date[T.8/21/2014]</th>  <td> 1.512e+05</td> <td> 2.17e+05</td> <td>    0.698</td> <td> 0.485</td> <td>-2.73e+05</td> <td> 5.76e+05</td>\n",
       "</tr>\n",
       "<tr>\n",
       "  <th>date[T.8/22/2014]</th>  <td> 1.329e+05</td> <td> 2.16e+05</td> <td>    0.614</td> <td> 0.539</td> <td>-2.91e+05</td> <td> 5.57e+05</td>\n",
       "</tr>\n",
       "<tr>\n",
       "  <th>date[T.8/23/2014]</th>  <td>  1.41e+05</td> <td>  2.3e+05</td> <td>    0.613</td> <td> 0.540</td> <td> -3.1e+05</td> <td> 5.92e+05</td>\n",
       "</tr>\n",
       "<tr>\n",
       "  <th>date[T.8/24/2014]</th>  <td> 1.566e+05</td> <td> 2.64e+05</td> <td>    0.594</td> <td> 0.553</td> <td> -3.6e+05</td> <td> 6.73e+05</td>\n",
       "</tr>\n",
       "<tr>\n",
       "  <th>date[T.8/25/2014]</th>  <td> 1.783e+05</td> <td> 2.16e+05</td> <td>    0.824</td> <td> 0.410</td> <td>-2.46e+05</td> <td> 6.02e+05</td>\n",
       "</tr>\n",
       "<tr>\n",
       "  <th>date[T.8/26/2014]</th>  <td> 1.634e+05</td> <td> 2.16e+05</td> <td>    0.756</td> <td> 0.450</td> <td> -2.6e+05</td> <td> 5.87e+05</td>\n",
       "</tr>\n",
       "<tr>\n",
       "  <th>date[T.8/27/2014]</th>  <td> 1.491e+05</td> <td> 2.16e+05</td> <td>    0.689</td> <td> 0.491</td> <td>-2.75e+05</td> <td> 5.73e+05</td>\n",
       "</tr>\n",
       "<tr>\n",
       "  <th>date[T.8/28/2014]</th>  <td> 1.718e+05</td> <td> 2.17e+05</td> <td>    0.793</td> <td> 0.428</td> <td>-2.53e+05</td> <td> 5.97e+05</td>\n",
       "</tr>\n",
       "<tr>\n",
       "  <th>date[T.8/29/2014]</th>  <td> 1.978e+05</td> <td> 2.17e+05</td> <td>    0.911</td> <td> 0.362</td> <td>-2.28e+05</td> <td> 6.24e+05</td>\n",
       "</tr>\n",
       "<tr>\n",
       "  <th>date[T.8/3/2014]</th>   <td> 3.675e+05</td> <td> 3.04e+05</td> <td>    1.207</td> <td> 0.227</td> <td>-2.29e+05</td> <td> 9.64e+05</td>\n",
       "</tr>\n",
       "<tr>\n",
       "  <th>date[T.8/30/2014]</th>  <td> 4.301e+05</td> <td> 3.05e+05</td> <td>    1.413</td> <td> 0.158</td> <td>-1.67e+05</td> <td> 1.03e+06</td>\n",
       "</tr>\n",
       "<tr>\n",
       "  <th>date[T.8/31/2014]</th>  <td> 7.703e+04</td> <td> 2.49e+05</td> <td>    0.310</td> <td> 0.757</td> <td> -4.1e+05</td> <td> 5.64e+05</td>\n",
       "</tr>\n",
       "<tr>\n",
       "  <th>date[T.8/4/2014]</th>   <td> 2.052e+05</td> <td> 2.16e+05</td> <td>    0.948</td> <td> 0.343</td> <td>-2.19e+05</td> <td>  6.3e+05</td>\n",
       "</tr>\n",
       "<tr>\n",
       "  <th>date[T.8/5/2014]</th>   <td>  1.76e+05</td> <td> 2.16e+05</td> <td>    0.814</td> <td> 0.416</td> <td>-2.48e+05</td> <td>    6e+05</td>\n",
       "</tr>\n",
       "<tr>\n",
       "  <th>date[T.8/6/2014]</th>   <td> 1.618e+05</td> <td> 2.17e+05</td> <td>    0.747</td> <td> 0.455</td> <td>-2.63e+05</td> <td> 5.86e+05</td>\n",
       "</tr>\n",
       "<tr>\n",
       "  <th>date[T.8/7/2014]</th>   <td> 1.918e+05</td> <td> 2.17e+05</td> <td>    0.884</td> <td> 0.377</td> <td>-2.34e+05</td> <td> 6.17e+05</td>\n",
       "</tr>\n",
       "<tr>\n",
       "  <th>date[T.8/8/2014]</th>   <td> 1.856e+05</td> <td> 2.17e+05</td> <td>    0.857</td> <td> 0.392</td> <td>-2.39e+05</td> <td>  6.1e+05</td>\n",
       "</tr>\n",
       "<tr>\n",
       "  <th>date[T.8/9/2014]</th>   <td> 1.319e+05</td> <td> 2.64e+05</td> <td>    0.500</td> <td> 0.617</td> <td>-3.85e+05</td> <td> 6.49e+05</td>\n",
       "</tr>\n",
       "<tr>\n",
       "  <th>date[T.9/1/2014]</th>   <td>  2.24e+05</td> <td> 2.33e+05</td> <td>    0.963</td> <td> 0.335</td> <td>-2.32e+05</td> <td>  6.8e+05</td>\n",
       "</tr>\n",
       "<tr>\n",
       "  <th>date[T.9/10/2014]</th>  <td> 1.469e+05</td> <td> 2.17e+05</td> <td>    0.678</td> <td> 0.498</td> <td>-2.78e+05</td> <td> 5.71e+05</td>\n",
       "</tr>\n",
       "<tr>\n",
       "  <th>date[T.9/11/2014]</th>  <td> 1.944e+05</td> <td> 2.17e+05</td> <td>    0.898</td> <td> 0.369</td> <td> -2.3e+05</td> <td> 6.19e+05</td>\n",
       "</tr>\n",
       "<tr>\n",
       "  <th>date[T.9/12/2014]</th>  <td> 1.119e+05</td> <td> 2.17e+05</td> <td>    0.515</td> <td> 0.606</td> <td>-3.14e+05</td> <td> 5.37e+05</td>\n",
       "</tr>\n",
       "<tr>\n",
       "  <th>date[T.9/13/2014]</th>  <td> 1.571e+05</td> <td> 2.36e+05</td> <td>    0.666</td> <td> 0.505</td> <td>-3.05e+05</td> <td> 6.19e+05</td>\n",
       "</tr>\n",
       "<tr>\n",
       "  <th>date[T.9/14/2014]</th>  <td> 2.545e+05</td> <td> 2.41e+05</td> <td>    1.057</td> <td> 0.290</td> <td>-2.17e+05</td> <td> 7.26e+05</td>\n",
       "</tr>\n",
       "<tr>\n",
       "  <th>date[T.9/15/2014]</th>  <td> 1.515e+05</td> <td> 2.17e+05</td> <td>    0.699</td> <td> 0.484</td> <td>-2.73e+05</td> <td> 5.76e+05</td>\n",
       "</tr>\n",
       "<tr>\n",
       "  <th>date[T.9/16/2014]</th>  <td> 1.612e+05</td> <td> 2.16e+05</td> <td>    0.745</td> <td> 0.456</td> <td>-2.63e+05</td> <td> 5.86e+05</td>\n",
       "</tr>\n",
       "<tr>\n",
       "  <th>date[T.9/17/2014]</th>  <td> 1.276e+05</td> <td> 2.17e+05</td> <td>    0.589</td> <td> 0.556</td> <td>-2.97e+05</td> <td> 5.52e+05</td>\n",
       "</tr>\n",
       "<tr>\n",
       "  <th>date[T.9/18/2014]</th>  <td> 1.455e+05</td> <td> 2.17e+05</td> <td>    0.672</td> <td> 0.502</td> <td>-2.79e+05</td> <td>  5.7e+05</td>\n",
       "</tr>\n",
       "<tr>\n",
       "  <th>date[T.9/19/2014]</th>  <td> 1.941e+05</td> <td> 2.17e+05</td> <td>    0.896</td> <td> 0.370</td> <td>-2.31e+05</td> <td> 6.19e+05</td>\n",
       "</tr>\n",
       "<tr>\n",
       "  <th>date[T.9/2/2014]</th>   <td> 1.737e+05</td> <td> 2.17e+05</td> <td>    0.802</td> <td> 0.423</td> <td>-2.51e+05</td> <td> 5.98e+05</td>\n",
       "</tr>\n",
       "<tr>\n",
       "  <th>date[T.9/20/2014]</th>  <td> 2.436e+05</td> <td> 2.36e+05</td> <td>    1.033</td> <td> 0.302</td> <td>-2.19e+05</td> <td> 7.06e+05</td>\n",
       "</tr>\n",
       "<tr>\n",
       "  <th>date[T.9/21/2014]</th>  <td> 1.807e+05</td> <td> 2.36e+05</td> <td>    0.766</td> <td> 0.444</td> <td>-2.82e+05</td> <td> 6.43e+05</td>\n",
       "</tr>\n",
       "<tr>\n",
       "  <th>date[T.9/22/2014]</th>  <td> 1.722e+05</td> <td> 2.16e+05</td> <td>    0.795</td> <td> 0.426</td> <td>-2.52e+05</td> <td> 5.97e+05</td>\n",
       "</tr>\n",
       "<tr>\n",
       "  <th>date[T.9/23/2014]</th>  <td> 1.781e+05</td> <td> 2.16e+05</td> <td>    0.823</td> <td> 0.410</td> <td>-2.46e+05</td> <td> 6.02e+05</td>\n",
       "</tr>\n",
       "<tr>\n",
       "  <th>date[T.9/24/2014]</th>  <td> 1.386e+05</td> <td> 2.16e+05</td> <td>    0.640</td> <td> 0.522</td> <td>-2.86e+05</td> <td> 5.63e+05</td>\n",
       "</tr>\n",
       "<tr>\n",
       "  <th>date[T.9/25/2014]</th>  <td> 1.566e+05</td> <td> 2.17e+05</td> <td>    0.723</td> <td> 0.470</td> <td>-2.68e+05</td> <td> 5.81e+05</td>\n",
       "</tr>\n",
       "<tr>\n",
       "  <th>date[T.9/26/2014]</th>  <td> 1.465e+05</td> <td> 2.16e+05</td> <td>    0.676</td> <td> 0.499</td> <td>-2.78e+05</td> <td> 5.71e+05</td>\n",
       "</tr>\n",
       "<tr>\n",
       "  <th>date[T.9/27/2014]</th>  <td> 5.206e+04</td> <td> 2.36e+05</td> <td>    0.221</td> <td> 0.825</td> <td> -4.1e+05</td> <td> 5.14e+05</td>\n",
       "</tr>\n",
       "<tr>\n",
       "  <th>date[T.9/28/2014]</th>  <td> 1.522e+05</td> <td> 2.49e+05</td> <td>    0.612</td> <td> 0.540</td> <td>-3.35e+05</td> <td> 6.39e+05</td>\n",
       "</tr>\n",
       "<tr>\n",
       "  <th>date[T.9/29/2014]</th>  <td>  1.81e+05</td> <td> 2.17e+05</td> <td>    0.836</td> <td> 0.403</td> <td>-2.44e+05</td> <td> 6.06e+05</td>\n",
       "</tr>\n",
       "<tr>\n",
       "  <th>date[T.9/3/2014]</th>   <td>  1.87e+05</td> <td> 2.17e+05</td> <td>    0.864</td> <td> 0.388</td> <td>-2.37e+05</td> <td> 6.12e+05</td>\n",
       "</tr>\n",
       "<tr>\n",
       "  <th>date[T.9/30/2014]</th>  <td> 2.054e+05</td> <td> 2.17e+05</td> <td>    0.945</td> <td> 0.344</td> <td> -2.2e+05</td> <td> 6.31e+05</td>\n",
       "</tr>\n",
       "<tr>\n",
       "  <th>date[T.9/4/2014]</th>   <td> 1.715e+05</td> <td> 2.17e+05</td> <td>    0.792</td> <td> 0.429</td> <td>-2.53e+05</td> <td> 5.96e+05</td>\n",
       "</tr>\n",
       "<tr>\n",
       "  <th>date[T.9/5/2014]</th>   <td> 1.534e+05</td> <td> 2.17e+05</td> <td>    0.709</td> <td> 0.479</td> <td>-2.71e+05</td> <td> 5.78e+05</td>\n",
       "</tr>\n",
       "<tr>\n",
       "  <th>date[T.9/6/2014]</th>   <td> 1.628e+05</td> <td> 2.36e+05</td> <td>    0.690</td> <td> 0.490</td> <td>   -3e+05</td> <td> 6.25e+05</td>\n",
       "</tr>\n",
       "<tr>\n",
       "  <th>date[T.9/7/2014]</th>   <td> 1.758e+05</td> <td> 2.64e+05</td> <td>    0.667</td> <td> 0.505</td> <td>-3.41e+05</td> <td> 6.93e+05</td>\n",
       "</tr>\n",
       "<tr>\n",
       "  <th>date[T.9/8/2014]</th>   <td> 1.522e+05</td> <td> 2.17e+05</td> <td>    0.702</td> <td> 0.482</td> <td>-2.73e+05</td> <td> 5.77e+05</td>\n",
       "</tr>\n",
       "<tr>\n",
       "  <th>date[T.9/9/2014]</th>   <td> 1.639e+05</td> <td> 2.16e+05</td> <td>    0.757</td> <td> 0.449</td> <td> -2.6e+05</td> <td> 5.88e+05</td>\n",
       "</tr>\n",
       "<tr>\n",
       "  <th>bedrooms</th>           <td>-3.959e+04</td> <td> 2048.783</td> <td>  -19.321</td> <td> 0.000</td> <td>-4.36e+04</td> <td>-3.56e+04</td>\n",
       "</tr>\n",
       "<tr>\n",
       "  <th>bathrooms</th>          <td> 4.801e+04</td> <td> 3499.796</td> <td>   13.719</td> <td> 0.000</td> <td> 4.12e+04</td> <td> 5.49e+04</td>\n",
       "</tr>\n",
       "<tr>\n",
       "  <th>sqft_living</th>        <td>  114.5720</td> <td>   19.475</td> <td>    5.883</td> <td> 0.000</td> <td>   76.400</td> <td>  152.744</td>\n",
       "</tr>\n",
       "<tr>\n",
       "  <th>sqft_lot</th>           <td>   -0.0004</td> <td>    0.052</td> <td>   -0.007</td> <td> 0.995</td> <td>   -0.102</td> <td>    0.101</td>\n",
       "</tr>\n",
       "<tr>\n",
       "  <th>floors</th>             <td> 2.787e+04</td> <td> 3863.333</td> <td>    7.213</td> <td> 0.000</td> <td> 2.03e+04</td> <td> 3.54e+04</td>\n",
       "</tr>\n",
       "<tr>\n",
       "  <th>waterfront</th>         <td> 6.164e+05</td> <td> 1.95e+04</td> <td>   31.567</td> <td> 0.000</td> <td> 5.78e+05</td> <td> 6.55e+05</td>\n",
       "</tr>\n",
       "<tr>\n",
       "  <th>view</th>               <td> 4.432e+04</td> <td> 2276.066</td> <td>   19.471</td> <td> 0.000</td> <td> 3.99e+04</td> <td> 4.88e+04</td>\n",
       "</tr>\n",
       "<tr>\n",
       "  <th>condition</th>          <td> 2.051e+04</td> <td> 2502.084</td> <td>    8.199</td> <td> 0.000</td> <td> 1.56e+04</td> <td> 2.54e+04</td>\n",
       "</tr>\n",
       "<tr>\n",
       "  <th>grade</th>              <td> 1.213e+05</td> <td> 2274.631</td> <td>   53.339</td> <td> 0.000</td> <td> 1.17e+05</td> <td> 1.26e+05</td>\n",
       "</tr>\n",
       "<tr>\n",
       "  <th>sqft_above</th>         <td>   45.7943</td> <td>   19.456</td> <td>    2.354</td> <td> 0.019</td> <td>    7.658</td> <td>   83.930</td>\n",
       "</tr>\n",
       "<tr>\n",
       "  <th>sqft_basement</th>      <td>   51.7970</td> <td>   19.296</td> <td>    2.684</td> <td> 0.007</td> <td>   13.976</td> <td>   89.618</td>\n",
       "</tr>\n",
       "<tr>\n",
       "  <th>yr_built</th>           <td>-3655.5038</td> <td>   71.210</td> <td>  -51.334</td> <td> 0.000</td> <td>-3795.081</td> <td>-3515.927</td>\n",
       "</tr>\n",
       "<tr>\n",
       "  <th>zipcode</th>            <td>  -12.8203</td> <td>   31.470</td> <td>   -0.407</td> <td> 0.684</td> <td>  -74.505</td> <td>   48.864</td>\n",
       "</tr>\n",
       "<tr>\n",
       "  <th>sqft_living15</th>      <td>   23.4843</td> <td>    3.669</td> <td>    6.401</td> <td> 0.000</td> <td>   16.293</td> <td>   30.676</td>\n",
       "</tr>\n",
       "<tr>\n",
       "  <th>sqft_lot15</th>         <td>   -0.5588</td> <td>    0.079</td> <td>   -7.069</td> <td> 0.000</td> <td>   -0.714</td> <td>   -0.404</td>\n",
       "</tr>\n",
       "</table>\n",
       "<table class=\"simpletable\">\n",
       "<tr>\n",
       "  <th>Omnibus:</th>       <td>16139.883</td> <th>  Durbin-Watson:     </th>  <td>   1.983</td>  \n",
       "</tr>\n",
       "<tr>\n",
       "  <th>Prob(Omnibus):</th>  <td> 0.000</td>   <th>  Jarque-Bera (JB):  </th> <td>1166827.017</td>\n",
       "</tr>\n",
       "<tr>\n",
       "  <th>Skew:</th>           <td> 2.980</td>   <th>  Prob(JB):          </th>  <td>    0.00</td>  \n",
       "</tr>\n",
       "<tr>\n",
       "  <th>Kurtosis:</th>       <td>38.512</td>   <th>  Cond. No.          </th>  <td>2.86e+08</td>  \n",
       "</tr>\n",
       "</table><br/><br/>Notes:<br/>[1] Standard Errors assume that the covariance matrix of the errors is correctly specified.<br/>[2] The condition number is large, 2.86e+08. This might indicate that there are<br/>strong multicollinearity or other numerical problems."
      ],
      "text/plain": [
       "<class 'statsmodels.iolib.summary.Summary'>\n",
       "\"\"\"\n",
       "                            OLS Regression Results                            \n",
       "==============================================================================\n",
       "Dep. Variable:                  price   R-squared:                       0.663\n",
       "Model:                            OLS   Adj. R-squared:                  0.657\n",
       "Method:                 Least Squares   F-statistic:                     108.0\n",
       "Date:                Wed, 02 Jun 2021   Prob (F-statistic):               0.00\n",
       "Time:                        17:42:18   Log-Likelihood:            -2.9565e+05\n",
       "No. Observations:               21597   AIC:                         5.921e+05\n",
       "Df Residuals:                   21210   BIC:                         5.952e+05\n",
       "Df Model:                         386                                         \n",
       "Covariance Type:            nonrobust                                         \n",
       "======================================================================================\n",
       "                         coef    std err          t      P>|t|      [0.025      0.975]\n",
       "--------------------------------------------------------------------------------------\n",
       "Intercept           7.429e+06   3.14e+06      2.366      0.018    1.27e+06    1.36e+07\n",
       "date[T.1/12/2015]   1.724e+05   2.18e+05      0.791      0.429   -2.55e+05    5.99e+05\n",
       "date[T.1/13/2015]   1.757e+05   2.18e+05      0.807      0.420   -2.51e+05    6.03e+05\n",
       "date[T.1/14/2015]   1.091e+05   2.17e+05      0.502      0.616   -3.17e+05    5.35e+05\n",
       "date[T.1/15/2015]   1.383e+05   2.18e+05      0.635      0.525   -2.88e+05    5.65e+05\n",
       "date[T.1/16/2015]    1.23e+05   2.17e+05      0.566      0.572   -3.03e+05    5.49e+05\n",
       "date[T.1/17/2015]   9.427e+04   3.04e+05      0.310      0.757   -5.03e+05    6.91e+05\n",
       "date[T.1/19/2015]   5.657e+04   2.28e+05      0.248      0.804   -3.91e+05    5.04e+05\n",
       "date[T.1/2/2015]     1.53e+05   2.18e+05      0.703      0.482   -2.74e+05     5.8e+05\n",
       "date[T.1/20/2015]   1.746e+05   2.18e+05      0.802      0.422   -2.52e+05    6.01e+05\n",
       "date[T.1/21/2015]   1.519e+05   2.17e+05      0.699      0.484   -2.74e+05    5.78e+05\n",
       "date[T.1/22/2015]   1.776e+05   2.18e+05      0.816      0.414   -2.49e+05    6.04e+05\n",
       "date[T.1/23/2015]   1.791e+05   2.18e+05      0.823      0.410   -2.47e+05    6.05e+05\n",
       "date[T.1/24/2015]  -6.074e+04   2.41e+05     -0.252      0.801   -5.33e+05    4.11e+05\n",
       "date[T.1/25/2015]   1.176e+05   2.49e+05      0.473      0.636    -3.7e+05    6.05e+05\n",
       "date[T.1/26/2015]   1.227e+05   2.18e+05      0.564      0.573   -3.04e+05    5.49e+05\n",
       "date[T.1/27/2015]   1.741e+05   2.17e+05      0.801      0.423   -2.52e+05       6e+05\n",
       "date[T.1/28/2015]   1.414e+05   2.17e+05      0.651      0.515   -2.84e+05    5.67e+05\n",
       "date[T.1/29/2015]   1.944e+05   2.18e+05      0.893      0.372   -2.32e+05    6.21e+05\n",
       "date[T.1/30/2015]   2.872e+05   2.18e+05      1.315      0.188   -1.41e+05    7.15e+05\n",
       "date[T.1/31/2015]  -2.645e+04   3.05e+05     -0.087      0.931   -6.23e+05     5.7e+05\n",
       "date[T.1/5/2015]    1.922e+05   2.17e+05      0.885      0.376   -2.33e+05    6.18e+05\n",
       "date[T.1/6/2015]    2.066e+05   2.18e+05      0.948      0.343    -2.2e+05    6.34e+05\n",
       "date[T.1/7/2015]    1.949e+05   2.17e+05      0.897      0.370   -2.31e+05    6.21e+05\n",
       "date[T.1/8/2015]    1.433e+05   2.17e+05      0.659      0.510   -2.83e+05     5.7e+05\n",
       "date[T.1/9/2015]     2.39e+05   2.18e+05      1.095      0.274   -1.89e+05    6.67e+05\n",
       "date[T.10/1/2014]   1.962e+05   2.17e+05      0.906      0.365   -2.28e+05    6.21e+05\n",
       "date[T.10/10/2014]  1.878e+05   2.17e+05      0.867      0.386   -2.37e+05    6.12e+05\n",
       "date[T.10/11/2014]  1.257e+06   2.64e+05      4.767      0.000     7.4e+05    1.77e+06\n",
       "date[T.10/12/2014]  1.412e+05   2.49e+05      0.568      0.570   -3.46e+05    6.28e+05\n",
       "date[T.10/13/2014]   2.21e+05   2.17e+05      1.018      0.309   -2.04e+05    6.46e+05\n",
       "date[T.10/14/2014]   1.89e+05   2.17e+05      0.873      0.383   -2.35e+05    6.13e+05\n",
       "date[T.10/15/2014]  1.619e+05   2.17e+05      0.747      0.455   -2.63e+05    5.86e+05\n",
       "date[T.10/16/2014]  1.856e+05   2.16e+05      0.857      0.391   -2.39e+05     6.1e+05\n",
       "date[T.10/17/2014]  1.846e+05   2.17e+05      0.851      0.395    -2.4e+05    6.09e+05\n",
       "date[T.10/18/2014]  2.127e+05   2.33e+05      0.914      0.360   -2.43e+05    6.69e+05\n",
       "date[T.10/19/2014]  1.815e+05   2.41e+05      0.754      0.451   -2.91e+05    6.54e+05\n",
       "date[T.10/2/2014]   1.479e+05   2.17e+05      0.682      0.495   -2.77e+05    5.73e+05\n",
       "date[T.10/20/2014]  2.111e+05   2.17e+05      0.975      0.330   -2.13e+05    6.36e+05\n",
       "date[T.10/21/2014]  1.475e+05   2.16e+05      0.682      0.496   -2.77e+05    5.72e+05\n",
       "date[T.10/22/2014]  1.611e+05   2.17e+05      0.744      0.457   -2.64e+05    5.86e+05\n",
       "date[T.10/23/2014]  1.215e+05   2.17e+05      0.560      0.575   -3.03e+05    5.46e+05\n",
       "date[T.10/24/2014]   1.42e+05   2.17e+05      0.654      0.513   -2.84e+05    5.68e+05\n",
       "date[T.10/25/2014]  1.817e+05   2.36e+05      0.770      0.441   -2.81e+05    6.44e+05\n",
       "date[T.10/26/2014]  8.576e+04   2.41e+05      0.356      0.722   -3.86e+05    5.58e+05\n",
       "date[T.10/27/2014]  1.148e+05   2.16e+05      0.530      0.596   -3.09e+05    5.39e+05\n",
       "date[T.10/28/2014]  1.576e+05   2.16e+05      0.729      0.466   -2.66e+05    5.81e+05\n",
       "date[T.10/29/2014]  1.813e+05   2.16e+05      0.837      0.402   -2.43e+05    6.06e+05\n",
       "date[T.10/3/2014]   1.624e+05   2.17e+05      0.749      0.454   -2.63e+05    5.88e+05\n",
       "date[T.10/30/2014]  1.935e+05   2.17e+05      0.893      0.372   -2.31e+05    6.18e+05\n",
       "date[T.10/31/2014]  2.063e+05   2.18e+05      0.946      0.344   -2.21e+05    6.34e+05\n",
       "date[T.10/4/2014]   1.004e+05   2.41e+05      0.417      0.677   -3.71e+05    5.72e+05\n",
       "date[T.10/5/2014]   1.082e+05   2.49e+05      0.435      0.663   -3.79e+05    5.95e+05\n",
       "date[T.10/6/2014]    1.37e+05   2.17e+05      0.632      0.528   -2.88e+05    5.62e+05\n",
       "date[T.10/7/2014]   1.873e+05   2.16e+05      0.865      0.387   -2.37e+05    6.12e+05\n",
       "date[T.10/8/2014]   1.681e+05   2.17e+05      0.776      0.438   -2.57e+05    5.93e+05\n",
       "date[T.10/9/2014]   1.598e+05   2.17e+05      0.738      0.461   -2.65e+05    5.84e+05\n",
       "date[T.11/1/2014]   3.049e+05   2.36e+05      1.293      0.196   -1.57e+05    7.67e+05\n",
       "date[T.11/10/2014]  2.258e+05   2.17e+05      1.043      0.297   -1.99e+05     6.5e+05\n",
       "date[T.11/11/2014]  1.261e+05   2.17e+05      0.580      0.562      -3e+05    5.52e+05\n",
       "date[T.11/12/2014]  1.413e+05   2.17e+05      0.652      0.514   -2.83e+05    5.66e+05\n",
       "date[T.11/13/2014]  1.695e+05   2.16e+05      0.783      0.433   -2.55e+05    5.94e+05\n",
       "date[T.11/14/2014]  1.709e+05   2.17e+05      0.788      0.431   -2.54e+05    5.96e+05\n",
       "date[T.11/15/2014]    2.8e+05   2.64e+05      1.062      0.288   -2.37e+05    7.97e+05\n",
       "date[T.11/16/2014] -1.837e+04   2.49e+05     -0.074      0.941   -5.06e+05    4.69e+05\n",
       "date[T.11/17/2014]  1.281e+05   2.17e+05      0.592      0.554   -2.96e+05    5.53e+05\n",
       "date[T.11/18/2014]  1.758e+05   2.17e+05      0.812      0.417   -2.49e+05       6e+05\n",
       "date[T.11/19/2014]  1.886e+05   2.17e+05      0.871      0.384   -2.36e+05    6.13e+05\n",
       "date[T.11/2/2014]   1.596e+05   3.05e+05      0.524      0.600   -4.37e+05    7.56e+05\n",
       "date[T.11/20/2014]   1.74e+05   2.17e+05      0.803      0.422    -2.5e+05    5.98e+05\n",
       "date[T.11/21/2014]  1.307e+05   2.17e+05      0.604      0.546   -2.94e+05    5.55e+05\n",
       "date[T.11/22/2014]  2.248e+05    2.3e+05      0.976      0.329   -2.26e+05    6.76e+05\n",
       "date[T.11/23/2014]  2.338e+05   2.41e+05      0.971      0.331   -2.38e+05    7.06e+05\n",
       "date[T.11/24/2014]  1.801e+05   2.17e+05      0.831      0.406   -2.45e+05    6.05e+05\n",
       "date[T.11/25/2014]  1.851e+05   2.17e+05      0.854      0.393    -2.4e+05     6.1e+05\n",
       "date[T.11/26/2014]  1.878e+05   2.18e+05      0.863      0.388   -2.39e+05    6.14e+05\n",
       "date[T.11/28/2014]  3.077e+05   2.64e+05      1.167      0.243   -2.09e+05    8.25e+05\n",
       "date[T.11/29/2014]  4.455e+04   2.49e+05      0.179      0.858   -4.43e+05    5.32e+05\n",
       "date[T.11/3/2014]   1.664e+05   2.17e+05      0.768      0.443   -2.58e+05    5.91e+05\n",
       "date[T.11/30/2014]  4.726e+05   3.05e+05      1.552      0.121   -1.24e+05    1.07e+06\n",
       "date[T.11/4/2014]   1.389e+05   2.17e+05      0.641      0.522   -2.86e+05    5.64e+05\n",
       "date[T.11/5/2014]   1.452e+05   2.17e+05      0.670      0.503    -2.8e+05     5.7e+05\n",
       "date[T.11/6/2014]   1.905e+05   2.17e+05      0.879      0.379   -2.34e+05    6.15e+05\n",
       "date[T.11/7/2014]   1.138e+05   2.17e+05      0.525      0.600   -3.11e+05    5.39e+05\n",
       "date[T.11/8/2014]   3.245e+05   2.36e+05      1.376      0.169   -1.38e+05    7.87e+05\n",
       "date[T.11/9/2014]   1.034e+05   2.49e+05      0.416      0.677   -3.84e+05    5.91e+05\n",
       "date[T.12/1/2014]   1.766e+05   2.16e+05      0.816      0.414   -2.48e+05    6.01e+05\n",
       "date[T.12/10/2014]  1.276e+05   2.17e+05      0.589      0.556   -2.97e+05    5.52e+05\n",
       "date[T.12/11/2014]  1.636e+05   2.17e+05      0.755      0.450   -2.61e+05    5.88e+05\n",
       "date[T.12/12/2014]  1.472e+05   2.17e+05      0.679      0.497   -2.78e+05    5.72e+05\n",
       "date[T.12/13/2014]  1.553e+05   2.41e+05      0.645      0.519   -3.17e+05    6.27e+05\n",
       "date[T.12/14/2014]  1.697e+05   2.41e+05      0.705      0.481   -3.02e+05    6.41e+05\n",
       "date[T.12/15/2014]  1.675e+05   2.17e+05      0.773      0.439   -2.57e+05    5.92e+05\n",
       "date[T.12/16/2014]  1.552e+05   2.17e+05      0.716      0.474    -2.7e+05     5.8e+05\n",
       "date[T.12/17/2014]  1.634e+05   2.17e+05      0.753      0.451   -2.62e+05    5.89e+05\n",
       "date[T.12/18/2014]   1.57e+05   2.17e+05      0.724      0.469   -2.68e+05    5.82e+05\n",
       "date[T.12/19/2014]   2.18e+05   2.18e+05      1.001      0.317   -2.09e+05    6.45e+05\n",
       "date[T.12/2/2014]    1.66e+05   2.16e+05      0.767      0.443   -2.58e+05     5.9e+05\n",
       "date[T.12/20/2014]   6.88e+04   2.28e+05      0.301      0.763   -3.79e+05    5.16e+05\n",
       "date[T.12/21/2014]  2.608e+05   2.64e+05      0.989      0.323   -2.56e+05    7.78e+05\n",
       "date[T.12/22/2014]  1.407e+05   2.17e+05      0.649      0.516   -2.84e+05    5.66e+05\n",
       "date[T.12/23/2014]  1.015e+05   2.17e+05      0.467      0.640   -3.24e+05    5.27e+05\n",
       "date[T.12/24/2014]  1.416e+05   2.19e+05      0.647      0.517   -2.87e+05     5.7e+05\n",
       "date[T.12/26/2014]   1.11e+05   2.18e+05      0.509      0.611   -3.16e+05    5.39e+05\n",
       "date[T.12/27/2014]  5142.2681   2.64e+05      0.020      0.984   -5.12e+05    5.22e+05\n",
       "date[T.12/29/2014]  1.486e+05   2.17e+05      0.685      0.493   -2.77e+05    5.74e+05\n",
       "date[T.12/3/2014]     1.7e+05   2.17e+05      0.785      0.433   -2.55e+05    5.95e+05\n",
       "date[T.12/30/2014]  2.483e+05   2.18e+05      1.140      0.254   -1.79e+05    6.75e+05\n",
       "date[T.12/31/2014]  1.871e+05   2.18e+05      0.860      0.390    -2.4e+05    6.14e+05\n",
       "date[T.12/4/2014]    1.62e+05   2.17e+05      0.747      0.455   -2.63e+05    5.87e+05\n",
       "date[T.12/5/2014]   1.798e+05   2.17e+05      0.828      0.408   -2.46e+05    6.05e+05\n",
       "date[T.12/6/2014]   1.377e+05   2.33e+05      0.592      0.554   -3.18e+05    5.94e+05\n",
       "date[T.12/7/2014]   1.269e+05   2.64e+05      0.481      0.630    -3.9e+05    6.44e+05\n",
       "date[T.12/8/2014]   1.925e+05   2.17e+05      0.888      0.375   -2.32e+05    6.17e+05\n",
       "date[T.12/9/2014]   1.685e+05   2.17e+05      0.777      0.437   -2.56e+05    5.93e+05\n",
       "date[T.2/1/2015]    2.246e+05   2.64e+05      0.852      0.394   -2.92e+05    7.41e+05\n",
       "date[T.2/10/2015]   1.632e+05   2.17e+05      0.751      0.453   -2.63e+05    5.89e+05\n",
       "date[T.2/11/2015]   1.696e+05   2.17e+05      0.781      0.435   -2.56e+05    5.95e+05\n",
       "date[T.2/12/2015]    2.34e+05   2.18e+05      1.076      0.282   -1.92e+05     6.6e+05\n",
       "date[T.2/13/2015]   1.776e+05   2.17e+05      0.819      0.413   -2.48e+05    6.03e+05\n",
       "date[T.2/14/2015]   1.178e+05   2.49e+05      0.474      0.636    -3.7e+05    6.05e+05\n",
       "date[T.2/15/2015]   1.824e+05   3.04e+05      0.599      0.549   -4.14e+05    7.79e+05\n",
       "date[T.2/16/2015]    2.13e+05   2.33e+05      0.916      0.360   -2.43e+05    6.69e+05\n",
       "date[T.2/17/2015]    1.54e+05   2.17e+05      0.710      0.478   -2.71e+05    5.79e+05\n",
       "date[T.2/18/2015]   1.404e+05   2.17e+05      0.648      0.517   -2.84e+05    5.65e+05\n",
       "date[T.2/19/2015]   1.887e+05   2.17e+05      0.871      0.384   -2.36e+05    6.14e+05\n",
       "date[T.2/2/2015]    1.787e+05   2.18e+05      0.821      0.411   -2.48e+05    6.05e+05\n",
       "date[T.2/20/2015]   1.755e+05   2.17e+05      0.809      0.418   -2.49e+05       6e+05\n",
       "date[T.2/21/2015]   4.634e+05   2.49e+05      1.864      0.062   -2.39e+04    9.51e+05\n",
       "date[T.2/22/2015]   6.867e+04   2.23e+05      0.307      0.759   -3.69e+05    5.07e+05\n",
       "date[T.2/23/2015]     1.7e+05   2.17e+05      0.784      0.433   -2.55e+05    5.95e+05\n",
       "date[T.2/24/2015]   1.529e+05   2.16e+05      0.706      0.480   -2.71e+05    5.77e+05\n",
       "date[T.2/25/2015]   1.922e+05   2.16e+05      0.888      0.374   -2.32e+05    6.16e+05\n",
       "date[T.2/26/2015]   1.653e+05   2.17e+05      0.761      0.446    -2.6e+05    5.91e+05\n",
       "date[T.2/27/2015]   2.276e+05   2.17e+05      1.047      0.295   -1.99e+05    6.54e+05\n",
       "date[T.2/28/2015]   2.262e+05   2.36e+05      0.959      0.338   -2.36e+05    6.88e+05\n",
       "date[T.2/3/2015]    1.272e+05   2.18e+05      0.584      0.559   -2.99e+05    5.54e+05\n",
       "date[T.2/4/2015]    1.636e+05   2.17e+05      0.753      0.452   -2.62e+05     5.9e+05\n",
       "date[T.2/5/2015]    1.439e+05   2.17e+05      0.662      0.508   -2.82e+05     5.7e+05\n",
       "date[T.2/6/2015]    1.664e+05   2.17e+05      0.765      0.444    -2.6e+05    5.93e+05\n",
       "date[T.2/7/2015]    6.639e+04   2.49e+05      0.267      0.789   -4.21e+05    5.54e+05\n",
       "date[T.2/9/2015]     2.22e+05   2.17e+05      1.022      0.307   -2.04e+05    6.48e+05\n",
       "date[T.3/1/2015]    2.273e+05   2.33e+05      0.977      0.328   -2.29e+05    6.83e+05\n",
       "date[T.3/10/2015]   1.988e+05   2.17e+05      0.917      0.359   -2.26e+05    6.24e+05\n",
       "date[T.3/11/2015]   1.818e+05   2.17e+05      0.840      0.401   -2.43e+05    6.06e+05\n",
       "date[T.3/12/2015]   1.613e+05   2.17e+05      0.744      0.457   -2.64e+05    5.86e+05\n",
       "date[T.3/13/2015]   2.624e+05   2.17e+05      1.210      0.226   -1.63e+05    6.87e+05\n",
       "date[T.3/14/2015]   2.107e+05   2.33e+05      0.906      0.365   -2.45e+05    6.67e+05\n",
       "date[T.3/15/2015]   2.133e+05   2.49e+05      0.858      0.391   -2.74e+05    7.01e+05\n",
       "date[T.3/16/2015]   2.302e+05   2.17e+05      1.063      0.288   -1.94e+05    6.55e+05\n",
       "date[T.3/17/2015]   1.942e+05   2.16e+05      0.897      0.369    -2.3e+05    6.18e+05\n",
       "date[T.3/18/2015]   1.765e+05   2.16e+05      0.816      0.415   -2.48e+05    6.01e+05\n",
       "date[T.3/19/2015]   1.994e+05   2.17e+05      0.920      0.358   -2.26e+05    6.24e+05\n",
       "date[T.3/2/2015]    2.571e+05   2.18e+05      1.181      0.238    -1.7e+05    6.84e+05\n",
       "date[T.3/20/2015]   1.568e+05   2.17e+05      0.723      0.470   -2.69e+05    5.82e+05\n",
       "date[T.3/21/2015]   2.599e+05   2.22e+05      1.169      0.243   -1.76e+05    6.96e+05\n",
       "date[T.3/22/2015]   3.136e+05   2.41e+05      1.303      0.193   -1.58e+05    7.85e+05\n",
       "date[T.3/23/2015]   1.881e+05   2.16e+05      0.869      0.385   -2.36e+05    6.12e+05\n",
       "date[T.3/24/2015]   1.839e+05   2.16e+05      0.850      0.395    -2.4e+05    6.08e+05\n",
       "date[T.3/25/2015]   2.012e+05   2.16e+05      0.931      0.352   -2.23e+05    6.25e+05\n",
       "date[T.3/26/2015]   2.141e+05   2.16e+05      0.990      0.322    -2.1e+05    6.38e+05\n",
       "date[T.3/27/2015]   2.022e+05   2.16e+05      0.935      0.350   -2.22e+05    6.26e+05\n",
       "date[T.3/28/2015]   1.843e+05   2.28e+05      0.807      0.420   -2.63e+05    6.32e+05\n",
       "date[T.3/29/2015]   1.201e+05   2.28e+05      0.526      0.599   -3.28e+05    5.68e+05\n",
       "date[T.3/3/2015]     2.62e+05   2.17e+05      1.208      0.227   -1.63e+05    6.87e+05\n",
       "date[T.3/30/2015]   2.034e+05   2.16e+05      0.939      0.348   -2.21e+05    6.28e+05\n",
       "date[T.3/31/2015]   2.504e+05   2.17e+05      1.155      0.248   -1.75e+05    6.75e+05\n",
       "date[T.3/4/2015]    1.864e+05   2.16e+05      0.861      0.389   -2.38e+05    6.11e+05\n",
       "date[T.3/5/2015]    1.801e+05   2.17e+05      0.831      0.406   -2.45e+05    6.05e+05\n",
       "date[T.3/6/2015]    1.975e+05   2.17e+05      0.909      0.363   -2.28e+05    6.23e+05\n",
       "date[T.3/7/2015]    1.449e+05   2.41e+05      0.602      0.547   -3.27e+05    6.17e+05\n",
       "date[T.3/8/2015]    1.873e+05   3.05e+05      0.615      0.539    -4.1e+05    7.84e+05\n",
       "date[T.3/9/2015]    1.814e+05   2.17e+05      0.836      0.403   -2.44e+05    6.06e+05\n",
       "date[T.4/1/2015]    2.253e+05   2.17e+05      1.041      0.298   -1.99e+05     6.5e+05\n",
       "date[T.4/10/2015]    2.21e+05   2.17e+05      1.020      0.308   -2.04e+05    6.46e+05\n",
       "date[T.4/11/2015]   1.601e+05   2.23e+05      0.717      0.474   -2.78e+05    5.98e+05\n",
       "date[T.4/12/2015]   1.337e+05   2.23e+05      0.598      0.550   -3.04e+05    5.72e+05\n",
       "date[T.4/13/2015]    2.71e+05   2.17e+05      1.252      0.211   -1.53e+05    6.95e+05\n",
       "date[T.4/14/2015]   1.868e+05   2.16e+05      0.864      0.388   -2.37e+05    6.11e+05\n",
       "date[T.4/15/2015]    2.08e+05   2.17e+05      0.960      0.337   -2.17e+05    6.33e+05\n",
       "date[T.4/16/2015]     1.6e+05   2.17e+05      0.738      0.460   -2.65e+05    5.85e+05\n",
       "date[T.4/17/2015]   1.928e+05   2.17e+05      0.890      0.373   -2.32e+05    6.17e+05\n",
       "date[T.4/18/2015]   2.849e+05   2.36e+05      1.208      0.227   -1.77e+05    7.47e+05\n",
       "date[T.4/19/2015]   1.868e+05   2.33e+05      0.803      0.422   -2.69e+05    6.43e+05\n",
       "date[T.4/2/2015]    2.124e+05   2.16e+05      0.982      0.326   -2.12e+05    6.36e+05\n",
       "date[T.4/20/2015]   1.708e+05   2.17e+05      0.788      0.431   -2.54e+05    5.96e+05\n",
       "date[T.4/21/2015]   2.129e+05   2.16e+05      0.985      0.325   -2.11e+05    6.37e+05\n",
       "date[T.4/22/2015]   1.829e+05   2.16e+05      0.846      0.398   -2.41e+05    6.07e+05\n",
       "date[T.4/23/2015]   2.019e+05   2.16e+05      0.933      0.351   -2.22e+05    6.26e+05\n",
       "date[T.4/24/2015]    2.06e+05   2.16e+05      0.952      0.341   -2.18e+05     6.3e+05\n",
       "date[T.4/25/2015]   2.403e+05   2.22e+05      1.083      0.279   -1.95e+05    6.75e+05\n",
       "date[T.4/26/2015]   1.504e+05   2.23e+05      0.673      0.501   -2.88e+05    5.88e+05\n",
       "date[T.4/27/2015]   1.786e+05   2.16e+05      0.826      0.409   -2.45e+05    6.02e+05\n",
       "date[T.4/28/2015]   2.125e+05   2.16e+05      0.983      0.326   -2.11e+05    6.36e+05\n",
       "date[T.4/29/2015]   2.212e+05   2.16e+05      1.023      0.306   -2.03e+05    6.45e+05\n",
       "date[T.4/3/2015]    2.221e+05   2.17e+05      1.025      0.306   -2.03e+05    6.47e+05\n",
       "date[T.4/30/2015]   1.744e+05   2.17e+05      0.805      0.421    -2.5e+05    5.99e+05\n",
       "date[T.4/4/2015]    2.626e+05   2.41e+05      1.091      0.275   -2.09e+05    7.34e+05\n",
       "date[T.4/5/2015]    2.628e+05   2.33e+05      1.130      0.258   -1.93e+05    7.19e+05\n",
       "date[T.4/6/2015]    1.929e+05   2.17e+05      0.891      0.373   -2.32e+05    6.17e+05\n",
       "date[T.4/7/2015]    2.514e+05   2.16e+05      1.162      0.245   -1.73e+05    6.76e+05\n",
       "date[T.4/8/2015]     2.32e+05   2.16e+05      1.073      0.283   -1.92e+05    6.56e+05\n",
       "date[T.4/9/2015]    1.792e+05   2.16e+05      0.828      0.408   -2.45e+05    6.03e+05\n",
       "date[T.5/1/2015]    2.372e+05   2.17e+05      1.095      0.274   -1.88e+05    6.62e+05\n",
       "date[T.5/10/2014]   1.426e+05   2.36e+05      0.605      0.545    -3.2e+05    6.05e+05\n",
       "date[T.5/10/2015]    1.22e+05   2.64e+05      0.463      0.643   -3.95e+05    6.39e+05\n",
       "date[T.5/11/2014]   1.735e+05   2.64e+05      0.658      0.510   -3.43e+05     6.9e+05\n",
       "date[T.5/11/2015]   2.502e+05   2.18e+05      1.148      0.251   -1.77e+05    6.77e+05\n",
       "date[T.5/12/2014]   1.798e+05   2.17e+05      0.830      0.407   -2.45e+05    6.04e+05\n",
       "date[T.5/12/2015]   2.205e+05   2.17e+05      1.014      0.311   -2.06e+05    6.47e+05\n",
       "date[T.5/13/2014]   2.143e+05   2.17e+05      0.990      0.322    -2.1e+05    6.39e+05\n",
       "date[T.5/13/2015]   1.908e+05   2.19e+05      0.872      0.383   -2.38e+05     6.2e+05\n",
       "date[T.5/14/2014]    1.51e+05   2.17e+05      0.697      0.486   -2.74e+05    5.76e+05\n",
       "date[T.5/14/2015]   2.772e+05   2.25e+05      1.233      0.218   -1.64e+05    7.18e+05\n",
       "date[T.5/15/2014]   1.716e+05   2.17e+05      0.792      0.428   -2.53e+05    5.96e+05\n",
       "date[T.5/15/2015]   2.522e+05   3.04e+05      0.828      0.408   -3.45e+05    8.49e+05\n",
       "date[T.5/16/2014]   1.426e+05   2.17e+05      0.658      0.511   -2.82e+05    5.67e+05\n",
       "date[T.5/17/2014]   2.429e+05   3.05e+05      0.798      0.425   -3.54e+05     8.4e+05\n",
       "date[T.5/18/2014]   1.545e+05    2.3e+05      0.671      0.502   -2.97e+05    6.06e+05\n",
       "date[T.5/19/2014]   1.605e+05   2.17e+05      0.741      0.459   -2.64e+05    5.85e+05\n",
       "date[T.5/2/2014]    1.478e+05   2.17e+05      0.681      0.496   -2.77e+05    5.73e+05\n",
       "date[T.5/2/2015]    2.065e+05   2.33e+05      0.888      0.375   -2.49e+05    6.62e+05\n",
       "date[T.5/20/2014]   1.618e+05   2.16e+05      0.748      0.454   -2.62e+05    5.86e+05\n",
       "date[T.5/21/2014]   1.639e+05   2.16e+05      0.757      0.449    -2.6e+05    5.88e+05\n",
       "date[T.5/22/2014]   1.465e+05   2.16e+05      0.677      0.499   -2.78e+05    5.71e+05\n",
       "date[T.5/23/2014]   1.596e+05   2.17e+05      0.737      0.461   -2.65e+05    5.84e+05\n",
       "date[T.5/24/2014]   1.749e+05   2.25e+05      0.778      0.437   -2.66e+05    6.16e+05\n",
       "date[T.5/24/2015]   3.027e+05   3.05e+05      0.994      0.320   -2.94e+05       9e+05\n",
       "date[T.5/25/2014]   1.867e+04   2.36e+05      0.079      0.937   -4.44e+05    4.81e+05\n",
       "date[T.5/26/2014]   1.827e+05   2.28e+05      0.800      0.424   -2.65e+05     6.3e+05\n",
       "date[T.5/27/2014]   1.798e+05   2.16e+05      0.831      0.406   -2.44e+05    6.04e+05\n",
       "date[T.5/27/2015]    4.36e+05   3.05e+05      1.432      0.152   -1.61e+05    1.03e+06\n",
       "date[T.5/28/2014]   1.629e+05   2.16e+05      0.753      0.451   -2.61e+05    5.87e+05\n",
       "date[T.5/29/2014]   1.796e+05   2.17e+05      0.829      0.407   -2.45e+05    6.04e+05\n",
       "date[T.5/3/2014]    3.148e+05   2.41e+05      1.308      0.191   -1.57e+05    7.87e+05\n",
       "date[T.5/3/2015]     2.37e+05   2.26e+05      1.049      0.294   -2.06e+05     6.8e+05\n",
       "date[T.5/30/2014]   1.978e+05   2.17e+05      0.912      0.362   -2.27e+05    6.23e+05\n",
       "date[T.5/31/2014]   1.722e+05   2.33e+05      0.740      0.459   -2.84e+05    6.28e+05\n",
       "date[T.5/4/2014]    2.634e+04   2.36e+05      0.112      0.911   -4.36e+05    4.89e+05\n",
       "date[T.5/4/2015]    1.947e+05   2.16e+05      0.900      0.368   -2.29e+05    6.19e+05\n",
       "date[T.5/5/2014]    1.789e+05   2.17e+05      0.826      0.409   -2.46e+05    6.03e+05\n",
       "date[T.5/5/2015]    2.045e+05   2.16e+05      0.945      0.345    -2.2e+05    6.29e+05\n",
       "date[T.5/6/2014]    1.726e+05   2.17e+05      0.797      0.425   -2.52e+05    5.97e+05\n",
       "date[T.5/6/2015]    2.244e+05   2.17e+05      1.036      0.300      -2e+05    6.49e+05\n",
       "date[T.5/7/2014]    1.655e+05   2.16e+05      0.764      0.445   -2.59e+05     5.9e+05\n",
       "date[T.5/7/2015]    2.174e+05   2.17e+05      1.003      0.316   -2.07e+05    6.42e+05\n",
       "date[T.5/8/2014]    1.923e+05   2.17e+05      0.888      0.375   -2.32e+05    6.17e+05\n",
       "date[T.5/8/2015]    2.249e+05   2.17e+05      1.035      0.301   -2.01e+05    6.51e+05\n",
       "date[T.5/9/2014]    1.307e+05   2.17e+05      0.603      0.546   -2.94e+05    5.55e+05\n",
       "date[T.5/9/2015]    1.885e+05   2.49e+05      0.758      0.448   -2.99e+05    6.76e+05\n",
       "date[T.6/1/2014]    2.602e+05    2.3e+05      1.130      0.258   -1.91e+05    7.11e+05\n",
       "date[T.6/10/2014]   1.704e+05   2.16e+05      0.787      0.431   -2.54e+05    5.95e+05\n",
       "date[T.6/11/2014]   1.903e+05   2.16e+05      0.879      0.379   -2.34e+05    6.15e+05\n",
       "date[T.6/12/2014]   1.783e+05   2.17e+05      0.824      0.410   -2.46e+05    6.03e+05\n",
       "date[T.6/13/2014]   1.828e+05   2.17e+05      0.844      0.399   -2.42e+05    6.07e+05\n",
       "date[T.6/14/2014]   2.006e+05   2.28e+05      0.878      0.380   -2.47e+05    6.48e+05\n",
       "date[T.6/15/2014]   2.103e+05    2.3e+05      0.913      0.361   -2.41e+05    6.61e+05\n",
       "date[T.6/16/2014]   1.785e+05   2.16e+05      0.825      0.410   -2.46e+05    6.03e+05\n",
       "date[T.6/17/2014]   2.035e+05   2.16e+05      0.941      0.347    -2.2e+05    6.27e+05\n",
       "date[T.6/18/2014]   1.862e+05   2.16e+05      0.860      0.390   -2.38e+05     6.1e+05\n",
       "date[T.6/19/2014]   1.565e+05   2.16e+05      0.723      0.469   -2.68e+05    5.81e+05\n",
       "date[T.6/2/2014]    1.705e+05   2.17e+05      0.787      0.431   -2.54e+05    5.95e+05\n",
       "date[T.6/20/2014]   1.759e+05   2.16e+05      0.813      0.416   -2.48e+05       6e+05\n",
       "date[T.6/21/2014]   2.685e+05   2.28e+05      1.176      0.240   -1.79e+05    7.16e+05\n",
       "date[T.6/22/2014]   1.334e+05   2.24e+05      0.595      0.552   -3.06e+05    5.73e+05\n",
       "date[T.6/23/2014]   1.531e+05   2.16e+05      0.708      0.479    -2.7e+05    5.77e+05\n",
       "date[T.6/24/2014]   1.741e+05   2.16e+05      0.805      0.421    -2.5e+05    5.98e+05\n",
       "date[T.6/25/2014]    1.73e+05   2.16e+05      0.801      0.423   -2.51e+05    5.97e+05\n",
       "date[T.6/26/2014]   1.337e+05   2.16e+05      0.619      0.536    -2.9e+05    5.57e+05\n",
       "date[T.6/27/2014]   1.196e+05   2.16e+05      0.553      0.580   -3.05e+05    5.44e+05\n",
       "date[T.6/28/2014]   1.799e+05   2.23e+05      0.805      0.421   -2.58e+05    6.18e+05\n",
       "date[T.6/29/2014]   1.233e+05    2.3e+05      0.536      0.592   -3.28e+05    5.74e+05\n",
       "date[T.6/3/2014]    1.522e+05   2.16e+05      0.704      0.482   -2.72e+05    5.76e+05\n",
       "date[T.6/30/2014]    1.86e+05   2.17e+05      0.858      0.391   -2.39e+05    6.11e+05\n",
       "date[T.6/4/2014]    2.106e+05   2.16e+05      0.973      0.330   -2.14e+05    6.35e+05\n",
       "date[T.6/5/2014]    1.475e+05   2.16e+05      0.682      0.496   -2.77e+05    5.72e+05\n",
       "date[T.6/6/2014]    1.626e+05   2.17e+05      0.750      0.454   -2.63e+05    5.88e+05\n",
       "date[T.6/7/2014]    5.838e+04   2.41e+05      0.243      0.808   -4.13e+05     5.3e+05\n",
       "date[T.6/8/2014]    1.969e+05   2.26e+05      0.872      0.383   -2.46e+05    6.39e+05\n",
       "date[T.6/9/2014]    1.704e+05   2.16e+05      0.787      0.431   -2.54e+05    5.95e+05\n",
       "date[T.7/1/2014]    1.961e+05   2.16e+05      0.907      0.365   -2.28e+05     6.2e+05\n",
       "date[T.7/10/2014]   1.729e+05   2.16e+05      0.799      0.424   -2.51e+05    5.97e+05\n",
       "date[T.7/11/2014]   1.681e+05   2.17e+05      0.776      0.438   -2.56e+05    5.93e+05\n",
       "date[T.7/12/2014]   2.073e+05   2.27e+05      0.913      0.361   -2.38e+05    6.52e+05\n",
       "date[T.7/13/2014]   1.409e+05   2.49e+05      0.567      0.571   -3.46e+05    6.28e+05\n",
       "date[T.7/14/2014]   1.995e+05   2.16e+05      0.923      0.356   -2.24e+05    6.23e+05\n",
       "date[T.7/15/2014]   1.608e+05   2.16e+05      0.743      0.457   -2.63e+05    5.85e+05\n",
       "date[T.7/16/2014]   1.634e+05   2.16e+05      0.756      0.450    -2.6e+05    5.87e+05\n",
       "date[T.7/17/2014]   1.436e+05   2.17e+05      0.663      0.507   -2.81e+05    5.68e+05\n",
       "date[T.7/18/2014]   1.597e+05   2.16e+05      0.738      0.461   -2.64e+05    5.84e+05\n",
       "date[T.7/19/2014]   1.521e+05   2.36e+05      0.645      0.519    -3.1e+05    6.14e+05\n",
       "date[T.7/2/2014]     2.16e+05   2.16e+05      0.998      0.318   -2.08e+05     6.4e+05\n",
       "date[T.7/20/2014]   5.226e+04   2.28e+05      0.229      0.819   -3.95e+05       5e+05\n",
       "date[T.7/21/2014]   1.684e+05   2.16e+05      0.778      0.437   -2.56e+05    5.93e+05\n",
       "date[T.7/22/2014]   1.182e+05   2.16e+05      0.546      0.585   -3.06e+05    5.42e+05\n",
       "date[T.7/23/2014]   1.452e+05   2.16e+05      0.671      0.502   -2.79e+05    5.69e+05\n",
       "date[T.7/24/2014]    1.53e+05   2.16e+05      0.707      0.480   -2.71e+05    5.77e+05\n",
       "date[T.7/25/2014]   1.954e+05   2.16e+05      0.903      0.366   -2.29e+05    6.19e+05\n",
       "date[T.7/26/2014]   1.628e+05   2.28e+05      0.713      0.476   -2.85e+05     6.1e+05\n",
       "date[T.7/27/2014]   2.376e+05   3.05e+05      0.780      0.435   -3.59e+05    8.34e+05\n",
       "date[T.7/28/2014]   1.364e+05   2.16e+05      0.630      0.529   -2.88e+05    5.61e+05\n",
       "date[T.7/29/2014]   1.416e+05   2.16e+05      0.655      0.513   -2.82e+05    5.65e+05\n",
       "date[T.7/3/2014]    1.888e+05   2.17e+05      0.871      0.384   -2.36e+05    6.14e+05\n",
       "date[T.7/30/2014]   1.876e+05   2.17e+05      0.866      0.387   -2.37e+05    6.12e+05\n",
       "date[T.7/31/2014]   1.864e+05   2.17e+05      0.861      0.389   -2.38e+05    6.11e+05\n",
       "date[T.7/4/2014]    3.285e+05   2.64e+05      1.246      0.213   -1.88e+05    8.45e+05\n",
       "date[T.7/5/2014]    4.605e+05   2.33e+05      1.980      0.048    4649.403    9.16e+05\n",
       "date[T.7/6/2014]    1.998e+05   2.49e+05      0.804      0.422   -2.88e+05    6.87e+05\n",
       "date[T.7/7/2014]    1.724e+05   2.17e+05      0.796      0.426   -2.52e+05    5.97e+05\n",
       "date[T.7/8/2014]    1.413e+05   2.16e+05      0.654      0.513   -2.82e+05    5.65e+05\n",
       "date[T.7/9/2014]    1.556e+05   2.16e+05      0.720      0.472   -2.68e+05    5.79e+05\n",
       "date[T.8/1/2014]    2.022e+05   2.17e+05      0.933      0.351   -2.22e+05    6.27e+05\n",
       "date[T.8/10/2014]    1.62e+04   2.49e+05      0.065      0.948   -4.71e+05    5.03e+05\n",
       "date[T.8/11/2014]    1.75e+05   2.16e+05      0.809      0.418   -2.49e+05    5.99e+05\n",
       "date[T.8/12/2014]   1.678e+05   2.16e+05      0.775      0.438   -2.56e+05    5.92e+05\n",
       "date[T.8/13/2014]   1.618e+05   2.16e+05      0.748      0.455   -2.62e+05    5.86e+05\n",
       "date[T.8/14/2014]    1.54e+05   2.16e+05      0.711      0.477    -2.7e+05    5.78e+05\n",
       "date[T.8/15/2014]   2.331e+05   2.17e+05      1.074      0.283   -1.92e+05    6.59e+05\n",
       "date[T.8/16/2014]   1.356e+05   2.41e+05      0.563      0.573   -3.36e+05    6.07e+05\n",
       "date[T.8/17/2014]   3.249e+04   2.41e+05      0.135      0.893   -4.39e+05    5.04e+05\n",
       "date[T.8/18/2014]   1.533e+05   2.17e+05      0.708      0.479   -2.71e+05    5.78e+05\n",
       "date[T.8/19/2014]   1.867e+05   2.16e+05      0.863      0.388   -2.38e+05    6.11e+05\n",
       "date[T.8/2/2014]    2.323e+05   2.36e+05      0.985      0.325    -2.3e+05    6.95e+05\n",
       "date[T.8/20/2014]   1.665e+05   2.16e+05      0.770      0.441   -2.57e+05     5.9e+05\n",
       "date[T.8/21/2014]   1.512e+05   2.17e+05      0.698      0.485   -2.73e+05    5.76e+05\n",
       "date[T.8/22/2014]   1.329e+05   2.16e+05      0.614      0.539   -2.91e+05    5.57e+05\n",
       "date[T.8/23/2014]    1.41e+05    2.3e+05      0.613      0.540    -3.1e+05    5.92e+05\n",
       "date[T.8/24/2014]   1.566e+05   2.64e+05      0.594      0.553    -3.6e+05    6.73e+05\n",
       "date[T.8/25/2014]   1.783e+05   2.16e+05      0.824      0.410   -2.46e+05    6.02e+05\n",
       "date[T.8/26/2014]   1.634e+05   2.16e+05      0.756      0.450    -2.6e+05    5.87e+05\n",
       "date[T.8/27/2014]   1.491e+05   2.16e+05      0.689      0.491   -2.75e+05    5.73e+05\n",
       "date[T.8/28/2014]   1.718e+05   2.17e+05      0.793      0.428   -2.53e+05    5.97e+05\n",
       "date[T.8/29/2014]   1.978e+05   2.17e+05      0.911      0.362   -2.28e+05    6.24e+05\n",
       "date[T.8/3/2014]    3.675e+05   3.04e+05      1.207      0.227   -2.29e+05    9.64e+05\n",
       "date[T.8/30/2014]   4.301e+05   3.05e+05      1.413      0.158   -1.67e+05    1.03e+06\n",
       "date[T.8/31/2014]   7.703e+04   2.49e+05      0.310      0.757    -4.1e+05    5.64e+05\n",
       "date[T.8/4/2014]    2.052e+05   2.16e+05      0.948      0.343   -2.19e+05     6.3e+05\n",
       "date[T.8/5/2014]     1.76e+05   2.16e+05      0.814      0.416   -2.48e+05       6e+05\n",
       "date[T.8/6/2014]    1.618e+05   2.17e+05      0.747      0.455   -2.63e+05    5.86e+05\n",
       "date[T.8/7/2014]    1.918e+05   2.17e+05      0.884      0.377   -2.34e+05    6.17e+05\n",
       "date[T.8/8/2014]    1.856e+05   2.17e+05      0.857      0.392   -2.39e+05     6.1e+05\n",
       "date[T.8/9/2014]    1.319e+05   2.64e+05      0.500      0.617   -3.85e+05    6.49e+05\n",
       "date[T.9/1/2014]     2.24e+05   2.33e+05      0.963      0.335   -2.32e+05     6.8e+05\n",
       "date[T.9/10/2014]   1.469e+05   2.17e+05      0.678      0.498   -2.78e+05    5.71e+05\n",
       "date[T.9/11/2014]   1.944e+05   2.17e+05      0.898      0.369    -2.3e+05    6.19e+05\n",
       "date[T.9/12/2014]   1.119e+05   2.17e+05      0.515      0.606   -3.14e+05    5.37e+05\n",
       "date[T.9/13/2014]   1.571e+05   2.36e+05      0.666      0.505   -3.05e+05    6.19e+05\n",
       "date[T.9/14/2014]   2.545e+05   2.41e+05      1.057      0.290   -2.17e+05    7.26e+05\n",
       "date[T.9/15/2014]   1.515e+05   2.17e+05      0.699      0.484   -2.73e+05    5.76e+05\n",
       "date[T.9/16/2014]   1.612e+05   2.16e+05      0.745      0.456   -2.63e+05    5.86e+05\n",
       "date[T.9/17/2014]   1.276e+05   2.17e+05      0.589      0.556   -2.97e+05    5.52e+05\n",
       "date[T.9/18/2014]   1.455e+05   2.17e+05      0.672      0.502   -2.79e+05     5.7e+05\n",
       "date[T.9/19/2014]   1.941e+05   2.17e+05      0.896      0.370   -2.31e+05    6.19e+05\n",
       "date[T.9/2/2014]    1.737e+05   2.17e+05      0.802      0.423   -2.51e+05    5.98e+05\n",
       "date[T.9/20/2014]   2.436e+05   2.36e+05      1.033      0.302   -2.19e+05    7.06e+05\n",
       "date[T.9/21/2014]   1.807e+05   2.36e+05      0.766      0.444   -2.82e+05    6.43e+05\n",
       "date[T.9/22/2014]   1.722e+05   2.16e+05      0.795      0.426   -2.52e+05    5.97e+05\n",
       "date[T.9/23/2014]   1.781e+05   2.16e+05      0.823      0.410   -2.46e+05    6.02e+05\n",
       "date[T.9/24/2014]   1.386e+05   2.16e+05      0.640      0.522   -2.86e+05    5.63e+05\n",
       "date[T.9/25/2014]   1.566e+05   2.17e+05      0.723      0.470   -2.68e+05    5.81e+05\n",
       "date[T.9/26/2014]   1.465e+05   2.16e+05      0.676      0.499   -2.78e+05    5.71e+05\n",
       "date[T.9/27/2014]   5.206e+04   2.36e+05      0.221      0.825    -4.1e+05    5.14e+05\n",
       "date[T.9/28/2014]   1.522e+05   2.49e+05      0.612      0.540   -3.35e+05    6.39e+05\n",
       "date[T.9/29/2014]    1.81e+05   2.17e+05      0.836      0.403   -2.44e+05    6.06e+05\n",
       "date[T.9/3/2014]     1.87e+05   2.17e+05      0.864      0.388   -2.37e+05    6.12e+05\n",
       "date[T.9/30/2014]   2.054e+05   2.17e+05      0.945      0.344    -2.2e+05    6.31e+05\n",
       "date[T.9/4/2014]    1.715e+05   2.17e+05      0.792      0.429   -2.53e+05    5.96e+05\n",
       "date[T.9/5/2014]    1.534e+05   2.17e+05      0.709      0.479   -2.71e+05    5.78e+05\n",
       "date[T.9/6/2014]    1.628e+05   2.36e+05      0.690      0.490      -3e+05    6.25e+05\n",
       "date[T.9/7/2014]    1.758e+05   2.64e+05      0.667      0.505   -3.41e+05    6.93e+05\n",
       "date[T.9/8/2014]    1.522e+05   2.17e+05      0.702      0.482   -2.73e+05    5.77e+05\n",
       "date[T.9/9/2014]    1.639e+05   2.16e+05      0.757      0.449    -2.6e+05    5.88e+05\n",
       "bedrooms           -3.959e+04   2048.783    -19.321      0.000   -4.36e+04   -3.56e+04\n",
       "bathrooms           4.801e+04   3499.796     13.719      0.000    4.12e+04    5.49e+04\n",
       "sqft_living          114.5720     19.475      5.883      0.000      76.400     152.744\n",
       "sqft_lot              -0.0004      0.052     -0.007      0.995      -0.102       0.101\n",
       "floors              2.787e+04   3863.333      7.213      0.000    2.03e+04    3.54e+04\n",
       "waterfront          6.164e+05   1.95e+04     31.567      0.000    5.78e+05    6.55e+05\n",
       "view                4.432e+04   2276.066     19.471      0.000    3.99e+04    4.88e+04\n",
       "condition           2.051e+04   2502.084      8.199      0.000    1.56e+04    2.54e+04\n",
       "grade               1.213e+05   2274.631     53.339      0.000    1.17e+05    1.26e+05\n",
       "sqft_above            45.7943     19.456      2.354      0.019       7.658      83.930\n",
       "sqft_basement         51.7970     19.296      2.684      0.007      13.976      89.618\n",
       "yr_built           -3655.5038     71.210    -51.334      0.000   -3795.081   -3515.927\n",
       "zipcode              -12.8203     31.470     -0.407      0.684     -74.505      48.864\n",
       "sqft_living15         23.4843      3.669      6.401      0.000      16.293      30.676\n",
       "sqft_lot15            -0.5588      0.079     -7.069      0.000      -0.714      -0.404\n",
       "==============================================================================\n",
       "Omnibus:                    16139.883   Durbin-Watson:                   1.983\n",
       "Prob(Omnibus):                  0.000   Jarque-Bera (JB):          1166827.017\n",
       "Skew:                           2.980   Prob(JB):                         0.00\n",
       "Kurtosis:                      38.512   Cond. No.                     2.86e+08\n",
       "==============================================================================\n",
       "\n",
       "Notes:\n",
       "[1] Standard Errors assume that the covariance matrix of the errors is correctly specified.\n",
       "[2] The condition number is large, 2.86e+08. This might indicate that there are\n",
       "strong multicollinearity or other numerical problems.\n",
       "\"\"\""
      ]
     },
     "execution_count": 43,
     "metadata": {},
     "output_type": "execute_result"
    }
   ],
   "source": [
    "multiple_formula = 'price ~' + '+'.join(SM_df.columns[0:-1])\n",
    "multiple_model = ols(multiple_formula, SM_df).fit()\n",
    "multiple_model_summary = multiple_model.summary()\n",
    "multiple_model_summary"
   ]
  },
  {
   "cell_type": "code",
   "execution_count": 44,
   "metadata": {
    "scrolled": true
   },
   "outputs": [
    {
     "data": {
      "text/html": [
       "<pre>✔️ 78.3 ms (2021-06-02T17:42:18/2021-06-02T17:42:18)</pre>"
      ],
      "text/plain": [
       "<IPython.core.display.HTML object>"
      ]
     },
     "metadata": {},
     "output_type": "display_data"
    },
    {
     "data": {
      "text/html": [
       "<div>\n",
       "<style scoped>\n",
       "    .dataframe tbody tr th:only-of-type {\n",
       "        vertical-align: middle;\n",
       "    }\n",
       "\n",
       "    .dataframe tbody tr th {\n",
       "        vertical-align: top;\n",
       "    }\n",
       "\n",
       "    .dataframe thead th {\n",
       "        text-align: right;\n",
       "    }\n",
       "</style>\n",
       "<table border=\"1\" class=\"dataframe\">\n",
       "  <thead>\n",
       "    <tr style=\"text-align: right;\">\n",
       "      <th></th>\n",
       "      <th>bedrooms</th>\n",
       "      <th>bathrooms</th>\n",
       "      <th>sqft_living</th>\n",
       "      <th>sqft_lot</th>\n",
       "      <th>floors</th>\n",
       "      <th>waterfront</th>\n",
       "      <th>view</th>\n",
       "      <th>condition</th>\n",
       "      <th>grade</th>\n",
       "      <th>sqft_above</th>\n",
       "      <th>sqft_basement</th>\n",
       "      <th>yr_built</th>\n",
       "      <th>zipcode</th>\n",
       "      <th>sqft_living15</th>\n",
       "      <th>sqft_lot15</th>\n",
       "    </tr>\n",
       "  </thead>\n",
       "  <tbody>\n",
       "    <tr>\n",
       "      <th>bedrooms</th>\n",
       "      <td>1.000000</td>\n",
       "      <td>0.514508</td>\n",
       "      <td>0.578212</td>\n",
       "      <td>0.032471</td>\n",
       "      <td>0.177944</td>\n",
       "      <td>-0.002127</td>\n",
       "      <td>0.078354</td>\n",
       "      <td>0.026496</td>\n",
       "      <td>0.356563</td>\n",
       "      <td>0.479386</td>\n",
       "      <td>0.297229</td>\n",
       "      <td>0.155670</td>\n",
       "      <td>-0.154092</td>\n",
       "      <td>0.393406</td>\n",
       "      <td>0.030690</td>\n",
       "    </tr>\n",
       "    <tr>\n",
       "      <th>bathrooms</th>\n",
       "      <td>0.514508</td>\n",
       "      <td>1.000000</td>\n",
       "      <td>0.755758</td>\n",
       "      <td>0.088373</td>\n",
       "      <td>0.502582</td>\n",
       "      <td>0.063629</td>\n",
       "      <td>0.186016</td>\n",
       "      <td>-0.126479</td>\n",
       "      <td>0.665838</td>\n",
       "      <td>0.686668</td>\n",
       "      <td>0.278485</td>\n",
       "      <td>0.507173</td>\n",
       "      <td>-0.204786</td>\n",
       "      <td>0.569884</td>\n",
       "      <td>0.088303</td>\n",
       "    </tr>\n",
       "    <tr>\n",
       "      <th>sqft_living</th>\n",
       "      <td>0.578212</td>\n",
       "      <td>0.755758</td>\n",
       "      <td>1.000000</td>\n",
       "      <td>0.173453</td>\n",
       "      <td>0.353953</td>\n",
       "      <td>0.104637</td>\n",
       "      <td>0.281715</td>\n",
       "      <td>-0.059445</td>\n",
       "      <td>0.762779</td>\n",
       "      <td>0.876448</td>\n",
       "      <td>0.428660</td>\n",
       "      <td>0.318152</td>\n",
       "      <td>-0.199802</td>\n",
       "      <td>0.756402</td>\n",
       "      <td>0.184342</td>\n",
       "    </tr>\n",
       "    <tr>\n",
       "      <th>sqft_lot</th>\n",
       "      <td>0.032471</td>\n",
       "      <td>0.088373</td>\n",
       "      <td>0.173453</td>\n",
       "      <td>1.000000</td>\n",
       "      <td>-0.004814</td>\n",
       "      <td>0.021459</td>\n",
       "      <td>0.075054</td>\n",
       "      <td>-0.008830</td>\n",
       "      <td>0.114731</td>\n",
       "      <td>0.184139</td>\n",
       "      <td>0.015031</td>\n",
       "      <td>0.052946</td>\n",
       "      <td>-0.129586</td>\n",
       "      <td>0.144763</td>\n",
       "      <td>0.718204</td>\n",
       "    </tr>\n",
       "    <tr>\n",
       "      <th>floors</th>\n",
       "      <td>0.177944</td>\n",
       "      <td>0.502582</td>\n",
       "      <td>0.353953</td>\n",
       "      <td>-0.004814</td>\n",
       "      <td>1.000000</td>\n",
       "      <td>0.020797</td>\n",
       "      <td>0.028414</td>\n",
       "      <td>-0.264075</td>\n",
       "      <td>0.458794</td>\n",
       "      <td>0.523989</td>\n",
       "      <td>-0.241866</td>\n",
       "      <td>0.489193</td>\n",
       "      <td>-0.059541</td>\n",
       "      <td>0.280102</td>\n",
       "      <td>-0.010722</td>\n",
       "    </tr>\n",
       "    <tr>\n",
       "      <th>waterfront</th>\n",
       "      <td>-0.002127</td>\n",
       "      <td>0.063629</td>\n",
       "      <td>0.104637</td>\n",
       "      <td>0.021459</td>\n",
       "      <td>0.020797</td>\n",
       "      <td>1.000000</td>\n",
       "      <td>0.380543</td>\n",
       "      <td>0.016648</td>\n",
       "      <td>0.082818</td>\n",
       "      <td>0.071778</td>\n",
       "      <td>0.083050</td>\n",
       "      <td>-0.024487</td>\n",
       "      <td>0.028923</td>\n",
       "      <td>0.083823</td>\n",
       "      <td>0.030658</td>\n",
       "    </tr>\n",
       "    <tr>\n",
       "      <th>view</th>\n",
       "      <td>0.078354</td>\n",
       "      <td>0.186016</td>\n",
       "      <td>0.281715</td>\n",
       "      <td>0.075054</td>\n",
       "      <td>0.028414</td>\n",
       "      <td>0.380543</td>\n",
       "      <td>1.000000</td>\n",
       "      <td>0.045622</td>\n",
       "      <td>0.249082</td>\n",
       "      <td>0.166017</td>\n",
       "      <td>0.270629</td>\n",
       "      <td>-0.054452</td>\n",
       "      <td>0.085059</td>\n",
       "      <td>0.278928</td>\n",
       "      <td>0.073083</td>\n",
       "    </tr>\n",
       "    <tr>\n",
       "      <th>condition</th>\n",
       "      <td>0.026496</td>\n",
       "      <td>-0.126479</td>\n",
       "      <td>-0.059445</td>\n",
       "      <td>-0.008830</td>\n",
       "      <td>-0.264075</td>\n",
       "      <td>0.016648</td>\n",
       "      <td>0.045622</td>\n",
       "      <td>1.000000</td>\n",
       "      <td>-0.146896</td>\n",
       "      <td>-0.158904</td>\n",
       "      <td>0.168482</td>\n",
       "      <td>-0.361592</td>\n",
       "      <td>0.002888</td>\n",
       "      <td>-0.093072</td>\n",
       "      <td>-0.003126</td>\n",
       "    </tr>\n",
       "    <tr>\n",
       "      <th>grade</th>\n",
       "      <td>0.356563</td>\n",
       "      <td>0.665838</td>\n",
       "      <td>0.762779</td>\n",
       "      <td>0.114731</td>\n",
       "      <td>0.458794</td>\n",
       "      <td>0.082818</td>\n",
       "      <td>0.249082</td>\n",
       "      <td>-0.146896</td>\n",
       "      <td>1.000000</td>\n",
       "      <td>0.756073</td>\n",
       "      <td>0.165843</td>\n",
       "      <td>0.447865</td>\n",
       "      <td>-0.185771</td>\n",
       "      <td>0.713867</td>\n",
       "      <td>0.120981</td>\n",
       "    </tr>\n",
       "    <tr>\n",
       "      <th>sqft_above</th>\n",
       "      <td>0.479386</td>\n",
       "      <td>0.686668</td>\n",
       "      <td>0.876448</td>\n",
       "      <td>0.184139</td>\n",
       "      <td>0.523989</td>\n",
       "      <td>0.071778</td>\n",
       "      <td>0.166017</td>\n",
       "      <td>-0.158904</td>\n",
       "      <td>0.756073</td>\n",
       "      <td>1.000000</td>\n",
       "      <td>-0.051175</td>\n",
       "      <td>0.424037</td>\n",
       "      <td>-0.261570</td>\n",
       "      <td>0.731767</td>\n",
       "      <td>0.195077</td>\n",
       "    </tr>\n",
       "    <tr>\n",
       "      <th>sqft_basement</th>\n",
       "      <td>0.297229</td>\n",
       "      <td>0.278485</td>\n",
       "      <td>0.428660</td>\n",
       "      <td>0.015031</td>\n",
       "      <td>-0.241866</td>\n",
       "      <td>0.083050</td>\n",
       "      <td>0.270629</td>\n",
       "      <td>0.168482</td>\n",
       "      <td>0.165843</td>\n",
       "      <td>-0.051175</td>\n",
       "      <td>1.000000</td>\n",
       "      <td>-0.130085</td>\n",
       "      <td>0.073271</td>\n",
       "      <td>0.199288</td>\n",
       "      <td>0.015885</td>\n",
       "    </tr>\n",
       "    <tr>\n",
       "      <th>yr_built</th>\n",
       "      <td>0.155670</td>\n",
       "      <td>0.507173</td>\n",
       "      <td>0.318152</td>\n",
       "      <td>0.052946</td>\n",
       "      <td>0.489193</td>\n",
       "      <td>-0.024487</td>\n",
       "      <td>-0.054452</td>\n",
       "      <td>-0.361592</td>\n",
       "      <td>0.447865</td>\n",
       "      <td>0.424037</td>\n",
       "      <td>-0.130085</td>\n",
       "      <td>1.000000</td>\n",
       "      <td>-0.347210</td>\n",
       "      <td>0.326377</td>\n",
       "      <td>0.070777</td>\n",
       "    </tr>\n",
       "    <tr>\n",
       "      <th>zipcode</th>\n",
       "      <td>-0.154092</td>\n",
       "      <td>-0.204786</td>\n",
       "      <td>-0.199802</td>\n",
       "      <td>-0.129586</td>\n",
       "      <td>-0.059541</td>\n",
       "      <td>0.028923</td>\n",
       "      <td>0.085059</td>\n",
       "      <td>0.002888</td>\n",
       "      <td>-0.185771</td>\n",
       "      <td>-0.261570</td>\n",
       "      <td>0.073271</td>\n",
       "      <td>-0.347210</td>\n",
       "      <td>1.000000</td>\n",
       "      <td>-0.279299</td>\n",
       "      <td>-0.147294</td>\n",
       "    </tr>\n",
       "    <tr>\n",
       "      <th>sqft_living15</th>\n",
       "      <td>0.393406</td>\n",
       "      <td>0.569884</td>\n",
       "      <td>0.756402</td>\n",
       "      <td>0.144763</td>\n",
       "      <td>0.280102</td>\n",
       "      <td>0.083823</td>\n",
       "      <td>0.278928</td>\n",
       "      <td>-0.093072</td>\n",
       "      <td>0.713867</td>\n",
       "      <td>0.731767</td>\n",
       "      <td>0.199288</td>\n",
       "      <td>0.326377</td>\n",
       "      <td>-0.279299</td>\n",
       "      <td>1.000000</td>\n",
       "      <td>0.183515</td>\n",
       "    </tr>\n",
       "    <tr>\n",
       "      <th>sqft_lot15</th>\n",
       "      <td>0.030690</td>\n",
       "      <td>0.088303</td>\n",
       "      <td>0.184342</td>\n",
       "      <td>0.718204</td>\n",
       "      <td>-0.010722</td>\n",
       "      <td>0.030658</td>\n",
       "      <td>0.073083</td>\n",
       "      <td>-0.003126</td>\n",
       "      <td>0.120981</td>\n",
       "      <td>0.195077</td>\n",
       "      <td>0.015885</td>\n",
       "      <td>0.070777</td>\n",
       "      <td>-0.147294</td>\n",
       "      <td>0.183515</td>\n",
       "      <td>1.000000</td>\n",
       "    </tr>\n",
       "  </tbody>\n",
       "</table>\n",
       "</div>"
      ],
      "text/plain": [
       "               bedrooms  bathrooms  sqft_living  sqft_lot    floors  \\\n",
       "bedrooms       1.000000   0.514508     0.578212  0.032471  0.177944   \n",
       "bathrooms      0.514508   1.000000     0.755758  0.088373  0.502582   \n",
       "sqft_living    0.578212   0.755758     1.000000  0.173453  0.353953   \n",
       "sqft_lot       0.032471   0.088373     0.173453  1.000000 -0.004814   \n",
       "floors         0.177944   0.502582     0.353953 -0.004814  1.000000   \n",
       "waterfront    -0.002127   0.063629     0.104637  0.021459  0.020797   \n",
       "view           0.078354   0.186016     0.281715  0.075054  0.028414   \n",
       "condition      0.026496  -0.126479    -0.059445 -0.008830 -0.264075   \n",
       "grade          0.356563   0.665838     0.762779  0.114731  0.458794   \n",
       "sqft_above     0.479386   0.686668     0.876448  0.184139  0.523989   \n",
       "sqft_basement  0.297229   0.278485     0.428660  0.015031 -0.241866   \n",
       "yr_built       0.155670   0.507173     0.318152  0.052946  0.489193   \n",
       "zipcode       -0.154092  -0.204786    -0.199802 -0.129586 -0.059541   \n",
       "sqft_living15  0.393406   0.569884     0.756402  0.144763  0.280102   \n",
       "sqft_lot15     0.030690   0.088303     0.184342  0.718204 -0.010722   \n",
       "\n",
       "               waterfront      view  condition     grade  sqft_above  \\\n",
       "bedrooms        -0.002127  0.078354   0.026496  0.356563    0.479386   \n",
       "bathrooms        0.063629  0.186016  -0.126479  0.665838    0.686668   \n",
       "sqft_living      0.104637  0.281715  -0.059445  0.762779    0.876448   \n",
       "sqft_lot         0.021459  0.075054  -0.008830  0.114731    0.184139   \n",
       "floors           0.020797  0.028414  -0.264075  0.458794    0.523989   \n",
       "waterfront       1.000000  0.380543   0.016648  0.082818    0.071778   \n",
       "view             0.380543  1.000000   0.045622  0.249082    0.166017   \n",
       "condition        0.016648  0.045622   1.000000 -0.146896   -0.158904   \n",
       "grade            0.082818  0.249082  -0.146896  1.000000    0.756073   \n",
       "sqft_above       0.071778  0.166017  -0.158904  0.756073    1.000000   \n",
       "sqft_basement    0.083050  0.270629   0.168482  0.165843   -0.051175   \n",
       "yr_built        -0.024487 -0.054452  -0.361592  0.447865    0.424037   \n",
       "zipcode          0.028923  0.085059   0.002888 -0.185771   -0.261570   \n",
       "sqft_living15    0.083823  0.278928  -0.093072  0.713867    0.731767   \n",
       "sqft_lot15       0.030658  0.073083  -0.003126  0.120981    0.195077   \n",
       "\n",
       "               sqft_basement  yr_built   zipcode  sqft_living15  sqft_lot15  \n",
       "bedrooms            0.297229  0.155670 -0.154092       0.393406    0.030690  \n",
       "bathrooms           0.278485  0.507173 -0.204786       0.569884    0.088303  \n",
       "sqft_living         0.428660  0.318152 -0.199802       0.756402    0.184342  \n",
       "sqft_lot            0.015031  0.052946 -0.129586       0.144763    0.718204  \n",
       "floors             -0.241866  0.489193 -0.059541       0.280102   -0.010722  \n",
       "waterfront          0.083050 -0.024487  0.028923       0.083823    0.030658  \n",
       "view                0.270629 -0.054452  0.085059       0.278928    0.073083  \n",
       "condition           0.168482 -0.361592  0.002888      -0.093072   -0.003126  \n",
       "grade               0.165843  0.447865 -0.185771       0.713867    0.120981  \n",
       "sqft_above         -0.051175  0.424037 -0.261570       0.731767    0.195077  \n",
       "sqft_basement       1.000000 -0.130085  0.073271       0.199288    0.015885  \n",
       "yr_built           -0.130085  1.000000 -0.347210       0.326377    0.070777  \n",
       "zipcode             0.073271 -0.347210  1.000000      -0.279299   -0.147294  \n",
       "sqft_living15       0.199288  0.326377 -0.279299       1.000000    0.183515  \n",
       "sqft_lot15          0.015885  0.070777 -0.147294       0.183515    1.000000  "
      ]
     },
     "execution_count": 44,
     "metadata": {},
     "output_type": "execute_result"
    }
   ],
   "source": [
    "X_no_dummies.corr()"
   ]
  },
  {
   "cell_type": "code",
   "execution_count": 45,
   "metadata": {},
   "outputs": [
    {
     "data": {
      "text/html": [
       "<pre>✔️ 8.15 ms (2021-06-02T17:42:18/2021-06-02T17:42:18)</pre>"
      ],
      "text/plain": [
       "<IPython.core.display.HTML object>"
      ]
     },
     "metadata": {},
     "output_type": "display_data"
    }
   ],
   "source": [
    "X = X.drop('sqft_lot', axis=1)"
   ]
  },
  {
   "cell_type": "code",
   "execution_count": 46,
   "metadata": {},
   "outputs": [
    {
     "data": {
      "text/html": [
       "<pre>✔️ 11.5 ms (2021-06-02T17:42:19/2021-06-02T17:42:19)</pre>"
      ],
      "text/plain": [
       "<IPython.core.display.HTML object>"
      ]
     },
     "metadata": {},
     "output_type": "display_data"
    }
   ],
   "source": [
    "X = X.drop('sqft_above', axis=1)"
   ]
  },
  {
   "cell_type": "code",
   "execution_count": 47,
   "metadata": {},
   "outputs": [
    {
     "data": {
      "text/html": [
       "<pre>✔️ 17.4 ms (2021-06-02T17:42:19/2021-06-02T17:42:19)</pre>"
      ],
      "text/plain": [
       "<IPython.core.display.HTML object>"
      ]
     },
     "metadata": {},
     "output_type": "display_data"
    },
    {
     "ename": "NameError",
     "evalue": "name 'zip_encoded' is not defined",
     "output_type": "error",
     "traceback": [
      "\u001b[0;31m---------------------------------------------------------------------------\u001b[0m",
      "\u001b[0;31mNameError\u001b[0m                                 Traceback (most recent call last)",
      "\u001b[0;32m<ipython-input-47-aba901079a5a>\u001b[0m in \u001b[0;36m<module>\u001b[0;34m\u001b[0m\n\u001b[0;32m----> 1\u001b[0;31m \u001b[0mX\u001b[0m \u001b[0;34m=\u001b[0m \u001b[0mpd\u001b[0m\u001b[0;34m.\u001b[0m\u001b[0mconcat\u001b[0m\u001b[0;34m(\u001b[0m\u001b[0;34m[\u001b[0m\u001b[0mX\u001b[0m\u001b[0;34m,\u001b[0m \u001b[0mzip_encoded\u001b[0m\u001b[0;34m]\u001b[0m\u001b[0;34m,\u001b[0m \u001b[0maxis\u001b[0m\u001b[0;34m=\u001b[0m\u001b[0;36m1\u001b[0m\u001b[0;34m)\u001b[0m\u001b[0;34m\u001b[0m\u001b[0;34m\u001b[0m\u001b[0m\n\u001b[0m",
      "\u001b[0;31mNameError\u001b[0m: name 'zip_encoded' is not defined"
     ]
    }
   ],
   "source": [
    "X = pd.concat([X, zip_encoded], axis=1)"
   ]
  },
  {
   "cell_type": "code",
   "execution_count": null,
   "metadata": {},
   "outputs": [],
   "source": [
    "model = LinearRegression()\n",
    "model.fit(X, y)\n",
    "model.score(X,y)"
   ]
  },
  {
   "cell_type": "code",
   "execution_count": null,
   "metadata": {},
   "outputs": [],
   "source": [
    "residual = y - model.predict(X)"
   ]
  },
  {
   "cell_type": "code",
   "execution_count": null,
   "metadata": {},
   "outputs": [],
   "source": [
    "fig, ax = plt.subplots()\n",
    "ax.hist(residual, bins=20, density=True, range =[-300000,300000]);"
   ]
  },
  {
   "cell_type": "code",
   "execution_count": null,
   "metadata": {},
   "outputs": [],
   "source": [
    "sns.residplot(y, residual)\n",
    "    \n",
    "plt.xlabel(\"Fitted values\")\n",
    "plt.title('Residual plot')"
   ]
  },
  {
   "cell_type": "code",
   "execution_count": null,
   "metadata": {},
   "outputs": [],
   "source": [
    "plt.figure(figsize=(7,7))\n",
    "stats.probplot(residual, dist=\"norm\", plot=plt)\n",
    "plt.title(\"Normal Q-Q Plot\")"
   ]
  },
  {
   "cell_type": "code",
   "execution_count": null,
   "metadata": {},
   "outputs": [],
   "source": [
    "X"
   ]
  },
  {
   "cell_type": "code",
   "execution_count": null,
   "metadata": {},
   "outputs": [],
   "source": [
    "X = pd.concat([X, hood_encoded], axis=1)"
   ]
  },
  {
   "cell_type": "code",
   "execution_count": null,
   "metadata": {
    "scrolled": true
   },
   "outputs": [],
   "source": [
    "model = LinearRegression()\n",
    "model.fit(X, y)\n",
    "model.score(X,y)"
   ]
  },
  {
   "cell_type": "code",
   "execution_count": null,
   "metadata": {},
   "outputs": [],
   "source": [
    "residuals = y - model.predict(X)"
   ]
  },
  {
   "cell_type": "code",
   "execution_count": null,
   "metadata": {},
   "outputs": [],
   "source": [
    "for column in X_no_dummies:\n",
    "    X_no_dummies[column].plot.hist(density=True, label = column+' histogram')\n",
    "    X_no_dummies[column].plot.kde(label =column+' kde')\n",
    "    plt.legend()\n",
    "    plt.show()"
   ]
  },
  {
   "cell_type": "code",
   "execution_count": null,
   "metadata": {},
   "outputs": [],
   "source": [
    "df['Residual'] = residuals"
   ]
  },
  {
   "cell_type": "code",
   "execution_count": null,
   "metadata": {},
   "outputs": [],
   "source": [
    "df"
   ]
  },
  {
   "cell_type": "code",
   "execution_count": null,
   "metadata": {},
   "outputs": [],
   "source": [
    "best_value = df['Residual'].sort_values().index[0:200]"
   ]
  },
  {
   "cell_type": "code",
   "execution_count": null,
   "metadata": {},
   "outputs": [],
   "source": [
    "best_value_df = df.loc[best_value,:]"
   ]
  },
  {
   "cell_type": "code",
   "execution_count": null,
   "metadata": {},
   "outputs": [],
   "source": [
    "best_value_df"
   ]
  },
  {
   "cell_type": "code",
   "execution_count": null,
   "metadata": {},
   "outputs": [],
   "source": [
    "from sklearn.model_selection import train_test_split\n",
    "from sklearn.linear_model import LinearRegression\n",
    "\n",
    "X_train, X_test, y_train, y_test = train_test_split(X, y, test_size=.3)\n",
    "print(len(X_train), len(X_test), len(y_train), len(y_test))\n",
    "\n",
    "lr = LinearRegression()\n",
    "lr.fit(X_train, y_train)\n",
    "train_score = round(lr.score(X_train, y_train),3)\n",
    "test_score = round(lr.score(X_test, y_test), 3)\n",
    "\n",
    "print(\"train r-squared: {}\".format(train_score) + \" test r-squared: {}\".format(test_score))"
   ]
  },
  {
   "cell_type": "code",
   "execution_count": null,
   "metadata": {},
   "outputs": [],
   "source": [
    " def pricecolors(residual):\n",
    "    if  residual < -250000 and residual > -400000:\n",
    "        return 'red'\n",
    "    elif residual < -400000 and residual > -550000:\n",
    "        return 'orange'\n",
    "    elif residual < -550000 and residual > -700000:\n",
    "        return 'blue'\n",
    "    else:\n",
    "        return 'green'\n",
    "\n",
    "best_value_df['color'] = best_value_df['Residual']\n",
    "best_value_df['color'] = best_value_df[\"color\"].apply(pricecolors)\n",
    "best_value_df['color'].value_counts()"
   ]
  },
  {
   "cell_type": "code",
   "execution_count": null,
   "metadata": {
    "scrolled": true
   },
   "outputs": [],
   "source": [
    "import folium\n",
    "\n",
    "\n",
    "lat = 47.47\n",
    "long = -121.84\n",
    "\n",
    "base_map = folium.Map([lat,long], zoom_start=15)\n",
    "base_map\n",
    "\n",
    "for indice, row in best_value_df.iterrows():\n",
    "    folium.Marker(\n",
    "        location=[row[\"lat\"], row[\"long\"]],\n",
    "        popup=('Price: {}, Bedrooms: {}, Residual: {} \\\n",
    "        Square Feet: {}'.format(row['price'], row['bedrooms'], row['Residual'], row['sqft_living'])),\n",
    "        icon=folium.map.Icon(color=row['color'])\n",
    "    ).add_to(base_map)\n",
    "base_map"
   ]
  },
  {
   "cell_type": "code",
   "execution_count": null,
   "metadata": {},
   "outputs": [],
   "source": [
    "import tkinter as tk\n",
    "from tkinter import *"
   ]
  },
  {
   "cell_type": "code",
   "execution_count": null,
   "metadata": {},
   "outputs": [],
   "source": [
    "# root = Tk()\n",
    "# root.title(\"Tk dropdown example\")\n",
    "\n",
    "# def show():\n",
    "#     myLabel = Label(root, text=clicked.get()).pack()\n",
    "\n",
    "# options = [\"Monday\", \"Tuesday\", \"Wednesday\"]\n",
    "\n",
    "# clicked = StringVar()\n",
    "# clicked.set(options[0])\n",
    "\n",
    "# drop = OptionMenu(root, clicked, *options)\n",
    "# drop.pack()\n",
    "\n",
    "# myButton = Button(root, text=\"Show Selection\", command=show).pack()\n",
    "\n",
    "# root.mainloop()"
   ]
  },
  {
   "cell_type": "code",
   "execution_count": null,
   "metadata": {},
   "outputs": [],
   "source": [
    "print(myButton)"
   ]
  },
  {
   "cell_type": "code",
   "execution_count": null,
   "metadata": {},
   "outputs": [],
   "source": []
  },
  {
   "cell_type": "code",
   "execution_count": null,
   "metadata": {},
   "outputs": [],
   "source": []
  }
 ],
 "metadata": {
  "kernelspec": {
   "display_name": "Python (learn-env)",
   "language": "python",
   "name": "learn-env"
  },
  "language_info": {
   "codemirror_mode": {
    "name": "ipython",
    "version": 3
   },
   "file_extension": ".py",
   "mimetype": "text/x-python",
   "name": "python",
   "nbconvert_exporter": "python",
   "pygments_lexer": "ipython3",
   "version": "3.8.5"
  }
 },
 "nbformat": 4,
 "nbformat_minor": 4
}
